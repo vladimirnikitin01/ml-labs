{
 "cells": [
  {
   "cell_type": "markdown",
   "metadata": {
    "id": "_dPfVKv2adDm"
   },
   "source": [
    "# Машинное обучение, DS-поток\n",
    "## Задание 1.11\n",
    "\n",
    "\n",
    "**Правила:**\n",
    "\n",
    "* Выполненную работу нужно отправить телеграм-боту `@miptstats_ad21_bot`.\n",
    "* Дедлайны см. в боте. После дедлайна работы не принимаются кроме случаев наличия уважительной причины.\n",
    "* Прислать нужно ноутбук в формате `ipynb`.\n",
    "* Решения, размещенные на каких-либо интернет-ресурсах не принимаются. Публикация решения может быть приравнена к предоставлении возможности списать.\n",
    "* Для выполнения задания используйте этот ноутбук в качестве основы, ничего не удаляя из него.\n",
    "\n",
    "---\n",
    "\n",
    "## Генерация текстов с использованием RNN.\n",
    "\n",
    "**Части задания.** \n",
    "\n",
    "* Написание модели, лосса и кода для обучения (7 баллов)\n",
    "\n",
    "* Реализация жадного алгоритма генерации (3 балла)\n",
    "\n",
    "* Одно из:\n",
    "\n",
    "  * Реализация Top k sampling (2 балла)\n",
    "\n",
    "  * Реализация Beam-search (6 баллов)\n",
    "\n",
    "\n",
    "В данном задании вы будете генерировать тексты на основании высказываний [Ницше](https://ru.wikipedia.org/wiki/Ницше,_Фридрих) при помощи рекуррентных сетей. \n",
    "Модель будет основываться на токенах — словах или более продвинутых способах работы с текстом.\n",
    "\n"
   ]
  },
  {
   "cell_type": "code",
   "execution_count": null,
   "metadata": {
    "id": "0Xt4DweWs4RO"
   },
   "outputs": [],
   "source": [
    "import io\n",
    "import os\n",
    "import sys\n",
    "import random\n",
    "import numpy as np\n",
    "\n",
    "import torch\n",
    "import torch.nn as nn\n",
    "import torch.nn.functional as F\n",
    "\n",
    "from nltk.tokenize import TweetTokenizer\n",
    "\n",
    "from sklearn.model_selection import train_test_split\n",
    "from sklearn.metrics import accuracy_score\n",
    "\n",
    "import time\n",
    "from IPython.display import clear_output\n",
    "\n",
    "import matplotlib.pyplot as plt\n",
    "import seaborn as sns\n",
    "sns.set()\n"
   ]
  },
  {
   "cell_type": "markdown",
   "metadata": {
    "id": "qED98FUNs_ej"
   },
   "source": [
    "Скачиваем данные. Корпус состоит из высказываний Ницше, разделеных переносом строки."
   ]
  },
  {
   "cell_type": "code",
   "execution_count": null,
   "metadata": {
    "colab": {
     "base_uri": "https://localhost:8080/"
    },
    "executionInfo": {
     "elapsed": 909,
     "status": "ok",
     "timestamp": 1650661991031,
     "user": {
      "displayName": "Владимир Никитин",
      "userId": "13111598681369803225"
     },
     "user_tz": -180
    },
    "id": "ZxtkObdPtEd1",
    "outputId": "3b02d945-6788-477a-f33a-a07f196adabc"
   },
   "outputs": [
    {
     "name": "stdout",
     "output_type": "stream",
     "text": [
      "--2022-04-22 21:13:10--  https://docs.google.com/uc?export=download&id=1QefWGfvcn0CXzmd42ySFTkwd1shHTUA3\n",
      "Resolving docs.google.com (docs.google.com)... 173.194.193.101, 173.194.193.100, 173.194.193.138, ...\n",
      "Connecting to docs.google.com (docs.google.com)|173.194.193.101|:443... connected.\n",
      "HTTP request sent, awaiting response... 303 See Other\n",
      "Location: https://doc-04-4c-docs.googleusercontent.com/docs/securesc/ha0ro937gcuc7l7deffksulhg5h7mbp1/25sl2mghkp2va7sqatqf9c6e7u6h76f4/1650661950000/14359032242157329066/*/1QefWGfvcn0CXzmd42ySFTkwd1shHTUA3?e=download [following]\n",
      "Warning: wildcards not supported in HTTP.\n",
      "--2022-04-22 21:13:11--  https://doc-04-4c-docs.googleusercontent.com/docs/securesc/ha0ro937gcuc7l7deffksulhg5h7mbp1/25sl2mghkp2va7sqatqf9c6e7u6h76f4/1650661950000/14359032242157329066/*/1QefWGfvcn0CXzmd42ySFTkwd1shHTUA3?e=download\n",
      "Resolving doc-04-4c-docs.googleusercontent.com (doc-04-4c-docs.googleusercontent.com)... 173.194.195.132, 2607:f8b0:4001:c11::84\n",
      "Connecting to doc-04-4c-docs.googleusercontent.com (doc-04-4c-docs.googleusercontent.com)|173.194.195.132|:443... connected.\n",
      "HTTP request sent, awaiting response... 200 OK\n",
      "Length: 600901 (587K) [text/plain]\n",
      "Saving to: ‘uc?export=download&id=1QefWGfvcn0CXzmd42ySFTkwd1shHTUA3’\n",
      "\n",
      "uc?export=download& 100%[===================>] 586.82K  --.-KB/s    in 0.007s  \n",
      "\n",
      "2022-04-22 21:13:11 (86.2 MB/s) - ‘uc?export=download&id=1QefWGfvcn0CXzmd42ySFTkwd1shHTUA3’ saved [600901/600901]\n",
      "\n"
     ]
    }
   ],
   "source": [
    "!wget --no-check-certificate 'https://docs.google.com/uc?export=download&id=1QefWGfvcn0CXzmd42ySFTkwd1shHTUA3'"
   ]
  },
  {
   "cell_type": "code",
   "execution_count": null,
   "metadata": {
    "colab": {
     "base_uri": "https://localhost:8080/"
    },
    "executionInfo": {
     "elapsed": 13,
     "status": "ok",
     "timestamp": 1650661991032,
     "user": {
      "displayName": "Владимир Никитин",
      "userId": "13111598681369803225"
     },
     "user_tz": -180
    },
    "id": "dZ9QYAI7XFHX",
    "outputId": "60b08dd1-935c-479c-8282-926d791b6882"
   },
   "outputs": [
    {
     "name": "stdout",
     "output_type": "stream",
     "text": [
      "PREFACE\n",
      "\n",
      "\n",
      "SUPPOSING that Truth is a woman--what then? Is there not ground\n",
      "for suspecting that all philosophers, in so far as they have been\n",
      "dogmatists, have failed to understand women--that the terrible\n",
      "seriousness and clumsy importunity with which they have usually paid\n",
      "their addresses to Truth, have been unskilled and unseemly methods for\n",
      "winning a woman? Certainly she has never allowed herself to be won; and\n",
      "at present every kind of dogma stands with sad and discouraged mien--IF,\n"
     ]
    }
   ],
   "source": [
    "!head nietzsche.txt"
   ]
  },
  {
   "cell_type": "markdown",
   "metadata": {
    "id": "HEWI-vHktPSZ"
   },
   "source": [
    "Посмотрим сколько уникальных слов есть в корпусе.\n",
    "Также поставим каждому слову (токену) в соответствие число, чтобы далее работать с числами."
   ]
  },
  {
   "cell_type": "code",
   "execution_count": null,
   "metadata": {
    "colab": {
     "base_uri": "https://localhost:8080/"
    },
    "executionInfo": {
     "elapsed": 624,
     "status": "ok",
     "timestamp": 1650661994790,
     "user": {
      "displayName": "Владимир Никитин",
      "userId": "13111598681369803225"
     },
     "user_tz": -180
    },
    "id": "3qr1njwhtHzz",
    "outputId": "7ca4cec8-a1b0-4d3f-9082-36265e9fe522"
   },
   "outputs": [
    {
     "name": "stdout",
     "output_type": "stream",
     "text": [
      "total tokens: 11393\n"
     ]
    }
   ],
   "source": [
    "with io.open('./nietzsche.txt', encoding='utf-8') as f:\n",
    "    text = f.read().lower()\n",
    "\n",
    "tokenizer = TweetTokenizer()\n",
    "tokens = list(set(tokenizer.tokenize(text)))\n",
    "print('total tokens:', len(tokens))\n",
    "\n",
    "token_indices = {c: i for i, c in enumerate(tokens)}\n",
    "indices_token = {i: c for i, c in enumerate(tokens)}"
   ]
  },
  {
   "cell_type": "markdown",
   "metadata": {
    "id": "lnbPfiSn-e4-"
   },
   "source": [
    "11393 уникальных слов — это относительно много, так как придется на каждом шаге решать задачу классификации на 11393 класса. А брать софтмакс от вектора такой большой размерности затруднительно. Поэтому имеется несколько вариантов: простой (1), очень простой (2) и современный (3) .\n",
    "\n",
    "1. Отбросить редко встречающиеся слова (токены) и заменить их все на токен \\<UNK\\>. \n",
    "\n",
    "2. Использовать в качестве токенов символы, а не слова. Такую модель мы использовали на семинаре для генерации имён.\n",
    "Этот подход имеет явный недостаток — модели, обучаемой на отдельных символах, гораздо сложнее выучить соотношения между буквами в каждом отдельном слове. Из-за этого может возникнуть ситуация, при которой значительная часть слов, сгенерированных моделью, не будут являться словами языка, на котором написаны входные тексты.\n",
    "\n",
    "3. Использовать [Byte Pair Encoding](https://arxiv.org/pdf/1508.07909.pdf). [Одна из опен-сорсных реализаций](https://github.com/VKCOM/YouTokenToMe) от ребят из VK.\n",
    "\n",
    "Существуют также подходы для аппроксимации softmax, такие как иерархический софтмакс и negative sampling.\n",
    "\n",
    "Разберём, как работает BPE на примере строки `aaabdaaabac`.\n",
    "Пара `aa` встречается чаще всего, поэтому она будет заменяется символом `Z`, который не используется в данных, получается строка `ZabdZabac`.\n",
    "Далее процесс повторяется для пары `ab`, которая заменяется на символ `Y`. Теперь строка имеет вид `ZYdZYac`, причем единственная оставшаяся пара исходных символов встречается только один раз. На этом кодировку можно остановить или же продолжать рекурсивно заменив `ZY` на `X`: `XdXac`. Полученную строку нельзя продолжать сжимать, поскольку не существует пары символов, встречающихся более одного раза. Для декодирования нужно выполнить замены в обратном порядке.\n",
    "\n",
    "Если же мы будем проделывать эту процедуру не над маленькой строкой, а над большим датасетом, то мы найдем часто встречающиеся n-gram-ы из символов в датасете. Полученные замены будем использовать как новые токены и представлять каждое слово как последовательность таких токенов.\n",
    "В данном случае получится, что частые слова скорей всего будут представлены лишь одним токеном, равным самому слову. А редкие слова разобъются на последовательность токенов, являющихся частыми.\n",
    "\n",
    "\n",
    "![](https://docs.google.com/uc?export=download&id=1bD-VA4EWfmMsqFT4ufIhCMDh2fKlP_rC)\n",
    "\n",
    "Метод BPE является некоторой золотой серединой между character-based и word-based подходами.\n",
    "[`YouTokenToMe`](https://github.com/VKCOM/YouTokenToMe) — одна из опен-сорсных реализаций от разработчиков из VK. \n",
    "Также можно посмотреть [статью](https://arxiv.org/abs/1910.13267) студента ФИВТа с конференции ACL 2020 по bpe-dropout."
   ]
  },
  {
   "cell_type": "markdown",
   "metadata": {
    "id": "E41erLUtM6ts"
   },
   "source": [
    "Ставим библиотеку, речь о которой шла выше:"
   ]
  },
  {
   "cell_type": "code",
   "execution_count": null,
   "metadata": {
    "colab": {
     "base_uri": "https://localhost:8080/"
    },
    "executionInfo": {
     "elapsed": 4532,
     "status": "ok",
     "timestamp": 1650662003115,
     "user": {
      "displayName": "Владимир Никитин",
      "userId": "13111598681369803225"
     },
     "user_tz": -180
    },
    "id": "ByZPyRZevQnq",
    "outputId": "10fb60f3-9776-4fb3-bdc2-e834b8c1bf71"
   },
   "outputs": [
    {
     "name": "stdout",
     "output_type": "stream",
     "text": [
      "Collecting youtokentome\n",
      "  Downloading youtokentome-1.0.6-cp37-cp37m-manylinux2010_x86_64.whl (1.7 MB)\n",
      "\u001b[K     |████████████████████████████████| 1.7 MB 5.2 MB/s \n",
      "\u001b[?25hRequirement already satisfied: Click>=7.0 in /usr/local/lib/python3.7/dist-packages (from youtokentome) (7.1.2)\n",
      "Installing collected packages: youtokentome\n",
      "Successfully installed youtokentome-1.0.6\n"
     ]
    }
   ],
   "source": [
    "! pip install youtokentome"
   ]
  },
  {
   "cell_type": "markdown",
   "metadata": {
    "id": "w1Lh_7mjM9fz"
   },
   "source": [
    "Создаем BPE-модель, которую обучим на наших токенах"
   ]
  },
  {
   "cell_type": "code",
   "execution_count": null,
   "metadata": {
    "id": "xDWt7rAHvxZa"
   },
   "outputs": [],
   "source": [
    "import youtokentome as yttm\n",
    "\n",
    "# Зададим желаемый размер словаря после BPE.\n",
    "# BPE перестанет объединять символы и токены в тот момент, \n",
    "# когда текущее количество токенов >= vocab_size\n",
    "vocab_size = 1000\n",
    "\n",
    "def get_bpe(tokens, vocab_size=vocab_size):\n",
    "    \"\"\" \n",
    "    Возвращает токенизатор BPE, обученный на токенах.\n",
    "    Параметры.\n",
    "    1) tokens - токены,\n",
    "    2) vocab_size - количество уникальных токенов в итоговом словаре.\n",
    "    \"\"\"\n",
    "\n",
    "    with open('tmp.json', 'w') as file_:\n",
    "        for token in tokens:\n",
    "            print(token, file=file_)\n",
    "\n",
    "    yttm.BPE.train('tmp.json', vocab_size=vocab_size, model=\"bpe.model\")\n",
    "    os.remove('tmp.json')\n",
    "\n",
    "    return yttm.BPE(model=\"bpe.model\")\n"
   ]
  },
  {
   "cell_type": "code",
   "execution_count": null,
   "metadata": {
    "id": "l5jhKmf2wSHA"
   },
   "outputs": [],
   "source": [
    "bpe = get_bpe(tokens)"
   ]
  },
  {
   "cell_type": "markdown",
   "metadata": {
    "id": "4Pu0MlfyNCZD"
   },
   "source": [
    "Пример работы:"
   ]
  },
  {
   "cell_type": "code",
   "execution_count": null,
   "metadata": {
    "colab": {
     "base_uri": "https://localhost:8080/"
    },
    "executionInfo": {
     "elapsed": 250,
     "status": "ok",
     "timestamp": 1650662019428,
     "user": {
      "displayName": "Владимир Никитин",
      "userId": "13111598681369803225"
     },
     "user_tz": -180
    },
    "id": "9PBmpg7zwf66",
    "outputId": "1318350b-335c-4446-8d73-50bd346e06f3"
   },
   "outputs": [
    {
     "name": "stdout",
     "output_type": "stream",
     "text": [
      "Original:  supposing that truth is a woman--what then? is there not ground \n",
      "\n",
      "BPE decoded:  <BOS> ▁sup pos ing ▁th at ▁truth ▁is ▁a ▁w oman --what ▁th en ? ▁is ▁there ▁not ▁gr ound <EOS> \n",
      "\n",
      "BPE encoded:  [2, 597, 268, 69, 153, 79, 871, 772, 86, 101, 595, 712, 153, 64, 55, 772, 612, 763, 228, 267, 3]\n"
     ]
    }
   ],
   "source": [
    "example = text.split('\\n')[3]\n",
    "\n",
    "print('Original: ', example, '\\n')\n",
    "print('BPE decoded: ', *bpe.encode(\n",
    "    example, output_type=yttm.OutputType.SUBWORD, bos=True, eos=True\n",
    "    ), '\\n', sep=' ')\n",
    "print('BPE encoded: ', bpe.encode(\n",
    "    example, output_type=yttm.OutputType.ID, bos=True, eos=True\n",
    "    ))"
   ]
  },
  {
   "cell_type": "markdown",
   "metadata": {
    "id": "o6e9oGs4adDo"
   },
   "source": [
    "Напишите нейронную сеть, использующую RNN, которая должна обучиться на *каждом шаге* предсказывать следующий токен. Для этого вам понадобится к каждому скрытому состоянию RNN применить некоторую классификационную нейронную сеть. На каждом этапе времени такая сеть будет пытаться предсказать следующий токен. На каждом этапе времени должно получиться свое предсказание вероятности для следующего токена. После этого необходимо усреднить лосс по полученным предсказаниям.\n",
    "\n",
    "**Замечания** <br>\n",
    "1). Проследите, что вы действительно предсказываете следующий символ, а не текущий. Для этого можно поступить следующим образом.\n",
    "\n",
    "Пусть на вход приходит последовательность $x_1, x_2, ..., x_{n}$. Требуется на каждом этапе времени $t$ по символам $x_1, ..., x_{t - 1}$ предсказывать символ $x_t$. Для этого на вход нужно подать последовательность \\<BOS\\>, $x_1, x_2..., x_{n}$ и в качестве таргетов взять последовательность $x_1, x_2, ..., x_{n}, $ \\<EOS\\>. В данном случае \\<BOS\\> (begin of sentence), \\<EOS\\>(end of sentence) — специальные символы начала и конца предложения (любые новые символы, которых нет в словаре). \n",
    "\n",
    "2). При обучении вы подаете на вход истинные токены и предсказываете следующий токен, но при тестировании истинных токенов нет. Поэтому при тестировании стоит поступить следующим образом.\n",
    "* Подать на вход \\<BOS\\>, применить рекуррентную ячейку и предсказать вероятности быть следующим символом для каждого токена из словаря. \n",
    "* Найти токен с максимальной вероятностью. Обозначим его $x_1$. \n",
    "* Подать символ $x_1$ на вход рекуррентной ячейке и предсказать вероятности для следующих символов. \n",
    "* И так далее. Генерация продолжается до тех пор, пока не был предсказан токен \\<EOS\\> или мы не достигли нужной `length_to_predict` длины сгенерированного текста, где `length_to_predict` — число, заданное заранее.\n",
    "\n",
    "Заметим, что при наличии начальной последовательности $x_1, .., x_k$, которую нужно продолжить, сначала на вход нужно подавать истинные символы, а затем, когда истинные закончатся, подавать предсказанные символы. То есть в этом случае мы подаем \\<BOS\\>, $x_1, .., x_k$ на вход и уже потом начинаем генерацию.\n",
    "\n",
    "На рисунке ниже можно увидеть пример такой сети. При обучении на вход подаются истинные токены. На этапе времени $t - 1$ предсказываются вероятности $\\widehat{y}_{i}$ быть следующим ($i$-ым) токеном для всех токенов из словаря. \n",
    "В качестве лосса в данном случае рассматривается функция $\\frac{1}{n} \\sum\\limits_{i=1}^{n} H(y_i, \\widehat{y}_i)$, где $H(\\mathsf{P}, \\mathsf{Q})$ — кросс-энтропия, а $y^i$ — вырожденное распределение, соответствующее истинному индексу $i$-ого токена.\n",
    "\n",
    "На этапе применения на вход рекуррентной ячейке подается не настоящий токен, а тот токен, который имел наибольшую вероятность быть следующим на предыдущем шаге."
   ]
  },
  {
   "cell_type": "markdown",
   "metadata": {
    "id": "hMgb5Xl2adDp"
   },
   "source": [
    "![img](https://i.ibb.co/BnftCLh/Screenshot-2019-05-03-at-21-45-01.png)\n",
    "\n",
    "![imh](https://i.ibb.co/rwHyYsK/Screenshot-2019-05-03-at-21-44-53.png)"
   ]
  },
  {
   "cell_type": "markdown",
   "metadata": {
    "id": "0F8odJpoCXK5"
   },
   "source": [
    "Получим таргеты для обучения. Для этого к каждой строке, т.е. последовательности bpe-токенов добавим токен '\\<EOS\\>'. Также, сделаем так, чтобы все строки были одной и той же длины, добавив паддинг из символов '\\<PAD\\>'.\n",
    "\n",
    "Таким образом, строка $x_1, x_2, ..., x_{8}$ должна преобразиться в $x_1, x_2, ..., x_{8}$, \\<EOS\\>, \\<PAD\\>, \\<PAD\\>, \\<PAD\\> в случае если мы хотим, чтобы длина всех строк была 12.\n",
    "\n",
    "После данных преобразований переведите полученные строки в последовательность чисел, с которыми уже далее будет работать модель. Для этого можно использовать метод `bpe.subword_to_id`\n",
    "\n",
    "Для этого сначала найдем максимальную длину строки."
   ]
  },
  {
   "cell_type": "code",
   "execution_count": null,
   "metadata": {
    "colab": {
     "base_uri": "https://localhost:8080/"
    },
    "executionInfo": {
     "elapsed": 261,
     "status": "ok",
     "timestamp": 1650662024974,
     "user": {
      "displayName": "Владимир Никитин",
      "userId": "13111598681369803225"
     },
     "user_tz": -180
    },
    "id": "r5MymVXTD-lB",
    "outputId": "dd36b718-3483-4b0a-e10c-8facc5a83b0a"
   },
   "outputs": [
    {
     "name": "stdout",
     "output_type": "stream",
     "text": [
      "Максимальная длина строки: 40\n"
     ]
    }
   ],
   "source": [
    "length = []\n",
    "\n",
    "for string in text.split('\\n'):\n",
    "    bpe_string = bpe.encode(string, output_type=yttm.OutputType.SUBWORD, bos=False, eos=False)\n",
    "    if len(bpe_string) > 0:\n",
    "      length.append(len(bpe_string))\n",
    "print(\"Максимальная длина строки:\", np.max(length))"
   ]
  },
  {
   "cell_type": "markdown",
   "metadata": {
    "id": "JGjj7L6OF24F"
   },
   "source": [
    "Посчитаем таргеты. Учитывайте, что так как мы добавляем символ \\<EOS\\>, то полученная длина строки должна быть на 1 больше.\n",
    "\n",
    "*Замечание* \n",
    "\n",
    "После разбиения текста `text` на строки стоит проверить, что все строки имеют ненулевую длину. Строки нулевой длины нужно выкинуть."
   ]
  },
  {
   "cell_type": "code",
   "execution_count": null,
   "metadata": {
    "colab": {
     "base_uri": "https://localhost:8080/"
    },
    "executionInfo": {
     "elapsed": 417,
     "status": "ok",
     "timestamp": 1650662026351,
     "user": {
      "displayName": "Владимир Никитин",
      "userId": "13111598681369803225"
     },
     "user_tz": -180
    },
    "id": "NeXRQPrTD7kK",
    "outputId": "73a04bab-9a86-4cc6-8bde-380460b938a9"
   },
   "outputs": [
    {
     "data": {
      "text/plain": [
       "(9037, 41)"
      ]
     },
     "execution_count": 11,
     "metadata": {},
     "output_type": "execute_result"
    }
   ],
   "source": [
    "MAX_LENGTH = np.max(length) + 1\n",
    "target = []\n",
    "\n",
    "for string in text.split('\\n'):\n",
    "    bpe_string = bpe.encode(string, output_type=yttm.OutputType.ID, bos=False, eos=True)\n",
    "    if len(bpe_string) > 1:\n",
    "      bpe_string+=[bpe.subword_to_id('<PAD>')]*(MAX_LENGTH-len(bpe_string))\n",
    "      target.append(bpe_string)\n",
    "target=np.array(target)\n",
    "target.shape"
   ]
  },
  {
   "cell_type": "markdown",
   "metadata": {
    "id": "sr29VFWBELHv"
   },
   "source": [
    "Получим то, что подается на вход нейросети. Из таргет-строк получите строки тех же длин, которые начинаются с символа \\<BOS\\> и будут без последнего символа таргет-строки. Полученные строки также должны состоять из чисел, как и ранее посчитанные таргет-строки."
   ]
  },
  {
   "cell_type": "code",
   "execution_count": null,
   "metadata": {
    "id": "XTDInid-DYoN"
   },
   "outputs": [],
   "source": [
    "target_input=target.copy()\n",
    "target_input=np.roll(target_input, 1, axis=1)\n",
    "target_input[:,0]=bpe.subword_to_id('<BOS>')\n",
    "index_EOS=np.where(target_input==bpe.subword_to_id('<EOS>'))\n",
    "target_input[index_EOS]=bpe.subword_to_id('<PAD>')"
   ]
  },
  {
   "cell_type": "code",
   "execution_count": null,
   "metadata": {
    "id": "zbCUWrJGAyir"
   },
   "outputs": [],
   "source": [
    "pad_idx=bpe.subword_to_id('<PAD>')\n",
    "num_tokens=vocab_size"
   ]
  },
  {
   "cell_type": "markdown",
   "metadata": {
    "id": "th1Dp1Q05ZWk"
   },
   "source": [
    "Разбейте полученные данные на обучение и валидацию."
   ]
  },
  {
   "cell_type": "code",
   "execution_count": null,
   "metadata": {
    "id": "DqFLzfKm5z0b"
   },
   "outputs": [],
   "source": [
    "X_train, X_val, y_train, y_val = train_test_split(target_input, target, test_size=0.2, random_state=5)"
   ]
  },
  {
   "cell_type": "markdown",
   "metadata": {
    "id": "rFc9wY_Z5ip2"
   },
   "source": [
    "Приступим к написанию модели. Ваша модель должна состоять из эмбеддинг слоя, рекуррентного слоя (по желанию, возможно несколько слоев) и линейного слоя, который будет применяться к каждому скрытому состоянию рекуррентного слоя.\n",
    "\n",
    "В качестве рекуррентного слоя (слоев) лучше использовать `nn.GRU`, `nn.GRUCell`, `nn.LSTM` или `nn.LSTMCell` по вашему желанию."
   ]
  },
  {
   "cell_type": "code",
   "execution_count": null,
   "metadata": {
    "id": "G4qk8NGPCNIZ"
   },
   "outputs": [],
   "source": [
    "class Model(nn.Module):\n",
    "  #сделаем модель на основе nn.GRU, должно дать более хороший результат\n",
    "  #так как у нас не так много данных\n",
    "  def __init__(self, num_tokens=num_tokens, emb_size=1000, hidden_size =500):\n",
    "    super(Model, self).__init__()\n",
    "    self.emb = nn.Embedding(vocab_size, emb_size)\n",
    "    self.gru = nn.GRU(emb_size, hidden_size , batch_first=True, dropout=0.1)\n",
    "    self.hid_to_logits = nn.Linear(hidden_size , num_tokens)\n",
    "\n",
    "  def forward(self, x,h0=None):\n",
    "    emb = self.emb(x)\n",
    "    \n",
    "    if h0 is not None:\n",
    "      output, h = self.gru(emb,h0)\n",
    "    else:\n",
    "      output, h = self.gru(emb)\n",
    "\n",
    "    next_logits = self.hid_to_logits(output)\n",
    "\n",
    "    # next_logits.size = [batch_size, max_name_len, num_tokens]\n",
    "    next_logp = F.log_softmax(next_logits, dim=-1)\n",
    "    return next_logp,h\n"
   ]
  },
  {
   "cell_type": "markdown",
   "metadata": {
    "id": "fruPdins7TPb"
   },
   "source": [
    "Напишите функцию вычисления лосса. \n",
    "\n",
    "**Замечание.**\n",
    "\n",
    "Добавленные при помощи паддинга символы не должны оказывать влияния на лосс. То есть по позициям, где истинный символ является специальным символом для паддинга, при вычислении лосса не нужно обращать внимания на предсказания. В противном случае нейронная сеть может научиться всегда предсказывать этот специальный символ из-за того, что он часто встречается. \n",
    "\n",
    "Однако, лосс по символу '\\<EOS\\>' должен быть посчитан и добавлен к финальному лоссу.\n",
    "\n",
    "Например, можно посчитать лосс следующим образом:\n",
    "\n",
    "`criterion = nn.CrossEntropyLoss(ignore_index=pad_ix, size_average=True)`\n",
    "\n",
    "`criterion(logits, y_batch)`\n",
    "\n",
    "вместо\n",
    "\n",
    "`F.cross_entropy(logits, y_batch)`\n",
    "\n",
    "Здесь `pad_ix` — число, которое мы поставили в соответствие специальному символу для паддинга ранее."
   ]
  },
  {
   "cell_type": "code",
   "execution_count": null,
   "metadata": {
    "id": "jmwkUv3vRwmB"
   },
   "outputs": [],
   "source": [
    "device = torch.device('cuda' if torch.cuda.is_available() else 'cpu')"
   ]
  },
  {
   "cell_type": "code",
   "execution_count": null,
   "metadata": {
    "id": "00nujYac86hK"
   },
   "outputs": [],
   "source": [
    "def compute_loss(model, X_batch, y_batch):\n",
    "    criterion = nn.NLLLoss(ignore_index=pad_idx, size_average=True)\n",
    "    X_batch = torch.tensor(X_batch, dtype=torch.int64).to(device)\n",
    "    y_batch = torch.tensor(y_batch, dtype=torch.int64).to(device)\n",
    "    \n",
    "    # Логиты, полученные моделью\n",
    "    logits,_= model(X_batch)\n",
    "    #print(logits.shape,logits.contiguous().view(-1, num_tokens).shape,y_batch.shape)\n",
    "    # Лосс на валидации\n",
    "    loss = criterion(logits.contiguous().view(-1, num_tokens),\n",
    "                 y_batch.long().contiguous().view(-1))\n",
    "    return loss"
   ]
  },
  {
   "cell_type": "code",
   "execution_count": null,
   "metadata": {
    "id": "7ToyX4Up6DbA"
   },
   "outputs": [],
   "source": [
    "def compute_accuracy(model, X_batch, y_batch):\n",
    "    X_batch = torch.tensor(X_batch, dtype=torch.int64).to(device)\n",
    "    \n",
    "    # Логиты, полученные моделью\n",
    "    logits,_ = model(X_batch)\n",
    "    logits=np.argmax(logits.cpu().detach().numpy(),axis=2)\n",
    "    \n",
    "    acc=accuracy_score(y_batch.reshape(-1),logits.reshape(-1))\n",
    "    return acc"
   ]
  },
  {
   "cell_type": "markdown",
   "metadata": {
    "id": "aFviN_QJ7cjZ"
   },
   "source": [
    "Напишем функцию генерации батчей."
   ]
  },
  {
   "cell_type": "code",
   "execution_count": null,
   "metadata": {
    "id": "2KbDaPXK7c-Z"
   },
   "outputs": [],
   "source": [
    "def iterate_minibatches(X, y, batch_size, shuffle=True):\n",
    "    \"\"\" Генератор случайных батчей \"\"\"\n",
    "\n",
    "    if shuffle:\n",
    "        indices = np.random.permutation(np.arange(len(X)))\n",
    "    else:\n",
    "        indices = np.arange(len(X))\n",
    "        \n",
    "    for start in range(0, len(indices), batch_size):\n",
    "        ix = indices[start: start + batch_size]\n",
    "        yield X[ix], y[ix]"
   ]
  },
  {
   "cell_type": "markdown",
   "metadata": {
    "id": "diOfP7gn7NTq"
   },
   "source": [
    "Инициализируем модель."
   ]
  },
  {
   "cell_type": "code",
   "execution_count": null,
   "metadata": {
    "colab": {
     "base_uri": "https://localhost:8080/"
    },
    "executionInfo": {
     "elapsed": 8711,
     "status": "ok",
     "timestamp": 1650662055136,
     "user": {
      "displayName": "Владимир Никитин",
      "userId": "13111598681369803225"
     },
     "user_tz": -180
    },
    "id": "jGborO_QLdDx",
    "outputId": "92c80a2b-3d56-418a-8883-2b09ff43ec19"
   },
   "outputs": [
    {
     "name": "stderr",
     "output_type": "stream",
     "text": [
      "/usr/local/lib/python3.7/dist-packages/torch/nn/modules/rnn.py:65: UserWarning: dropout option adds dropout after all but last recurrent layer, so non-zero dropout expects num_layers greater than 1, but got dropout=0.1 and num_layers=1\n",
      "  \"num_layers={}\".format(dropout, num_layers))\n"
     ]
    }
   ],
   "source": [
    "device = torch.device('cuda' if torch.cuda.is_available() else 'cpu')\n",
    "model = Model().to(device)"
   ]
  },
  {
   "cell_type": "markdown",
   "metadata": {
    "id": "yak0RMMz7lnN"
   },
   "source": [
    "Обучение. Это может занять некоторое время. Постройте также график кривой обучения."
   ]
  },
  {
   "cell_type": "code",
   "execution_count": null,
   "metadata": {
    "colab": {
     "base_uri": "https://localhost:8080/",
     "height": 404
    },
    "executionInfo": {
     "elapsed": 207709,
     "status": "ok",
     "timestamp": 1650647551022,
     "user": {
      "displayName": "Владимир Никитин",
      "userId": "13111598681369803225"
     },
     "user_tz": -180
    },
    "id": "AHML-rJ1Kj44",
    "outputId": "85f3d755-f515-43bc-970e-47a6c0eb7151"
   },
   "outputs": [
    {
     "data": {
      "image/png": "[encoded data removed]",
      "text/plain": [
       "<Figure size 1440x504 with 2 Axes>"
      ]
     },
     "metadata": {
      "needs_background": "light"
     },
     "output_type": "display_data"
    },
    {
     "name": "stdout",
     "output_type": "stream",
     "text": [
      "Epoch 40 of 40 took 5.165s\n",
      "  training loss (in-iteration): \t1.571384\n",
      "  validation accuracy: \t\t\t21.04 %\n",
      "CPU times: user 3min 24s, sys: 1.96 s, total: 3min 26s\n",
      "Wall time: 3min 27s\n"
     ]
    }
   ],
   "source": [
    "%%time\n",
    "opt = torch.optim.Adam(model.parameters(), lr=3e-4)\n",
    "\n",
    "train_loss = []\n",
    "val_accuracy = []\n",
    "num_epochs = 40 \n",
    "batch_size = 64  \n",
    "\n",
    "train_loss_epoch=[]\n",
    "val_accuracy_epoch=[]\n",
    "best_val_acc=0\n",
    "\n",
    "for epoch in range(num_epochs):\n",
    "    start_time = time.time()\n",
    "    \n",
    "    # Обучение\n",
    "    model.train(True)\n",
    "    for X_batch, y_batch in iterate_minibatches(X_train, y_train, batch_size, True):\n",
    "        loss=compute_loss(model,X_batch, y_batch)\n",
    "\n",
    "        # делаем backprop\n",
    "        loss.backward()\n",
    "        opt.step()\n",
    "        opt.zero_grad()\n",
    "\n",
    "        train_loss.append(loss.detach().cpu().numpy())\n",
    "\n",
    "    # Валидация\n",
    "    model.train(False)\n",
    "    for X_batch, y_batch in iterate_minibatches(X_val, y_val, batch_size, False):\n",
    "        acc=compute_accuracy(model,X_batch, y_batch)\n",
    "        val_accuracy.append(acc)\n",
    "\n",
    "    train_loss_epoch.append(np.mean(train_loss[-len(X_train) // batch_size :]))\n",
    "    val_acc=np.mean(val_accuracy[-len(X_val) // batch_size :]) * 100\n",
    "    val_accuracy_epoch.append(val_acc)\n",
    "    if best_val_acc<val_acc:\n",
    "            best_val_acc=val_acc\n",
    "            torch.save(model, 'gru_model')\n",
    "\n",
    "    clear_output(True)\n",
    "    fig = plt.figure(figsize=(20, 7))\n",
    "    \n",
    "    plt.subplot(1,2,1)\n",
    "    plt.plot(train_loss_epoch, label='train')\n",
    "    plt.title('Loss')\n",
    "    plt.legend()\n",
    "\n",
    "    plt.subplot(1,2,2)\n",
    "    plt.plot(val_accuracy_epoch, label='val')\n",
    "    plt.title('Acc')\n",
    "    plt.legend()\n",
    "    plt.show()\n",
    "\n",
    "\n",
    "    print(\"Epoch {} of {} took {:.3f}s\".format(\n",
    "        epoch + 1, num_epochs, time.time() - start_time))\n",
    "    print(\"  training loss (in-iteration): \\t{:.6f}\".format(\n",
    "        np.mean(train_loss[-len(X_train) // batch_size :])))\n",
    "    print(\"  validation accuracy: \\t\\t\\t{:.2f} %\".format(\n",
    "        np.mean(val_accuracy[-len(X_val) // batch_size :]) * 100))\n",
    "\n",
    "    "
   ]
  },
  {
   "cell_type": "markdown",
   "metadata": {
    "id": "BqnJRr8_QxZM"
   },
   "source": [
    "Не прекрасный результат с точки зрения acc, также видно, что с эпохи 20 модель начала переобучаться, но при этом для простой нейронки очень достойный результат получили"
   ]
  },
  {
   "cell_type": "markdown",
   "metadata": {
    "id": "8dt4nSCj7sOz"
   },
   "source": [
    "Напишите функцию, которая по началу высказывания будет генерировать следующие `length_to_predict` символов:\n",
    "* Входной текст приведите к формату, который принимает на вход модель. \n",
    "* Предскажите первый символ. \n",
    "* Предсказаный символ следует добавить в конец текста и полученный текст опять привести к нужному формату. Альтернативно, вы можете прогнать лишь одну ячейку рекуррентной сети, на вход которой подать только что предсказанный символ и в качестве предыдущего скрытого состояния которой взять скрытое состояние полученное на предыдущем шаге.\n",
    "* Затем можно предсказать следующий символ и так далее. \n",
    "\n",
    "\n",
    "*Замечания.*\n",
    "\n",
    "1. Модель принимает объекты батчами, поэтому если вы будете подавать ей один элемент она может ругаться. Один элемент нужно подавать как батч размера 1.\n",
    "\n",
    "2. Для получения предсказания в виде индекса следующего символа нужно найти аргмаксимум по логитам. В этом вам поможет `logits.max(dim)`, который принимает в аргументах размерность `dim` по которой искать максимумы и возвращает сразу 2 тензора — максимумы и индексы максимумов.\n",
    "\n",
    "\n"
   ]
  },
  {
   "cell_type": "markdown",
   "metadata": {
    "id": "vf8J0J2deRMF"
   },
   "source": [
    "Сначала реализуйте жадную генерации текста — на каждом шаге берите токен с наибольшей вероятностью."
   ]
  },
  {
   "cell_type": "code",
   "execution_count": null,
   "metadata": {
    "id": "TXsJey9JsCmz"
   },
   "outputs": [],
   "source": [
    "def simple_predict(model, text, length_to_predict):\n",
    "    #важно не забыть про MAX_LENGTH\n",
    "    bpe_string = bpe.encode(text, output_type=yttm.OutputType.ID, bos=True, eos=False)\n",
    "    start=bpe_string.copy()\n",
    "\n",
    "    len_pad=(MAX_LENGTH-len(bpe_string))\n",
    "    if MAX_LENGTH>len(bpe_string):\n",
    "        bpe_string+=[bpe.subword_to_id('<PAD>')]*(MAX_LENGTH-len(bpe_string))\n",
    "\n",
    "    bpe_string=np.array(bpe_string)\n",
    "    res=[]\n",
    "    log_probs=[]\n",
    "    for i in range(length_to_predict):\n",
    "        #print(bpe_string)\n",
    "        model.train(False)\n",
    "        X_batch=[bpe_string]\n",
    "        X_batch = torch.tensor(X_batch, dtype=torch.int64)\n",
    "        # Логиты, полученные моделью\n",
    "        logp_next,_ = model(X_batch)\n",
    "        p_next = F.softmax(logp_next / 1, dim=-1).data.numpy()[0, -len_pad-1]\n",
    "        index_next=np.argmax(p_next)\n",
    "        res.append(index_next)\n",
    "        log_probs.append(np.max(p_next))\n",
    "        if index_next==bpe.subword_to_id('<EOS>'):\n",
    "            break\n",
    "        \n",
    "        if len_pad>0:\n",
    "            index_first_pad=np.where(bpe_string==pad_idx)[0][0]\n",
    "            bpe_string[index_first_pad]=index_next\n",
    "            len_pad-=1\n",
    "        else:\n",
    "            bpe_string=np.roll(bpe_string, -1)\n",
    "            bpe_string[-1]=index_next\n",
    "\n",
    "    return start+res,log_probs\n",
    "\n",
    "    \n"
   ]
  },
  {
   "cell_type": "markdown",
   "metadata": {
    "id": "Q5oqJDcZ8RBr"
   },
   "source": [
    "Посмотрим, что предсказывает модель. Не пугайтесь, если будет не много смысла в самих высказываниях."
   ]
  },
  {
   "cell_type": "code",
   "execution_count": null,
   "metadata": {
    "id": "TneSO0UPGYjC"
   },
   "outputs": [],
   "source": [
    "model = torch.load('/content/gru_model')\n",
    "model.train(False)\n",
    "device = torch.device('cpu')\n",
    "model = model.to(device)"
   ]
  },
  {
   "cell_type": "code",
   "execution_count": null,
   "metadata": {
    "colab": {
     "base_uri": "https://localhost:8080/"
    },
    "executionInfo": {
     "elapsed": 500,
     "status": "ok",
     "timestamp": 1650649327143,
     "user": {
      "displayName": "Владимир Никитин",
      "userId": "13111598681369803225"
     },
     "user_tz": -180
    },
    "id": "x03u2JPqsGyb",
    "outputId": "cc7bcba4-c2da-44c7-ca1a-d761f4d363c6"
   },
   "outputs": [
    {
     "data": {
      "text/plain": [
       "['<BOS> be no mistake about it: \"what is to say, in the same time the<EOS>']"
      ]
     },
     "execution_count": 257,
     "metadata": {},
     "output_type": "execute_result"
    }
   ],
   "source": [
    "text, log_probs = simple_predict(model, \"be no mistake about it:\", 50)\n",
    "\n",
    "bpe.decode([(text)])"
   ]
  },
  {
   "cell_type": "code",
   "execution_count": null,
   "metadata": {
    "colab": {
     "base_uri": "https://localhost:8080/"
    },
    "executionInfo": {
     "elapsed": 4,
     "status": "ok",
     "timestamp": 1650649327144,
     "user": {
      "displayName": "Владимир Никитин",
      "userId": "13111598681369803225"
     },
     "user_tz": -180
    },
    "id": "nIosji1-8V_B",
    "outputId": "b6ad4de6-ca54-443e-bdca-4264db42e6dc"
   },
   "outputs": [
    {
     "data": {
      "text/plain": [
       "['<BOS> artificial intelegence is interesting to their own sake, and that they<EOS>']"
      ]
     },
     "execution_count": 258,
     "metadata": {},
     "output_type": "execute_result"
    }
   ],
   "source": [
    "text, log_probs = simple_predict(model, \"artificial intelegence is interesting\", 50)\n",
    "\n",
    "bpe.decode([(text)])"
   ]
  },
  {
   "cell_type": "code",
   "execution_count": null,
   "metadata": {
    "colab": {
     "base_uri": "https://localhost:8080/"
    },
    "executionInfo": {
     "elapsed": 339,
     "status": "ok",
     "timestamp": 1650663984517,
     "user": {
      "displayName": "Владимир Никитин",
      "userId": "13111598681369803225"
     },
     "user_tz": -180
    },
    "id": "Ir4MCMXR8YY8",
    "outputId": "1aa8ee72-c0a0-4016-c334-d0e98f115c0e"
   },
   "outputs": [
    {
     "data": {
      "text/plain": [
       "['<BOS> people love ml and the most spiritual fate of authority of the<EOS>']"
      ]
     },
     "execution_count": 87,
     "metadata": {},
     "output_type": "execute_result"
    }
   ],
   "source": [
    "text, log_probs = simple_predict(model, 'people love ml and', 30)\n",
    "\n",
    "bpe.decode([(text)])"
   ]
  },
  {
   "cell_type": "code",
   "execution_count": null,
   "metadata": {
    "colab": {
     "base_uri": "https://localhost:8080/"
    },
    "executionInfo": {
     "elapsed": 238,
     "status": "ok",
     "timestamp": 1650662080869,
     "user": {
      "displayName": "Владимир Никитин",
      "userId": "13111598681369803225"
     },
     "user_tz": -180
    },
    "id": "kpQxi10rX65Y",
    "outputId": "168c1f83-6312-4971-f695-b5840b8f029c"
   },
   "outputs": [
    {
     "name": "stdout",
     "output_type": "stream",
     "text": [
      "PREFACE\n",
      "\n",
      "\n",
      "SUPPOSING that Truth is a woman--what then? Is there not ground\n",
      "for suspecting that all philosophers, in so far as they have been\n",
      "dogmatists, have failed to understand women--that the terrible\n",
      "seriousness and clumsy importunity with which they have usually paid\n",
      "their addresses to Truth, have been unskilled and unseemly methods for\n",
      "winning a woman? Certainly she has never allowed herself to be won; and\n",
      "at present every kind of dogma stands with sad and discouraged mien--IF,\n"
     ]
    }
   ],
   "source": [
    "!head nietzsche.txt"
   ]
  },
  {
   "cell_type": "markdown",
   "metadata": {
    "id": "Lom-35zuWYIp"
   },
   "source": [
    "На самом деле с генерацией довольно много нюансов происходит, а именно: 1) есть несколько способом генерации предложений, мы можем давать предложение и каждый раз давать модели все более длинное и длинное предложение, или мы можем давать по одному слову. В данном случае 1 вариант более предпочительный в отличии от задачи генерации имен на семинаре, так как тут мы работает с батчами+мы не делаем np.random.choice. \n",
    "2) Изначально у меня были проблемы с зацикливанием, но улучшив метрику модели я смог отчасти избавиться от данной проблемы, но зато у меня появилась новая, а именно \"любовь ставить EOS\". На самом деле это проблема появляется из-за формата данных, которые поступают нам, давайте внимательно посмотрим, становится понятно, что нам поступают строчки, а не предложения. То есть мы учимся на тексте, где оч часто встречается незаконченная мысль (именно этот результат видим после генерации текста).\n",
    "3)**Сам вывод** на самом деле текст получился довольно хорошим и даже слегка логичным по тексту, видно, что вставлялись не рандомные токены. \n",
    "a)be no mistake about it: \"what is to say, in the same time the\n",
    "не заблуждайтесь на этот счет: \"что сказать, в то же время\n",
    "\n",
    "b)artificial intelegence is interesting to their own sake, and that they\n",
    "искусственный интеллект интересен сам по себе, и что они\n",
    "\n",
    "c)people love ml and the most spiritual fate of authority of the\n",
    "люди любят мл и самую духовную судьбу власти в\n",
    "\n",
    "Но при этом все равно очевидна нам неидеальность и довольно среднее качество данных результатов, модель можно было сделать более сложной, добавить больше слоев, но координальным решением наших проблем было бы использование Transformer"
   ]
  },
  {
   "cell_type": "markdown",
   "metadata": {
    "id": "dFtp-0MTcysK"
   },
   "source": [
    "Жадная генерация не самая хорошая. Возможно ваши предсказания зациклились. Это связано с тем, что \n",
    "1. Модель в основном смотрит лишь на последние несколько токенов при предсказании следующего.\n",
    "\n",
    "2. При предсказании модель генерирует жадно и максимизирует вероятность только одного следующего токена, не думая про то, что может быть дальше.\n",
    "\n",
    "3. Модель была обучена максимизировать правдоподобие и генерировать токены смотря лишь на предыдущие токены. Из этого модель сильно теряет в разнообразии и может получится так, что модель найдет некоторые часто повторяющиеся структуры в датасете и будет присваивать им большую вероятность. \n",
    "\n",
    "Для решения этой проблемы существует несколько методов. Одни из них:\n",
    "\n",
    "* Top k sampling \n",
    "\n",
    "  Для предсказания следующего токена посмотрим на  распределение вероятностей на следующий токен. Выбираем $k$ токенов с максимальной вероятностью и из них сэмплируем один токен с вероятностью пропорциональной предсказанной для этого токена вероятности.\n",
    "\n",
    "* Beam-search\n",
    "\n",
    "\n",
    "\\\\\n",
    "\n",
    "**Реализуйте один из подходов.** \n",
    "\n",
    "* Top k sampling (1 балл)\n",
    "\n",
    "* Beam-search (3 балла)\n",
    "\n",
    "Учитывайте, что реализовать beam-search намного сложнее, чем top k sampling, поэтому за его реализацию дается больше баллов."
   ]
  },
  {
   "cell_type": "code",
   "execution_count": null,
   "metadata": {
    "id": "4WYhgeLiuo3x"
   },
   "outputs": [],
   "source": [
    "def vector_prob(model,bpe_string,len_pad):\n",
    "  model.train(False)\n",
    "  X_batch=[bpe_string]\n",
    "  X_batch = torch.tensor(X_batch, dtype=torch.int64)\n",
    "  # Логиты, полученные моделью\n",
    "  logp_next,_ = model(X_batch)\n",
    "  p_next = F.softmax(logp_next / 1, dim=-1).data.numpy()[0, -len_pad-1]\n",
    "  return p_next"
   ]
  },
  {
   "cell_type": "code",
   "execution_count": null,
   "metadata": {
    "id": "K4gryi7egkrt"
   },
   "outputs": [],
   "source": [
    "beam = 30\n",
    "\n",
    "\n",
    "def predict(model, text, length_to_predict):\n",
    "    bpe_string = bpe.encode(text, output_type=yttm.OutputType.ID, bos=True, eos=False)\n",
    "    start = bpe_string.copy()\n",
    "\n",
    "    len_pad = (MAX_LENGTH - len(bpe_string))\n",
    "    if MAX_LENGTH > len(bpe_string):\n",
    "        bpe_string += [bpe.subword_to_id('<PAD>')] * (MAX_LENGTH - len(bpe_string))\n",
    "\n",
    "    bpe_string = np.array(bpe_string)\n",
    "    tree = {}\n",
    "    index_tree = set([0])\n",
    "    tree[0] = [bpe_string, len_pad, 1, False, []]\n",
    "    # в таком формате мы будем хранить узел, мб было легче структуру Node написать\n",
    "    # [bre_sting,len_pad, вероятность данной ветви,был ли eos уже,res]\n",
    "    for i in range(length_to_predict):\n",
    "        index_tree_list = list(index_tree)\n",
    "        for j in index_tree_list:\n",
    "          #перебираем узлы\n",
    "            array=tree[j].copy()\n",
    "            bpe_string, len_pad, prob_last, status, res = array\n",
    "            if status == True:\n",
    "                continue\n",
    "            prob = vector_prob(model, bpe_string, len_pad)\n",
    "            index = np.argsort(prob)[-beam:]\n",
    "            prob = np.array(prob)[index]\n",
    "\n",
    "            # теперь нам надо данный узел разветвить\n",
    "            if len_pad > 0:\n",
    "                len_pad -= 1\n",
    "            for k in range(beam):\n",
    "                bpe_string_copy=bpe_string.copy()\n",
    "\n",
    "                number = max(index_tree) + 1\n",
    "                index_tree.add(number)\n",
    "\n",
    "                index_next = index[k]\n",
    "                prob_now = prob[k]\n",
    "                res_local = res.copy()\n",
    "                res_local.append(index_next)\n",
    "                if index_next == bpe.subword_to_id('<EOS>'):\n",
    "                    tree[number] = [bpe_string_copy, len_pad, prob_now * prob_last, True, res_local]\n",
    "                    continue\n",
    "                elif len_pad >= 0:\n",
    "                    index_first_pad = np.where(bpe_string == pad_idx)[0][0]\n",
    "                    bpe_string_copy[index_first_pad] = index_next\n",
    "                else:\n",
    "                    bpe_string_copy = np.roll(bpe_string, -1)\n",
    "                    bpe_string_copy[-1] = index_next\n",
    "                tree[number] = [bpe_string_copy, len_pad, prob_now * prob_last, False, res_local]\n",
    "\n",
    "            index_tree.discard(j)\n",
    "            tree.pop(j, None)\n",
    "\n",
    "        # осталось совсем немного\n",
    "        # очень важная часть кода, а именно удаление неоптимальных ветвей нашего дерева\n",
    "        index_tree_list = list(index_tree)\n",
    "\n",
    "        if len(index_tree_list) <= beam:\n",
    "            continue\n",
    "        dict_number_prob = {j: tree[j][2] for j in index_tree_list}\n",
    "      \n",
    "        sorted_tuples = sorted(tree.items(), key=lambda item: item[1][2], reverse=True)\n",
    "        sorted_tuples = sorted_tuples[beam:]\n",
    "        for tuple_now in sorted_tuples:\n",
    "            index_tree.discard(tuple_now[0])\n",
    "            tree.pop(tuple_now[0], None)\n",
    "\n",
    "    # теперь нам выбрать самый вероятный путь и его вывести\n",
    "    index_tree_list = list(index_tree)\n",
    "    dict_number_prob = {j: tree[j][2] for j in index_tree_list}\n",
    "    sorted_tuples = sorted(tree.items(), key=lambda item: item[1][2],reverse=True)\n",
    "    best_index = sorted_tuples[0][0]\n",
    "    return start+tree[best_index][4]\n"
   ]
  },
  {
   "cell_type": "code",
   "execution_count": null,
   "metadata": {
    "colab": {
     "base_uri": "https://localhost:8080/"
    },
    "executionInfo": {
     "elapsed": 8147,
     "status": "ok",
     "timestamp": 1650663807119,
     "user": {
      "displayName": "Владимир Никитин",
      "userId": "13111598681369803225"
     },
     "user_tz": -180
    },
    "id": "PhJ55XwAOjmz",
    "outputId": "89c8ccd4-34b4-49b8-ba07-7d97508d93de"
   },
   "outputs": [
    {
     "data": {
      "text/plain": [
       "['<BOS> be no mistake about it: \"beyond good and evil.\"<EOS>']"
      ]
     },
     "execution_count": 79,
     "metadata": {},
     "output_type": "execute_result"
    }
   ],
   "source": [
    "text= predict(model, \"be no mistake about it:\", 50)\n",
    "\n",
    "bpe.decode([(text)])"
   ]
  },
  {
   "cell_type": "code",
   "execution_count": null,
   "metadata": {
    "colab": {
     "base_uri": "https://localhost:8080/"
    },
    "executionInfo": {
     "elapsed": 5436,
     "status": "ok",
     "timestamp": 1650663824962,
     "user": {
      "displayName": "Владимир Никитин",
      "userId": "13111598681369803225"
     },
     "user_tz": -180
    },
    "id": "QVMA58o7Ojm1",
    "outputId": "919ead1a-0fd5-4aff-8197-92c2005c8d36"
   },
   "outputs": [
    {
     "data": {
      "text/plain": [
       "['<BOS> artificial intelegence is interesting themselves.<EOS>']"
      ]
     },
     "execution_count": 80,
     "metadata": {},
     "output_type": "execute_result"
    }
   ],
   "source": [
    "text= predict(model, \"artificial intelegence is interesting\", 50)\n",
    "\n",
    "bpe.decode([(text)])"
   ]
  },
  {
   "cell_type": "code",
   "execution_count": null,
   "metadata": {
    "colab": {
     "base_uri": "https://localhost:8080/"
    },
    "executionInfo": {
     "elapsed": 9970,
     "status": "ok",
     "timestamp": 1650663984182,
     "user": {
      "displayName": "Владимир Никитин",
      "userId": "13111598681369803225"
     },
     "user_tz": -180
    },
    "id": "uQshPafdOjm1",
    "outputId": "f495b70d-f8f3-4319-c590-fe61f2558ca8"
   },
   "outputs": [
    {
     "data": {
      "text/plain": [
       "['<BOS> people love ml and that is to say, that is to say, as the<EOS>']"
      ]
     },
     "execution_count": 86,
     "metadata": {},
     "output_type": "execute_result"
    }
   ],
   "source": [
    "text= predict(model, 'people love ml and', 30)\n",
    "\n",
    "bpe.decode([(text)])"
   ]
  },
  {
   "cell_type": "markdown",
   "metadata": {
    "id": "MLVfdp4RPcKi"
   },
   "source": [
    "Получили прекрасный результат, получили уже даже понятный текст по смыслу, особенно прекрасен второй текст artificial intelegence is interesting themselves. искусственный интеллект интересен сам по себе.\n",
    "\n",
    "\n",
    "people love ml and that is to say, that is to say, as the=люди любят ml, и это означает, что, то есть, как. (слегка незаконченная мысль).\n",
    "\n",
    "\n",
    "be no mistake about it: \"beyond good and evil.\"=не заблуждайтесь на этот счет: \"по ту сторону добра и зла\". (филофская мысль, очень подходит под произведение)\n",
    "\n",
    "Получили намного лучше результат, прям радует глаза логичные тексты, но также есть недостаток, что слегка рано eos, но это так как текст поступает нам по строчкам и в нем часто есть незаконченные предложения, в идеале нам конечно давали бы предложения, которые заканичваются обычным знаком препинания.\n"
   ]
  },
  {
   "cell_type": "markdown",
   "metadata": {
    "id": "NMOQ_maBr9t5"
   },
   "source": [
    "### **Дополнительная информация**\n",
    "\n",
    "[Статья](https://www.aclweb.org/anthology/P19-1365.pdf) с ACL 2019 про сравнение различных методов декодирования."
   ]
  }
 ],
 "metadata": {
  "accelerator": "GPU",
  "colab": {
   "collapsed_sections": [],
   "name": "nlp2_statement_Nikitin.ipynb",
   "provenance": []
  },
  "kernelspec": {
   "display_name": "Python 3 (ipykernel)",
   "language": "python",
   "name": "python3"
  },
  "language_info": {
   "codemirror_mode": {
    "name": "ipython",
    "version": 3
   },
   "file_extension": ".py",
   "mimetype": "text/x-python",
   "name": "python",
   "nbconvert_exporter": "python",
   "pygments_lexer": "ipython3",
   "version": "3.8.5"
  }
 },
 "nbformat": 4,
 "nbformat_minor": 1
}
