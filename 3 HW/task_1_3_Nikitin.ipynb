{
 "cells": [
  {
   "cell_type": "markdown",
   "metadata": {
    "id": "ShgUgLOId0dR"
   },
   "source": [
    "# Машинное обучение, DS-поток\n",
    "## Задание 1.3\n",
    "\n",
    "\n",
    "**Правила:**\n",
    "\n",
    "* Выполненную работу нужно отправить телеграм-боту `@miptstats_ad21_bot`.\n",
    "* Дедлайны см. в боте. После дедлайна работы не принимаются кроме случаев наличия уважительной причины.\n",
    "* Прислать нужно ноутбук в формате `ipynb`.\n",
    "* Решения, размещенные на каких-либо интернет-ресурсах не принимаются. Публикация решения может быть приравнена к предоставлении возможности списать.\n",
    "* Для выполнения задания используйте этот ноутбук в качестве основы, ничего не удаляя из него.\n",
    "* Теоретические задачи необходимо оформить в LaTeX/markdown или же прислать фотку в правильной ориентации рукописного решения, **где все четко видно**.\n",
    "\n",
    "**Баллы за задание:**\n",
    "\n",
    "* Задача 1 — 1 балл\n",
    "* Задача 2 — 1 балл\n",
    "* Задача 3 — 3 балла\n",
    "* Задача 4 — 1 балл\n",
    "* Задача 5 — 7 баллов"
   ]
  },
  {
   "cell_type": "markdown",
   "metadata": {
    "id": "6yOn9yP72X00"
   },
   "source": [
    "## Теория"
   ]
  },
  {
   "cell_type": "markdown",
   "metadata": {
    "id": "BqiuyOyUd0dX"
   },
   "source": [
    "Рассмотрим задачу бинарной классификации, причем $\\mathscr{Y} = \\{+1, -1\\}$. Пусть так же $\\widehat{y}$ &mdash; некоторый классификатор, предсказывающий степень принадлежности классу. При этом решающее правило имеет вид \n",
    " $f(x) = \\text{sign}\\left(\\widehat{y}(x)\\right)$.\n",
    "Рассмотрим логистическую функцию потерь:\n",
    "$$\\mathcal{L}(y, z) = \\log \\big(1 + \\exp(-yz) \\big)$$"
   ]
  },
  {
   "cell_type": "markdown",
   "metadata": {
    "id": "6KsV-ZmUd0dX"
   },
   "source": [
    "### Задача 1\n",
    "\n",
    "Покажите, что задача минимизации функционала ошибки $Q(\\widehat{y}) = \\sum\\limits_{i = 1}^n \\mathcal{L}\\left(Y_i, \\widehat{y}(x_i)\\right)$ для логистической функции потерь эквивалентна максимизации по $y$ функции правдоподобия в предположении $Y_i \\sim Bern(\\sigma(X_i)), Y_i \\in \\{-1, +1 \\}$."
   ]
  },
  {
   "cell_type": "markdown",
   "metadata": {
    "id": "GfkaZxPKd0dY"
   },
   "source": [
    "### Задача 2\n",
    "\n",
    "Рассмотрим градиентный бустинг с логистической функцией потерь. Выпишите для градиентного спуска формулу для вектора сдвигов и задачу поиска новой базовой модели. "
   ]
  },
  {
   "cell_type": "markdown",
   "metadata": {
    "id": "CwJBPJEad0dY"
   },
   "source": [
    "### Задача 3\n",
    "\n",
    "Предположим, модель градиентного бустинга $\\widehat{y}_{t - 1}$ уже построена.\n",
    "1. Выпишите вид функционала ошибки $Q(\\widehat{y}_t) = \\sum\\limits_{i = 1}^n \\mathcal{L}\\left(Y_i, \\widehat{y}_t(x_i)\\right)$ для логистической функции потерь. Одинаковый ли вклад вносят разные объекты в ошибку?\n",
    "2. Посмотрите на формулу для вектора сдвигов, полученную в предыдущей задаче. Как она выражается через отклики на объектах обучающей выборки? Одинаковый ли вклад вносят разные объекты в формирование вектора сдвигов?\n",
    "3.  На лекции было показано, что для экспоненциальной функции есть проблема: базовый классификатор может настраиваться только на шумовые объекты. Наблюдается ли такая проблема у логистической функции потерь? Как она ведет себя на объектах с сильно отрицательным, околонулевым, сильно положительным отсупами?"
   ]
  },
  {
   "cell_type": "markdown",
   "metadata": {
    "id": "LF5OG9_gd0dZ"
   },
   "source": [
    "### Задача 4\n",
    "\n",
    "Рассмотрим градиентный бустинг над решающими деревьями. После построения дерева будем делать перенастройку в листьях дерева.\n",
    "1. Выпишите оптимизационную задачу для коэффициентов $\\gamma_{tj}$ &mdash; новых ответов в листьях.\n",
    "2. Решите полученную задачу сделав один шаг метода Ньютона из начального приближения $\\gamma_{tj} = 0$, что соответствует отсутствию базовой модели $b_t$.\n"
   ]
  },
  {
   "cell_type": "markdown",
   "metadata": {
    "id": "tQVBFzRUd0da"
   },
   "source": [
    "## Практика"
   ]
  },
  {
   "cell_type": "markdown",
   "metadata": {
    "id": "zkB19vGid0db"
   },
   "source": [
    "### Задача 5\n",
    "\n",
    "**Внимание!** \n",
    "\n",
    "Перед выполнением задачи прочитайте полностью условие. В задаче используются смеси различных моделей с разными гиперпараметрами. Подумайте над тем, какой гиперпараметр как подбирать и на каком множестве. Не забудьте, что на тестовой выборке, по которой делаются итоговые выводы, ничего не должно обучаться."
   ]
  },
  {
   "cell_type": "code",
   "execution_count": 55,
   "metadata": {
    "id": "DgCVvoE1eHMQ"
   },
   "outputs": [],
   "source": [
    "import numpy as np\n",
    "import pandas as pd\n",
    "import scipy.stats as sps\n",
    "from tqdm.notebook import tqdm\n",
    "\n",
    "import matplotlib.pyplot as plt\n",
    "import seaborn as sns\n",
    "\n",
    "from sklearn.ensemble import RandomForestRegressor,GradientBoostingRegressor\n",
    "from sklearn.ensemble import BaggingRegressor\n",
    "from sklearn.tree import DecisionTreeRegressor\n",
    "from sklearn.linear_model import Ridge, LinearRegression\n",
    "from sklearn.model_selection import RandomizedSearchCV\n",
    "from sklearn.model_selection import train_test_split\n",
    "from sklearn.model_selection import cross_val_score\n",
    "from sklearn.metrics import accuracy_score\n",
    "from sklearn.datasets import fetch_california_housing\n",
    "from sklearn.metrics import mean_squared_error as mse\n",
    "from sklearn.utils import shuffle\n",
    "\n",
    "sns.set(style='whitegrid', font_scale=1.4, palette='Set2')"
   ]
  },
  {
   "cell_type": "markdown",
   "metadata": {
    "id": "4KOloVxcd0dc"
   },
   "source": [
    "### 1.\n",
    "\n",
    "Повторите исследование, проведенное в задаче 2 предыдущего домашнего задания, используя градиентный бустинг из `sklearn`. Сравните полученные результаты со случайным лесом. \n",
    "\n",
    "Вкратце опишем задания:\n",
    "1. Посмотрите, как меняется качество модели в зависимости от значений гиперпараметров и сделайте выводы по результатам. Гиперпараметры:\n",
    "    * количество деревьев (`n_estimators`) [от 1 до 400];\n",
    "    * максимальная глубина дерева (`max_depth`) [от 3 до 15];\n",
    "    * скорость обучения (`learning_rate`), поясните также смысл этого параметра.\n",
    "2. Запустите модель три раза с параметрами по-умолчанию. Объясните результаты.\n",
    "3. Подберите оптимальные гиперпараметры, рассмотренные в первом пункте и зафиксируйте их.\n",
    "4. Исследуйте зависимость метрики от количества признаков, по которым происходит разбиение в вершине дерева. Объясните результаты."
   ]
  },
  {
   "cell_type": "markdown",
   "metadata": {
    "id": "oifecpCQd0dd"
   },
   "source": [
    "*Замечания.*\n",
    "* В качестве основы можно использовать как свое решение предыдущего задания, так и выложенное на Вики. В большинстве случаев нужно только заменить `RandomForestRegressor` на `GradientBoostingRegressor`.\n",
    "* При сравнении методов по одинаковым свойствам желательно рисовать результаты на одном графике.\n",
    "* Обратите внимание на метод `staged_predict` у `GradientBoostingRegressor`. Он позволяет получить \"кумулятивные\" предсказания, то есть по первым $t$ деревьям по всем значениям $t$.\n",
    "* При желании, границы рассмотрения значений гиперпараметров можно увеличить.\n",
    "* При подборе гиперпараметров при помощи рандомизированного поиска проводите достаточное количество на большой сетке параметров &mdash; как минимум 50. Даже если долго обучается."
   ]
  },
  {
   "cell_type": "code",
   "execution_count": 56,
   "metadata": {
    "id": "5aC0hdoOd0dd"
   },
   "outputs": [],
   "source": [
    "housing = fetch_california_housing()\n",
    "X, y = housing.data, housing.target"
   ]
  },
  {
   "cell_type": "code",
   "execution_count": 57,
   "metadata": {
    "id": "YpHamsXod0de"
   },
   "outputs": [],
   "source": [
    "X_train, X_test, y_train, y_test = train_test_split(\n",
    "    X, y, test_size=0.25, random_state=17\n",
    ")"
   ]
  },
  {
   "cell_type": "code",
   "execution_count": null,
   "metadata": {
    "id": "dCVobqSDf6d8"
   },
   "outputs": [],
   "source": [
    "def plot_dependence_test(param_grid, test_values_tree, test_values_boosting, param_label,\n",
    "                         metrics_label, title,ylim_parametr=None):\n",
    "    '''\n",
    "    Функция для построения графиков зависимости целевой метрики \n",
    "    от некоторого параметра модели на валидационной выборке.\n",
    "    \n",
    "    Параметры.\n",
    "    1) param_grid — значения исследуемого параметра,\n",
    "    2) test_values — значения метрики на валидационной выборке,\n",
    "    3) param_label — названия параметра,\n",
    "    4) metrics_label — название метрики,\n",
    "    5) title — заголовок для графика.\n",
    "    '''\n",
    "    \n",
    "    plt.figure(figsize=(18, 9))\n",
    "    plt.plot(param_grid, test_values_tree, label='test, RandomForest', linewidth=3) if test_values_tree!=None else None\n",
    "    plt.plot(param_grid, test_values_boosting, label='test, GradientBoosting', linewidth=3)\n",
    "   \n",
    "    plt.xlabel(param_label)\n",
    "    plt.ylabel(metrics_label)\n",
    "    plt.legend()\n",
    "    plt.title(title)\n",
    "    if ylim_parametr!=None:\n",
    "      plt.ylim(*ylim_parametr)\n",
    "    plt.show()"
   ]
  },
  {
   "cell_type": "code",
   "execution_count": null,
   "metadata": {
    "id": "_d9SX4aGf9i4"
   },
   "outputs": [],
   "source": [
    "regressor = RandomForestRegressor(n_estimators=400, random_state=42)\n",
    "regressor.fit(X_train, y_train)\n",
    "\n",
    "predictions_by_tree = np.array(\n",
    "    [tree.predict(X_test) for tree in regressor.estimators_]\n",
    ")\n",
    "\n",
    "n_estimators_grid = np.arange(1, 401)\n",
    "predictions = np.cumsum(predictions_by_tree, axis=0) \\\n",
    "                / n_estimators_grid[:, np.newaxis]\n",
    "mse_values_forest = [mse(y_test, p) for p in predictions]\n",
    "\n",
    "\n",
    "#теперь GradientBoostingRegressor\n",
    "regressor = GradientBoostingRegressor(n_estimators=400, random_state=42)\n",
    "regressor.fit(X_train, y_train)\n",
    "predictions=regressor.staged_predict(X_test)\n",
    "mse_values_boosting = [mse(y_test, p) for p in predictions]"
   ]
  },
  {
   "cell_type": "code",
   "execution_count": null,
   "metadata": {
    "colab": {
     "base_uri": "https://localhost:8080/",
     "height": 587
    },
    "id": "zRpd6NNdgBt9",
    "outputId": "b65613fb-b570-4155-f892-bafecc455dbe"
   },
   "outputs": [
    {
     "data": {
      "image/png": "[encoded data removed]",
      "text/plain": [
       "<Figure size 1296x648 with 1 Axes>"
      ]
     },
     "metadata": {},
     "output_type": "display_data"
    }
   ],
   "source": [
    "plot_dependence_test(n_estimators_grid, mse_values_forest, mse_values_boosting,\n",
    "                     'Количество деревьев', 'MSE', \n",
    "                     'Зависимость MSE от количества деревьев',ylim_parametr=[0.2,0.6])"
   ]
  },
  {
   "cell_type": "markdown",
   "metadata": {
    "id": "ge7VjwqNwUJN"
   },
   "source": [
    "На количестве деревьев меньше 250 RandomForest показывает более хороший результат, причем он более резко и быстрей достигает хороших показателей MSE.Но затем когда у нас кол-во деревьев порядка 250 и больше, уже GradientBoosting показывается себя более хорошее и начинает работать слегка лучше, чем RandomForest. "
   ]
  },
  {
   "cell_type": "code",
   "execution_count": null,
   "metadata": {
    "colab": {
     "base_uri": "https://localhost:8080/",
     "height": 49,
     "referenced_widgets": [
      "a81171f13cb74091a5af77c4b85f7274",
      "1a03192765714427a591405203e1e4fb",
      "37e2f8d8427947c392718a396f7faf80",
      "24e65c8f4964466889a5519e51416edf",
      "3196515898d346aeaefdb6a2cdfff9f5",
      "6ab1f69597ef4f2dba5d01641fe4070c",
      "0140ec8bbebf4124ad38b3036400e035",
      "174bfeb352614af2beb632056b88eeda",
      "d0794b35c5a74f95963f6d9c4e07abc6",
      "c898aef73cc744c5bfd2147ef312259b",
      "1d63eb98ab4041b3abf0d2c06e6f968c"
     ]
    },
    "id": "nFZTl-J-gF0C",
    "outputId": "cbcc4d6a-ac08-419c-b648-7c5cbc21f368"
   },
   "outputs": [
    {
     "data": {
      "application/vnd.jupyter.widget-view+json": {
       "model_id": "a81171f13cb74091a5af77c4b85f7274",
       "version_major": 2,
       "version_minor": 0
      },
      "text/plain": [
       "  0%|          | 0/13 [00:00<?, ?it/s]"
      ]
     },
     "metadata": {},
     "output_type": "display_data"
    }
   ],
   "source": [
    "mse_values_forest = []\n",
    "mse_values_boosting=[]\n",
    "for max_depth in tqdm(range(3, 16)):\n",
    "    regressor = RandomForestRegressor(max_depth=max_depth, \n",
    "                                      n_estimators=270, random_state=42)\n",
    "    regressor.fit(X_train, y_train)\n",
    "    predictions = regressor.predict(X_test)\n",
    "    mse_values_forest.append(mse(y_test, predictions))\n",
    "\n",
    "    regressor = GradientBoostingRegressor(max_depth=max_depth, \n",
    "                                      n_estimators=270, random_state=42)\n",
    "    regressor.fit(X_train, y_train)\n",
    "    predictions = regressor.predict(X_test)\n",
    "    mse_values_boosting.append(mse(y_test, predictions))"
   ]
  },
  {
   "cell_type": "code",
   "execution_count": null,
   "metadata": {
    "colab": {
     "base_uri": "https://localhost:8080/",
     "height": 587
    },
    "id": "GLDGMUWxgGkB",
    "outputId": "94858a1e-9407-47fe-88c4-11a7e2a08fda"
   },
   "outputs": [
    {
     "data": {
      "image/png": "[encoded data removed]",
      "text/plain": [
       "<Figure size 1296x648 with 1 Axes>"
      ]
     },
     "metadata": {},
     "output_type": "display_data"
    }
   ],
   "source": [
    "plot_dependence_test(np.arange(3, 16), mse_values_forest, mse_values_boosting, \n",
    "                     'Максимальная глубина дерева', 'MSE', \n",
    "                     'Зависимость MSE от максимальной глубины')"
   ]
  },
  {
   "cell_type": "markdown",
   "metadata": {
    "id": "XltTlo9owyi6"
   },
   "source": [
    "Тут даже при маленькой глубине показатели GradientBoosting уже показывает хорошие результаты, но при росте глубины дерева у нас наблюдается переобучение (которое отсутствует у RandomForest), поэтому оптимальная глубина в нашем случае порядка 6-8 для GradientBoosting. Но важное наблюдаемое св-во, что GradientBoosting начинает переобучаться причем даже не на оч большой глубине"
   ]
  },
  {
   "cell_type": "code",
   "execution_count": null,
   "metadata": {
    "colab": {
     "base_uri": "https://localhost:8080/",
     "height": 49,
     "referenced_widgets": [
      "0db15b84076942fcb87593f10c1ca7b5",
      "9d73427e8b924227bb849db24b948080",
      "16f2c6f6e553431aac5adff4af72de7c",
      "9ffc41d2a2fc435f9292565a84effc3e",
      "0b97ef42c33d4e2b833c1af9c962c671",
      "e2650653220d4fa8895edc7c068895b9",
      "37fe6ba552f245fa8cf2eff7f2fd8ad0",
      "dc1de8fb4aa046c88d9d18a54c21c9d0",
      "814500a0f3ab41d9b116fdef82d45967",
      "c367c0a0cfa64c51b03301b6f48f400a",
      "4bef1d2f361c4e4999838ddfc6febd4d"
     ]
    },
    "id": "krAsqEangHI5",
    "outputId": "886325da-aed7-48e5-ef28-79fdd7444f45"
   },
   "outputs": [
    {
     "data": {
      "application/vnd.jupyter.widget-view+json": {
       "model_id": "0db15b84076942fcb87593f10c1ca7b5",
       "version_major": 2,
       "version_minor": 0
      },
      "text/plain": [
       "  0%|          | 0/20 [00:00<?, ?it/s]"
      ]
     },
     "metadata": {},
     "output_type": "display_data"
    }
   ],
   "source": [
    "mse_values_boosting=[]\n",
    "grid=np.logspace(-6,0,20)\n",
    "for learning_rate in tqdm(grid):\n",
    "    regressor = GradientBoostingRegressor(learning_rate=learning_rate, \n",
    "                                      n_estimators=350, random_state=42)\n",
    "    regressor.fit(X_train, y_train)\n",
    "    predictions = regressor.predict(X_test)\n",
    "    mse_values_boosting.append(mse(y_test, predictions))"
   ]
  },
  {
   "cell_type": "code",
   "execution_count": null,
   "metadata": {
    "colab": {
     "base_uri": "https://localhost:8080/",
     "height": 591
    },
    "id": "EfpvmK1zwue0",
    "outputId": "4b022366-6326-4440-dbd0-60bec7e6fcb9"
   },
   "outputs": [
    {
     "data": {
      "image/png": "[encoded data removed]",
      "text/plain": [
       "<Figure size 1296x648 with 1 Axes>"
      ]
     },
     "metadata": {},
     "output_type": "display_data"
    }
   ],
   "source": [
    "plt.figure(figsize=(18, 9))\n",
    "plt.plot(grid, mse_values_boosting, label='test, GradientBoosting', linewidth=3)\n",
    "plt.xlabel('learning_rate')\n",
    "plt.ylabel('MSE')\n",
    "plt.legend()\n",
    "plt.title('Зависимость MSE от learning_rate')\n",
    "plt.xscale(\"log\")\n",
    "plt.show()"
   ]
  },
  {
   "cell_type": "markdown",
   "metadata": {
    "id": "8tWxZcaVxZEO"
   },
   "source": [
    "Самое лучшее MSE у нас достигается при learning_rate=0.5, learning_rate влияет с каким большим шагом мы будем идти по направлению антиградиента, также это влияет на возможность перешагнуть оптимальное значение, поэтому чем меньше, тем более маленькими, но точными шагами мы идем в нужном направлении. "
   ]
  },
  {
   "cell_type": "code",
   "execution_count": 65,
   "metadata": {
    "colab": {
     "base_uri": "https://localhost:8080/",
     "height": 101,
     "referenced_widgets": [
      "771bf8861b664864b44b9f7742b87563",
      "ddd6647b4d50458080037cdebb93fe26",
      "80e405e0c8514dc682571375d83cdbd5",
      "c7db01d9f33046229bd67ca988bafe14",
      "9eb118a17da6458f82cc00fae62e4173",
      "048e29334b5d43098e99560f9340062d",
      "854cb8044235479985231bdaf7bd3eb1",
      "ba5ea74ff86346509d30ed32f5c8adcc",
      "c3bf477b5c3848dfbbe9cc7657f14239",
      "63ada1c4689b45a09db9205c772da0b2",
      "c1a3038b2a4e45c580193c92f96530a3"
     ]
    },
    "id": "p_D7DKpZt9hR",
    "outputId": "3129267a-cc80-4528-86ee-164e9dc94f15"
   },
   "outputs": [
    {
     "data": {
      "application/vnd.jupyter.widget-view+json": {
       "model_id": "771bf8861b664864b44b9f7742b87563",
       "version_major": 2,
       "version_minor": 0
      },
      "text/plain": [
       "  0%|          | 0/3 [00:00<?, ?it/s]"
      ]
     },
     "metadata": {},
     "output_type": "display_data"
    },
    {
     "name": "stdout",
     "output_type": "stream",
     "text": [
      "MSE = 0.2512\n",
      "MSE = 0.2511\n",
      "MSE = 0.2511\n"
     ]
    }
   ],
   "source": [
    "for iteration in tqdm(range(3)):\n",
    "    regressor = GradientBoostingRegressor(n_estimators=350)\n",
    "    regressor.fit(X_train, y_train)\n",
    "    predictions = regressor.predict(X_test)\n",
    "    print('MSE = {:.4f}'.format(mse(y_test, predictions)))"
   ]
  },
  {
   "cell_type": "markdown",
   "metadata": {
    "id": "qMhKoa72xv9E"
   },
   "source": [
    "Видно, что 2 значения совпали, а третье очень близко к ним. Это отличается от ситуации с RandomForest, который каждый раз использовал бустрепные выборки. GradientBoostingRegressor же не использует бустрепные выборки (у него даже нет такого параметра в модели)"
   ]
  },
  {
   "cell_type": "code",
   "execution_count": null,
   "metadata": {
    "colab": {
     "base_uri": "https://localhost:8080/"
    },
    "id": "udaOQnGQuLXd",
    "outputId": "1ec1a1c1-4e4c-4081-9b6a-67bf9d53c594"
   },
   "outputs": [
    {
     "name": "stdout",
     "output_type": "stream",
     "text": [
      "Fitting 5 folds for each of 50 candidates, totalling 250 fits\n"
     ]
    },
    {
     "data": {
      "text/plain": [
       "RandomizedSearchCV(cv=5, estimator=GradientBoostingRegressor(random_state=42),\n",
       "                   n_iter=50, n_jobs=-1,\n",
       "                   param_distributions={'learning_rate': array([1.00000000e-06, 4.64158883e-06, 2.15443469e-05, 1.00000000e-04,\n",
       "       4.64158883e-04, 2.15443469e-03, 1.00000000e-02, 4.64158883e-02,\n",
       "       2.15443469e-01, 1.00000000e+00, 1.00000000e-01, 1.66666667e-01,\n",
       "       2.33333333e-01, 3.00000000e-01...\n",
       "       313, 314, 315, 316, 317, 318, 319, 320, 321, 322, 323, 324, 325,\n",
       "       326, 327, 328, 329, 330, 331, 332, 333, 334, 335, 336, 337, 338,\n",
       "       339, 340, 341, 342, 343, 344, 345, 346, 347, 348, 349, 350, 351,\n",
       "       352, 353, 354, 355, 356, 357, 358, 359, 360, 361, 362, 363, 364,\n",
       "       365, 366, 367, 368, 369, 370, 371, 372, 373, 374, 375, 376, 377,\n",
       "       378, 379, 380, 381, 382, 383, 384, 385, 386, 387, 388, 389, 390,\n",
       "       391, 392, 393, 394, 395, 396, 397, 398, 399, 400])},\n",
       "                   random_state=42, verbose=1)"
      ]
     },
     "execution_count": 92,
     "metadata": {},
     "output_type": "execute_result"
    }
   ],
   "source": [
    "grid=np.append(np.logspace(-6,0,10),np.linspace(0.1,0.7,10))\n",
    "rnd_boosting_gridsearch = RandomizedSearchCV(\n",
    "    GradientBoostingRegressor(random_state=42),\n",
    "    param_distributions={\n",
    "        'n_estimators': np.arange(1,401),\n",
    "        'learning_rate': grid,\n",
    "        'max_depth': np.arange(3,16),\n",
    "    },\n",
    "    cv=5,  # разбиение выборки на 5 фолдов\n",
    "    verbose=1,  # насколько часто печатать сообщения\n",
    "    n_jobs=-1,  # кол-во параллельных процессов\n",
    "    n_iter=50,  # кол-во итераций случайного выбора гиперпараметров\n",
    "    random_state=42  # seed для фиксирования случайности\n",
    ")\n",
    "rnd_boosting_gridsearch.fit(X_train, y_train)"
   ]
  },
  {
   "cell_type": "code",
   "execution_count": null,
   "metadata": {
    "colab": {
     "base_uri": "https://localhost:8080/"
    },
    "id": "flCy1WcmzEdW",
    "outputId": "32e9a88d-4f9f-458f-89b8-e1ebd71df845"
   },
   "outputs": [
    {
     "data": {
      "text/plain": [
       "{'learning_rate': 0.16666666666666669, 'max_depth': 7, 'n_estimators': 351}"
      ]
     },
     "execution_count": 95,
     "metadata": {},
     "output_type": "execute_result"
    }
   ],
   "source": [
    "rnd_boosting_gridsearch.best_params_"
   ]
  },
  {
   "cell_type": "code",
   "execution_count": null,
   "metadata": {
    "id": "0q6_sXyS_jcn"
   },
   "outputs": [],
   "source": [
    "max_depth = rnd_boosting_gridsearch.best_params_['max_depth']\n",
    "n_estimators = rnd_boosting_gridsearch.best_params_['n_estimators']\n",
    "learning_rate = rnd_boosting_gridsearch.best_params_['learning_rate']"
   ]
  },
  {
   "cell_type": "code",
   "execution_count": null,
   "metadata": {
    "colab": {
     "base_uri": "https://localhost:8080/"
    },
    "id": "BL_HPnPlzHjx",
    "outputId": "fbcf502c-7eec-4e08-a0e7-c7754f6f6520"
   },
   "outputs": [
    {
     "name": "stdout",
     "output_type": "stream",
     "text": [
      "train mse 0.0165\n",
      "test mse 0.2262\n"
     ]
    }
   ],
   "source": [
    "print('train mse {:.4f}'.format(\n",
    "    mse(rnd_boosting_gridsearch.predict(X_train), y_train)\n",
    "))\n",
    "print('test mse {:.4f}'.format(\n",
    "    mse(rnd_boosting_gridsearch.predict(X_test), y_test)\n",
    "))"
   ]
  },
  {
   "cell_type": "markdown",
   "metadata": {
    "id": "voGi-UCt65NZ"
   },
   "source": [
    "Теперь исследуем количество признаков"
   ]
  },
  {
   "cell_type": "code",
   "execution_count": null,
   "metadata": {
    "id": "-ILqs-Uz3VFZ"
   },
   "outputs": [],
   "source": [
    "def plot_dependence(param_grid, train_values, test_values, \n",
    "                    param_label='', metrics_label='', title='',\n",
    "                    train_label='train (RandomForest)', \n",
    "                    test_label='test (RandomForest)', \n",
    "                    create_figure=True):\n",
    "    '''\n",
    "    Функция для построения графиков зависимости целевой метрики \n",
    "    от некоторого параметра модели на обучающей и на валидационной \n",
    "    выборке.\n",
    "    \n",
    "    Параметры.\n",
    "    1) param_grid — значения исследуемого параметра,\n",
    "    2) train_values — значения метрики на обучающей выборке,\n",
    "    3) test_values — значения метрики на валидационной выборке,\n",
    "    4) param_label — названия параметра,\n",
    "    5) metrics_label — название метрики,\n",
    "    6) title — заголовок для графика,\n",
    "    7) create_figure — флаг, устанавливающий нужно ли создавать \n",
    "    новую фигуру для графика.\n",
    "    '''\n",
    "    \n",
    "    if create_figure:\n",
    "        plt.figure(figsize=(12, 6))\n",
    "    plt.plot(param_grid, train_values, label=train_label, linewidth=3)\n",
    "    plt.plot(param_grid, test_values, label=test_label, linewidth=3)\n",
    "       \n",
    "    plt.legend()\n",
    "    if create_figure:\n",
    "        plt.xlabel(param_label)\n",
    "        plt.ylabel(metrics_label)\n",
    "        plt.title(title, fontsize=20)"
   ]
  },
  {
   "cell_type": "code",
   "execution_count": null,
   "metadata": {
    "colab": {
     "base_uri": "https://localhost:8080/",
     "height": 49,
     "referenced_widgets": [
      "8f9053b399c548f89c7442c2f4139f97",
      "724394db872e44d1ab7c3115ea94a58f",
      "8203f7c4d79048b8a4df1ad31be9d740",
      "853a765dbc4a4c4a874217252207fae4",
      "1341acb8faab4daa85668d3490044cbf",
      "2959822f5d3c4964a99de5152c78175d",
      "28586f49d36346f0b45e296309c41063",
      "e9c4e44c3f5c40b189185731dda441bb",
      "3413e4c30fa8478d99dde8ee40161d0c",
      "a5bddf67dfb848edbe39c37b8e678e22",
      "76ecc980629d4c9985ad03e826826736"
     ]
    },
    "id": "qWjrIwL169WM",
    "outputId": "3f83aafe-6298-4798-f7c5-0b0355ced163"
   },
   "outputs": [
    {
     "data": {
      "application/vnd.jupyter.widget-view+json": {
       "model_id": "8f9053b399c548f89c7442c2f4139f97",
       "version_major": 2,
       "version_minor": 0
      },
      "text/plain": [
       "  0%|          | 0/8 [00:00<?, ?it/s]"
      ]
     },
     "metadata": {},
     "output_type": "display_data"
    }
   ],
   "source": [
    "mse_train_values = []\n",
    "mse_test_values = []\n",
    "simple_mse_train_values = []\n",
    "simple_mse_test_values = []\n",
    "\n",
    "for n_features in tqdm(range(1, 9)):\n",
    "    rf_regressor = RandomForestRegressor(\n",
    "        max_depth=26, n_estimators=226, \n",
    "        max_features=n_features, random_state=42#оптимальные параметры, найдены в прошлом дз\n",
    "    )\n",
    "    rf_regressor.fit(X_train, y_train)\n",
    "    \n",
    "    current_train_mse = mse(y_train, rf_regressor.predict(X_train))\n",
    "    current_test_mse = mse(y_test, rf_regressor.predict(X_test))\n",
    "       \n",
    "    mse_train_values.append(current_train_mse)\n",
    "    mse_test_values.append(current_test_mse)\n",
    "\n",
    "\n",
    "    rf_regressor = GradientBoostingRegressor(\n",
    "            max_depth=max_depth,n_estimators=n_estimators,\n",
    "            learning_rate=learning_rate, random_state=42,\n",
    "            max_features=n_features)\n",
    "    \n",
    "    rf_regressor.fit(X_train, y_train)\n",
    "    current_train_mse = mse(y_train, rf_regressor.predict(X_train))\n",
    "    current_test_mse = mse(y_test, rf_regressor.predict(X_test))\n",
    "    \n",
    "    simple_mse_train_values.append(current_train_mse)\n",
    "    simple_mse_test_values.append(current_test_mse)"
   ]
  },
  {
   "cell_type": "code",
   "execution_count": null,
   "metadata": {
    "colab": {
     "base_uri": "https://localhost:8080/",
     "height": 425
    },
    "id": "-m_swVAO7bAI",
    "outputId": "fd55e4d0-2294-48c0-ea88-f4d7b4837f75"
   },
   "outputs": [
    {
     "data": {
      "image/png": "[encoded data removed]",
      "text/plain": [
       "<Figure size 864x432 with 1 Axes>"
      ]
     },
     "metadata": {},
     "output_type": "display_data"
    }
   ],
   "source": [
    "plot_dependence(range(1, 9), mse_train_values, mse_test_values, \n",
    "                'Количество признаков', 'MSE', \n",
    "                'Зависимость MSE от количества признаков')\n",
    "plot_dependence(range(1, 9), simple_mse_train_values, \n",
    "                simple_mse_test_values,\n",
    "                train_label='train (GradientBoostingRegressor)', \n",
    "                test_label='test (GradientBoostingRegressor)',\n",
    "                create_figure=False)"
   ]
  },
  {
   "cell_type": "markdown",
   "metadata": {
    "id": "VDIlOxsox8aX"
   },
   "source": [
    "Тут заметна разница, на Test and Train RandomForest работает лучше, нет огромной разницы, но при этом она все-таки хорошо заметна. Если внимательно посомтреть на test, но хорошо видно, что после 4-5 признаков mse слегка ухудшается=у нас модели немного переобучаются"
   ]
  },
  {
   "cell_type": "markdown",
   "metadata": {
    "id": "dN13abJDd0de"
   },
   "source": [
    "### 3.\n",
    "\n",
    "Обучите градиентный бустинг на решающих деревьях, у которого в качестве инициализирующей модели используется линейная регрессия. \n",
    "\n",
    "Для этого используйте класс `GradientBoostingRegressor`, которому при инициализации в качестве параметра `init` передайте модель ридж-регрессии `Ridge`, которая должна быть инициализирована, но необучена. Параметр `init` задает модель, выполняющую начальные предсказания, с которых стартует построение ансамбля.\n",
    "\n",
    "Подберите оптимальные гиперпараметры такой композиции. Как вы будете подбирать гиперпараметр ридж-регрессии? Улучшилось ли качество модели на тестовой выборке?\n",
    "\n",
    "*Замечания.* \n",
    "\n",
    "1. Чтобы понять, как настроить `alpha` в `Ridge` модели внутри `GradientBoostingRegressor` вам может помочь метод `get_params()` у бустинга.\n",
    "2. Не забывайте, что у бустинга тоже есть параметр `alpha`, не перепутайте их."
   ]
  },
  {
   "cell_type": "code",
   "execution_count": null,
   "metadata": {
    "id": "SJtseAfAd0de"
   },
   "outputs": [],
   "source": [
    "rnd_boosting_gridsearch = RandomizedSearchCV(\n",
    "    GradientBoostingRegressor(random_state=42,init=Ridge()),\n",
    "    param_distributions={\n",
    "        'n_estimators': np.arange(1,401),\n",
    "        'learning_rate': grid,\n",
    "        'max_depth': np.arange(3,16),\n",
    "        'init__alpha': np.logspace(-8,3,100)\n",
    "    },\n",
    "    cv=5,  # разбиение выборки на 5 фолдов\n",
    "    verbose=0,  # насколько часто печатать сообщения\n",
    "    n_jobs=-2,  # кол-во параллельных процессов\n",
    "    n_iter=50,  # кол-во итераций случайного выбора гиперпараметров\n",
    "    random_state=42  # seed для фиксирования случайности\n",
    ")\n",
    "rnd_boosting_gridsearch.fit(X_train, y_train)"
   ]
  },
  {
   "cell_type": "code",
   "execution_count": 61,
   "metadata": {
    "colab": {
     "base_uri": "https://localhost:8080/"
    },
    "id": "L5kLz8JBHsib",
    "outputId": "1378632b-0317-4201-e4fd-b03fd7b43609"
   },
   "outputs": [
    {
     "data": {
      "text/plain": [
       "{'init__alpha': 3.5938136638046257e-06,\n",
       " 'learning_rate': 0.12915496650148828,\n",
       " 'max_depth': 8,\n",
       " 'n_estimators': 312}"
      ]
     },
     "execution_count": 61,
     "metadata": {},
     "output_type": "execute_result"
    }
   ],
   "source": [
    "rnd_boosting_gridsearch.best_params_"
   ]
  },
  {
   "cell_type": "code",
   "execution_count": 63,
   "metadata": {
    "colab": {
     "base_uri": "https://localhost:8080/"
    },
    "id": "ajF1HDbI2iPd",
    "outputId": "33f4b708-42f7-402c-f7c8-ed851e5484e8"
   },
   "outputs": [
    {
     "name": "stdout",
     "output_type": "stream",
     "text": [
      "train mse 0.0131\n",
      "test mse 0.2254\n"
     ]
    }
   ],
   "source": [
    "print('train mse {:.4f}'.format(\n",
    "    mse(rnd_boosting_gridsearch.predict(X_train), y_train)\n",
    "))\n",
    "print('test mse {:.4f}'.format(\n",
    "    mse(rnd_boosting_gridsearch.predict(X_test), y_test)\n",
    "))"
   ]
  },
  {
   "cell_type": "markdown",
   "metadata": {
    "id": "N1PYbS-4yYFF"
   },
   "source": [
    "Тут мы нашли оптимальные параметры, но по сравнению с пред. номерами, мы такжи нашли параметр регуляризации Ridge регрессии, которая используется для начального приближения. Оптимальный параметр init__alpha= $10^{-6}$, то есть регуляризация почти не используется. Также вспомним,что без данного параметра train mse 0.0165 test mse 0.2262. То есть мы улучшили mse в тесте и трейне на 1 сотую примерно"
   ]
  },
  {
   "cell_type": "markdown",
   "metadata": {
    "id": "N_TFq7wOd0de"
   },
   "source": [
    "### 4. \n",
    "\n",
    "Рассмотрим модели смеси градиентного бустинга $\\widehat{y}_{gb}$ и случайного леса $\\widehat{y}_{rf}$ в виде\n",
    "$$\\widehat{y}(x) = w \\widehat{y}_{gb}(x) +  (1-w) \\widehat{y}_{rf}(x),$$\n",
    "где $w \\in [0, 1]$ &mdash; коэффициент усреднения. Подберите оптимальное значение гиперпараметра $w$. Удалось ли добиться улучшения качества на тестовой выборке?"
   ]
  },
  {
   "cell_type": "code",
   "execution_count": null,
   "metadata": {
    "id": "cqtNL0aEd0df"
   },
   "outputs": [],
   "source": [
    "class sum_forest_boosting(RandomForestRegressor,GradientBoostingRegressor):\n",
    "  def __init__(self, w=0):\n",
    "    self.rf_regressor = RandomForestRegressor(\n",
    "        max_depth=26, n_estimators=226, random_state=42#оптимальные параметры, найдены в прошлом дз\n",
    "    )\n",
    "    self.boosting_regressor = GradientBoostingRegressor(learning_rate=0.16666666666666669, \n",
    "                                      max_depth=7, n_estimators=351, random_state=42)\n",
    "    self.w=w\n",
    "  def fit(self, X_train, y_train):\n",
    "    self.rf_regressor.fit(X_train, y_train)\n",
    "    self.boosting_regressor.fit(X_train, y_train)\n",
    "  def predict(self, X_test):\n",
    "    predictions1 = self.rf_regressor.predict(X_test)\n",
    "    predictions2 = self.boosting_regressor.predict(X_test)\n",
    "    predictions1=np.array(predictions1)\n",
    "    predictions2=np.array(predictions2)\n",
    "    return self.w*predictions1+(1-self.w)*predictions2\n"
   ]
  },
  {
   "cell_type": "code",
   "execution_count": null,
   "metadata": {
    "colab": {
     "base_uri": "https://localhost:8080/"
    },
    "id": "jsjruTMe3c2k",
    "outputId": "fd32c2eb-1543-4095-d8ed-c3ca9798cee5"
   },
   "outputs": [
    {
     "name": "stdout",
     "output_type": "stream",
     "text": [
      "Fitting 5 folds for each of 20 candidates, totalling 100 fits\n",
      "Wall time: 29min 32s\n"
     ]
    },
    {
     "data": {
      "text/plain": [
       "GridSearchCV(cv=5, estimator=sum_forest_boosting(), n_jobs=-2,\n",
       "             param_grid={'w': array([0.        , 0.05263158, 0.10526316, 0.15789474, 0.21052632,\n",
       "       0.26315789, 0.31578947, 0.36842105, 0.42105263, 0.47368421,\n",
       "       0.52631579, 0.57894737, 0.63157895, 0.68421053, 0.73684211,\n",
       "       0.78947368, 0.84210526, 0.89473684, 0.94736842, 1.        ])},\n",
       "             verbose=1)"
      ]
     },
     "execution_count": 32,
     "metadata": {},
     "output_type": "execute_result"
    }
   ],
   "source": [
    "%%time\n",
    "model = GridSearchCV(\n",
    "    estimator=sum_forest_boosting(),\n",
    "    param_grid={\n",
    "        'w': np.linspace(0,1,20)},\n",
    "    cv=5,  # разбиение выборки на 5 фолдов\n",
    "    verbose=1,  # насколько часто печатать сообщения\n",
    "    n_jobs=-2,  # кол-во параллельных процессов\n",
    ")\n",
    "model.fit(X_train, y_train)"
   ]
  },
  {
   "cell_type": "code",
   "execution_count": null,
   "metadata": {
    "id": "3PfWGS2r3c2l",
    "outputId": "8440c51d-99e9-4d86-dd9c-72e9772bb4d2"
   },
   "outputs": [
    {
     "data": {
      "text/plain": [
       "{'w': 0.21052631578947367}"
      ]
     },
     "execution_count": 33,
     "metadata": {},
     "output_type": "execute_result"
    }
   ],
   "source": [
    "model.best_params_"
   ]
  },
  {
   "cell_type": "code",
   "execution_count": null,
   "metadata": {
    "id": "ZQY06WJY3ZL6",
    "outputId": "d3e9ca48-de43-4abf-9cfe-9967f527f486"
   },
   "outputs": [
    {
     "name": "stdout",
     "output_type": "stream",
     "text": [
      "mse RandomForestRegressor 0.25782144959997183\n",
      "mse GradientBoostingRegressor 0.22618714475498625\n",
      "mse суммы двух моделей 0.2225925499895831\n"
     ]
    }
   ],
   "source": [
    "rf_regressor = RandomForestRegressor(\n",
    "            max_depth=26, n_estimators=226, random_state=42)#оптимальные параметры, найдены в прошлом дз)\n",
    "boosting_regressor = GradientBoostingRegressor(learning_rate=0.16666666666666669, \n",
    "                                          max_depth=7, n_estimators=351, random_state=42)\n",
    "rf_regressor.fit(X_train, y_train)\n",
    "boosting_regressor.fit(X_train, y_train)\n",
    "\n",
    "predictions1 = rf_regressor.predict(X_test)\n",
    "predictions2 = boosting_regressor.predict(X_test)\n",
    "    \n",
    "print('mse RandomForestRegressor',mse(y_test, predictions1))\n",
    "print('mse GradientBoostingRegressor',mse(y_test, predictions2))  \n",
    "print('mse суммы двух моделей',mse(y_test, model.predict(X_test)))\n"
   ]
  },
  {
   "cell_type": "markdown",
   "metadata": {
    "id": "fg3ajTHM3iRl"
   },
   "source": [
    "Для данной задачи мы сначала реализовали общий класс, который принимает две наши модели, обучается и считает предсказания, а затем мы умножили одно предсказание на w, а другое на (1-w). Оптимальным параметром оказался w=0.21. То есть с w=0.21 мы учитываем ответы, полученные RandomForest, а с 0.79 учитываем GradientBoostingRegressor. По итогу мы смогли улучшить каждую модель, то есть суммарный результат лучше, чем у двух данных моделей по отдельности, тем самым комбинируя с разными коэф. разные модели мы можем получать модель с более хорошей метрикой, чем у каждой по отдельности. Также у нас бустинг сработал лучше, чем RandomForest, но маленькая доля RandomForest внесла плюс в нашу модель и позволила предсказывать с более маленькой ошибкой."
   ]
  },
  {
   "cell_type": "code",
   "execution_count": null,
   "metadata": {
    "id": "4Hzkb6ao3ZL6"
   },
   "outputs": [],
   "source": []
  }
 ],
 "metadata": {
  "accelerator": "GPU",
  "colab": {
   "collapsed_sections": [],
   "name": "task_1.3_Nikitin.ipynb",
   "provenance": []
  },
  "kernelspec": {
   "display_name": "Python 3 (ipykernel)",
   "language": "python",
   "name": "python3"
  },
  "language_info": {
   "codemirror_mode": {
    "name": "ipython",
    "version": 3
   },
   "file_extension": ".py",
   "mimetype": "text/x-python",
   "name": "python",
   "nbconvert_exporter": "python",
   "pygments_lexer": "ipython3",
   "version": "3.8.5"
  },
  "widgets": {
   "application/vnd.jupyter.widget-state+json": {
    "0140ec8bbebf4124ad38b3036400e035": {
     "model_module": "@jupyter-widgets/base",
     "model_module_version": "1.2.0",
     "model_name": "LayoutModel",
     "state": {
      "_model_module": "@jupyter-widgets/base",
      "_model_module_version": "1.2.0",
      "_model_name": "LayoutModel",
      "_view_count": null,
      "_view_module": "@jupyter-widgets/base",
      "_view_module_version": "1.2.0",
      "_view_name": "LayoutView",
      "align_content": null,
      "align_items": null,
      "align_self": null,
      "border": null,
      "bottom": null,
      "display": null,
      "flex": null,
      "flex_flow": null,
      "grid_area": null,
      "grid_auto_columns": null,
      "grid_auto_flow": null,
      "grid_auto_rows": null,
      "grid_column": null,
      "grid_gap": null,
      "grid_row": null,
      "grid_template_areas": null,
      "grid_template_columns": null,
      "grid_template_rows": null,
      "height": null,
      "justify_content": null,
      "justify_items": null,
      "left": null,
      "margin": null,
      "max_height": null,
      "max_width": null,
      "min_height": null,
      "min_width": null,
      "object_fit": null,
      "object_position": null,
      "order": null,
      "overflow": null,
      "overflow_x": null,
      "overflow_y": null,
      "padding": null,
      "right": null,
      "top": null,
      "visibility": null,
      "width": null
     }
    },
    "048e29334b5d43098e99560f9340062d": {
     "model_module": "@jupyter-widgets/controls",
     "model_module_version": "1.5.0",
     "model_name": "DescriptionStyleModel",
     "state": {
      "_model_module": "@jupyter-widgets/controls",
      "_model_module_version": "1.5.0",
      "_model_name": "DescriptionStyleModel",
      "_view_count": null,
      "_view_module": "@jupyter-widgets/base",
      "_view_module_version": "1.2.0",
      "_view_name": "StyleView",
      "description_width": ""
     }
    },
    "0b97ef42c33d4e2b833c1af9c962c671": {
     "model_module": "@jupyter-widgets/controls",
     "model_module_version": "1.5.0",
     "model_name": "HTMLModel",
     "state": {
      "_dom_classes": [],
      "_model_module": "@jupyter-widgets/controls",
      "_model_module_version": "1.5.0",
      "_model_name": "HTMLModel",
      "_view_count": null,
      "_view_module": "@jupyter-widgets/controls",
      "_view_module_version": "1.5.0",
      "_view_name": "HTMLView",
      "description": "",
      "description_tooltip": null,
      "layout": "IPY_MODEL_4bef1d2f361c4e4999838ddfc6febd4d",
      "placeholder": "​",
      "style": "IPY_MODEL_c367c0a0cfa64c51b03301b6f48f400a",
      "value": " 20/20 [04:34&lt;00:00, 13.26s/it]"
     }
    },
    "0db15b84076942fcb87593f10c1ca7b5": {
     "model_module": "@jupyter-widgets/controls",
     "model_module_version": "1.5.0",
     "model_name": "HBoxModel",
     "state": {
      "_dom_classes": [],
      "_model_module": "@jupyter-widgets/controls",
      "_model_module_version": "1.5.0",
      "_model_name": "HBoxModel",
      "_view_count": null,
      "_view_module": "@jupyter-widgets/controls",
      "_view_module_version": "1.5.0",
      "_view_name": "HBoxView",
      "box_style": "",
      "children": [
       "IPY_MODEL_16f2c6f6e553431aac5adff4af72de7c",
       "IPY_MODEL_9ffc41d2a2fc435f9292565a84effc3e",
       "IPY_MODEL_0b97ef42c33d4e2b833c1af9c962c671"
      ],
      "layout": "IPY_MODEL_9d73427e8b924227bb849db24b948080"
     }
    },
    "1341acb8faab4daa85668d3490044cbf": {
     "model_module": "@jupyter-widgets/controls",
     "model_module_version": "1.5.0",
     "model_name": "HTMLModel",
     "state": {
      "_dom_classes": [],
      "_model_module": "@jupyter-widgets/controls",
      "_model_module_version": "1.5.0",
      "_model_name": "HTMLModel",
      "_view_count": null,
      "_view_module": "@jupyter-widgets/controls",
      "_view_module_version": "1.5.0",
      "_view_name": "HTMLView",
      "description": "",
      "description_tooltip": null,
      "layout": "IPY_MODEL_76ecc980629d4c9985ad03e826826736",
      "placeholder": "​",
      "style": "IPY_MODEL_a5bddf67dfb848edbe39c37b8e678e22",
      "value": " 8/8 [04:33&lt;00:00, 45.22s/it]"
     }
    },
    "16f2c6f6e553431aac5adff4af72de7c": {
     "model_module": "@jupyter-widgets/controls",
     "model_module_version": "1.5.0",
     "model_name": "HTMLModel",
     "state": {
      "_dom_classes": [],
      "_model_module": "@jupyter-widgets/controls",
      "_model_module_version": "1.5.0",
      "_model_name": "HTMLModel",
      "_view_count": null,
      "_view_module": "@jupyter-widgets/controls",
      "_view_module_version": "1.5.0",
      "_view_name": "HTMLView",
      "description": "",
      "description_tooltip": null,
      "layout": "IPY_MODEL_37fe6ba552f245fa8cf2eff7f2fd8ad0",
      "placeholder": "​",
      "style": "IPY_MODEL_e2650653220d4fa8895edc7c068895b9",
      "value": "100%"
     }
    },
    "174bfeb352614af2beb632056b88eeda": {
     "model_module": "@jupyter-widgets/controls",
     "model_module_version": "1.5.0",
     "model_name": "ProgressStyleModel",
     "state": {
      "_model_module": "@jupyter-widgets/controls",
      "_model_module_version": "1.5.0",
      "_model_name": "ProgressStyleModel",
      "_view_count": null,
      "_view_module": "@jupyter-widgets/base",
      "_view_module_version": "1.2.0",
      "_view_name": "StyleView",
      "bar_color": null,
      "description_width": ""
     }
    },
    "1a03192765714427a591405203e1e4fb": {
     "model_module": "@jupyter-widgets/base",
     "model_module_version": "1.2.0",
     "model_name": "LayoutModel",
     "state": {
      "_model_module": "@jupyter-widgets/base",
      "_model_module_version": "1.2.0",
      "_model_name": "LayoutModel",
      "_view_count": null,
      "_view_module": "@jupyter-widgets/base",
      "_view_module_version": "1.2.0",
      "_view_name": "LayoutView",
      "align_content": null,
      "align_items": null,
      "align_self": null,
      "border": null,
      "bottom": null,
      "display": null,
      "flex": null,
      "flex_flow": null,
      "grid_area": null,
      "grid_auto_columns": null,
      "grid_auto_flow": null,
      "grid_auto_rows": null,
      "grid_column": null,
      "grid_gap": null,
      "grid_row": null,
      "grid_template_areas": null,
      "grid_template_columns": null,
      "grid_template_rows": null,
      "height": null,
      "justify_content": null,
      "justify_items": null,
      "left": null,
      "margin": null,
      "max_height": null,
      "max_width": null,
      "min_height": null,
      "min_width": null,
      "object_fit": null,
      "object_position": null,
      "order": null,
      "overflow": null,
      "overflow_x": null,
      "overflow_y": null,
      "padding": null,
      "right": null,
      "top": null,
      "visibility": null,
      "width": null
     }
    },
    "1d63eb98ab4041b3abf0d2c06e6f968c": {
     "model_module": "@jupyter-widgets/base",
     "model_module_version": "1.2.0",
     "model_name": "LayoutModel",
     "state": {
      "_model_module": "@jupyter-widgets/base",
      "_model_module_version": "1.2.0",
      "_model_name": "LayoutModel",
      "_view_count": null,
      "_view_module": "@jupyter-widgets/base",
      "_view_module_version": "1.2.0",
      "_view_name": "LayoutView",
      "align_content": null,
      "align_items": null,
      "align_self": null,
      "border": null,
      "bottom": null,
      "display": null,
      "flex": null,
      "flex_flow": null,
      "grid_area": null,
      "grid_auto_columns": null,
      "grid_auto_flow": null,
      "grid_auto_rows": null,
      "grid_column": null,
      "grid_gap": null,
      "grid_row": null,
      "grid_template_areas": null,
      "grid_template_columns": null,
      "grid_template_rows": null,
      "height": null,
      "justify_content": null,
      "justify_items": null,
      "left": null,
      "margin": null,
      "max_height": null,
      "max_width": null,
      "min_height": null,
      "min_width": null,
      "object_fit": null,
      "object_position": null,
      "order": null,
      "overflow": null,
      "overflow_x": null,
      "overflow_y": null,
      "padding": null,
      "right": null,
      "top": null,
      "visibility": null,
      "width": null
     }
    },
    "24e65c8f4964466889a5519e51416edf": {
     "model_module": "@jupyter-widgets/controls",
     "model_module_version": "1.5.0",
     "model_name": "FloatProgressModel",
     "state": {
      "_dom_classes": [],
      "_model_module": "@jupyter-widgets/controls",
      "_model_module_version": "1.5.0",
      "_model_name": "FloatProgressModel",
      "_view_count": null,
      "_view_module": "@jupyter-widgets/controls",
      "_view_module_version": "1.5.0",
      "_view_name": "ProgressView",
      "bar_style": "success",
      "description": "",
      "description_tooltip": null,
      "layout": "IPY_MODEL_d0794b35c5a74f95963f6d9c4e07abc6",
      "max": 13,
      "min": 0,
      "orientation": "horizontal",
      "style": "IPY_MODEL_174bfeb352614af2beb632056b88eeda",
      "value": 13
     }
    },
    "28586f49d36346f0b45e296309c41063": {
     "model_module": "@jupyter-widgets/base",
     "model_module_version": "1.2.0",
     "model_name": "LayoutModel",
     "state": {
      "_model_module": "@jupyter-widgets/base",
      "_model_module_version": "1.2.0",
      "_model_name": "LayoutModel",
      "_view_count": null,
      "_view_module": "@jupyter-widgets/base",
      "_view_module_version": "1.2.0",
      "_view_name": "LayoutView",
      "align_content": null,
      "align_items": null,
      "align_self": null,
      "border": null,
      "bottom": null,
      "display": null,
      "flex": null,
      "flex_flow": null,
      "grid_area": null,
      "grid_auto_columns": null,
      "grid_auto_flow": null,
      "grid_auto_rows": null,
      "grid_column": null,
      "grid_gap": null,
      "grid_row": null,
      "grid_template_areas": null,
      "grid_template_columns": null,
      "grid_template_rows": null,
      "height": null,
      "justify_content": null,
      "justify_items": null,
      "left": null,
      "margin": null,
      "max_height": null,
      "max_width": null,
      "min_height": null,
      "min_width": null,
      "object_fit": null,
      "object_position": null,
      "order": null,
      "overflow": null,
      "overflow_x": null,
      "overflow_y": null,
      "padding": null,
      "right": null,
      "top": null,
      "visibility": null,
      "width": null
     }
    },
    "2959822f5d3c4964a99de5152c78175d": {
     "model_module": "@jupyter-widgets/controls",
     "model_module_version": "1.5.0",
     "model_name": "DescriptionStyleModel",
     "state": {
      "_model_module": "@jupyter-widgets/controls",
      "_model_module_version": "1.5.0",
      "_model_name": "DescriptionStyleModel",
      "_view_count": null,
      "_view_module": "@jupyter-widgets/base",
      "_view_module_version": "1.2.0",
      "_view_name": "StyleView",
      "description_width": ""
     }
    },
    "3196515898d346aeaefdb6a2cdfff9f5": {
     "model_module": "@jupyter-widgets/controls",
     "model_module_version": "1.5.0",
     "model_name": "HTMLModel",
     "state": {
      "_dom_classes": [],
      "_model_module": "@jupyter-widgets/controls",
      "_model_module_version": "1.5.0",
      "_model_name": "HTMLModel",
      "_view_count": null,
      "_view_module": "@jupyter-widgets/controls",
      "_view_module_version": "1.5.0",
      "_view_name": "HTMLView",
      "description": "",
      "description_tooltip": null,
      "layout": "IPY_MODEL_1d63eb98ab4041b3abf0d2c06e6f968c",
      "placeholder": "​",
      "style": "IPY_MODEL_c898aef73cc744c5bfd2147ef312259b",
      "value": " 13/13 [10:33&lt;00:00, 64.35s/it]"
     }
    },
    "3413e4c30fa8478d99dde8ee40161d0c": {
     "model_module": "@jupyter-widgets/base",
     "model_module_version": "1.2.0",
     "model_name": "LayoutModel",
     "state": {
      "_model_module": "@jupyter-widgets/base",
      "_model_module_version": "1.2.0",
      "_model_name": "LayoutModel",
      "_view_count": null,
      "_view_module": "@jupyter-widgets/base",
      "_view_module_version": "1.2.0",
      "_view_name": "LayoutView",
      "align_content": null,
      "align_items": null,
      "align_self": null,
      "border": null,
      "bottom": null,
      "display": null,
      "flex": null,
      "flex_flow": null,
      "grid_area": null,
      "grid_auto_columns": null,
      "grid_auto_flow": null,
      "grid_auto_rows": null,
      "grid_column": null,
      "grid_gap": null,
      "grid_row": null,
      "grid_template_areas": null,
      "grid_template_columns": null,
      "grid_template_rows": null,
      "height": null,
      "justify_content": null,
      "justify_items": null,
      "left": null,
      "margin": null,
      "max_height": null,
      "max_width": null,
      "min_height": null,
      "min_width": null,
      "object_fit": null,
      "object_position": null,
      "order": null,
      "overflow": null,
      "overflow_x": null,
      "overflow_y": null,
      "padding": null,
      "right": null,
      "top": null,
      "visibility": null,
      "width": null
     }
    },
    "37e2f8d8427947c392718a396f7faf80": {
     "model_module": "@jupyter-widgets/controls",
     "model_module_version": "1.5.0",
     "model_name": "HTMLModel",
     "state": {
      "_dom_classes": [],
      "_model_module": "@jupyter-widgets/controls",
      "_model_module_version": "1.5.0",
      "_model_name": "HTMLModel",
      "_view_count": null,
      "_view_module": "@jupyter-widgets/controls",
      "_view_module_version": "1.5.0",
      "_view_name": "HTMLView",
      "description": "",
      "description_tooltip": null,
      "layout": "IPY_MODEL_0140ec8bbebf4124ad38b3036400e035",
      "placeholder": "​",
      "style": "IPY_MODEL_6ab1f69597ef4f2dba5d01641fe4070c",
      "value": "100%"
     }
    },
    "37fe6ba552f245fa8cf2eff7f2fd8ad0": {
     "model_module": "@jupyter-widgets/base",
     "model_module_version": "1.2.0",
     "model_name": "LayoutModel",
     "state": {
      "_model_module": "@jupyter-widgets/base",
      "_model_module_version": "1.2.0",
      "_model_name": "LayoutModel",
      "_view_count": null,
      "_view_module": "@jupyter-widgets/base",
      "_view_module_version": "1.2.0",
      "_view_name": "LayoutView",
      "align_content": null,
      "align_items": null,
      "align_self": null,
      "border": null,
      "bottom": null,
      "display": null,
      "flex": null,
      "flex_flow": null,
      "grid_area": null,
      "grid_auto_columns": null,
      "grid_auto_flow": null,
      "grid_auto_rows": null,
      "grid_column": null,
      "grid_gap": null,
      "grid_row": null,
      "grid_template_areas": null,
      "grid_template_columns": null,
      "grid_template_rows": null,
      "height": null,
      "justify_content": null,
      "justify_items": null,
      "left": null,
      "margin": null,
      "max_height": null,
      "max_width": null,
      "min_height": null,
      "min_width": null,
      "object_fit": null,
      "object_position": null,
      "order": null,
      "overflow": null,
      "overflow_x": null,
      "overflow_y": null,
      "padding": null,
      "right": null,
      "top": null,
      "visibility": null,
      "width": null
     }
    },
    "4bef1d2f361c4e4999838ddfc6febd4d": {
     "model_module": "@jupyter-widgets/base",
     "model_module_version": "1.2.0",
     "model_name": "LayoutModel",
     "state": {
      "_model_module": "@jupyter-widgets/base",
      "_model_module_version": "1.2.0",
      "_model_name": "LayoutModel",
      "_view_count": null,
      "_view_module": "@jupyter-widgets/base",
      "_view_module_version": "1.2.0",
      "_view_name": "LayoutView",
      "align_content": null,
      "align_items": null,
      "align_self": null,
      "border": null,
      "bottom": null,
      "display": null,
      "flex": null,
      "flex_flow": null,
      "grid_area": null,
      "grid_auto_columns": null,
      "grid_auto_flow": null,
      "grid_auto_rows": null,
      "grid_column": null,
      "grid_gap": null,
      "grid_row": null,
      "grid_template_areas": null,
      "grid_template_columns": null,
      "grid_template_rows": null,
      "height": null,
      "justify_content": null,
      "justify_items": null,
      "left": null,
      "margin": null,
      "max_height": null,
      "max_width": null,
      "min_height": null,
      "min_width": null,
      "object_fit": null,
      "object_position": null,
      "order": null,
      "overflow": null,
      "overflow_x": null,
      "overflow_y": null,
      "padding": null,
      "right": null,
      "top": null,
      "visibility": null,
      "width": null
     }
    },
    "63ada1c4689b45a09db9205c772da0b2": {
     "model_module": "@jupyter-widgets/controls",
     "model_module_version": "1.5.0",
     "model_name": "DescriptionStyleModel",
     "state": {
      "_model_module": "@jupyter-widgets/controls",
      "_model_module_version": "1.5.0",
      "_model_name": "DescriptionStyleModel",
      "_view_count": null,
      "_view_module": "@jupyter-widgets/base",
      "_view_module_version": "1.2.0",
      "_view_name": "StyleView",
      "description_width": ""
     }
    },
    "6ab1f69597ef4f2dba5d01641fe4070c": {
     "model_module": "@jupyter-widgets/controls",
     "model_module_version": "1.5.0",
     "model_name": "DescriptionStyleModel",
     "state": {
      "_model_module": "@jupyter-widgets/controls",
      "_model_module_version": "1.5.0",
      "_model_name": "DescriptionStyleModel",
      "_view_count": null,
      "_view_module": "@jupyter-widgets/base",
      "_view_module_version": "1.2.0",
      "_view_name": "StyleView",
      "description_width": ""
     }
    },
    "724394db872e44d1ab7c3115ea94a58f": {
     "model_module": "@jupyter-widgets/base",
     "model_module_version": "1.2.0",
     "model_name": "LayoutModel",
     "state": {
      "_model_module": "@jupyter-widgets/base",
      "_model_module_version": "1.2.0",
      "_model_name": "LayoutModel",
      "_view_count": null,
      "_view_module": "@jupyter-widgets/base",
      "_view_module_version": "1.2.0",
      "_view_name": "LayoutView",
      "align_content": null,
      "align_items": null,
      "align_self": null,
      "border": null,
      "bottom": null,
      "display": null,
      "flex": null,
      "flex_flow": null,
      "grid_area": null,
      "grid_auto_columns": null,
      "grid_auto_flow": null,
      "grid_auto_rows": null,
      "grid_column": null,
      "grid_gap": null,
      "grid_row": null,
      "grid_template_areas": null,
      "grid_template_columns": null,
      "grid_template_rows": null,
      "height": null,
      "justify_content": null,
      "justify_items": null,
      "left": null,
      "margin": null,
      "max_height": null,
      "max_width": null,
      "min_height": null,
      "min_width": null,
      "object_fit": null,
      "object_position": null,
      "order": null,
      "overflow": null,
      "overflow_x": null,
      "overflow_y": null,
      "padding": null,
      "right": null,
      "top": null,
      "visibility": null,
      "width": null
     }
    },
    "76ecc980629d4c9985ad03e826826736": {
     "model_module": "@jupyter-widgets/base",
     "model_module_version": "1.2.0",
     "model_name": "LayoutModel",
     "state": {
      "_model_module": "@jupyter-widgets/base",
      "_model_module_version": "1.2.0",
      "_model_name": "LayoutModel",
      "_view_count": null,
      "_view_module": "@jupyter-widgets/base",
      "_view_module_version": "1.2.0",
      "_view_name": "LayoutView",
      "align_content": null,
      "align_items": null,
      "align_self": null,
      "border": null,
      "bottom": null,
      "display": null,
      "flex": null,
      "flex_flow": null,
      "grid_area": null,
      "grid_auto_columns": null,
      "grid_auto_flow": null,
      "grid_auto_rows": null,
      "grid_column": null,
      "grid_gap": null,
      "grid_row": null,
      "grid_template_areas": null,
      "grid_template_columns": null,
      "grid_template_rows": null,
      "height": null,
      "justify_content": null,
      "justify_items": null,
      "left": null,
      "margin": null,
      "max_height": null,
      "max_width": null,
      "min_height": null,
      "min_width": null,
      "object_fit": null,
      "object_position": null,
      "order": null,
      "overflow": null,
      "overflow_x": null,
      "overflow_y": null,
      "padding": null,
      "right": null,
      "top": null,
      "visibility": null,
      "width": null
     }
    },
    "771bf8861b664864b44b9f7742b87563": {
     "model_module": "@jupyter-widgets/controls",
     "model_module_version": "1.5.0",
     "model_name": "HBoxModel",
     "state": {
      "_dom_classes": [],
      "_model_module": "@jupyter-widgets/controls",
      "_model_module_version": "1.5.0",
      "_model_name": "HBoxModel",
      "_view_count": null,
      "_view_module": "@jupyter-widgets/controls",
      "_view_module_version": "1.5.0",
      "_view_name": "HBoxView",
      "box_style": "",
      "children": [
       "IPY_MODEL_80e405e0c8514dc682571375d83cdbd5",
       "IPY_MODEL_c7db01d9f33046229bd67ca988bafe14",
       "IPY_MODEL_9eb118a17da6458f82cc00fae62e4173"
      ],
      "layout": "IPY_MODEL_ddd6647b4d50458080037cdebb93fe26"
     }
    },
    "80e405e0c8514dc682571375d83cdbd5": {
     "model_module": "@jupyter-widgets/controls",
     "model_module_version": "1.5.0",
     "model_name": "HTMLModel",
     "state": {
      "_dom_classes": [],
      "_model_module": "@jupyter-widgets/controls",
      "_model_module_version": "1.5.0",
      "_model_name": "HTMLModel",
      "_view_count": null,
      "_view_module": "@jupyter-widgets/controls",
      "_view_module_version": "1.5.0",
      "_view_name": "HTMLView",
      "description": "",
      "description_tooltip": null,
      "layout": "IPY_MODEL_854cb8044235479985231bdaf7bd3eb1",
      "placeholder": "​",
      "style": "IPY_MODEL_048e29334b5d43098e99560f9340062d",
      "value": "100%"
     }
    },
    "814500a0f3ab41d9b116fdef82d45967": {
     "model_module": "@jupyter-widgets/base",
     "model_module_version": "1.2.0",
     "model_name": "LayoutModel",
     "state": {
      "_model_module": "@jupyter-widgets/base",
      "_model_module_version": "1.2.0",
      "_model_name": "LayoutModel",
      "_view_count": null,
      "_view_module": "@jupyter-widgets/base",
      "_view_module_version": "1.2.0",
      "_view_name": "LayoutView",
      "align_content": null,
      "align_items": null,
      "align_self": null,
      "border": null,
      "bottom": null,
      "display": null,
      "flex": null,
      "flex_flow": null,
      "grid_area": null,
      "grid_auto_columns": null,
      "grid_auto_flow": null,
      "grid_auto_rows": null,
      "grid_column": null,
      "grid_gap": null,
      "grid_row": null,
      "grid_template_areas": null,
      "grid_template_columns": null,
      "grid_template_rows": null,
      "height": null,
      "justify_content": null,
      "justify_items": null,
      "left": null,
      "margin": null,
      "max_height": null,
      "max_width": null,
      "min_height": null,
      "min_width": null,
      "object_fit": null,
      "object_position": null,
      "order": null,
      "overflow": null,
      "overflow_x": null,
      "overflow_y": null,
      "padding": null,
      "right": null,
      "top": null,
      "visibility": null,
      "width": null
     }
    },
    "8203f7c4d79048b8a4df1ad31be9d740": {
     "model_module": "@jupyter-widgets/controls",
     "model_module_version": "1.5.0",
     "model_name": "HTMLModel",
     "state": {
      "_dom_classes": [],
      "_model_module": "@jupyter-widgets/controls",
      "_model_module_version": "1.5.0",
      "_model_name": "HTMLModel",
      "_view_count": null,
      "_view_module": "@jupyter-widgets/controls",
      "_view_module_version": "1.5.0",
      "_view_name": "HTMLView",
      "description": "",
      "description_tooltip": null,
      "layout": "IPY_MODEL_28586f49d36346f0b45e296309c41063",
      "placeholder": "​",
      "style": "IPY_MODEL_2959822f5d3c4964a99de5152c78175d",
      "value": "100%"
     }
    },
    "853a765dbc4a4c4a874217252207fae4": {
     "model_module": "@jupyter-widgets/controls",
     "model_module_version": "1.5.0",
     "model_name": "FloatProgressModel",
     "state": {
      "_dom_classes": [],
      "_model_module": "@jupyter-widgets/controls",
      "_model_module_version": "1.5.0",
      "_model_name": "FloatProgressModel",
      "_view_count": null,
      "_view_module": "@jupyter-widgets/controls",
      "_view_module_version": "1.5.0",
      "_view_name": "ProgressView",
      "bar_style": "success",
      "description": "",
      "description_tooltip": null,
      "layout": "IPY_MODEL_3413e4c30fa8478d99dde8ee40161d0c",
      "max": 8,
      "min": 0,
      "orientation": "horizontal",
      "style": "IPY_MODEL_e9c4e44c3f5c40b189185731dda441bb",
      "value": 8
     }
    },
    "854cb8044235479985231bdaf7bd3eb1": {
     "model_module": "@jupyter-widgets/base",
     "model_module_version": "1.2.0",
     "model_name": "LayoutModel",
     "state": {
      "_model_module": "@jupyter-widgets/base",
      "_model_module_version": "1.2.0",
      "_model_name": "LayoutModel",
      "_view_count": null,
      "_view_module": "@jupyter-widgets/base",
      "_view_module_version": "1.2.0",
      "_view_name": "LayoutView",
      "align_content": null,
      "align_items": null,
      "align_self": null,
      "border": null,
      "bottom": null,
      "display": null,
      "flex": null,
      "flex_flow": null,
      "grid_area": null,
      "grid_auto_columns": null,
      "grid_auto_flow": null,
      "grid_auto_rows": null,
      "grid_column": null,
      "grid_gap": null,
      "grid_row": null,
      "grid_template_areas": null,
      "grid_template_columns": null,
      "grid_template_rows": null,
      "height": null,
      "justify_content": null,
      "justify_items": null,
      "left": null,
      "margin": null,
      "max_height": null,
      "max_width": null,
      "min_height": null,
      "min_width": null,
      "object_fit": null,
      "object_position": null,
      "order": null,
      "overflow": null,
      "overflow_x": null,
      "overflow_y": null,
      "padding": null,
      "right": null,
      "top": null,
      "visibility": null,
      "width": null
     }
    },
    "8f9053b399c548f89c7442c2f4139f97": {
     "model_module": "@jupyter-widgets/controls",
     "model_module_version": "1.5.0",
     "model_name": "HBoxModel",
     "state": {
      "_dom_classes": [],
      "_model_module": "@jupyter-widgets/controls",
      "_model_module_version": "1.5.0",
      "_model_name": "HBoxModel",
      "_view_count": null,
      "_view_module": "@jupyter-widgets/controls",
      "_view_module_version": "1.5.0",
      "_view_name": "HBoxView",
      "box_style": "",
      "children": [
       "IPY_MODEL_8203f7c4d79048b8a4df1ad31be9d740",
       "IPY_MODEL_853a765dbc4a4c4a874217252207fae4",
       "IPY_MODEL_1341acb8faab4daa85668d3490044cbf"
      ],
      "layout": "IPY_MODEL_724394db872e44d1ab7c3115ea94a58f"
     }
    },
    "9d73427e8b924227bb849db24b948080": {
     "model_module": "@jupyter-widgets/base",
     "model_module_version": "1.2.0",
     "model_name": "LayoutModel",
     "state": {
      "_model_module": "@jupyter-widgets/base",
      "_model_module_version": "1.2.0",
      "_model_name": "LayoutModel",
      "_view_count": null,
      "_view_module": "@jupyter-widgets/base",
      "_view_module_version": "1.2.0",
      "_view_name": "LayoutView",
      "align_content": null,
      "align_items": null,
      "align_self": null,
      "border": null,
      "bottom": null,
      "display": null,
      "flex": null,
      "flex_flow": null,
      "grid_area": null,
      "grid_auto_columns": null,
      "grid_auto_flow": null,
      "grid_auto_rows": null,
      "grid_column": null,
      "grid_gap": null,
      "grid_row": null,
      "grid_template_areas": null,
      "grid_template_columns": null,
      "grid_template_rows": null,
      "height": null,
      "justify_content": null,
      "justify_items": null,
      "left": null,
      "margin": null,
      "max_height": null,
      "max_width": null,
      "min_height": null,
      "min_width": null,
      "object_fit": null,
      "object_position": null,
      "order": null,
      "overflow": null,
      "overflow_x": null,
      "overflow_y": null,
      "padding": null,
      "right": null,
      "top": null,
      "visibility": null,
      "width": null
     }
    },
    "9eb118a17da6458f82cc00fae62e4173": {
     "model_module": "@jupyter-widgets/controls",
     "model_module_version": "1.5.0",
     "model_name": "HTMLModel",
     "state": {
      "_dom_classes": [],
      "_model_module": "@jupyter-widgets/controls",
      "_model_module_version": "1.5.0",
      "_model_name": "HTMLModel",
      "_view_count": null,
      "_view_module": "@jupyter-widgets/controls",
      "_view_module_version": "1.5.0",
      "_view_name": "HTMLView",
      "description": "",
      "description_tooltip": null,
      "layout": "IPY_MODEL_c1a3038b2a4e45c580193c92f96530a3",
      "placeholder": "​",
      "style": "IPY_MODEL_63ada1c4689b45a09db9205c772da0b2",
      "value": " 3/3 [00:37&lt;00:00, 12.20s/it]"
     }
    },
    "9ffc41d2a2fc435f9292565a84effc3e": {
     "model_module": "@jupyter-widgets/controls",
     "model_module_version": "1.5.0",
     "model_name": "FloatProgressModel",
     "state": {
      "_dom_classes": [],
      "_model_module": "@jupyter-widgets/controls",
      "_model_module_version": "1.5.0",
      "_model_name": "FloatProgressModel",
      "_view_count": null,
      "_view_module": "@jupyter-widgets/controls",
      "_view_module_version": "1.5.0",
      "_view_name": "ProgressView",
      "bar_style": "success",
      "description": "",
      "description_tooltip": null,
      "layout": "IPY_MODEL_814500a0f3ab41d9b116fdef82d45967",
      "max": 20,
      "min": 0,
      "orientation": "horizontal",
      "style": "IPY_MODEL_dc1de8fb4aa046c88d9d18a54c21c9d0",
      "value": 20
     }
    },
    "a5bddf67dfb848edbe39c37b8e678e22": {
     "model_module": "@jupyter-widgets/controls",
     "model_module_version": "1.5.0",
     "model_name": "DescriptionStyleModel",
     "state": {
      "_model_module": "@jupyter-widgets/controls",
      "_model_module_version": "1.5.0",
      "_model_name": "DescriptionStyleModel",
      "_view_count": null,
      "_view_module": "@jupyter-widgets/base",
      "_view_module_version": "1.2.0",
      "_view_name": "StyleView",
      "description_width": ""
     }
    },
    "a81171f13cb74091a5af77c4b85f7274": {
     "model_module": "@jupyter-widgets/controls",
     "model_module_version": "1.5.0",
     "model_name": "HBoxModel",
     "state": {
      "_dom_classes": [],
      "_model_module": "@jupyter-widgets/controls",
      "_model_module_version": "1.5.0",
      "_model_name": "HBoxModel",
      "_view_count": null,
      "_view_module": "@jupyter-widgets/controls",
      "_view_module_version": "1.5.0",
      "_view_name": "HBoxView",
      "box_style": "",
      "children": [
       "IPY_MODEL_37e2f8d8427947c392718a396f7faf80",
       "IPY_MODEL_24e65c8f4964466889a5519e51416edf",
       "IPY_MODEL_3196515898d346aeaefdb6a2cdfff9f5"
      ],
      "layout": "IPY_MODEL_1a03192765714427a591405203e1e4fb"
     }
    },
    "ba5ea74ff86346509d30ed32f5c8adcc": {
     "model_module": "@jupyter-widgets/controls",
     "model_module_version": "1.5.0",
     "model_name": "ProgressStyleModel",
     "state": {
      "_model_module": "@jupyter-widgets/controls",
      "_model_module_version": "1.5.0",
      "_model_name": "ProgressStyleModel",
      "_view_count": null,
      "_view_module": "@jupyter-widgets/base",
      "_view_module_version": "1.2.0",
      "_view_name": "StyleView",
      "bar_color": null,
      "description_width": ""
     }
    },
    "c1a3038b2a4e45c580193c92f96530a3": {
     "model_module": "@jupyter-widgets/base",
     "model_module_version": "1.2.0",
     "model_name": "LayoutModel",
     "state": {
      "_model_module": "@jupyter-widgets/base",
      "_model_module_version": "1.2.0",
      "_model_name": "LayoutModel",
      "_view_count": null,
      "_view_module": "@jupyter-widgets/base",
      "_view_module_version": "1.2.0",
      "_view_name": "LayoutView",
      "align_content": null,
      "align_items": null,
      "align_self": null,
      "border": null,
      "bottom": null,
      "display": null,
      "flex": null,
      "flex_flow": null,
      "grid_area": null,
      "grid_auto_columns": null,
      "grid_auto_flow": null,
      "grid_auto_rows": null,
      "grid_column": null,
      "grid_gap": null,
      "grid_row": null,
      "grid_template_areas": null,
      "grid_template_columns": null,
      "grid_template_rows": null,
      "height": null,
      "justify_content": null,
      "justify_items": null,
      "left": null,
      "margin": null,
      "max_height": null,
      "max_width": null,
      "min_height": null,
      "min_width": null,
      "object_fit": null,
      "object_position": null,
      "order": null,
      "overflow": null,
      "overflow_x": null,
      "overflow_y": null,
      "padding": null,
      "right": null,
      "top": null,
      "visibility": null,
      "width": null
     }
    },
    "c367c0a0cfa64c51b03301b6f48f400a": {
     "model_module": "@jupyter-widgets/controls",
     "model_module_version": "1.5.0",
     "model_name": "DescriptionStyleModel",
     "state": {
      "_model_module": "@jupyter-widgets/controls",
      "_model_module_version": "1.5.0",
      "_model_name": "DescriptionStyleModel",
      "_view_count": null,
      "_view_module": "@jupyter-widgets/base",
      "_view_module_version": "1.2.0",
      "_view_name": "StyleView",
      "description_width": ""
     }
    },
    "c3bf477b5c3848dfbbe9cc7657f14239": {
     "model_module": "@jupyter-widgets/base",
     "model_module_version": "1.2.0",
     "model_name": "LayoutModel",
     "state": {
      "_model_module": "@jupyter-widgets/base",
      "_model_module_version": "1.2.0",
      "_model_name": "LayoutModel",
      "_view_count": null,
      "_view_module": "@jupyter-widgets/base",
      "_view_module_version": "1.2.0",
      "_view_name": "LayoutView",
      "align_content": null,
      "align_items": null,
      "align_self": null,
      "border": null,
      "bottom": null,
      "display": null,
      "flex": null,
      "flex_flow": null,
      "grid_area": null,
      "grid_auto_columns": null,
      "grid_auto_flow": null,
      "grid_auto_rows": null,
      "grid_column": null,
      "grid_gap": null,
      "grid_row": null,
      "grid_template_areas": null,
      "grid_template_columns": null,
      "grid_template_rows": null,
      "height": null,
      "justify_content": null,
      "justify_items": null,
      "left": null,
      "margin": null,
      "max_height": null,
      "max_width": null,
      "min_height": null,
      "min_width": null,
      "object_fit": null,
      "object_position": null,
      "order": null,
      "overflow": null,
      "overflow_x": null,
      "overflow_y": null,
      "padding": null,
      "right": null,
      "top": null,
      "visibility": null,
      "width": null
     }
    },
    "c7db01d9f33046229bd67ca988bafe14": {
     "model_module": "@jupyter-widgets/controls",
     "model_module_version": "1.5.0",
     "model_name": "FloatProgressModel",
     "state": {
      "_dom_classes": [],
      "_model_module": "@jupyter-widgets/controls",
      "_model_module_version": "1.5.0",
      "_model_name": "FloatProgressModel",
      "_view_count": null,
      "_view_module": "@jupyter-widgets/controls",
      "_view_module_version": "1.5.0",
      "_view_name": "ProgressView",
      "bar_style": "success",
      "description": "",
      "description_tooltip": null,
      "layout": "IPY_MODEL_c3bf477b5c3848dfbbe9cc7657f14239",
      "max": 3,
      "min": 0,
      "orientation": "horizontal",
      "style": "IPY_MODEL_ba5ea74ff86346509d30ed32f5c8adcc",
      "value": 3
     }
    },
    "c898aef73cc744c5bfd2147ef312259b": {
     "model_module": "@jupyter-widgets/controls",
     "model_module_version": "1.5.0",
     "model_name": "DescriptionStyleModel",
     "state": {
      "_model_module": "@jupyter-widgets/controls",
      "_model_module_version": "1.5.0",
      "_model_name": "DescriptionStyleModel",
      "_view_count": null,
      "_view_module": "@jupyter-widgets/base",
      "_view_module_version": "1.2.0",
      "_view_name": "StyleView",
      "description_width": ""
     }
    },
    "d0794b35c5a74f95963f6d9c4e07abc6": {
     "model_module": "@jupyter-widgets/base",
     "model_module_version": "1.2.0",
     "model_name": "LayoutModel",
     "state": {
      "_model_module": "@jupyter-widgets/base",
      "_model_module_version": "1.2.0",
      "_model_name": "LayoutModel",
      "_view_count": null,
      "_view_module": "@jupyter-widgets/base",
      "_view_module_version": "1.2.0",
      "_view_name": "LayoutView",
      "align_content": null,
      "align_items": null,
      "align_self": null,
      "border": null,
      "bottom": null,
      "display": null,
      "flex": null,
      "flex_flow": null,
      "grid_area": null,
      "grid_auto_columns": null,
      "grid_auto_flow": null,
      "grid_auto_rows": null,
      "grid_column": null,
      "grid_gap": null,
      "grid_row": null,
      "grid_template_areas": null,
      "grid_template_columns": null,
      "grid_template_rows": null,
      "height": null,
      "justify_content": null,
      "justify_items": null,
      "left": null,
      "margin": null,
      "max_height": null,
      "max_width": null,
      "min_height": null,
      "min_width": null,
      "object_fit": null,
      "object_position": null,
      "order": null,
      "overflow": null,
      "overflow_x": null,
      "overflow_y": null,
      "padding": null,
      "right": null,
      "top": null,
      "visibility": null,
      "width": null
     }
    },
    "dc1de8fb4aa046c88d9d18a54c21c9d0": {
     "model_module": "@jupyter-widgets/controls",
     "model_module_version": "1.5.0",
     "model_name": "ProgressStyleModel",
     "state": {
      "_model_module": "@jupyter-widgets/controls",
      "_model_module_version": "1.5.0",
      "_model_name": "ProgressStyleModel",
      "_view_count": null,
      "_view_module": "@jupyter-widgets/base",
      "_view_module_version": "1.2.0",
      "_view_name": "StyleView",
      "bar_color": null,
      "description_width": ""
     }
    },
    "ddd6647b4d50458080037cdebb93fe26": {
     "model_module": "@jupyter-widgets/base",
     "model_module_version": "1.2.0",
     "model_name": "LayoutModel",
     "state": {
      "_model_module": "@jupyter-widgets/base",
      "_model_module_version": "1.2.0",
      "_model_name": "LayoutModel",
      "_view_count": null,
      "_view_module": "@jupyter-widgets/base",
      "_view_module_version": "1.2.0",
      "_view_name": "LayoutView",
      "align_content": null,
      "align_items": null,
      "align_self": null,
      "border": null,
      "bottom": null,
      "display": null,
      "flex": null,
      "flex_flow": null,
      "grid_area": null,
      "grid_auto_columns": null,
      "grid_auto_flow": null,
      "grid_auto_rows": null,
      "grid_column": null,
      "grid_gap": null,
      "grid_row": null,
      "grid_template_areas": null,
      "grid_template_columns": null,
      "grid_template_rows": null,
      "height": null,
      "justify_content": null,
      "justify_items": null,
      "left": null,
      "margin": null,
      "max_height": null,
      "max_width": null,
      "min_height": null,
      "min_width": null,
      "object_fit": null,
      "object_position": null,
      "order": null,
      "overflow": null,
      "overflow_x": null,
      "overflow_y": null,
      "padding": null,
      "right": null,
      "top": null,
      "visibility": null,
      "width": null
     }
    },
    "e2650653220d4fa8895edc7c068895b9": {
     "model_module": "@jupyter-widgets/controls",
     "model_module_version": "1.5.0",
     "model_name": "DescriptionStyleModel",
     "state": {
      "_model_module": "@jupyter-widgets/controls",
      "_model_module_version": "1.5.0",
      "_model_name": "DescriptionStyleModel",
      "_view_count": null,
      "_view_module": "@jupyter-widgets/base",
      "_view_module_version": "1.2.0",
      "_view_name": "StyleView",
      "description_width": ""
     }
    },
    "e9c4e44c3f5c40b189185731dda441bb": {
     "model_module": "@jupyter-widgets/controls",
     "model_module_version": "1.5.0",
     "model_name": "ProgressStyleModel",
     "state": {
      "_model_module": "@jupyter-widgets/controls",
      "_model_module_version": "1.5.0",
      "_model_name": "ProgressStyleModel",
      "_view_count": null,
      "_view_module": "@jupyter-widgets/base",
      "_view_module_version": "1.2.0",
      "_view_name": "StyleView",
      "bar_color": null,
      "description_width": ""
     }
    }
   }
  }
 },
 "nbformat": 4,
 "nbformat_minor": 1
}
