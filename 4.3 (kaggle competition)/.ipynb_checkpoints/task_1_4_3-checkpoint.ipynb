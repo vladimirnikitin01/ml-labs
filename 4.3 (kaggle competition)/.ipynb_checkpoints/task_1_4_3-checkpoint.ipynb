{
 "cells": [
  {
   "cell_type": "code",
   "execution_count": 1,
   "metadata": {
    "colab": {
     "base_uri": "https://localhost:8080/"
    },
    "id": "Ok1-hGjZeliL",
    "outputId": "2b67fdd5-c4c4-4ea9-e307-71db922a1abc"
   },
   "outputs": [
    {
     "name": "stdout",
     "output_type": "stream",
     "text": [
      "Collecting catboost\n",
      "  Downloading catboost-1.0.4-cp37-none-manylinux1_x86_64.whl (76.1 MB)\n",
      "\u001b[K     |████████████████████████████████| 76.1 MB 1.2 MB/s \n",
      "\u001b[?25hRequirement already satisfied: plotly in /usr/local/lib/python3.7/dist-packages (from catboost) (5.5.0)\n",
      "Requirement already satisfied: scipy in /usr/local/lib/python3.7/dist-packages (from catboost) (1.4.1)\n",
      "Requirement already satisfied: matplotlib in /usr/local/lib/python3.7/dist-packages (from catboost) (3.2.2)\n",
      "Requirement already satisfied: pandas>=0.24.0 in /usr/local/lib/python3.7/dist-packages (from catboost) (1.3.5)\n",
      "Requirement already satisfied: six in /usr/local/lib/python3.7/dist-packages (from catboost) (1.15.0)\n",
      "Requirement already satisfied: numpy>=1.16.0 in /usr/local/lib/python3.7/dist-packages (from catboost) (1.21.5)\n",
      "Requirement already satisfied: graphviz in /usr/local/lib/python3.7/dist-packages (from catboost) (0.10.1)\n",
      "Requirement already satisfied: python-dateutil>=2.7.3 in /usr/local/lib/python3.7/dist-packages (from pandas>=0.24.0->catboost) (2.8.2)\n",
      "Requirement already satisfied: pytz>=2017.3 in /usr/local/lib/python3.7/dist-packages (from pandas>=0.24.0->catboost) (2018.9)\n",
      "Requirement already satisfied: pyparsing!=2.0.4,!=2.1.2,!=2.1.6,>=2.0.1 in /usr/local/lib/python3.7/dist-packages (from matplotlib->catboost) (3.0.7)\n",
      "Requirement already satisfied: kiwisolver>=1.0.1 in /usr/local/lib/python3.7/dist-packages (from matplotlib->catboost) (1.3.2)\n",
      "Requirement already satisfied: cycler>=0.10 in /usr/local/lib/python3.7/dist-packages (from matplotlib->catboost) (0.11.0)\n",
      "Requirement already satisfied: tenacity>=6.2.0 in /usr/local/lib/python3.7/dist-packages (from plotly->catboost) (8.0.1)\n",
      "Installing collected packages: catboost\n",
      "Successfully installed catboost-1.0.4\n"
     ]
    }
   ],
   "source": [
    "!pip install catboost"
   ]
  },
  {
   "cell_type": "code",
   "execution_count": 2,
   "metadata": {
    "id": "RE2904qSbqPe"
   },
   "outputs": [],
   "source": [
    "import numpy as np\n",
    "import pandas as pd\n",
    "from sklearn.model_selection import train_test_split,GridSearchCV\n",
    "from sklearn.ensemble import RandomForestRegressor\n",
    "from sklearn.feature_selection import SelectKBest,f_regression\n",
    "import warnings\n",
    "import matplotlib.pyplot as plt\n",
    "warnings.filterwarnings(\"ignore\")\n",
    "import seaborn as sns\n",
    "from tqdm.notebook import tqdm\n",
    "sns.set(style='whitegrid', font_scale=1.3, palette='Set2')\n",
    "\n",
    "from sklearn.model_selection import train_test_split\n",
    "from sklearn.model_selection import ShuffleSplit\n",
    "from sklearn.model_selection import StratifiedKFold\n",
    "from sklearn.model_selection import GridSearchCV\n",
    "from sklearn.model_selection import RandomizedSearchCV\n",
    "from sklearn.metrics import accuracy_score\n",
    "\n",
    "import xgboost as xgb\n",
    "from xgboost import XGBRegressor, XGBClassifier, DMatrix\n",
    "from lightgbm import LGBMRegressor\n",
    "from catboost import CatBoostRegressor,Pool\n",
    "from catboost import Pool, cv\n",
    "\n",
    "from sklearn.ensemble import RandomForestRegressor,GradientBoostingRegressor\n",
    "from sklearn.ensemble import BaggingRegressor\n",
    "from sklearn.tree import DecisionTreeRegressor\n",
    "from sklearn.linear_model import Ridge, LinearRegression\n",
    "from sklearn.model_selection import RandomizedSearchCV\n",
    "from sklearn.model_selection import train_test_split\n",
    "from sklearn.model_selection import cross_val_score\n",
    "from sklearn.metrics import accuracy_score\n",
    "from sklearn.datasets import fetch_california_housing\n",
    "from sklearn.metrics import mean_absolute_percentage_error as mape\n",
    "from sklearn.utils import shuffle"
   ]
  },
  {
   "cell_type": "markdown",
   "metadata": {
    "id": "6wz5p2CvbqPp"
   },
   "source": [
    "---\n",
    "\n",
    "## Соревнование 1.4.3\n",
    "\n",
    "В файле `houses_train.csv` представлен набор данных про квартиры в городе Сиэтл, штат Вашингтон. Задача — предсказать цену на жилье по имеющимся данным.\n",
    "\n",
    "Данные имеют следующие столбцы.\n",
    "\n",
    "- `id` — идентификационный номер жилья\n",
    "- `date` — дата продажи дома\n",
    "- `price` — цена\n",
    "- `bedrooms` — количество спален\n",
    "- `bathrooms` — количество ванных комнат, где .5 означает комнату с туалетом, но без душа\n",
    "- `sqft_living` — площадь жилья\n",
    "- `sqft_lot` — площадь участка\n",
    "- `floors` — количество этажей\n",
    "- `waterfront` — видна ли набережная\n",
    "- `view` — насколько хороший вид\n",
    "- `condition` — индекс от 1 от 5, отвечающий за состояние квартиры\n",
    "- `grade` — 1 до 13, 1-3 соответствует плохому уровню строительства и дизайна, 3-7 — средний уровень, 11-13 — высокий.\n",
    "- `sqft_above` — жилая площадь над уровнем земли\n",
    "- `sqft_basement` — жилая площадь под уровнем земли\n",
    "- `yr_built` — год постройки жилья\n",
    "- `yr_renovated` — год последней реконструкции жилья\n",
    "- `zipcode` — почтовый индекс\n",
    "- `lat` — широта\n",
    "- `long` — долгота\n",
    "- `sqft_living15` — средняя площадь жилья ближайших 15-и соседей\n",
    "- `sqft_lot15` — средняя площадь участка ближайших 15-и соседей\n"
   ]
  },
  {
   "cell_type": "code",
   "execution_count": 3,
   "metadata": {
    "colab": {
     "base_uri": "https://localhost:8080/"
    },
    "id": "amspne_CePcw",
    "outputId": "e411a6fb-8c1c-49dc-d5f8-d018d98d35fe"
   },
   "outputs": [
    {
     "name": "stdout",
     "output_type": "stream",
     "text": [
      "Mounted at /content/drive\n"
     ]
    }
   ],
   "source": [
    "from google.colab import drive\n",
    "drive.mount('/content/drive')"
   ]
  },
  {
   "cell_type": "code",
   "execution_count": 4,
   "metadata": {
    "colab": {
     "base_uri": "https://localhost:8080/",
     "height": 487
    },
    "id": "rPxecjgLbqPt",
    "outputId": "b5c840c8-7e2e-4012-c822-1477cffe2356"
   },
   "outputs": [
    {
     "data": {
      "text/html": [
       "\n",
       "  <div id=\"df-37e2bda6-d49e-4561-9a4d-112229bfb492\">\n",
       "    <div class=\"colab-df-container\">\n",
       "      <div>\n",
       "<style scoped>\n",
       "    .dataframe tbody tr th:only-of-type {\n",
       "        vertical-align: middle;\n",
       "    }\n",
       "\n",
       "    .dataframe tbody tr th {\n",
       "        vertical-align: top;\n",
       "    }\n",
       "\n",
       "    .dataframe thead th {\n",
       "        text-align: right;\n",
       "    }\n",
       "</style>\n",
       "<table border=\"1\" class=\"dataframe\">\n",
       "  <thead>\n",
       "    <tr style=\"text-align: right;\">\n",
       "      <th></th>\n",
       "      <th>id</th>\n",
       "      <th>date</th>\n",
       "      <th>price</th>\n",
       "      <th>bedrooms</th>\n",
       "      <th>bathrooms</th>\n",
       "      <th>sqft_living</th>\n",
       "      <th>sqft_lot</th>\n",
       "      <th>floors</th>\n",
       "      <th>waterfront</th>\n",
       "      <th>view</th>\n",
       "      <th>...</th>\n",
       "      <th>grade</th>\n",
       "      <th>sqft_above</th>\n",
       "      <th>sqft_basement</th>\n",
       "      <th>yr_built</th>\n",
       "      <th>yr_renovated</th>\n",
       "      <th>zipcode</th>\n",
       "      <th>lat</th>\n",
       "      <th>long</th>\n",
       "      <th>sqft_living15</th>\n",
       "      <th>sqft_lot15</th>\n",
       "    </tr>\n",
       "  </thead>\n",
       "  <tbody>\n",
       "    <tr>\n",
       "      <th>0</th>\n",
       "      <td>3392</td>\n",
       "      <td>20151013T000000</td>\n",
       "      <td>221900.0</td>\n",
       "      <td>3</td>\n",
       "      <td>1.00</td>\n",
       "      <td>1180</td>\n",
       "      <td>5650</td>\n",
       "      <td>1.0</td>\n",
       "      <td>0</td>\n",
       "      <td>0</td>\n",
       "      <td>...</td>\n",
       "      <td>7</td>\n",
       "      <td>1180</td>\n",
       "      <td>0</td>\n",
       "      <td>1955</td>\n",
       "      <td>0</td>\n",
       "      <td>98178</td>\n",
       "      <td>47.5112</td>\n",
       "      <td>-122.257</td>\n",
       "      <td>1340</td>\n",
       "      <td>5650</td>\n",
       "    </tr>\n",
       "    <tr>\n",
       "      <th>1</th>\n",
       "      <td>18295</td>\n",
       "      <td>20151209T000000</td>\n",
       "      <td>538000.0</td>\n",
       "      <td>3</td>\n",
       "      <td>2.25</td>\n",
       "      <td>2570</td>\n",
       "      <td>7242</td>\n",
       "      <td>2.0</td>\n",
       "      <td>0</td>\n",
       "      <td>0</td>\n",
       "      <td>...</td>\n",
       "      <td>7</td>\n",
       "      <td>2170</td>\n",
       "      <td>400</td>\n",
       "      <td>1951</td>\n",
       "      <td>1991</td>\n",
       "      <td>98125</td>\n",
       "      <td>47.7210</td>\n",
       "      <td>-122.319</td>\n",
       "      <td>1690</td>\n",
       "      <td>7639</td>\n",
       "    </tr>\n",
       "    <tr>\n",
       "      <th>2</th>\n",
       "      <td>14569</td>\n",
       "      <td>20151209T000000</td>\n",
       "      <td>604000.0</td>\n",
       "      <td>4</td>\n",
       "      <td>3.00</td>\n",
       "      <td>1960</td>\n",
       "      <td>5000</td>\n",
       "      <td>1.0</td>\n",
       "      <td>0</td>\n",
       "      <td>0</td>\n",
       "      <td>...</td>\n",
       "      <td>7</td>\n",
       "      <td>1050</td>\n",
       "      <td>910</td>\n",
       "      <td>1965</td>\n",
       "      <td>0</td>\n",
       "      <td>98136</td>\n",
       "      <td>47.5208</td>\n",
       "      <td>-122.393</td>\n",
       "      <td>1360</td>\n",
       "      <td>5000</td>\n",
       "    </tr>\n",
       "    <tr>\n",
       "      <th>3</th>\n",
       "      <td>14081</td>\n",
       "      <td>20160218T000000</td>\n",
       "      <td>510000.0</td>\n",
       "      <td>3</td>\n",
       "      <td>2.00</td>\n",
       "      <td>1680</td>\n",
       "      <td>8080</td>\n",
       "      <td>1.0</td>\n",
       "      <td>0</td>\n",
       "      <td>0</td>\n",
       "      <td>...</td>\n",
       "      <td>8</td>\n",
       "      <td>1680</td>\n",
       "      <td>0</td>\n",
       "      <td>1987</td>\n",
       "      <td>0</td>\n",
       "      <td>98074</td>\n",
       "      <td>47.6168</td>\n",
       "      <td>-122.045</td>\n",
       "      <td>1800</td>\n",
       "      <td>7503</td>\n",
       "    </tr>\n",
       "    <tr>\n",
       "      <th>4</th>\n",
       "      <td>6725</td>\n",
       "      <td>20150627T000000</td>\n",
       "      <td>257500.0</td>\n",
       "      <td>3</td>\n",
       "      <td>2.25</td>\n",
       "      <td>1715</td>\n",
       "      <td>6819</td>\n",
       "      <td>2.0</td>\n",
       "      <td>0</td>\n",
       "      <td>0</td>\n",
       "      <td>...</td>\n",
       "      <td>7</td>\n",
       "      <td>1715</td>\n",
       "      <td>0</td>\n",
       "      <td>1995</td>\n",
       "      <td>0</td>\n",
       "      <td>98003</td>\n",
       "      <td>47.3097</td>\n",
       "      <td>-122.327</td>\n",
       "      <td>2238</td>\n",
       "      <td>6819</td>\n",
       "    </tr>\n",
       "    <tr>\n",
       "      <th>...</th>\n",
       "      <td>...</td>\n",
       "      <td>...</td>\n",
       "      <td>...</td>\n",
       "      <td>...</td>\n",
       "      <td>...</td>\n",
       "      <td>...</td>\n",
       "      <td>...</td>\n",
       "      <td>...</td>\n",
       "      <td>...</td>\n",
       "      <td>...</td>\n",
       "      <td>...</td>\n",
       "      <td>...</td>\n",
       "      <td>...</td>\n",
       "      <td>...</td>\n",
       "      <td>...</td>\n",
       "      <td>...</td>\n",
       "      <td>...</td>\n",
       "      <td>...</td>\n",
       "      <td>...</td>\n",
       "      <td>...</td>\n",
       "      <td>...</td>\n",
       "    </tr>\n",
       "    <tr>\n",
       "      <th>15621</th>\n",
       "      <td>20922</td>\n",
       "      <td>20160126T000000</td>\n",
       "      <td>429000.0</td>\n",
       "      <td>3</td>\n",
       "      <td>2.00</td>\n",
       "      <td>1490</td>\n",
       "      <td>1126</td>\n",
       "      <td>3.0</td>\n",
       "      <td>0</td>\n",
       "      <td>0</td>\n",
       "      <td>...</td>\n",
       "      <td>8</td>\n",
       "      <td>1490</td>\n",
       "      <td>0</td>\n",
       "      <td>2014</td>\n",
       "      <td>0</td>\n",
       "      <td>98144</td>\n",
       "      <td>47.5699</td>\n",
       "      <td>-122.288</td>\n",
       "      <td>1400</td>\n",
       "      <td>1230</td>\n",
       "    </tr>\n",
       "    <tr>\n",
       "      <th>15622</th>\n",
       "      <td>13963</td>\n",
       "      <td>20151014T000000</td>\n",
       "      <td>610685.0</td>\n",
       "      <td>4</td>\n",
       "      <td>2.50</td>\n",
       "      <td>2520</td>\n",
       "      <td>6023</td>\n",
       "      <td>2.0</td>\n",
       "      <td>0</td>\n",
       "      <td>0</td>\n",
       "      <td>...</td>\n",
       "      <td>9</td>\n",
       "      <td>2520</td>\n",
       "      <td>0</td>\n",
       "      <td>2014</td>\n",
       "      <td>0</td>\n",
       "      <td>98056</td>\n",
       "      <td>47.5137</td>\n",
       "      <td>-122.167</td>\n",
       "      <td>2520</td>\n",
       "      <td>6023</td>\n",
       "    </tr>\n",
       "    <tr>\n",
       "      <th>15623</th>\n",
       "      <td>9850</td>\n",
       "      <td>20150521T000000</td>\n",
       "      <td>360000.0</td>\n",
       "      <td>3</td>\n",
       "      <td>2.50</td>\n",
       "      <td>1530</td>\n",
       "      <td>1131</td>\n",
       "      <td>3.0</td>\n",
       "      <td>0</td>\n",
       "      <td>0</td>\n",
       "      <td>...</td>\n",
       "      <td>8</td>\n",
       "      <td>1530</td>\n",
       "      <td>0</td>\n",
       "      <td>2009</td>\n",
       "      <td>0</td>\n",
       "      <td>98103</td>\n",
       "      <td>47.6993</td>\n",
       "      <td>-122.346</td>\n",
       "      <td>1530</td>\n",
       "      <td>1509</td>\n",
       "    </tr>\n",
       "    <tr>\n",
       "      <th>15624</th>\n",
       "      <td>13975</td>\n",
       "      <td>20160223T000000</td>\n",
       "      <td>400000.0</td>\n",
       "      <td>4</td>\n",
       "      <td>2.50</td>\n",
       "      <td>2310</td>\n",
       "      <td>5813</td>\n",
       "      <td>2.0</td>\n",
       "      <td>0</td>\n",
       "      <td>0</td>\n",
       "      <td>...</td>\n",
       "      <td>8</td>\n",
       "      <td>2310</td>\n",
       "      <td>0</td>\n",
       "      <td>2014</td>\n",
       "      <td>0</td>\n",
       "      <td>98146</td>\n",
       "      <td>47.5107</td>\n",
       "      <td>-122.362</td>\n",
       "      <td>1830</td>\n",
       "      <td>7200</td>\n",
       "    </tr>\n",
       "    <tr>\n",
       "      <th>15625</th>\n",
       "      <td>16085</td>\n",
       "      <td>20151015T000000</td>\n",
       "      <td>325000.0</td>\n",
       "      <td>2</td>\n",
       "      <td>0.75</td>\n",
       "      <td>1020</td>\n",
       "      <td>1076</td>\n",
       "      <td>2.0</td>\n",
       "      <td>0</td>\n",
       "      <td>0</td>\n",
       "      <td>...</td>\n",
       "      <td>7</td>\n",
       "      <td>1020</td>\n",
       "      <td>0</td>\n",
       "      <td>2008</td>\n",
       "      <td>0</td>\n",
       "      <td>98144</td>\n",
       "      <td>47.5941</td>\n",
       "      <td>-122.299</td>\n",
       "      <td>1020</td>\n",
       "      <td>1357</td>\n",
       "    </tr>\n",
       "  </tbody>\n",
       "</table>\n",
       "<p>15626 rows × 21 columns</p>\n",
       "</div>\n",
       "      <button class=\"colab-df-convert\" onclick=\"convertToInteractive('df-37e2bda6-d49e-4561-9a4d-112229bfb492')\"\n",
       "              title=\"Convert this dataframe to an interactive table.\"\n",
       "              style=\"display:none;\">\n",
       "        \n",
       "  <svg xmlns=\"http://www.w3.org/2000/svg\" height=\"24px\"viewBox=\"0 0 24 24\"\n",
       "       width=\"24px\">\n",
       "    <path d=\"M0 0h24v24H0V0z\" fill=\"none\"/>\n",
       "    <path d=\"M18.56 5.44l.94 2.06.94-2.06 2.06-.94-2.06-.94-.94-2.06-.94 2.06-2.06.94zm-11 1L8.5 8.5l.94-2.06 2.06-.94-2.06-.94L8.5 2.5l-.94 2.06-2.06.94zm10 10l.94 2.06.94-2.06 2.06-.94-2.06-.94-.94-2.06-.94 2.06-2.06.94z\"/><path d=\"M17.41 7.96l-1.37-1.37c-.4-.4-.92-.59-1.43-.59-.52 0-1.04.2-1.43.59L10.3 9.45l-7.72 7.72c-.78.78-.78 2.05 0 2.83L4 21.41c.39.39.9.59 1.41.59.51 0 1.02-.2 1.41-.59l7.78-7.78 2.81-2.81c.8-.78.8-2.07 0-2.86zM5.41 20L4 18.59l7.72-7.72 1.47 1.35L5.41 20z\"/>\n",
       "  </svg>\n",
       "      </button>\n",
       "      \n",
       "  <style>\n",
       "    .colab-df-container {\n",
       "      display:flex;\n",
       "      flex-wrap:wrap;\n",
       "      gap: 12px;\n",
       "    }\n",
       "\n",
       "    .colab-df-convert {\n",
       "      background-color: #E8F0FE;\n",
       "      border: none;\n",
       "      border-radius: 50%;\n",
       "      cursor: pointer;\n",
       "      display: none;\n",
       "      fill: #1967D2;\n",
       "      height: 32px;\n",
       "      padding: 0 0 0 0;\n",
       "      width: 32px;\n",
       "    }\n",
       "\n",
       "    .colab-df-convert:hover {\n",
       "      background-color: #E2EBFA;\n",
       "      box-shadow: 0px 1px 2px rgba(60, 64, 67, 0.3), 0px 1px 3px 1px rgba(60, 64, 67, 0.15);\n",
       "      fill: #174EA6;\n",
       "    }\n",
       "\n",
       "    [theme=dark] .colab-df-convert {\n",
       "      background-color: #3B4455;\n",
       "      fill: #D2E3FC;\n",
       "    }\n",
       "\n",
       "    [theme=dark] .colab-df-convert:hover {\n",
       "      background-color: #434B5C;\n",
       "      box-shadow: 0px 1px 3px 1px rgba(0, 0, 0, 0.15);\n",
       "      filter: drop-shadow(0px 1px 2px rgba(0, 0, 0, 0.3));\n",
       "      fill: #FFFFFF;\n",
       "    }\n",
       "  </style>\n",
       "\n",
       "      <script>\n",
       "        const buttonEl =\n",
       "          document.querySelector('#df-37e2bda6-d49e-4561-9a4d-112229bfb492 button.colab-df-convert');\n",
       "        buttonEl.style.display =\n",
       "          google.colab.kernel.accessAllowed ? 'block' : 'none';\n",
       "\n",
       "        async function convertToInteractive(key) {\n",
       "          const element = document.querySelector('#df-37e2bda6-d49e-4561-9a4d-112229bfb492');\n",
       "          const dataTable =\n",
       "            await google.colab.kernel.invokeFunction('convertToInteractive',\n",
       "                                                     [key], {});\n",
       "          if (!dataTable) return;\n",
       "\n",
       "          const docLinkHtml = 'Like what you see? Visit the ' +\n",
       "            '<a target=\"_blank\" href=https://colab.research.google.com/notebooks/data_table.ipynb>data table notebook</a>'\n",
       "            + ' to learn more about interactive tables.';\n",
       "          element.innerHTML = '';\n",
       "          dataTable['output_type'] = 'display_data';\n",
       "          await google.colab.output.renderOutput(dataTable, element);\n",
       "          const docLink = document.createElement('div');\n",
       "          docLink.innerHTML = docLinkHtml;\n",
       "          element.appendChild(docLink);\n",
       "        }\n",
       "      </script>\n",
       "    </div>\n",
       "  </div>\n",
       "  "
      ],
      "text/plain": [
       "          id             date     price  bedrooms  bathrooms  sqft_living  \\\n",
       "0       3392  20151013T000000  221900.0         3       1.00         1180   \n",
       "1      18295  20151209T000000  538000.0         3       2.25         2570   \n",
       "2      14569  20151209T000000  604000.0         4       3.00         1960   \n",
       "3      14081  20160218T000000  510000.0         3       2.00         1680   \n",
       "4       6725  20150627T000000  257500.0         3       2.25         1715   \n",
       "...      ...              ...       ...       ...        ...          ...   \n",
       "15621  20922  20160126T000000  429000.0         3       2.00         1490   \n",
       "15622  13963  20151014T000000  610685.0         4       2.50         2520   \n",
       "15623   9850  20150521T000000  360000.0         3       2.50         1530   \n",
       "15624  13975  20160223T000000  400000.0         4       2.50         2310   \n",
       "15625  16085  20151015T000000  325000.0         2       0.75         1020   \n",
       "\n",
       "       sqft_lot  floors  waterfront  view  ...  grade  sqft_above  \\\n",
       "0          5650     1.0           0     0  ...      7        1180   \n",
       "1          7242     2.0           0     0  ...      7        2170   \n",
       "2          5000     1.0           0     0  ...      7        1050   \n",
       "3          8080     1.0           0     0  ...      8        1680   \n",
       "4          6819     2.0           0     0  ...      7        1715   \n",
       "...         ...     ...         ...   ...  ...    ...         ...   \n",
       "15621      1126     3.0           0     0  ...      8        1490   \n",
       "15622      6023     2.0           0     0  ...      9        2520   \n",
       "15623      1131     3.0           0     0  ...      8        1530   \n",
       "15624      5813     2.0           0     0  ...      8        2310   \n",
       "15625      1076     2.0           0     0  ...      7        1020   \n",
       "\n",
       "       sqft_basement  yr_built  yr_renovated  zipcode      lat     long  \\\n",
       "0                  0      1955             0    98178  47.5112 -122.257   \n",
       "1                400      1951          1991    98125  47.7210 -122.319   \n",
       "2                910      1965             0    98136  47.5208 -122.393   \n",
       "3                  0      1987             0    98074  47.6168 -122.045   \n",
       "4                  0      1995             0    98003  47.3097 -122.327   \n",
       "...              ...       ...           ...      ...      ...      ...   \n",
       "15621              0      2014             0    98144  47.5699 -122.288   \n",
       "15622              0      2014             0    98056  47.5137 -122.167   \n",
       "15623              0      2009             0    98103  47.6993 -122.346   \n",
       "15624              0      2014             0    98146  47.5107 -122.362   \n",
       "15625              0      2008             0    98144  47.5941 -122.299   \n",
       "\n",
       "       sqft_living15  sqft_lot15  \n",
       "0               1340        5650  \n",
       "1               1690        7639  \n",
       "2               1360        5000  \n",
       "3               1800        7503  \n",
       "4               2238        6819  \n",
       "...              ...         ...  \n",
       "15621           1400        1230  \n",
       "15622           2520        6023  \n",
       "15623           1530        1509  \n",
       "15624           1830        7200  \n",
       "15625           1020        1357  \n",
       "\n",
       "[15626 rows x 21 columns]"
      ]
     },
     "execution_count": 4,
     "metadata": {},
     "output_type": "execute_result"
    }
   ],
   "source": [
    "data = pd.read_csv('/content/drive/MyDrive/Colab Notebooks/DS/ML/4.3 ДЗ/houses_train.csv')\n",
    "data"
   ]
  },
  {
   "cell_type": "markdown",
   "metadata": {
    "id": "G_SceGDWbqPv"
   },
   "source": [
    "### Генерация признаков"
   ]
  },
  {
   "cell_type": "markdown",
   "metadata": {
    "id": "hVx8M2-tbqPw"
   },
   "source": [
    "Вспомните советы про признаки с типом \"время\" и сгенерируйте признак, производный от (`yr_built` или `yr_renovated`) и `date`."
   ]
  },
  {
   "cell_type": "markdown",
   "metadata": {
    "id": "CuBUJ16gbqPx"
   },
   "source": [
    "Нам надо будет создать признак, который будет обозначать время между date and (yr_built, yr_renovated). То есть между последним строительством/реконструции жилья перед покупкой и датой самой покупки. Давайте также нам надо разбить дату на год, месяц, сезон."
   ]
  },
  {
   "cell_type": "code",
   "execution_count": 5,
   "metadata": {
    "colab": {
     "base_uri": "https://localhost:8080/",
     "height": 299
    },
    "id": "nLmKhrICbqPz",
    "outputId": "8c3f6368-97ff-4bf2-9652-d4521d87f034"
   },
   "outputs": [
    {
     "data": {
      "text/html": [
       "\n",
       "  <div id=\"df-ff2e06d9-2d93-481a-9e5b-a5b9da32f20d\">\n",
       "    <div class=\"colab-df-container\">\n",
       "      <div>\n",
       "<style scoped>\n",
       "    .dataframe tbody tr th:only-of-type {\n",
       "        vertical-align: middle;\n",
       "    }\n",
       "\n",
       "    .dataframe tbody tr th {\n",
       "        vertical-align: top;\n",
       "    }\n",
       "\n",
       "    .dataframe thead th {\n",
       "        text-align: right;\n",
       "    }\n",
       "</style>\n",
       "<table border=\"1\" class=\"dataframe\">\n",
       "  <thead>\n",
       "    <tr style=\"text-align: right;\">\n",
       "      <th></th>\n",
       "      <th>id</th>\n",
       "      <th>date</th>\n",
       "      <th>price</th>\n",
       "      <th>bedrooms</th>\n",
       "      <th>bathrooms</th>\n",
       "      <th>sqft_living</th>\n",
       "      <th>sqft_lot</th>\n",
       "      <th>floors</th>\n",
       "      <th>waterfront</th>\n",
       "      <th>view</th>\n",
       "      <th>...</th>\n",
       "      <th>grade</th>\n",
       "      <th>sqft_above</th>\n",
       "      <th>sqft_basement</th>\n",
       "      <th>yr_built</th>\n",
       "      <th>yr_renovated</th>\n",
       "      <th>zipcode</th>\n",
       "      <th>lat</th>\n",
       "      <th>long</th>\n",
       "      <th>sqft_living15</th>\n",
       "      <th>sqft_lot15</th>\n",
       "    </tr>\n",
       "  </thead>\n",
       "  <tbody>\n",
       "    <tr>\n",
       "      <th>0</th>\n",
       "      <td>3392</td>\n",
       "      <td>20151013</td>\n",
       "      <td>221900.0</td>\n",
       "      <td>3</td>\n",
       "      <td>1.00</td>\n",
       "      <td>1180</td>\n",
       "      <td>5650</td>\n",
       "      <td>1.0</td>\n",
       "      <td>0</td>\n",
       "      <td>0</td>\n",
       "      <td>...</td>\n",
       "      <td>7</td>\n",
       "      <td>1180</td>\n",
       "      <td>0</td>\n",
       "      <td>1955</td>\n",
       "      <td>0</td>\n",
       "      <td>98178</td>\n",
       "      <td>47.5112</td>\n",
       "      <td>-122.257</td>\n",
       "      <td>1340</td>\n",
       "      <td>5650</td>\n",
       "    </tr>\n",
       "    <tr>\n",
       "      <th>1</th>\n",
       "      <td>18295</td>\n",
       "      <td>20151209</td>\n",
       "      <td>538000.0</td>\n",
       "      <td>3</td>\n",
       "      <td>2.25</td>\n",
       "      <td>2570</td>\n",
       "      <td>7242</td>\n",
       "      <td>2.0</td>\n",
       "      <td>0</td>\n",
       "      <td>0</td>\n",
       "      <td>...</td>\n",
       "      <td>7</td>\n",
       "      <td>2170</td>\n",
       "      <td>400</td>\n",
       "      <td>1951</td>\n",
       "      <td>1991</td>\n",
       "      <td>98125</td>\n",
       "      <td>47.7210</td>\n",
       "      <td>-122.319</td>\n",
       "      <td>1690</td>\n",
       "      <td>7639</td>\n",
       "    </tr>\n",
       "    <tr>\n",
       "      <th>2</th>\n",
       "      <td>14569</td>\n",
       "      <td>20151209</td>\n",
       "      <td>604000.0</td>\n",
       "      <td>4</td>\n",
       "      <td>3.00</td>\n",
       "      <td>1960</td>\n",
       "      <td>5000</td>\n",
       "      <td>1.0</td>\n",
       "      <td>0</td>\n",
       "      <td>0</td>\n",
       "      <td>...</td>\n",
       "      <td>7</td>\n",
       "      <td>1050</td>\n",
       "      <td>910</td>\n",
       "      <td>1965</td>\n",
       "      <td>0</td>\n",
       "      <td>98136</td>\n",
       "      <td>47.5208</td>\n",
       "      <td>-122.393</td>\n",
       "      <td>1360</td>\n",
       "      <td>5000</td>\n",
       "    </tr>\n",
       "    <tr>\n",
       "      <th>3</th>\n",
       "      <td>14081</td>\n",
       "      <td>20160218</td>\n",
       "      <td>510000.0</td>\n",
       "      <td>3</td>\n",
       "      <td>2.00</td>\n",
       "      <td>1680</td>\n",
       "      <td>8080</td>\n",
       "      <td>1.0</td>\n",
       "      <td>0</td>\n",
       "      <td>0</td>\n",
       "      <td>...</td>\n",
       "      <td>8</td>\n",
       "      <td>1680</td>\n",
       "      <td>0</td>\n",
       "      <td>1987</td>\n",
       "      <td>0</td>\n",
       "      <td>98074</td>\n",
       "      <td>47.6168</td>\n",
       "      <td>-122.045</td>\n",
       "      <td>1800</td>\n",
       "      <td>7503</td>\n",
       "    </tr>\n",
       "    <tr>\n",
       "      <th>4</th>\n",
       "      <td>6725</td>\n",
       "      <td>20150627</td>\n",
       "      <td>257500.0</td>\n",
       "      <td>3</td>\n",
       "      <td>2.25</td>\n",
       "      <td>1715</td>\n",
       "      <td>6819</td>\n",
       "      <td>2.0</td>\n",
       "      <td>0</td>\n",
       "      <td>0</td>\n",
       "      <td>...</td>\n",
       "      <td>7</td>\n",
       "      <td>1715</td>\n",
       "      <td>0</td>\n",
       "      <td>1995</td>\n",
       "      <td>0</td>\n",
       "      <td>98003</td>\n",
       "      <td>47.3097</td>\n",
       "      <td>-122.327</td>\n",
       "      <td>2238</td>\n",
       "      <td>6819</td>\n",
       "    </tr>\n",
       "  </tbody>\n",
       "</table>\n",
       "<p>5 rows × 21 columns</p>\n",
       "</div>\n",
       "      <button class=\"colab-df-convert\" onclick=\"convertToInteractive('df-ff2e06d9-2d93-481a-9e5b-a5b9da32f20d')\"\n",
       "              title=\"Convert this dataframe to an interactive table.\"\n",
       "              style=\"display:none;\">\n",
       "        \n",
       "  <svg xmlns=\"http://www.w3.org/2000/svg\" height=\"24px\"viewBox=\"0 0 24 24\"\n",
       "       width=\"24px\">\n",
       "    <path d=\"M0 0h24v24H0V0z\" fill=\"none\"/>\n",
       "    <path d=\"M18.56 5.44l.94 2.06.94-2.06 2.06-.94-2.06-.94-.94-2.06-.94 2.06-2.06.94zm-11 1L8.5 8.5l.94-2.06 2.06-.94-2.06-.94L8.5 2.5l-.94 2.06-2.06.94zm10 10l.94 2.06.94-2.06 2.06-.94-2.06-.94-.94-2.06-.94 2.06-2.06.94z\"/><path d=\"M17.41 7.96l-1.37-1.37c-.4-.4-.92-.59-1.43-.59-.52 0-1.04.2-1.43.59L10.3 9.45l-7.72 7.72c-.78.78-.78 2.05 0 2.83L4 21.41c.39.39.9.59 1.41.59.51 0 1.02-.2 1.41-.59l7.78-7.78 2.81-2.81c.8-.78.8-2.07 0-2.86zM5.41 20L4 18.59l7.72-7.72 1.47 1.35L5.41 20z\"/>\n",
       "  </svg>\n",
       "      </button>\n",
       "      \n",
       "  <style>\n",
       "    .colab-df-container {\n",
       "      display:flex;\n",
       "      flex-wrap:wrap;\n",
       "      gap: 12px;\n",
       "    }\n",
       "\n",
       "    .colab-df-convert {\n",
       "      background-color: #E8F0FE;\n",
       "      border: none;\n",
       "      border-radius: 50%;\n",
       "      cursor: pointer;\n",
       "      display: none;\n",
       "      fill: #1967D2;\n",
       "      height: 32px;\n",
       "      padding: 0 0 0 0;\n",
       "      width: 32px;\n",
       "    }\n",
       "\n",
       "    .colab-df-convert:hover {\n",
       "      background-color: #E2EBFA;\n",
       "      box-shadow: 0px 1px 2px rgba(60, 64, 67, 0.3), 0px 1px 3px 1px rgba(60, 64, 67, 0.15);\n",
       "      fill: #174EA6;\n",
       "    }\n",
       "\n",
       "    [theme=dark] .colab-df-convert {\n",
       "      background-color: #3B4455;\n",
       "      fill: #D2E3FC;\n",
       "    }\n",
       "\n",
       "    [theme=dark] .colab-df-convert:hover {\n",
       "      background-color: #434B5C;\n",
       "      box-shadow: 0px 1px 3px 1px rgba(0, 0, 0, 0.15);\n",
       "      filter: drop-shadow(0px 1px 2px rgba(0, 0, 0, 0.3));\n",
       "      fill: #FFFFFF;\n",
       "    }\n",
       "  </style>\n",
       "\n",
       "      <script>\n",
       "        const buttonEl =\n",
       "          document.querySelector('#df-ff2e06d9-2d93-481a-9e5b-a5b9da32f20d button.colab-df-convert');\n",
       "        buttonEl.style.display =\n",
       "          google.colab.kernel.accessAllowed ? 'block' : 'none';\n",
       "\n",
       "        async function convertToInteractive(key) {\n",
       "          const element = document.querySelector('#df-ff2e06d9-2d93-481a-9e5b-a5b9da32f20d');\n",
       "          const dataTable =\n",
       "            await google.colab.kernel.invokeFunction('convertToInteractive',\n",
       "                                                     [key], {});\n",
       "          if (!dataTable) return;\n",
       "\n",
       "          const docLinkHtml = 'Like what you see? Visit the ' +\n",
       "            '<a target=\"_blank\" href=https://colab.research.google.com/notebooks/data_table.ipynb>data table notebook</a>'\n",
       "            + ' to learn more about interactive tables.';\n",
       "          element.innerHTML = '';\n",
       "          dataTable['output_type'] = 'display_data';\n",
       "          await google.colab.output.renderOutput(dataTable, element);\n",
       "          const docLink = document.createElement('div');\n",
       "          docLink.innerHTML = docLinkHtml;\n",
       "          element.appendChild(docLink);\n",
       "        }\n",
       "      </script>\n",
       "    </div>\n",
       "  </div>\n",
       "  "
      ],
      "text/plain": [
       "      id      date     price  bedrooms  bathrooms  sqft_living  sqft_lot  \\\n",
       "0   3392  20151013  221900.0         3       1.00         1180      5650   \n",
       "1  18295  20151209  538000.0         3       2.25         2570      7242   \n",
       "2  14569  20151209  604000.0         4       3.00         1960      5000   \n",
       "3  14081  20160218  510000.0         3       2.00         1680      8080   \n",
       "4   6725  20150627  257500.0         3       2.25         1715      6819   \n",
       "\n",
       "   floors  waterfront  view  ...  grade  sqft_above  sqft_basement  yr_built  \\\n",
       "0     1.0           0     0  ...      7        1180              0      1955   \n",
       "1     2.0           0     0  ...      7        2170            400      1951   \n",
       "2     1.0           0     0  ...      7        1050            910      1965   \n",
       "3     1.0           0     0  ...      8        1680              0      1987   \n",
       "4     2.0           0     0  ...      7        1715              0      1995   \n",
       "\n",
       "   yr_renovated  zipcode      lat     long  sqft_living15  sqft_lot15  \n",
       "0             0    98178  47.5112 -122.257           1340        5650  \n",
       "1          1991    98125  47.7210 -122.319           1690        7639  \n",
       "2             0    98136  47.5208 -122.393           1360        5000  \n",
       "3             0    98074  47.6168 -122.045           1800        7503  \n",
       "4             0    98003  47.3097 -122.327           2238        6819  \n",
       "\n",
       "[5 rows x 21 columns]"
      ]
     },
     "execution_count": 5,
     "metadata": {},
     "output_type": "execute_result"
    }
   ],
   "source": [
    "df=data.copy()\n",
    "all_time=list(map(lambda x: (x[-6:-1]),np.array(df.date)))#оставили только само время, а не дату\n",
    "all(np.array(all_time)==\"00000\")#как хорошо видно времени вообще нет\n",
    "df.date=list(map(lambda x: str(x[0:8]),np.array(df.date)))\n",
    "df.head()"
   ]
  },
  {
   "cell_type": "code",
   "execution_count": 6,
   "metadata": {
    "colab": {
     "base_uri": "https://localhost:8080/",
     "height": 299
    },
    "id": "hbx5aoXRbqP1",
    "outputId": "7a9c2575-4863-4bd0-d52c-6f69f1569bac"
   },
   "outputs": [
    {
     "data": {
      "text/html": [
       "\n",
       "  <div id=\"df-a8b152f7-7359-40d6-8d94-5a868a59cc7d\">\n",
       "    <div class=\"colab-df-container\">\n",
       "      <div>\n",
       "<style scoped>\n",
       "    .dataframe tbody tr th:only-of-type {\n",
       "        vertical-align: middle;\n",
       "    }\n",
       "\n",
       "    .dataframe tbody tr th {\n",
       "        vertical-align: top;\n",
       "    }\n",
       "\n",
       "    .dataframe thead th {\n",
       "        text-align: right;\n",
       "    }\n",
       "</style>\n",
       "<table border=\"1\" class=\"dataframe\">\n",
       "  <thead>\n",
       "    <tr style=\"text-align: right;\">\n",
       "      <th></th>\n",
       "      <th>id</th>\n",
       "      <th>date</th>\n",
       "      <th>price</th>\n",
       "      <th>bedrooms</th>\n",
       "      <th>bathrooms</th>\n",
       "      <th>sqft_living</th>\n",
       "      <th>sqft_lot</th>\n",
       "      <th>floors</th>\n",
       "      <th>waterfront</th>\n",
       "      <th>view</th>\n",
       "      <th>...</th>\n",
       "      <th>yr_renovated</th>\n",
       "      <th>zipcode</th>\n",
       "      <th>lat</th>\n",
       "      <th>long</th>\n",
       "      <th>sqft_living15</th>\n",
       "      <th>sqft_lot15</th>\n",
       "      <th>date_year</th>\n",
       "      <th>date_month</th>\n",
       "      <th>date_season</th>\n",
       "      <th>diff_yr_change_date</th>\n",
       "    </tr>\n",
       "  </thead>\n",
       "  <tbody>\n",
       "    <tr>\n",
       "      <th>0</th>\n",
       "      <td>3392</td>\n",
       "      <td>20151013</td>\n",
       "      <td>221900.0</td>\n",
       "      <td>3</td>\n",
       "      <td>1.00</td>\n",
       "      <td>1180</td>\n",
       "      <td>5650</td>\n",
       "      <td>1.0</td>\n",
       "      <td>0</td>\n",
       "      <td>0</td>\n",
       "      <td>...</td>\n",
       "      <td>0</td>\n",
       "      <td>98178</td>\n",
       "      <td>47.5112</td>\n",
       "      <td>-122.257</td>\n",
       "      <td>1340</td>\n",
       "      <td>5650</td>\n",
       "      <td>2015</td>\n",
       "      <td>10</td>\n",
       "      <td>3</td>\n",
       "      <td>60</td>\n",
       "    </tr>\n",
       "    <tr>\n",
       "      <th>1</th>\n",
       "      <td>18295</td>\n",
       "      <td>20151209</td>\n",
       "      <td>538000.0</td>\n",
       "      <td>3</td>\n",
       "      <td>2.25</td>\n",
       "      <td>2570</td>\n",
       "      <td>7242</td>\n",
       "      <td>2.0</td>\n",
       "      <td>0</td>\n",
       "      <td>0</td>\n",
       "      <td>...</td>\n",
       "      <td>1991</td>\n",
       "      <td>98125</td>\n",
       "      <td>47.7210</td>\n",
       "      <td>-122.319</td>\n",
       "      <td>1690</td>\n",
       "      <td>7639</td>\n",
       "      <td>2015</td>\n",
       "      <td>12</td>\n",
       "      <td>0</td>\n",
       "      <td>24</td>\n",
       "    </tr>\n",
       "    <tr>\n",
       "      <th>2</th>\n",
       "      <td>14569</td>\n",
       "      <td>20151209</td>\n",
       "      <td>604000.0</td>\n",
       "      <td>4</td>\n",
       "      <td>3.00</td>\n",
       "      <td>1960</td>\n",
       "      <td>5000</td>\n",
       "      <td>1.0</td>\n",
       "      <td>0</td>\n",
       "      <td>0</td>\n",
       "      <td>...</td>\n",
       "      <td>0</td>\n",
       "      <td>98136</td>\n",
       "      <td>47.5208</td>\n",
       "      <td>-122.393</td>\n",
       "      <td>1360</td>\n",
       "      <td>5000</td>\n",
       "      <td>2015</td>\n",
       "      <td>12</td>\n",
       "      <td>0</td>\n",
       "      <td>50</td>\n",
       "    </tr>\n",
       "    <tr>\n",
       "      <th>3</th>\n",
       "      <td>14081</td>\n",
       "      <td>20160218</td>\n",
       "      <td>510000.0</td>\n",
       "      <td>3</td>\n",
       "      <td>2.00</td>\n",
       "      <td>1680</td>\n",
       "      <td>8080</td>\n",
       "      <td>1.0</td>\n",
       "      <td>0</td>\n",
       "      <td>0</td>\n",
       "      <td>...</td>\n",
       "      <td>0</td>\n",
       "      <td>98074</td>\n",
       "      <td>47.6168</td>\n",
       "      <td>-122.045</td>\n",
       "      <td>1800</td>\n",
       "      <td>7503</td>\n",
       "      <td>2016</td>\n",
       "      <td>2</td>\n",
       "      <td>0</td>\n",
       "      <td>29</td>\n",
       "    </tr>\n",
       "    <tr>\n",
       "      <th>4</th>\n",
       "      <td>6725</td>\n",
       "      <td>20150627</td>\n",
       "      <td>257500.0</td>\n",
       "      <td>3</td>\n",
       "      <td>2.25</td>\n",
       "      <td>1715</td>\n",
       "      <td>6819</td>\n",
       "      <td>2.0</td>\n",
       "      <td>0</td>\n",
       "      <td>0</td>\n",
       "      <td>...</td>\n",
       "      <td>0</td>\n",
       "      <td>98003</td>\n",
       "      <td>47.3097</td>\n",
       "      <td>-122.327</td>\n",
       "      <td>2238</td>\n",
       "      <td>6819</td>\n",
       "      <td>2015</td>\n",
       "      <td>6</td>\n",
       "      <td>2</td>\n",
       "      <td>20</td>\n",
       "    </tr>\n",
       "  </tbody>\n",
       "</table>\n",
       "<p>5 rows × 25 columns</p>\n",
       "</div>\n",
       "      <button class=\"colab-df-convert\" onclick=\"convertToInteractive('df-a8b152f7-7359-40d6-8d94-5a868a59cc7d')\"\n",
       "              title=\"Convert this dataframe to an interactive table.\"\n",
       "              style=\"display:none;\">\n",
       "        \n",
       "  <svg xmlns=\"http://www.w3.org/2000/svg\" height=\"24px\"viewBox=\"0 0 24 24\"\n",
       "       width=\"24px\">\n",
       "    <path d=\"M0 0h24v24H0V0z\" fill=\"none\"/>\n",
       "    <path d=\"M18.56 5.44l.94 2.06.94-2.06 2.06-.94-2.06-.94-.94-2.06-.94 2.06-2.06.94zm-11 1L8.5 8.5l.94-2.06 2.06-.94-2.06-.94L8.5 2.5l-.94 2.06-2.06.94zm10 10l.94 2.06.94-2.06 2.06-.94-2.06-.94-.94-2.06-.94 2.06-2.06.94z\"/><path d=\"M17.41 7.96l-1.37-1.37c-.4-.4-.92-.59-1.43-.59-.52 0-1.04.2-1.43.59L10.3 9.45l-7.72 7.72c-.78.78-.78 2.05 0 2.83L4 21.41c.39.39.9.59 1.41.59.51 0 1.02-.2 1.41-.59l7.78-7.78 2.81-2.81c.8-.78.8-2.07 0-2.86zM5.41 20L4 18.59l7.72-7.72 1.47 1.35L5.41 20z\"/>\n",
       "  </svg>\n",
       "      </button>\n",
       "      \n",
       "  <style>\n",
       "    .colab-df-container {\n",
       "      display:flex;\n",
       "      flex-wrap:wrap;\n",
       "      gap: 12px;\n",
       "    }\n",
       "\n",
       "    .colab-df-convert {\n",
       "      background-color: #E8F0FE;\n",
       "      border: none;\n",
       "      border-radius: 50%;\n",
       "      cursor: pointer;\n",
       "      display: none;\n",
       "      fill: #1967D2;\n",
       "      height: 32px;\n",
       "      padding: 0 0 0 0;\n",
       "      width: 32px;\n",
       "    }\n",
       "\n",
       "    .colab-df-convert:hover {\n",
       "      background-color: #E2EBFA;\n",
       "      box-shadow: 0px 1px 2px rgba(60, 64, 67, 0.3), 0px 1px 3px 1px rgba(60, 64, 67, 0.15);\n",
       "      fill: #174EA6;\n",
       "    }\n",
       "\n",
       "    [theme=dark] .colab-df-convert {\n",
       "      background-color: #3B4455;\n",
       "      fill: #D2E3FC;\n",
       "    }\n",
       "\n",
       "    [theme=dark] .colab-df-convert:hover {\n",
       "      background-color: #434B5C;\n",
       "      box-shadow: 0px 1px 3px 1px rgba(0, 0, 0, 0.15);\n",
       "      filter: drop-shadow(0px 1px 2px rgba(0, 0, 0, 0.3));\n",
       "      fill: #FFFFFF;\n",
       "    }\n",
       "  </style>\n",
       "\n",
       "      <script>\n",
       "        const buttonEl =\n",
       "          document.querySelector('#df-a8b152f7-7359-40d6-8d94-5a868a59cc7d button.colab-df-convert');\n",
       "        buttonEl.style.display =\n",
       "          google.colab.kernel.accessAllowed ? 'block' : 'none';\n",
       "\n",
       "        async function convertToInteractive(key) {\n",
       "          const element = document.querySelector('#df-a8b152f7-7359-40d6-8d94-5a868a59cc7d');\n",
       "          const dataTable =\n",
       "            await google.colab.kernel.invokeFunction('convertToInteractive',\n",
       "                                                     [key], {});\n",
       "          if (!dataTable) return;\n",
       "\n",
       "          const docLinkHtml = 'Like what you see? Visit the ' +\n",
       "            '<a target=\"_blank\" href=https://colab.research.google.com/notebooks/data_table.ipynb>data table notebook</a>'\n",
       "            + ' to learn more about interactive tables.';\n",
       "          element.innerHTML = '';\n",
       "          dataTable['output_type'] = 'display_data';\n",
       "          await google.colab.output.renderOutput(dataTable, element);\n",
       "          const docLink = document.createElement('div');\n",
       "          docLink.innerHTML = docLinkHtml;\n",
       "          element.appendChild(docLink);\n",
       "        }\n",
       "      </script>\n",
       "    </div>\n",
       "  </div>\n",
       "  "
      ],
      "text/plain": [
       "      id      date     price  bedrooms  bathrooms  sqft_living  sqft_lot  \\\n",
       "0   3392  20151013  221900.0         3       1.00         1180      5650   \n",
       "1  18295  20151209  538000.0         3       2.25         2570      7242   \n",
       "2  14569  20151209  604000.0         4       3.00         1960      5000   \n",
       "3  14081  20160218  510000.0         3       2.00         1680      8080   \n",
       "4   6725  20150627  257500.0         3       2.25         1715      6819   \n",
       "\n",
       "   floors  waterfront  view  ...  yr_renovated  zipcode      lat     long  \\\n",
       "0     1.0           0     0  ...             0    98178  47.5112 -122.257   \n",
       "1     2.0           0     0  ...          1991    98125  47.7210 -122.319   \n",
       "2     1.0           0     0  ...             0    98136  47.5208 -122.393   \n",
       "3     1.0           0     0  ...             0    98074  47.6168 -122.045   \n",
       "4     2.0           0     0  ...             0    98003  47.3097 -122.327   \n",
       "\n",
       "   sqft_living15  sqft_lot15  date_year  date_month  date_season  \\\n",
       "0           1340        5650       2015          10            3   \n",
       "1           1690        7639       2015          12            0   \n",
       "2           1360        5000       2015          12            0   \n",
       "3           1800        7503       2016           2            0   \n",
       "4           2238        6819       2015           6            2   \n",
       "\n",
       "   diff_yr_change_date  \n",
       "0                   60  \n",
       "1                   24  \n",
       "2                   50  \n",
       "3                   29  \n",
       "4                   20  \n",
       "\n",
       "[5 rows x 25 columns]"
      ]
     },
     "execution_count": 6,
     "metadata": {},
     "output_type": "execute_result"
    }
   ],
   "source": [
    "year=list(map(lambda x: int(x[0:4]),np.array(df.date)))\n",
    "month=list(map(lambda x: int(x[4:6]),np.array(df.date)))\n",
    "day=list(map(lambda x: int(x[6:8]),np.array(df.date)))\n",
    "df['date_year']=year\n",
    "df['date_month']=month\n",
    "date_season=(np.array(month))//3\n",
    "date_season[date_season==4]*=0\n",
    "df['date_season']=date_season\n",
    "diff=list(df.apply(lambda x: np.abs(x.date_year-x.yr_built if x.yr_renovated==0 or x.yr_renovated>x.date_year else \\\n",
    "                                    x.date_year-x.yr_renovated), axis=1))\n",
    "df['diff_yr_change_date']=diff\n",
    "df.head()"
   ]
  },
  {
   "cell_type": "markdown",
   "metadata": {
    "id": "07acnkuObqP2"
   },
   "source": [
    "Найдите точку в центре города Сиэтл. Вычислите новый признак \"расстояние до центра\". Также поверните координаты на $45$ градусов."
   ]
  },
  {
   "cell_type": "code",
   "execution_count": 7,
   "metadata": {
    "id": "ZKl3AlbNbqP4"
   },
   "outputs": [],
   "source": [
    "def rotate(point,central_point, angle):\n",
    "    lat,long = point\n",
    "    lat_central,long_central=central_point\n",
    "    \n",
    "    diff_long = long-long_central\n",
    "    diff_lat = lat-lat_central\n",
    "\n",
    "    cos_angle = np.cos(angle*np.pi/180)\n",
    "    sin_angle = np.sin(angle*np.pi/180)\n",
    "\n",
    "    rotate_long = diff_long * cos_angle - diff_lat * sin_angle\n",
    "    rotate_lat = diff_long * sin_angle + diff_lat * cos_angle\n",
    "\n",
    "    return ([rotate_lat+lat_central,rotate_long + long_central])"
   ]
  },
  {
   "cell_type": "code",
   "execution_count": 8,
   "metadata": {
    "colab": {
     "base_uri": "https://localhost:8080/"
    },
    "id": "LMwYVLRQbqP5",
    "outputId": "d3226fbb-fc75-4c38-ebd1-09e469f99eee"
   },
   "outputs": [
    {
     "data": {
      "text/plain": [
       "[47.95789926765849, -1.6377075919879367]"
      ]
     },
     "execution_count": 8,
     "metadata": {},
     "output_type": "execute_result"
    }
   ],
   "source": [
    "rotate((48.856663, 2.351556),(43.591814, 1.441828),45)#повернули Париж вокруг Тулузы, работает корректно. Получили Бургбарре"
   ]
  },
  {
   "cell_type": "code",
   "execution_count": 9,
   "metadata": {
    "colab": {
     "base_uri": "https://localhost:8080/",
     "height": 299
    },
    "id": "-hJS4_ofbqP6",
    "outputId": "758fe21f-f72f-4fe7-fa72-779e28554180"
   },
   "outputs": [
    {
     "data": {
      "text/html": [
       "\n",
       "  <div id=\"df-22f20817-1195-456d-b085-658640ba40f4\">\n",
       "    <div class=\"colab-df-container\">\n",
       "      <div>\n",
       "<style scoped>\n",
       "    .dataframe tbody tr th:only-of-type {\n",
       "        vertical-align: middle;\n",
       "    }\n",
       "\n",
       "    .dataframe tbody tr th {\n",
       "        vertical-align: top;\n",
       "    }\n",
       "\n",
       "    .dataframe thead th {\n",
       "        text-align: right;\n",
       "    }\n",
       "</style>\n",
       "<table border=\"1\" class=\"dataframe\">\n",
       "  <thead>\n",
       "    <tr style=\"text-align: right;\">\n",
       "      <th></th>\n",
       "      <th>id</th>\n",
       "      <th>date</th>\n",
       "      <th>price</th>\n",
       "      <th>bedrooms</th>\n",
       "      <th>bathrooms</th>\n",
       "      <th>sqft_living</th>\n",
       "      <th>sqft_lot</th>\n",
       "      <th>floors</th>\n",
       "      <th>waterfront</th>\n",
       "      <th>view</th>\n",
       "      <th>...</th>\n",
       "      <th>long</th>\n",
       "      <th>sqft_living15</th>\n",
       "      <th>sqft_lot15</th>\n",
       "      <th>date_year</th>\n",
       "      <th>date_month</th>\n",
       "      <th>date_season</th>\n",
       "      <th>diff_yr_change_date</th>\n",
       "      <th>distance_to_center</th>\n",
       "      <th>lat_rotate_45</th>\n",
       "      <th>long_rotate_45</th>\n",
       "    </tr>\n",
       "  </thead>\n",
       "  <tbody>\n",
       "    <tr>\n",
       "      <th>0</th>\n",
       "      <td>3392</td>\n",
       "      <td>20151013</td>\n",
       "      <td>221900.0</td>\n",
       "      <td>3</td>\n",
       "      <td>1.00</td>\n",
       "      <td>1180</td>\n",
       "      <td>5650</td>\n",
       "      <td>1.0</td>\n",
       "      <td>0</td>\n",
       "      <td>0</td>\n",
       "      <td>...</td>\n",
       "      <td>-122.257</td>\n",
       "      <td>1340</td>\n",
       "      <td>5650</td>\n",
       "      <td>2015</td>\n",
       "      <td>10</td>\n",
       "      <td>3</td>\n",
       "      <td>60</td>\n",
       "      <td>13.444557</td>\n",
       "      <td>47.603358</td>\n",
       "      <td>-122.207522</td>\n",
       "    </tr>\n",
       "    <tr>\n",
       "      <th>1</th>\n",
       "      <td>18295</td>\n",
       "      <td>20151209</td>\n",
       "      <td>538000.0</td>\n",
       "      <td>3</td>\n",
       "      <td>2.25</td>\n",
       "      <td>2570</td>\n",
       "      <td>7242</td>\n",
       "      <td>2.0</td>\n",
       "      <td>0</td>\n",
       "      <td>0</td>\n",
       "      <td>...</td>\n",
       "      <td>-122.319</td>\n",
       "      <td>1690</td>\n",
       "      <td>7639</td>\n",
       "      <td>2015</td>\n",
       "      <td>12</td>\n",
       "      <td>0</td>\n",
       "      <td>24</td>\n",
       "      <td>11.708234</td>\n",
       "      <td>47.707869</td>\n",
       "      <td>-122.399714</td>\n",
       "    </tr>\n",
       "    <tr>\n",
       "      <th>2</th>\n",
       "      <td>14569</td>\n",
       "      <td>20151209</td>\n",
       "      <td>604000.0</td>\n",
       "      <td>4</td>\n",
       "      <td>3.00</td>\n",
       "      <td>1960</td>\n",
       "      <td>5000</td>\n",
       "      <td>1.0</td>\n",
       "      <td>0</td>\n",
       "      <td>0</td>\n",
       "      <td>...</td>\n",
       "      <td>-122.393</td>\n",
       "      <td>1360</td>\n",
       "      <td>5000</td>\n",
       "      <td>2015</td>\n",
       "      <td>12</td>\n",
       "      <td>0</td>\n",
       "      <td>50</td>\n",
       "      <td>11.325944</td>\n",
       "      <td>47.513980</td>\n",
       "      <td>-122.310477</td>\n",
       "    </tr>\n",
       "    <tr>\n",
       "      <th>3</th>\n",
       "      <td>14081</td>\n",
       "      <td>20160218</td>\n",
       "      <td>510000.0</td>\n",
       "      <td>3</td>\n",
       "      <td>2.00</td>\n",
       "      <td>1680</td>\n",
       "      <td>8080</td>\n",
       "      <td>1.0</td>\n",
       "      <td>0</td>\n",
       "      <td>0</td>\n",
       "      <td>...</td>\n",
       "      <td>-122.045</td>\n",
       "      <td>1800</td>\n",
       "      <td>7503</td>\n",
       "      <td>2016</td>\n",
       "      <td>2</td>\n",
       "      <td>0</td>\n",
       "      <td>29</td>\n",
       "      <td>22.440533</td>\n",
       "      <td>47.827935</td>\n",
       "      <td>-122.132286</td>\n",
       "    </tr>\n",
       "    <tr>\n",
       "      <th>4</th>\n",
       "      <td>6725</td>\n",
       "      <td>20150627</td>\n",
       "      <td>257500.0</td>\n",
       "      <td>3</td>\n",
       "      <td>2.25</td>\n",
       "      <td>1715</td>\n",
       "      <td>6819</td>\n",
       "      <td>2.0</td>\n",
       "      <td>0</td>\n",
       "      <td>0</td>\n",
       "      <td>...</td>\n",
       "      <td>-122.327</td>\n",
       "      <td>2238</td>\n",
       "      <td>6819</td>\n",
       "      <td>2015</td>\n",
       "      <td>6</td>\n",
       "      <td>2</td>\n",
       "      <td>20</td>\n",
       "      <td>34.188677</td>\n",
       "      <td>47.411379</td>\n",
       "      <td>-122.114538</td>\n",
       "    </tr>\n",
       "  </tbody>\n",
       "</table>\n",
       "<p>5 rows × 28 columns</p>\n",
       "</div>\n",
       "      <button class=\"colab-df-convert\" onclick=\"convertToInteractive('df-22f20817-1195-456d-b085-658640ba40f4')\"\n",
       "              title=\"Convert this dataframe to an interactive table.\"\n",
       "              style=\"display:none;\">\n",
       "        \n",
       "  <svg xmlns=\"http://www.w3.org/2000/svg\" height=\"24px\"viewBox=\"0 0 24 24\"\n",
       "       width=\"24px\">\n",
       "    <path d=\"M0 0h24v24H0V0z\" fill=\"none\"/>\n",
       "    <path d=\"M18.56 5.44l.94 2.06.94-2.06 2.06-.94-2.06-.94-.94-2.06-.94 2.06-2.06.94zm-11 1L8.5 8.5l.94-2.06 2.06-.94-2.06-.94L8.5 2.5l-.94 2.06-2.06.94zm10 10l.94 2.06.94-2.06 2.06-.94-2.06-.94-.94-2.06-.94 2.06-2.06.94z\"/><path d=\"M17.41 7.96l-1.37-1.37c-.4-.4-.92-.59-1.43-.59-.52 0-1.04.2-1.43.59L10.3 9.45l-7.72 7.72c-.78.78-.78 2.05 0 2.83L4 21.41c.39.39.9.59 1.41.59.51 0 1.02-.2 1.41-.59l7.78-7.78 2.81-2.81c.8-.78.8-2.07 0-2.86zM5.41 20L4 18.59l7.72-7.72 1.47 1.35L5.41 20z\"/>\n",
       "  </svg>\n",
       "      </button>\n",
       "      \n",
       "  <style>\n",
       "    .colab-df-container {\n",
       "      display:flex;\n",
       "      flex-wrap:wrap;\n",
       "      gap: 12px;\n",
       "    }\n",
       "\n",
       "    .colab-df-convert {\n",
       "      background-color: #E8F0FE;\n",
       "      border: none;\n",
       "      border-radius: 50%;\n",
       "      cursor: pointer;\n",
       "      display: none;\n",
       "      fill: #1967D2;\n",
       "      height: 32px;\n",
       "      padding: 0 0 0 0;\n",
       "      width: 32px;\n",
       "    }\n",
       "\n",
       "    .colab-df-convert:hover {\n",
       "      background-color: #E2EBFA;\n",
       "      box-shadow: 0px 1px 2px rgba(60, 64, 67, 0.3), 0px 1px 3px 1px rgba(60, 64, 67, 0.15);\n",
       "      fill: #174EA6;\n",
       "    }\n",
       "\n",
       "    [theme=dark] .colab-df-convert {\n",
       "      background-color: #3B4455;\n",
       "      fill: #D2E3FC;\n",
       "    }\n",
       "\n",
       "    [theme=dark] .colab-df-convert:hover {\n",
       "      background-color: #434B5C;\n",
       "      box-shadow: 0px 1px 3px 1px rgba(0, 0, 0, 0.15);\n",
       "      filter: drop-shadow(0px 1px 2px rgba(0, 0, 0, 0.3));\n",
       "      fill: #FFFFFF;\n",
       "    }\n",
       "  </style>\n",
       "\n",
       "      <script>\n",
       "        const buttonEl =\n",
       "          document.querySelector('#df-22f20817-1195-456d-b085-658640ba40f4 button.colab-df-convert');\n",
       "        buttonEl.style.display =\n",
       "          google.colab.kernel.accessAllowed ? 'block' : 'none';\n",
       "\n",
       "        async function convertToInteractive(key) {\n",
       "          const element = document.querySelector('#df-22f20817-1195-456d-b085-658640ba40f4');\n",
       "          const dataTable =\n",
       "            await google.colab.kernel.invokeFunction('convertToInteractive',\n",
       "                                                     [key], {});\n",
       "          if (!dataTable) return;\n",
       "\n",
       "          const docLinkHtml = 'Like what you see? Visit the ' +\n",
       "            '<a target=\"_blank\" href=https://colab.research.google.com/notebooks/data_table.ipynb>data table notebook</a>'\n",
       "            + ' to learn more about interactive tables.';\n",
       "          element.innerHTML = '';\n",
       "          dataTable['output_type'] = 'display_data';\n",
       "          await google.colab.output.renderOutput(dataTable, element);\n",
       "          const docLink = document.createElement('div');\n",
       "          docLink.innerHTML = docLinkHtml;\n",
       "          element.appendChild(docLink);\n",
       "        }\n",
       "      </script>\n",
       "    </div>\n",
       "  </div>\n",
       "  "
      ],
      "text/plain": [
       "      id      date     price  bedrooms  bathrooms  sqft_living  sqft_lot  \\\n",
       "0   3392  20151013  221900.0         3       1.00         1180      5650   \n",
       "1  18295  20151209  538000.0         3       2.25         2570      7242   \n",
       "2  14569  20151209  604000.0         4       3.00         1960      5000   \n",
       "3  14081  20160218  510000.0         3       2.00         1680      8080   \n",
       "4   6725  20150627  257500.0         3       2.25         1715      6819   \n",
       "\n",
       "   floors  waterfront  view  ...     long  sqft_living15  sqft_lot15  \\\n",
       "0     1.0           0     0  ... -122.257           1340        5650   \n",
       "1     2.0           0     0  ... -122.319           1690        7639   \n",
       "2     1.0           0     0  ... -122.393           1360        5000   \n",
       "3     1.0           0     0  ... -122.045           1800        7503   \n",
       "4     2.0           0     0  ... -122.327           2238        6819   \n",
       "\n",
       "   date_year  date_month  date_season  diff_yr_change_date  \\\n",
       "0       2015          10            3                   60   \n",
       "1       2015          12            0                   24   \n",
       "2       2015          12            0                   50   \n",
       "3       2016           2            0                   29   \n",
       "4       2015           6            2                   20   \n",
       "\n",
       "   distance_to_center  lat_rotate_45  long_rotate_45  \n",
       "0           13.444557      47.603358     -122.207522  \n",
       "1           11.708234      47.707869     -122.399714  \n",
       "2           11.325944      47.513980     -122.310477  \n",
       "3           22.440533      47.827935     -122.132286  \n",
       "4           34.188677      47.411379     -122.114538  \n",
       "\n",
       "[5 rows x 28 columns]"
      ]
     },
     "execution_count": 9,
     "metadata": {},
     "output_type": "execute_result"
    }
   ],
   "source": [
    "import geopy.distance\n",
    "lat_Seattle=47.617004\n",
    "long_Seattle=-122.343506\n",
    "coords_Seattle=(lat_Seattle,long_Seattle)\n",
    "df['distance_to_center']=df.apply(lambda x: geopy.distance.distance(coords_Seattle, (x.lat,x.long)).km, axis=1)\n",
    "\n",
    "df['lat_rotate_45']=df.apply(lambda x: rotate((x.lat,x.long),coords_Seattle,45)[0], axis=1)\n",
    "df['long_rotate_45']=df.apply(lambda x: rotate((x.lat,x.long),coords_Seattle,45)[1], axis=1)\n",
    "df.head()"
   ]
  },
  {
   "cell_type": "markdown",
   "metadata": {
    "id": "4CieMk4wbqP7"
   },
   "source": [
    "Найдите какой-нибудь категориальный признак. Порассуждайте на тему того, стоит ли применять к нему MeanEncoding. Если нужно, реализуйте его и примените."
   ]
  },
  {
   "cell_type": "markdown",
   "metadata": {
    "id": "bbV0dsx_bqP8"
   },
   "source": [
    "На самом деле тут очень много вещественных и порядковых признаков. Но можно выделить категориальный(пару). 1-zipcode, очевидно, что номер индекса хоть и нерадомное число, но оно нам ничего кроме района не может сказать, а все-же строгого порядка между районами у нас нет. Также возможно считать waterfront категориальным, а не порядковым признаком, так как мы не можем сказать, что лучше иметь вид на набережную или нет. Для жилья около пляжа для отдыха понятно, что вид на набережную лучше, но например для бизнес-комплексом тут может быть уже другой порядок, что лучше не иметь вид на набережную, например, чтобы сотрудники не отвлекались. \n",
    "Но теперь давайте поработает с zipcode и применим MeanEncoding от catboost"
   ]
  },
  {
   "cell_type": "code",
   "execution_count": 10,
   "metadata": {
    "id": "lvb-ckdsbqP9"
   },
   "outputs": [],
   "source": [
    "X=df.copy()\n",
    "y=df.price\n",
    "del X['price']\n",
    "X_train, X_val, y_train, y_val = train_test_split(X, y, test_size=0.2, random_state=1)"
   ]
  },
  {
   "cell_type": "markdown",
   "metadata": {
    "id": "QML0ManxbqP9"
   },
   "source": [
    "Давайте нашей базовой моделью будет catboost, возможно мы потом еще посчитаем randomforest и добавим его в каком-то соотношении"
   ]
  },
  {
   "cell_type": "markdown",
   "metadata": {
    "id": "mKvssy03bqP-"
   },
   "source": [
    "### Отбор признаков\n"
   ]
  },
  {
   "cell_type": "code",
   "execution_count": null,
   "metadata": {
    "colab": {
     "base_uri": "https://localhost:8080/"
    },
    "id": "EO2SYxcmbqP_",
    "outputId": "6906c6ee-1fda-4de5-8cfc-de78e275984a"
   },
   "outputs": [
    {
     "data": {
      "text/plain": [
       "array(['sqft_living', 'distance_to_center', 'grade', 'lat', 'zipcode',\n",
       "       'sqft_above', 'sqft_living15', 'waterfront', 'lat_rotate_45',\n",
       "       'long', 'view', 'bathrooms', 'sqft_lot', 'diff_yr_change_date',\n",
       "       'yr_built', 'long_rotate_45', 'sqft_basement', 'condition',\n",
       "       'sqft_lot15', 'date', 'yr_renovated', 'id', 'floors', 'date_month',\n",
       "       'bedrooms', 'date_year', 'date_season'], dtype='<U32')"
      ]
     },
     "execution_count": 13,
     "metadata": {},
     "output_type": "execute_result"
    }
   ],
   "source": [
    "cb = CatBoostRegressor(silent=True, random_state=1,cat_features=['zipcode'],eval_metric='MAPE')\n",
    "cb.fit(X_train, y_train)\n",
    "\n",
    "res=np.array(sorted(zip(cb.get_feature_importance(), X_train.columns),reverse=True))\n",
    "values=res[:,0]\n",
    "names=res[:,1]\n",
    "values=list(map(lambda x: float(x),values))\n",
    "names"
   ]
  },
  {
   "cell_type": "code",
   "execution_count": null,
   "metadata": {
    "colab": {
     "referenced_widgets": [
      "92404c1ab62d4de6b814e3c460f1225c"
     ]
    },
    "id": "32WitNM-bqP_",
    "outputId": "c69d2fb0-1d73-4dd5-abb7-6fbeeb601838"
   },
   "outputs": [
    {
     "data": {
      "application/vnd.jupyter.widget-view+json": {
       "model_id": "92404c1ab62d4de6b814e3c460f1225c",
       "version_major": 2,
       "version_minor": 0
      },
      "text/plain": [
       "  0%|          | 0/27 [00:00<?, ?it/s]"
      ]
     },
     "metadata": {},
     "output_type": "display_data"
    }
   ],
   "source": [
    "best_metric=np.inf\n",
    "best_i=0\n",
    "for i in tqdm(range(len(names))):\n",
    "    names_features=names[:i+1]\n",
    "    cb = CatBoostRegressor(silent=True, random_state=1,eval_metric='MAPE')\n",
    "    if ('zipcode' in names_features):\n",
    "        cb.fit(X_train[names_features], y_train,cat_features=['zipcode'])\n",
    "    else:\n",
    "        cb.fit(X_train[names_features], y_train)\n",
    "    res_mape=mape(y_val, cb.predict(X_val[names_features]))\n",
    "    if res_mape<best_metric:\n",
    "        best_metric=res_mape\n",
    "        best_i=i+1\n",
    "        "
   ]
  },
  {
   "cell_type": "code",
   "execution_count": null,
   "metadata": {
    "id": "5gEk4jvkbqQA",
    "outputId": "4629d84f-4948-4732-ad02-2a18dcbd7996"
   },
   "outputs": [
    {
     "data": {
      "text/plain": [
       "(20, 0.1136773186502964)"
      ]
     },
     "execution_count": 13,
     "metadata": {},
     "output_type": "execute_result"
    }
   ],
   "source": [
    "best_i,best_metric"
   ]
  },
  {
   "cell_type": "code",
   "execution_count": null,
   "metadata": {
    "id": "crCK1mDAbqQB",
    "outputId": "491a1c21-1625-4fd8-a5ed-f3944dd1f46c"
   },
   "outputs": [
    {
     "data": {
      "text/plain": [
       "27"
      ]
     },
     "execution_count": 14,
     "metadata": {},
     "output_type": "execute_result"
    }
   ],
   "source": [
    "len(X_train.columns)"
   ]
  },
  {
   "cell_type": "markdown",
   "metadata": {
    "id": "XLSn7qswbqQC"
   },
   "source": [
    "Как видно, самые лучшие дают показатели тут первые 20. Но тут был слишком жадный алгоритм(мы только добавляли, ничего не удаляли), давайте поищем с помощью Add-del"
   ]
  },
  {
   "cell_type": "markdown",
   "metadata": {
    "id": "E73uSSPTbqQC"
   },
   "source": [
    "**Метод Add-Del**\n",
    "\n",
    "Чтобы понять нужное количество признаков $K$, используем алгоритм Add-Del. Будем добавлять лучший признак до тех пор, пока это улучшает качество на валидации. Затем будем убирать самый мешающий, пока есть улучшения. Будем делать так, пока процесс не сойдётся. Реализуем функции для этого метода."
   ]
  },
  {
   "cell_type": "code",
   "execution_count": null,
   "metadata": {
    "id": "RJePcbMYbqQD"
   },
   "outputs": [],
   "source": [
    "def find_best_to_add(feature_mask, model, train, val, curr_score, score_func):\n",
    "    \"\"\"Поиск лучшей фичи для добавления к набору\n",
    "    \n",
    "    Параметры:\n",
    "        feature_mask - текущий набор фичей\n",
    "        model - модель, которую обучать\n",
    "        train - пара (X, y), обучающая выборка\n",
    "        val - пара (X, y), валидационная выборка\n",
    "        curr_score - текуший оптимум функции ошибки\n",
    "        score_func - функция (np.array, np.array) -> float, функция ошибки\n",
    "        \n",
    "    Возвращает:\n",
    "        best_feature - индекс лучшей фичи для добавления\n",
    "        best_score - ошибка после добавления\n",
    "    \"\"\"\n",
    "    feature_mask=np.array(feature_mask)\n",
    "    X_train, y_train = train\n",
    "    X_val, y_val = val\n",
    "    \n",
    "    best_feature = None\n",
    "    best_score = curr_score\n",
    "    \n",
    "    for ind in (range(feature_mask.size)):\n",
    "        if not feature_mask[ind]:\n",
    "            mask=feature_mask.copy()\n",
    "            mask[ind]=1\n",
    "            regr = model\n",
    "            \n",
    "            if ('zipcode' in np.array(X_train.columns)[mask==1]):\n",
    "                regr.fit(X_train.iloc[:,mask==1], y_train,cat_features=['zipcode'])\n",
    "            else:\n",
    "                regr.fit(X_train.iloc[:,mask==1], y_train)\n",
    "            \n",
    "    \n",
    "            score=score_func(y_val, regr.predict(X_val.iloc[:,mask==1]))\n",
    "            if (best_score==None or score>best_score):\n",
    "                best_feature=ind\n",
    "                best_score=score\n",
    "    return best_feature, best_score"
   ]
  },
  {
   "cell_type": "code",
   "execution_count": null,
   "metadata": {
    "id": "Jvyxp8c2bqQE"
   },
   "outputs": [],
   "source": [
    "def find_best_to_del(feature_mask, model, train, val, curr_score, score_func):\n",
    "    \"\"\"Поиск лучшей фичи для удаления из набора\n",
    "    \n",
    "    Параметры:\n",
    "        feature_mask - текущий набор фичей\n",
    "        model - модель, которую обучать\n",
    "        train - пара (X, y), обучающая выборка\n",
    "        val - пара (X, y), валидационная выборка\n",
    "        curr_score - текуший оптимум функции ошибки\n",
    "        score_func - функция (np.array, np.array) -> float, функция ошибки\n",
    "        \n",
    "    Возвращает:\n",
    "        best_feature - индекс лучшей фичи для удаления\n",
    "        best_score - ошибка после удаления\n",
    "    \"\"\"\n",
    "    feature_mask=np.array(feature_mask)\n",
    "    X_train, y_train = train\n",
    "    X_val, y_val = val\n",
    "    \n",
    "    best_feature = None\n",
    "    best_score = curr_score\n",
    "    \n",
    "    for ind in (range(feature_mask.size)):\n",
    "        if feature_mask[ind]:\n",
    "            mask=feature_mask.copy()\n",
    "            mask[ind]=0\n",
    "            regr = model\n",
    "            \n",
    "            if ('zipcode' in np.array(X_train.columns)[mask==1]):\n",
    "                regr.fit(X_train.iloc[:,mask==1], y_train,cat_features=['zipcode'])\n",
    "            else:\n",
    "                regr.fit(X_train.iloc[:,mask==1], y_train)\n",
    "                \n",
    "            score=score_func(y_val, regr.predict(X_val.iloc[:,mask==1]))\n",
    "            if (score>best_score):\n",
    "                best_feature=ind\n",
    "                best_score=score\n",
    "    return best_feature, best_score"
   ]
  },
  {
   "cell_type": "code",
   "execution_count": null,
   "metadata": {
    "id": "oYwTTCSHbqQF"
   },
   "outputs": [],
   "source": [
    "def find_best_feature_set(model, train, val,score_func):\n",
    "    \"\"\"Отбор признаков по методу Add-Del\n",
    "    \n",
    "    Параметры:\n",
    "        model - модель, с методами fit и predict\n",
    "        train - пара (X, y), обучающая выборка\n",
    "        val - пара (X, y), валидационная выборка\n",
    "        \n",
    "    Возвращает\n",
    "        feature_mask (np.ndarray) - оптимальная маска\n",
    "        best_score (float) - наилучшая функция ошибки\n",
    "    \"\"\"\n",
    "    feature_mask = np.array([False] * train[0].shape[1])\n",
    "    best_score = None\n",
    "    best_mask = feature_mask\n",
    "    \n",
    "    improved_add = improved_del = True\n",
    "    \n",
    "    while improved_add or improved_del:\n",
    "        improved_add = improved_del = False\n",
    "        \n",
    "        # Цикл добавления\n",
    "        while True:\n",
    "            to_add, new_score = find_best_to_add(best_mask, model, train, val, best_score, score_func)\n",
    "            print('to_add={}, new_score={}'.format(to_add,new_score))\n",
    "            if (to_add==None):\n",
    "                break\n",
    "            if (best_score==None or best_score<new_score):\n",
    "                best_score=new_score\n",
    "                best_mask[to_add]=1\n",
    "                improved_del=True\n",
    "        \n",
    "        # Цикл удаления\n",
    "        while (True and np.sum(best_mask)>1):\n",
    "            to_del, new_score = find_best_to_del(best_mask, model, train, val, best_score, score_func)\n",
    "            print('to_del={}, new_score={}'.format(to_del,new_score))\n",
    "            if (to_del==None):\n",
    "                break\n",
    "            if (best_score<new_score):\n",
    "                best_score=new_score\n",
    "                best_mask[to_del]=0\n",
    "                improved_add=True\n",
    "           \n",
    "                \n",
    "    return best_mask, best_score"
   ]
  },
  {
   "cell_type": "code",
   "execution_count": null,
   "metadata": {
    "id": "k_9605cFbqQF"
   },
   "outputs": [],
   "source": [
    "def mape_(y_true, y_pred): \n",
    "    y_true, y_pred = np.array(y_true), np.array(y_pred)\n",
    "    return -np.mean(np.abs((y_true - y_pred) / y_true))"
   ]
  },
  {
   "cell_type": "code",
   "execution_count": null,
   "metadata": {
    "id": "_fxcTJIObqQG",
    "outputId": "79a53073-c932-414d-b8a9-0396d4195f2a"
   },
   "outputs": [
    {
     "name": "stdout",
     "output_type": "stream",
     "text": [
      "to_add=15, new_score=-0.31458743304407305\n",
      "to_add=4, new_score=-0.16858821966693951\n",
      "to_add=10, new_score=-0.1538201325250485\n",
      "to_add=5, new_score=-0.14498585471090994\n",
      "to_add=24, new_score=-0.13730571342922662\n",
      "to_add=8, new_score=-0.1319478368905723\n",
      "to_add=13, new_score=-0.12796657538803166\n",
      "to_add=9, new_score=-0.12540865415050928\n",
      "to_add=1, new_score=-0.12268750002305463\n",
      "to_add=25, new_score=-0.11998747756707637\n",
      "to_add=17, new_score=-0.11884261453770735\n",
      "to_add=23, new_score=-0.1169985103041542\n",
      "to_add=7, new_score=-0.11659050233312405\n",
      "to_add=26, new_score=-0.11579055981418993\n",
      "to_add=11, new_score=-0.11470181519470207\n",
      "to_add=16, new_score=-0.11436243140897516\n",
      "to_add=6, new_score=-0.11366709518893467\n",
      "to_add=3, new_score=-0.11349435733017109\n",
      "to_add=None, new_score=-0.11349435733017109\n",
      "to_del=None, new_score=-0.11349435733017109\n",
      "to_add=None, new_score=-0.11349435733017109\n",
      "to_del=None, new_score=-0.11349435733017109\n"
     ]
    }
   ],
   "source": [
    "model=CatBoostRegressor(silent=True, random_state=1,eval_metric='MAPE')\n",
    "feature_mask, best_score=find_best_feature_set(model, (X_train,y_train), (X_val,y_val),score_func=mape_)"
   ]
  },
  {
   "cell_type": "code",
   "execution_count": 12,
   "metadata": {
    "colab": {
     "base_uri": "https://localhost:8080/"
    },
    "id": "0BKkze9pvnmW",
    "outputId": "283d7a3a-48a6-439f-dd70-a7ae8a76c7ca"
   },
   "outputs": [
    {
     "data": {
      "text/plain": [
       "(array([False,  True, False,  True,  True,  True,  True,  True,  True,\n",
       "         True,  True,  True, False,  True, False,  True,  True,  True,\n",
       "        False, False, False, False, False,  True,  True,  True,  True]),\n",
       " -0.11349435733017109)"
      ]
     },
     "execution_count": 12,
     "metadata": {},
     "output_type": "execute_result"
    }
   ],
   "source": [
    "feature_mask, best_score"
   ]
  },
  {
   "cell_type": "raw",
   "metadata": {
    "id": "Z8Lby8lybqQH"
   },
   "source": [
    "Также у нас выбрались слегка разные признаки по важности, давайте посмотрим на это. Во втором случае у нас метрика слегка лучше получилась, то есть Add-del слегка лучше показывает себя."
   ]
  },
  {
   "cell_type": "code",
   "execution_count": null,
   "metadata": {
    "id": "6mfUhR7XbqQH",
    "outputId": "88e2ece8-774d-44f9-b8bc-b1b960660e17"
   },
   "outputs": [
    {
     "data": {
      "text/plain": [
       "({'sqft_basement', 'sqft_living15', 'sqft_lot15'}, {'floors'})"
      ]
     },
     "execution_count": 21,
     "metadata": {},
     "output_type": "execute_result"
    }
   ],
   "source": [
    "feature_1=set(['sqft_living', 'distance_to_center', 'grade', 'lat', 'zipcode',\n",
    "       'sqft_above', 'sqft_living15', 'waterfront', 'lat_rotate_45',\n",
    "       'long', 'view', 'bathrooms', 'sqft_lot', 'diff_yr_change_date',\n",
    "       'yr_built', 'long_rotate_45', 'sqft_basement', 'condition',\n",
    "       'sqft_lot15', 'date', 'yr_renovated', 'id', 'floors', 'date_month',\n",
    "       'bedrooms', 'date_year', 'date_season'][:best_i])\n",
    "feature_add_del=set(X_train.columns[feature_mask==1])\n",
    "feature_1-feature_add_del,feature_add_del-feature_1"
   ]
  },
  {
   "cell_type": "markdown",
   "metadata": {
    "id": "0PjgXAzRbqQI"
   },
   "source": [
    "Признаки довольно близки, но отличаются немного, но будем импользовать feature_add_del"
   ]
  },
  {
   "cell_type": "markdown",
   "metadata": {
    "id": "IZsW0oDAbqQI"
   },
   "source": [
    "Есть маленькая проблема, а именно то, что мы слегка переобучаемся под val, так что можно попробовать повторить испытания с другим val уже."
   ]
  },
  {
   "cell_type": "code",
   "execution_count": null,
   "metadata": {
    "colab": {
     "referenced_widgets": [
      "57d19ce6337d456ea2c45fc8587ac9ad"
     ]
    },
    "id": "53RVnBrQbqQJ",
    "outputId": "4500bc7b-20fe-4a5d-ad9e-04764dc0f132"
   },
   "outputs": [
    {
     "data": {
      "application/vnd.jupyter.widget-view+json": {
       "model_id": "57d19ce6337d456ea2c45fc8587ac9ad",
       "version_major": 2,
       "version_minor": 0
      },
      "text/plain": [
       "  0%|          | 0/27 [00:00<?, ?it/s]"
      ]
     },
     "metadata": {},
     "output_type": "display_data"
    },
    {
     "name": "stdout",
     "output_type": "stream",
     "text": [
      "21 0.11682090731406675 первый способ с другим val\n",
      "to_add=15, new_score=-0.3074624147102625\n",
      "to_add=4, new_score=-0.16877415779904645\n",
      "to_add=10, new_score=-0.15528782561759288\n",
      "to_add=5, new_score=-0.14977788006552528\n",
      "to_add=16, new_score=-0.14315761462083976\n",
      "to_add=25, new_score=-0.13634744650336464\n",
      "to_add=8, new_score=-0.13115104834794344\n",
      "to_add=13, new_score=-0.12830320367906095\n",
      "to_add=9, new_score=-0.12636667053248687\n",
      "to_add=7, new_score=-0.12433200368886244\n",
      "to_add=20, new_score=-0.12279200408201425\n",
      "to_add=24, new_score=-0.1210303446441031\n",
      "to_add=23, new_score=-0.1193360811360444\n",
      "to_add=3, new_score=-0.11912939099754631\n",
      "to_add=17, new_score=-0.11813826600634601\n",
      "to_add=6, new_score=-0.11780903757849653\n",
      "to_add=12, new_score=-0.11725603133426343\n",
      "to_add=11, new_score=-0.11675388019425806\n",
      "to_add=None, new_score=-0.11675388019425806\n",
      "to_del=4, new_score=-0.11630534502390209\n",
      "to_del=None, new_score=-0.11630534502390209\n",
      "to_add=None, new_score=-0.11630534502390209\n",
      "to_del=None, new_score=-0.11630534502390209\n",
      "[False False False  True False  True  True  True  True  True  True  True\n",
      "  True  True False  True  True  True False False  True False False  True\n",
      "  True  True False] -0.11630534502390209 Add-del с другим val\n"
     ]
    }
   ],
   "source": [
    "X_train, X_val, y_train, y_val = train_test_split(X, y, test_size=0.2, random_state=42)#не 1, как раньше\n",
    "cb = CatBoostRegressor(silent=True, random_state=1,cat_features=['zipcode'])\n",
    "cb.fit(X_train, y_train)\n",
    "res=np.array(sorted(zip(cb.get_feature_importance(), X_train.columns),reverse=True))\n",
    "names_2=res[:,1]\n",
    "\n",
    "#1 способ\n",
    "best_metric=np.inf\n",
    "best_i_2=0\n",
    "for i in tqdm(range(len(names))):\n",
    "    names_features=names_2[:i+1]\n",
    "    cb = CatBoostRegressor(silent=True, random_state=1,eval_metric='MAPE')\n",
    "    if ('zipcode' in names_features):\n",
    "        cb.fit(X_train[names_features], y_train,cat_features=['zipcode'])\n",
    "    else:\n",
    "        cb.fit(X_train[names_features], y_train)\n",
    "    res_mape=mape(y_val, cb.predict(X_val[names_features]))\n",
    "    if res_mape<best_metric:\n",
    "        best_metric=res_mape\n",
    "        best_i_2=i+1\n",
    "print(best_i_2,best_metric,'первый способ с другим val')\n",
    "\n",
    "\n",
    "#теперь Add-del\n",
    "model=CatBoostRegressor(silent=True, random_state=1,eval_metric='MAPE')\n",
    "feature_mask_2, best_score_2=find_best_feature_set(model, (X_train,y_train), (X_val,y_val),score_func=mape_)\n",
    "print(feature_mask_2, best_score_2,'Add-del с другим val')"
   ]
  },
  {
   "cell_type": "markdown",
   "metadata": {
    "id": "-wGUo0WGbqQJ"
   },
   "source": [
    "Тут Add-del тоже слегка лучше, причем выдает слегка другие признаки для нахождения лучшей метрики. Причем тут даже del сработал. Как видно поиск оптимальных параметров зависит от валидационной выборки. По идеи надо сделать что-то похожее на cv только для поиска лучшего параметра, но это будет нереально долго. Плюс можно считать, что результаты Add-del +- очень близко к истинным. Мб стоит просто ручками перебрать несколько похожих состояний"
   ]
  },
  {
   "cell_type": "code",
   "execution_count": null,
   "metadata": {
    "id": "wDvXYgJjbqQK",
    "outputId": "d059391a-b7dc-4967-b222-24bc408fcafc"
   },
   "outputs": [
    {
     "data": {
      "text/plain": [
       "({'date_year', 'sqft_basement'}, {'date', 'long_rotate_45', 'sqft_living'})"
      ]
     },
     "execution_count": 28,
     "metadata": {},
     "output_type": "execute_result"
    }
   ],
   "source": [
    "feature_add_del_2=set(X_train.columns[feature_mask_2==1])\n",
    "feature_add_del_2-feature_add_del,feature_add_del-feature_add_del_2"
   ]
  },
  {
   "cell_type": "markdown",
   "metadata": {
    "id": "iSoUV7N_bqQK"
   },
   "source": [
    "Как видим от val зависят лучшие параметры, так как формально происходит переобучение под val. Но признаки не очень сильно отличаются. "
   ]
  },
  {
   "cell_type": "code",
   "execution_count": 13,
   "metadata": {
    "id": "I2YioD-bbqQL"
   },
   "outputs": [],
   "source": [
    "X_train, X_val, y_train, y_val = train_test_split(X, y, test_size=0.2, random_state=1)\n",
    "X_train=X_train.iloc[:,feature_mask==1]\n",
    "X_val=X_val.iloc[:,feature_mask==1]\n",
    "X_train_all=X.iloc[:,feature_mask==1]\n",
    "y_train_all=y"
   ]
  },
  {
   "cell_type": "markdown",
   "metadata": {
    "id": "Oq4IrEQmhIsM"
   },
   "source": [
    "**Подготовим тестовые данные**\n"
   ]
  },
  {
   "cell_type": "code",
   "execution_count": 14,
   "metadata": {
    "id": "ReRsHVpJhPPW"
   },
   "outputs": [],
   "source": [
    "data_test = pd.read_csv('/content/drive/MyDrive/Colab Notebooks/DS/ML/4.3 ДЗ/houses_test.csv')"
   ]
  },
  {
   "cell_type": "code",
   "execution_count": 15,
   "metadata": {
    "colab": {
     "base_uri": "https://localhost:8080/",
     "height": 250
    },
    "id": "pjLouRK3hPPX",
    "outputId": "0701000c-177f-4e35-dcde-3fe1ba3047f8"
   },
   "outputs": [
    {
     "data": {
      "text/html": [
       "\n",
       "  <div id=\"df-0a1117a6-fb4d-4078-9998-2e2995c29cb0\">\n",
       "    <div class=\"colab-df-container\">\n",
       "      <div>\n",
       "<style scoped>\n",
       "    .dataframe tbody tr th:only-of-type {\n",
       "        vertical-align: middle;\n",
       "    }\n",
       "\n",
       "    .dataframe tbody tr th {\n",
       "        vertical-align: top;\n",
       "    }\n",
       "\n",
       "    .dataframe thead th {\n",
       "        text-align: right;\n",
       "    }\n",
       "</style>\n",
       "<table border=\"1\" class=\"dataframe\">\n",
       "  <thead>\n",
       "    <tr style=\"text-align: right;\">\n",
       "      <th></th>\n",
       "      <th>id</th>\n",
       "      <th>date</th>\n",
       "      <th>bedrooms</th>\n",
       "      <th>bathrooms</th>\n",
       "      <th>sqft_living</th>\n",
       "      <th>sqft_lot</th>\n",
       "      <th>floors</th>\n",
       "      <th>waterfront</th>\n",
       "      <th>view</th>\n",
       "      <th>condition</th>\n",
       "      <th>grade</th>\n",
       "      <th>sqft_above</th>\n",
       "      <th>sqft_basement</th>\n",
       "      <th>yr_built</th>\n",
       "      <th>yr_renovated</th>\n",
       "      <th>zipcode</th>\n",
       "      <th>lat</th>\n",
       "      <th>long</th>\n",
       "      <th>sqft_living15</th>\n",
       "      <th>sqft_lot15</th>\n",
       "    </tr>\n",
       "  </thead>\n",
       "  <tbody>\n",
       "    <tr>\n",
       "      <th>0</th>\n",
       "      <td>15906</td>\n",
       "      <td>20160429</td>\n",
       "      <td>2</td>\n",
       "      <td>1.00</td>\n",
       "      <td>790</td>\n",
       "      <td>9784</td>\n",
       "      <td>1.0</td>\n",
       "      <td>0</td>\n",
       "      <td>0</td>\n",
       "      <td>3</td>\n",
       "      <td>6</td>\n",
       "      <td>790</td>\n",
       "      <td>0</td>\n",
       "      <td>1932</td>\n",
       "      <td>0</td>\n",
       "      <td>98155</td>\n",
       "      <td>47.7634</td>\n",
       "      <td>-122.284</td>\n",
       "      <td>2350</td>\n",
       "      <td>10102</td>\n",
       "    </tr>\n",
       "    <tr>\n",
       "      <th>1</th>\n",
       "      <td>6872</td>\n",
       "      <td>20150528</td>\n",
       "      <td>4</td>\n",
       "      <td>2.25</td>\n",
       "      <td>2410</td>\n",
       "      <td>4560</td>\n",
       "      <td>2.0</td>\n",
       "      <td>0</td>\n",
       "      <td>2</td>\n",
       "      <td>5</td>\n",
       "      <td>9</td>\n",
       "      <td>1800</td>\n",
       "      <td>610</td>\n",
       "      <td>1929</td>\n",
       "      <td>0</td>\n",
       "      <td>98117</td>\n",
       "      <td>47.6796</td>\n",
       "      <td>-122.402</td>\n",
       "      <td>2150</td>\n",
       "      <td>5100</td>\n",
       "    </tr>\n",
       "    <tr>\n",
       "      <th>2</th>\n",
       "      <td>634</td>\n",
       "      <td>20151030</td>\n",
       "      <td>3</td>\n",
       "      <td>1.00</td>\n",
       "      <td>860</td>\n",
       "      <td>6664</td>\n",
       "      <td>1.0</td>\n",
       "      <td>0</td>\n",
       "      <td>0</td>\n",
       "      <td>3</td>\n",
       "      <td>6</td>\n",
       "      <td>860</td>\n",
       "      <td>0</td>\n",
       "      <td>1944</td>\n",
       "      <td>0</td>\n",
       "      <td>98178</td>\n",
       "      <td>47.4931</td>\n",
       "      <td>-122.247</td>\n",
       "      <td>1150</td>\n",
       "      <td>6857</td>\n",
       "    </tr>\n",
       "    <tr>\n",
       "      <th>3</th>\n",
       "      <td>18094</td>\n",
       "      <td>20150617</td>\n",
       "      <td>3</td>\n",
       "      <td>1.00</td>\n",
       "      <td>980</td>\n",
       "      <td>7200</td>\n",
       "      <td>1.0</td>\n",
       "      <td>0</td>\n",
       "      <td>0</td>\n",
       "      <td>4</td>\n",
       "      <td>7</td>\n",
       "      <td>980</td>\n",
       "      <td>0</td>\n",
       "      <td>1950</td>\n",
       "      <td>0</td>\n",
       "      <td>98116</td>\n",
       "      <td>47.5718</td>\n",
       "      <td>-122.395</td>\n",
       "      <td>1180</td>\n",
       "      <td>6572</td>\n",
       "    </tr>\n",
       "    <tr>\n",
       "      <th>4</th>\n",
       "      <td>15811</td>\n",
       "      <td>20151231</td>\n",
       "      <td>2</td>\n",
       "      <td>1.50</td>\n",
       "      <td>1556</td>\n",
       "      <td>20000</td>\n",
       "      <td>1.0</td>\n",
       "      <td>0</td>\n",
       "      <td>0</td>\n",
       "      <td>4</td>\n",
       "      <td>7</td>\n",
       "      <td>1556</td>\n",
       "      <td>0</td>\n",
       "      <td>1957</td>\n",
       "      <td>0</td>\n",
       "      <td>98032</td>\n",
       "      <td>47.3891</td>\n",
       "      <td>-122.282</td>\n",
       "      <td>2250</td>\n",
       "      <td>17286</td>\n",
       "    </tr>\n",
       "  </tbody>\n",
       "</table>\n",
       "</div>\n",
       "      <button class=\"colab-df-convert\" onclick=\"convertToInteractive('df-0a1117a6-fb4d-4078-9998-2e2995c29cb0')\"\n",
       "              title=\"Convert this dataframe to an interactive table.\"\n",
       "              style=\"display:none;\">\n",
       "        \n",
       "  <svg xmlns=\"http://www.w3.org/2000/svg\" height=\"24px\"viewBox=\"0 0 24 24\"\n",
       "       width=\"24px\">\n",
       "    <path d=\"M0 0h24v24H0V0z\" fill=\"none\"/>\n",
       "    <path d=\"M18.56 5.44l.94 2.06.94-2.06 2.06-.94-2.06-.94-.94-2.06-.94 2.06-2.06.94zm-11 1L8.5 8.5l.94-2.06 2.06-.94-2.06-.94L8.5 2.5l-.94 2.06-2.06.94zm10 10l.94 2.06.94-2.06 2.06-.94-2.06-.94-.94-2.06-.94 2.06-2.06.94z\"/><path d=\"M17.41 7.96l-1.37-1.37c-.4-.4-.92-.59-1.43-.59-.52 0-1.04.2-1.43.59L10.3 9.45l-7.72 7.72c-.78.78-.78 2.05 0 2.83L4 21.41c.39.39.9.59 1.41.59.51 0 1.02-.2 1.41-.59l7.78-7.78 2.81-2.81c.8-.78.8-2.07 0-2.86zM5.41 20L4 18.59l7.72-7.72 1.47 1.35L5.41 20z\"/>\n",
       "  </svg>\n",
       "      </button>\n",
       "      \n",
       "  <style>\n",
       "    .colab-df-container {\n",
       "      display:flex;\n",
       "      flex-wrap:wrap;\n",
       "      gap: 12px;\n",
       "    }\n",
       "\n",
       "    .colab-df-convert {\n",
       "      background-color: #E8F0FE;\n",
       "      border: none;\n",
       "      border-radius: 50%;\n",
       "      cursor: pointer;\n",
       "      display: none;\n",
       "      fill: #1967D2;\n",
       "      height: 32px;\n",
       "      padding: 0 0 0 0;\n",
       "      width: 32px;\n",
       "    }\n",
       "\n",
       "    .colab-df-convert:hover {\n",
       "      background-color: #E2EBFA;\n",
       "      box-shadow: 0px 1px 2px rgba(60, 64, 67, 0.3), 0px 1px 3px 1px rgba(60, 64, 67, 0.15);\n",
       "      fill: #174EA6;\n",
       "    }\n",
       "\n",
       "    [theme=dark] .colab-df-convert {\n",
       "      background-color: #3B4455;\n",
       "      fill: #D2E3FC;\n",
       "    }\n",
       "\n",
       "    [theme=dark] .colab-df-convert:hover {\n",
       "      background-color: #434B5C;\n",
       "      box-shadow: 0px 1px 3px 1px rgba(0, 0, 0, 0.15);\n",
       "      filter: drop-shadow(0px 1px 2px rgba(0, 0, 0, 0.3));\n",
       "      fill: #FFFFFF;\n",
       "    }\n",
       "  </style>\n",
       "\n",
       "      <script>\n",
       "        const buttonEl =\n",
       "          document.querySelector('#df-0a1117a6-fb4d-4078-9998-2e2995c29cb0 button.colab-df-convert');\n",
       "        buttonEl.style.display =\n",
       "          google.colab.kernel.accessAllowed ? 'block' : 'none';\n",
       "\n",
       "        async function convertToInteractive(key) {\n",
       "          const element = document.querySelector('#df-0a1117a6-fb4d-4078-9998-2e2995c29cb0');\n",
       "          const dataTable =\n",
       "            await google.colab.kernel.invokeFunction('convertToInteractive',\n",
       "                                                     [key], {});\n",
       "          if (!dataTable) return;\n",
       "\n",
       "          const docLinkHtml = 'Like what you see? Visit the ' +\n",
       "            '<a target=\"_blank\" href=https://colab.research.google.com/notebooks/data_table.ipynb>data table notebook</a>'\n",
       "            + ' to learn more about interactive tables.';\n",
       "          element.innerHTML = '';\n",
       "          dataTable['output_type'] = 'display_data';\n",
       "          await google.colab.output.renderOutput(dataTable, element);\n",
       "          const docLink = document.createElement('div');\n",
       "          docLink.innerHTML = docLinkHtml;\n",
       "          element.appendChild(docLink);\n",
       "        }\n",
       "      </script>\n",
       "    </div>\n",
       "  </div>\n",
       "  "
      ],
      "text/plain": [
       "      id      date  bedrooms  bathrooms  sqft_living  sqft_lot  floors  \\\n",
       "0  15906  20160429         2       1.00          790      9784     1.0   \n",
       "1   6872  20150528         4       2.25         2410      4560     2.0   \n",
       "2    634  20151030         3       1.00          860      6664     1.0   \n",
       "3  18094  20150617         3       1.00          980      7200     1.0   \n",
       "4  15811  20151231         2       1.50         1556     20000     1.0   \n",
       "\n",
       "   waterfront  view  condition  grade  sqft_above  sqft_basement  yr_built  \\\n",
       "0           0     0          3      6         790              0      1932   \n",
       "1           0     2          5      9        1800            610      1929   \n",
       "2           0     0          3      6         860              0      1944   \n",
       "3           0     0          4      7         980              0      1950   \n",
       "4           0     0          4      7        1556              0      1957   \n",
       "\n",
       "   yr_renovated  zipcode      lat     long  sqft_living15  sqft_lot15  \n",
       "0             0    98155  47.7634 -122.284           2350       10102  \n",
       "1             0    98117  47.6796 -122.402           2150        5100  \n",
       "2             0    98178  47.4931 -122.247           1150        6857  \n",
       "3             0    98116  47.5718 -122.395           1180        6572  \n",
       "4             0    98032  47.3891 -122.282           2250       17286  "
      ]
     },
     "execution_count": 15,
     "metadata": {},
     "output_type": "execute_result"
    }
   ],
   "source": [
    "df=data_test.copy()\n",
    "all_time=list(map(lambda x: (x[-6:-1]),np.array(df.date)))#оставили только само время, а не дату\n",
    "all(np.array(all_time)==\"00000\")#как хорошо видно времени вообще нет\n",
    "df.date=list(map(lambda x: str(x[0:8]),np.array(df.date)))\n",
    "df.head()"
   ]
  },
  {
   "cell_type": "code",
   "execution_count": 16,
   "metadata": {
    "id": "k3imUUhZhPPX"
   },
   "outputs": [],
   "source": [
    "year=list(map(lambda x: int(x[0:4]),np.array(df.date)))\n",
    "month=list(map(lambda x: int(x[4:6]),np.array(df.date)))\n",
    "day=list(map(lambda x: int(x[6:8]),np.array(df.date)))\n",
    "df['date_year']=year\n",
    "df['date_month']=month\n",
    "date_season=(np.array(month))//3\n",
    "date_season[date_season==4]*=0\n",
    "df['date_season']=date_season\n",
    "diff=list(df.apply(lambda x: np.abs(x.date_year-x.yr_built if x.yr_renovated==0 or x.yr_renovated>x.date_year else \\\n",
    "                                    x.date_year-x.yr_renovated), axis=1))\n",
    "df['diff_yr_change_date']=diff"
   ]
  },
  {
   "cell_type": "code",
   "execution_count": 17,
   "metadata": {
    "colab": {
     "base_uri": "https://localhost:8080/",
     "height": 299
    },
    "id": "cEuPZQO0hPPY",
    "outputId": "f2be93ab-11e5-4a44-d88f-4fce9ee3a520"
   },
   "outputs": [
    {
     "data": {
      "text/html": [
       "\n",
       "  <div id=\"df-0f2c4ba3-67f4-424d-be34-e858940f9e57\">\n",
       "    <div class=\"colab-df-container\">\n",
       "      <div>\n",
       "<style scoped>\n",
       "    .dataframe tbody tr th:only-of-type {\n",
       "        vertical-align: middle;\n",
       "    }\n",
       "\n",
       "    .dataframe tbody tr th {\n",
       "        vertical-align: top;\n",
       "    }\n",
       "\n",
       "    .dataframe thead th {\n",
       "        text-align: right;\n",
       "    }\n",
       "</style>\n",
       "<table border=\"1\" class=\"dataframe\">\n",
       "  <thead>\n",
       "    <tr style=\"text-align: right;\">\n",
       "      <th></th>\n",
       "      <th>id</th>\n",
       "      <th>date</th>\n",
       "      <th>bedrooms</th>\n",
       "      <th>bathrooms</th>\n",
       "      <th>sqft_living</th>\n",
       "      <th>sqft_lot</th>\n",
       "      <th>floors</th>\n",
       "      <th>waterfront</th>\n",
       "      <th>view</th>\n",
       "      <th>condition</th>\n",
       "      <th>...</th>\n",
       "      <th>long</th>\n",
       "      <th>sqft_living15</th>\n",
       "      <th>sqft_lot15</th>\n",
       "      <th>date_year</th>\n",
       "      <th>date_month</th>\n",
       "      <th>date_season</th>\n",
       "      <th>diff_yr_change_date</th>\n",
       "      <th>distance_to_center</th>\n",
       "      <th>lat_rotate_45</th>\n",
       "      <th>long_rotate_45</th>\n",
       "    </tr>\n",
       "  </thead>\n",
       "  <tbody>\n",
       "    <tr>\n",
       "      <th>0</th>\n",
       "      <td>15906</td>\n",
       "      <td>20160429</td>\n",
       "      <td>2</td>\n",
       "      <td>1.00</td>\n",
       "      <td>790</td>\n",
       "      <td>9784</td>\n",
       "      <td>1.0</td>\n",
       "      <td>0</td>\n",
       "      <td>0</td>\n",
       "      <td>3</td>\n",
       "      <td>...</td>\n",
       "      <td>-122.284</td>\n",
       "      <td>2350</td>\n",
       "      <td>10102</td>\n",
       "      <td>2016</td>\n",
       "      <td>4</td>\n",
       "      <td>1</td>\n",
       "      <td>84</td>\n",
       "      <td>16.878811</td>\n",
       "      <td>47.762599</td>\n",
       "      <td>-122.404947</td>\n",
       "    </tr>\n",
       "    <tr>\n",
       "      <th>1</th>\n",
       "      <td>6872</td>\n",
       "      <td>20150528</td>\n",
       "      <td>4</td>\n",
       "      <td>2.25</td>\n",
       "      <td>2410</td>\n",
       "      <td>4560</td>\n",
       "      <td>2.0</td>\n",
       "      <td>0</td>\n",
       "      <td>2</td>\n",
       "      <td>5</td>\n",
       "      <td>...</td>\n",
       "      <td>-122.402</td>\n",
       "      <td>2150</td>\n",
       "      <td>5100</td>\n",
       "      <td>2015</td>\n",
       "      <td>5</td>\n",
       "      <td>1</td>\n",
       "      <td>86</td>\n",
       "      <td>8.231049</td>\n",
       "      <td>47.619905</td>\n",
       "      <td>-122.429130</td>\n",
       "    </tr>\n",
       "    <tr>\n",
       "      <th>2</th>\n",
       "      <td>634</td>\n",
       "      <td>20151030</td>\n",
       "      <td>3</td>\n",
       "      <td>1.00</td>\n",
       "      <td>860</td>\n",
       "      <td>6664</td>\n",
       "      <td>1.0</td>\n",
       "      <td>0</td>\n",
       "      <td>0</td>\n",
       "      <td>3</td>\n",
       "      <td>...</td>\n",
       "      <td>-122.247</td>\n",
       "      <td>1150</td>\n",
       "      <td>6857</td>\n",
       "      <td>2015</td>\n",
       "      <td>10</td>\n",
       "      <td>3</td>\n",
       "      <td>71</td>\n",
       "      <td>15.573454</td>\n",
       "      <td>47.597631</td>\n",
       "      <td>-122.187653</td>\n",
       "    </tr>\n",
       "    <tr>\n",
       "      <th>3</th>\n",
       "      <td>18094</td>\n",
       "      <td>20150617</td>\n",
       "      <td>3</td>\n",
       "      <td>1.00</td>\n",
       "      <td>980</td>\n",
       "      <td>7200</td>\n",
       "      <td>1.0</td>\n",
       "      <td>0</td>\n",
       "      <td>0</td>\n",
       "      <td>4</td>\n",
       "      <td>...</td>\n",
       "      <td>-122.395</td>\n",
       "      <td>1180</td>\n",
       "      <td>6572</td>\n",
       "      <td>2015</td>\n",
       "      <td>6</td>\n",
       "      <td>2</td>\n",
       "      <td>65</td>\n",
       "      <td>6.344920</td>\n",
       "      <td>47.548628</td>\n",
       "      <td>-122.347954</td>\n",
       "    </tr>\n",
       "    <tr>\n",
       "      <th>4</th>\n",
       "      <td>15811</td>\n",
       "      <td>20151231</td>\n",
       "      <td>2</td>\n",
       "      <td>1.50</td>\n",
       "      <td>1556</td>\n",
       "      <td>20000</td>\n",
       "      <td>1.0</td>\n",
       "      <td>0</td>\n",
       "      <td>0</td>\n",
       "      <td>4</td>\n",
       "      <td>...</td>\n",
       "      <td>-122.282</td>\n",
       "      <td>2250</td>\n",
       "      <td>17286</td>\n",
       "      <td>2015</td>\n",
       "      <td>12</td>\n",
       "      <td>0</td>\n",
       "      <td>58</td>\n",
       "      <td>25.758735</td>\n",
       "      <td>47.499343</td>\n",
       "      <td>-122.138862</td>\n",
       "    </tr>\n",
       "  </tbody>\n",
       "</table>\n",
       "<p>5 rows × 27 columns</p>\n",
       "</div>\n",
       "      <button class=\"colab-df-convert\" onclick=\"convertToInteractive('df-0f2c4ba3-67f4-424d-be34-e858940f9e57')\"\n",
       "              title=\"Convert this dataframe to an interactive table.\"\n",
       "              style=\"display:none;\">\n",
       "        \n",
       "  <svg xmlns=\"http://www.w3.org/2000/svg\" height=\"24px\"viewBox=\"0 0 24 24\"\n",
       "       width=\"24px\">\n",
       "    <path d=\"M0 0h24v24H0V0z\" fill=\"none\"/>\n",
       "    <path d=\"M18.56 5.44l.94 2.06.94-2.06 2.06-.94-2.06-.94-.94-2.06-.94 2.06-2.06.94zm-11 1L8.5 8.5l.94-2.06 2.06-.94-2.06-.94L8.5 2.5l-.94 2.06-2.06.94zm10 10l.94 2.06.94-2.06 2.06-.94-2.06-.94-.94-2.06-.94 2.06-2.06.94z\"/><path d=\"M17.41 7.96l-1.37-1.37c-.4-.4-.92-.59-1.43-.59-.52 0-1.04.2-1.43.59L10.3 9.45l-7.72 7.72c-.78.78-.78 2.05 0 2.83L4 21.41c.39.39.9.59 1.41.59.51 0 1.02-.2 1.41-.59l7.78-7.78 2.81-2.81c.8-.78.8-2.07 0-2.86zM5.41 20L4 18.59l7.72-7.72 1.47 1.35L5.41 20z\"/>\n",
       "  </svg>\n",
       "      </button>\n",
       "      \n",
       "  <style>\n",
       "    .colab-df-container {\n",
       "      display:flex;\n",
       "      flex-wrap:wrap;\n",
       "      gap: 12px;\n",
       "    }\n",
       "\n",
       "    .colab-df-convert {\n",
       "      background-color: #E8F0FE;\n",
       "      border: none;\n",
       "      border-radius: 50%;\n",
       "      cursor: pointer;\n",
       "      display: none;\n",
       "      fill: #1967D2;\n",
       "      height: 32px;\n",
       "      padding: 0 0 0 0;\n",
       "      width: 32px;\n",
       "    }\n",
       "\n",
       "    .colab-df-convert:hover {\n",
       "      background-color: #E2EBFA;\n",
       "      box-shadow: 0px 1px 2px rgba(60, 64, 67, 0.3), 0px 1px 3px 1px rgba(60, 64, 67, 0.15);\n",
       "      fill: #174EA6;\n",
       "    }\n",
       "\n",
       "    [theme=dark] .colab-df-convert {\n",
       "      background-color: #3B4455;\n",
       "      fill: #D2E3FC;\n",
       "    }\n",
       "\n",
       "    [theme=dark] .colab-df-convert:hover {\n",
       "      background-color: #434B5C;\n",
       "      box-shadow: 0px 1px 3px 1px rgba(0, 0, 0, 0.15);\n",
       "      filter: drop-shadow(0px 1px 2px rgba(0, 0, 0, 0.3));\n",
       "      fill: #FFFFFF;\n",
       "    }\n",
       "  </style>\n",
       "\n",
       "      <script>\n",
       "        const buttonEl =\n",
       "          document.querySelector('#df-0f2c4ba3-67f4-424d-be34-e858940f9e57 button.colab-df-convert');\n",
       "        buttonEl.style.display =\n",
       "          google.colab.kernel.accessAllowed ? 'block' : 'none';\n",
       "\n",
       "        async function convertToInteractive(key) {\n",
       "          const element = document.querySelector('#df-0f2c4ba3-67f4-424d-be34-e858940f9e57');\n",
       "          const dataTable =\n",
       "            await google.colab.kernel.invokeFunction('convertToInteractive',\n",
       "                                                     [key], {});\n",
       "          if (!dataTable) return;\n",
       "\n",
       "          const docLinkHtml = 'Like what you see? Visit the ' +\n",
       "            '<a target=\"_blank\" href=https://colab.research.google.com/notebooks/data_table.ipynb>data table notebook</a>'\n",
       "            + ' to learn more about interactive tables.';\n",
       "          element.innerHTML = '';\n",
       "          dataTable['output_type'] = 'display_data';\n",
       "          await google.colab.output.renderOutput(dataTable, element);\n",
       "          const docLink = document.createElement('div');\n",
       "          docLink.innerHTML = docLinkHtml;\n",
       "          element.appendChild(docLink);\n",
       "        }\n",
       "      </script>\n",
       "    </div>\n",
       "  </div>\n",
       "  "
      ],
      "text/plain": [
       "      id      date  bedrooms  bathrooms  sqft_living  sqft_lot  floors  \\\n",
       "0  15906  20160429         2       1.00          790      9784     1.0   \n",
       "1   6872  20150528         4       2.25         2410      4560     2.0   \n",
       "2    634  20151030         3       1.00          860      6664     1.0   \n",
       "3  18094  20150617         3       1.00          980      7200     1.0   \n",
       "4  15811  20151231         2       1.50         1556     20000     1.0   \n",
       "\n",
       "   waterfront  view  condition  ...     long  sqft_living15  sqft_lot15  \\\n",
       "0           0     0          3  ... -122.284           2350       10102   \n",
       "1           0     2          5  ... -122.402           2150        5100   \n",
       "2           0     0          3  ... -122.247           1150        6857   \n",
       "3           0     0          4  ... -122.395           1180        6572   \n",
       "4           0     0          4  ... -122.282           2250       17286   \n",
       "\n",
       "   date_year  date_month  date_season  diff_yr_change_date  \\\n",
       "0       2016           4            1                   84   \n",
       "1       2015           5            1                   86   \n",
       "2       2015          10            3                   71   \n",
       "3       2015           6            2                   65   \n",
       "4       2015          12            0                   58   \n",
       "\n",
       "   distance_to_center  lat_rotate_45  long_rotate_45  \n",
       "0           16.878811      47.762599     -122.404947  \n",
       "1            8.231049      47.619905     -122.429130  \n",
       "2           15.573454      47.597631     -122.187653  \n",
       "3            6.344920      47.548628     -122.347954  \n",
       "4           25.758735      47.499343     -122.138862  \n",
       "\n",
       "[5 rows x 27 columns]"
      ]
     },
     "execution_count": 17,
     "metadata": {},
     "output_type": "execute_result"
    }
   ],
   "source": [
    "import geopy.distance\n",
    "lat_Seattle=47.617004\n",
    "long_Seattle=-122.343506\n",
    "coords_Seattle=(lat_Seattle,long_Seattle)\n",
    "df['distance_to_center']=df.apply(lambda x: geopy.distance.distance(coords_Seattle, (x.lat,x.long)).km, axis=1)\n",
    "\n",
    "df['lat_rotate_45']=df.apply(lambda x: rotate((x.lat,x.long),coords_Seattle,45)[0], axis=1)\n",
    "df['long_rotate_45']=df.apply(lambda x: rotate((x.lat,x.long),coords_Seattle,45)[1], axis=1)\n",
    "df.head()"
   ]
  },
  {
   "cell_type": "code",
   "execution_count": 18,
   "metadata": {
    "id": "ToSr4L_jhPPZ"
   },
   "outputs": [],
   "source": [
    "X_test=df.copy()\n",
    "X_test_copy=X_test.copy()\n",
    "X_test=X_test.iloc[:,feature_mask==1]"
   ]
  },
  {
   "cell_type": "markdown",
   "metadata": {
    "id": "JMf-cCyNhPPZ"
   },
   "source": [
    "Давайте нашей базовой моделью будет catboost, возможно мы потом еще посчитаем randomforest и добавим его в каком-то соотношении"
   ]
  },
  {
   "cell_type": "markdown",
   "metadata": {
    "id": "LzBO735VbqQL"
   },
   "source": [
    "**Подбор параметров**"
   ]
  },
  {
   "cell_type": "markdown",
   "metadata": {
    "id": "Z8hIcMbkbqQL"
   },
   "source": [
    "Начнем подбирать параметры теперь"
   ]
  },
  {
   "cell_type": "code",
   "execution_count": null,
   "metadata": {
    "id": "3jJN_tD7bqQM"
   },
   "outputs": [],
   "source": [
    "learning_rate=0.3\n",
    "n_estimators=400\n",
    "regressor = CatBoostRegressor(n_estimators=400, random_state=1,eval_metric='MAPE', \n",
    "                              verbose=0,learning_rate=learning_rate).fit(X_train,y_train)\n",
    "\n",
    "n_estimators_CatBoostRegressor = [\n",
    "    mape(\n",
    "        y_val, regressor.predict(X_val, ntree_end=i+1)\n",
    "    )\n",
    "    for i in (range(n_estimators))\n",
    "]\n",
    "\n",
    "n_estimators_CatBoostRegressor_train = [\n",
    "    mape(\n",
    "        y_train, regressor.predict(X_train, ntree_end=i+1)\n",
    "    )\n",
    "    for i in (range(n_estimators))\n",
    "]"
   ]
  },
  {
   "cell_type": "code",
   "execution_count": null,
   "metadata": {
    "id": "HpLkBdXSbqQM",
    "outputId": "8a17e7a6-3691-4115-9b0a-32a03e99a55a"
   },
   "outputs": [
    {
     "data": {
      "image/png": "[encoded data removed]",
      "text/plain": [
       "<Figure size 1440x360 with 1 Axes>"
      ]
     },
     "metadata": {},
     "output_type": "display_data"
    }
   ],
   "source": [
    "plt.figure(figsize=(20, 5))\n",
    "plt.plot(np.arange(len(n_estimators_CatBoostRegressor_train)) + 1, n_estimators_CatBoostRegressor_train, \n",
    "         lw=3, label='train CatBoostRegressor')\n",
    "plt.plot(np.arange(len(n_estimators_CatBoostRegressor)) + 1, n_estimators_CatBoostRegressor, \n",
    "         lw=3, label='val CatBoostRegressor')\n",
    "plt.xlabel('Количество деревьев')\n",
    "plt.ylabel('MAPE')\n",
    "plt.title('MAPE моделей от кол-ва деревьев')\n",
    "plt.ylim(0.08,0.25)\n",
    "plt.legend()\n",
    "plt.show()"
   ]
  },
  {
   "cell_type": "markdown",
   "metadata": {
    "id": "Xo9O900fbaIP"
   },
   "source": [
    "Хотелось бы сказать, что давайте зафиксируем 300 деревьев и все, но на самом деле тут так нельзя. 1) метрика чуть-чуть, но становится лучше. Поэтому надо точно найти момент, когда у нас больше не будет улучшений(сделай дальше). \n",
    "2)базовый параметр равен 1000, не просто так же, так что хороший поаод по-лучше поискать данный параметр."
   ]
  },
  {
   "cell_type": "markdown",
   "metadata": {
    "id": "E8TbWscKbqQN"
   },
   "source": [
    "Выше я сделал, как мы делали раньше, но давайте ниже сделаем с помощью cv"
   ]
  },
  {
   "cell_type": "code",
   "execution_count": null,
   "metadata": {
    "colab": {
     "referenced_widgets": [
      "46a1e33a723749d0b147129e11eddd48"
     ]
    },
    "id": "gv43k6FQbqQN",
    "outputId": "4f0d75f3-cb52-4868-f2c9-db13424a508f"
   },
   "outputs": [
    {
     "data": {
      "application/vnd.jupyter.widget-view+json": {
       "model_id": "46a1e33a723749d0b147129e11eddd48",
       "version_major": 2,
       "version_minor": 0
      },
      "text/plain": [
       "MetricVisualizer(layout=Layout(align_self='stretch', height='500px'))"
      ]
     },
     "metadata": {},
     "output_type": "display_data"
    },
    {
     "name": "stdout",
     "output_type": "stream",
     "text": [
      "Training on fold [0/5]\n",
      "\n",
      "bestTest = 0.2917493528\n",
      "bestIteration = 428\n",
      "\n",
      "Training on fold [1/5]\n",
      "\n",
      "bestTest = 0.2630242309\n",
      "bestIteration = 1388\n",
      "\n",
      "Training on fold [2/5]\n",
      "\n",
      "bestTest = 0.2705403072\n",
      "bestIteration = 2424\n",
      "\n",
      "Training on fold [3/5]\n",
      "\n",
      "bestTest = 0.2699360174\n",
      "bestIteration = 1200\n",
      "\n",
      "Training on fold [4/5]\n",
      "\n",
      "bestTest = 0.2910262909\n",
      "bestIteration = 2725\n",
      "\n"
     ]
    }
   ],
   "source": [
    "cv_dataset = Pool(data=X_train,\n",
    "                  label=y_train,\n",
    "                  cat_features=['zipcode'])\n",
    "params = {'learning_rate':learning_rate,\n",
    "         'eval_metric':'MAPE',\n",
    "          \"loss_function\": \"MAPE\",\n",
    "        'verbose':0}\n",
    "scores = cv(cv_dataset,\n",
    "            params,\n",
    "            fold_count=5, \n",
    "            plot=\"True\",\n",
    "            iterations=4000,\n",
    "            early_stopping_rounds=300, verbose=0)\n"
   ]
  },
  {
   "cell_type": "code",
   "execution_count": null,
   "metadata": {
    "id": "ykP5rk4rbqQN"
   },
   "outputs": [],
   "source": [
    "n_estimators=len(scores)\n"
   ]
  },
  {
   "cell_type": "code",
   "execution_count": null,
   "metadata": {
    "id": "Oq5GQ-yFbqQO",
    "outputId": "f3a5ac2a-7144-4135-b6d6-05d9fb0ebd93"
   },
   "outputs": [
    {
     "name": "stdout",
     "output_type": "stream",
     "text": [
      "Fitting 5 folds for each of 16 candidates, totalling 80 fits\n"
     ]
    },
    {
     "data": {
      "text/plain": [
       "GridSearchCV(cv=5,\n",
       "             estimator=<catboost.core.CatBoostRegressor object at 0x7f02705481d0>,\n",
       "             n_jobs=-1,\n",
       "             param_grid={'border_count': [128, 254],\n",
       "                         'max_depth': array([ 3,  4,  5,  6,  7,  8,  9, 10])},\n",
       "             scoring='neg_mean_absolute_percentage_error', verbose=1)"
      ]
     },
     "execution_count": 71,
     "metadata": {},
     "output_type": "execute_result"
    }
   ],
   "source": [
    "model = GridSearchCV(\n",
    "    CatBoostRegressor(n_estimators=n_estimators,learning_rate=learning_rate,silent=True, \n",
    "                      random_state=1,cat_features=['zipcode'],eval_metric='MAPE'),\n",
    "    param_grid={\n",
    "        'max_depth': np.arange(3,11),\n",
    "        'border_count':[128,254]\n",
    "    },\n",
    "    scoring='neg_mean_absolute_percentage_error',\n",
    "    cv=5,  # разбиение выборки на 5 фолдов\n",
    "    verbose=1,  # насколько часто печатать сообщения\n",
    "    n_jobs=-1  # кол-во параллельных процессов\n",
    ")\n",
    "model.fit(X_train, y_train)"
   ]
  },
  {
   "cell_type": "code",
   "execution_count": null,
   "metadata": {
    "id": "8drQHWTPbqQO",
    "outputId": "541ec0f9-b6d0-4648-8a85-7100fc8d9c33"
   },
   "outputs": [
    {
     "data": {
      "text/plain": [
       "{'border_count': 128, 'max_depth': 6}"
      ]
     },
     "execution_count": 74,
     "metadata": {},
     "output_type": "execute_result"
    }
   ],
   "source": [
    "best_params=model.best_params_\n",
    "best_params"
   ]
  },
  {
   "cell_type": "code",
   "execution_count": null,
   "metadata": {
    "colab": {
     "referenced_widgets": [
      "36c279dfcd78498c9f208df410d6243a"
     ]
    },
    "id": "u472IP4DbqQP",
    "outputId": "2d5c1c87-3fc6-44fd-a042-74460112fa5e"
   },
   "outputs": [
    {
     "data": {
      "application/vnd.jupyter.widget-view+json": {
       "model_id": "36c279dfcd78498c9f208df410d6243a",
       "version_major": 2,
       "version_minor": 0
      },
      "text/plain": [
       "  0%|          | 0/100 [00:00<?, ?it/s]"
      ]
     },
     "metadata": {},
     "output_type": "display_data"
    }
   ],
   "source": [
    "#нарисуем примерный график зависимости модели от learning_rate, чтобы понимать в каком диапазоне искать\n",
    "res_val=[]\n",
    "res_train=[]\n",
    "grid=np.logspace(-5,1.3,100)\n",
    "for i in tqdm(grid):\n",
    "    model=CatBoostRegressor(n_estimators=n_estimators,learning_rate=learning_rate,\n",
    "                      silent=True,random_state=1,cat_features=['zipcode'],eval_metric='MAPE',**best_params,l2_leaf_reg=i)\n",
    "    model.fit(X_train,y_train)\n",
    "    \n",
    "    predictions = model.predict(X_val)\n",
    "    res_val.append(mape(y_val,predictions))\n",
    "    \n",
    "    predictions = model.predict(X_train)\n",
    "    res_train.append(mape(y_train,predictions))"
   ]
  },
  {
   "cell_type": "code",
   "execution_count": null,
   "metadata": {
    "id": "vuyVjXX4bqQP",
    "outputId": "15151368-3fd1-46fe-806b-16059793621a"
   },
   "outputs": [
    {
     "data": {
      "image/png": "[encoded data removed]",
      "text/plain": [
       "<Figure size 1080x792 with 1 Axes>"
      ]
     },
     "metadata": {},
     "output_type": "display_data"
    }
   ],
   "source": [
    "plt.figure(figsize=(15, 11))\n",
    "plt.plot(grid, res_val, \n",
    "         lw=3, label='val CatBoostRegressor')\n",
    "plt.plot(grid, res_train, \n",
    "         lw=3, label='train CatBoostRegressor')\n",
    "plt.xlabel('l2_leaf_reg')\n",
    "plt.ylabel('MAPE')\n",
    "plt.xscale(\"log\") \n",
    "plt.title('MAPE моделей от l2_leaf_reg')\n",
    "#plt.ylim(0.115,0.12)\n",
    "plt.legend()\n",
    "plt.show()"
   ]
  },
  {
   "cell_type": "markdown",
   "metadata": {
    "id": "wbqOMok0b42I"
   },
   "source": [
    "В какой-то момент мы видим проблему с обучением, то есть на train метрика резко ухудшается, а вот на val она около оптимальной. Но это нелогично, по-хорошему такого не должно быть. "
   ]
  },
  {
   "cell_type": "code",
   "execution_count": null,
   "metadata": {
    "id": "j80-Lq0cbqQQ",
    "outputId": "4e8c7147-ec18-4c42-ccaf-5b4023cb9723"
   },
   "outputs": [
    {
     "name": "stdout",
     "output_type": "stream",
     "text": [
      "Fitting 5 folds for each of 100 candidates, totalling 500 fits\n",
      "CPU times: user 12.1 s, sys: 1.34 s, total: 13.4 s\n",
      "Wall time: 16min 31s\n"
     ]
    },
    {
     "data": {
      "text/plain": [
       "RandomizedSearchCV(cv=5,\n",
       "                   estimator=<catboost.core.CatBoostRegressor object at 0x7f025afb3550>,\n",
       "                   n_iter=100, n_jobs=-1,\n",
       "                   param_distributions={'l2_leaf_reg': array([1.00000000e-03, 1.00009211e-03, 1.00018423e-03, ...,\n",
       "       9.99815808e+00, 9.99907900e+00, 1.00000000e+01])},\n",
       "                   scoring='neg_mean_absolute_percentage_error', verbose=1)"
      ]
     },
     "execution_count": 114,
     "metadata": {},
     "output_type": "execute_result"
    }
   ],
   "source": [
    "%%time\n",
    "model = RandomizedSearchCV(\n",
    "    CatBoostRegressor(n_estimators=n_estimators,learning_rate=learning_rate,\n",
    "                      silent=True,random_state=1,cat_features=['zipcode'],eval_metric='MAPE',**best_params),\n",
    "    param_distributions={\n",
    "        'l2_leaf_reg': np.logspace(-3,1,100000),\n",
    "        #'random_strength':np.arange(0,20)\n",
    "    },\n",
    "    scoring='neg_mean_absolute_percentage_error',\n",
    "    cv=5,  # разбиение выборки на 5 фолдов\n",
    "    verbose=1,  # насколько часто печатать сообщения\n",
    "    n_jobs=-1,  # кол-во параллельных процессов,\n",
    "    n_iter=100\n",
    ")\n",
    "model.fit(X_train, y_train)"
   ]
  },
  {
   "cell_type": "code",
   "execution_count": null,
   "metadata": {
    "id": "dmrtiwsNbqQQ",
    "outputId": "c122c6a8-825c-42ea-978d-f1d244095d2c"
   },
   "outputs": [
    {
     "data": {
      "text/plain": [
       "{'l2_leaf_reg': 4.041253233982573}"
      ]
     },
     "execution_count": 115,
     "metadata": {},
     "output_type": "execute_result"
    }
   ],
   "source": [
    "best_params_2=model.best_params_\n",
    "best_params_2"
   ]
  },
  {
   "cell_type": "markdown",
   "metadata": {
    "id": "X536BljrcOuV"
   },
   "source": [
    "Все что выше я сделал, это я посмотрел на каждое действие эвристического алгоритма поиска оптимальных параметров. Реализуем это в функции, которую будем запускать внутри цикла, где уже будем перебирать learning_rate. Также я понял в каком диапазоне мне стоит искать гиперпараметры, также пониманию этого помогли базовые значения у catboost."
   ]
  },
  {
   "cell_type": "markdown",
   "metadata": {
    "id": "LRiWv72bbqQR"
   },
   "source": [
    "**Давайте теперь сделаем цикл, где будем все это прогонять(сначала learning_rate и т.д.)**"
   ]
  },
  {
   "cell_type": "code",
   "execution_count": null,
   "metadata": {
    "id": "yDyay4fWbqQR"
   },
   "outputs": [],
   "source": [
    "def search_opt(learning_rate):\n",
    "    cv_dataset = Pool(data=X_train,\n",
    "                  label=y_train,\n",
    "                  cat_features=['zipcode'])\n",
    "    params = {'learning_rate':learning_rate,\n",
    "             'eval_metric':'MAPE',\n",
    "              \"loss_function\": \"MAPE\",\n",
    "            'verbose':0}\n",
    "    scores = cv(cv_dataset,\n",
    "                params,\n",
    "                fold_count=5, \n",
    "                plot=\"True\",\n",
    "                iterations=1500,\n",
    "                early_stopping_rounds=150, verbose=0)\n",
    "    n_estimators=len(scores)#нашли кол-во деревьев\n",
    "    print(n_estimators)\n",
    "    \n",
    "    model = GridSearchCV(\n",
    "    CatBoostRegressor(n_estimators=n_estimators,learning_rate=learning_rate,silent=True, \n",
    "                      random_state=1,cat_features=['zipcode'],eval_metric='MAPE'),\n",
    "    param_grid={\n",
    "        'max_depth': np.arange(3,11),\n",
    "        #'border_count':[128,254]\n",
    "    },\n",
    "    scoring='neg_mean_absolute_percentage_error',\n",
    "    cv=5,  # разбиение выборки на 5 фолдов\n",
    "    verbose=1,  # насколько часто печатать сообщения\n",
    "    n_jobs=-1  # кол-во параллельных процессов\n",
    "    )\n",
    "    model.fit(X_train, y_train)\n",
    "    best_params=model.best_params_\n",
    "    #нашли макс глубину\n",
    "    print(best_params)\n",
    "    \n",
    "    model = RandomizedSearchCV(\n",
    "        CatBoostRegressor(n_estimators=n_estimators,learning_rate=learning_rate,\n",
    "                          silent=True,random_state=1,cat_features=['zipcode'],eval_metric='MAPE',**best_params),\n",
    "        param_distributions={\n",
    "            'l2_leaf_reg': np.logspace(-3,1,100000),\n",
    "            #'random_strength':np.arange(0,20)\n",
    "        },\n",
    "        scoring='neg_mean_absolute_percentage_error',\n",
    "        cv=5,  # разбиение выборки на 5 фолдов\n",
    "        verbose=1,  # насколько часто печатать сообщения\n",
    "        n_jobs=-1,  # кол-во параллельных процессов,\n",
    "        n_iter=100\n",
    "    )\n",
    "    model.fit(X_train, y_train)\n",
    "    best_params_2=model.best_params_\n",
    "    #нашли регуляризацию\n",
    "    print(best_params_2)\n",
    "    \n",
    "    model=CatBoostRegressor(n_estimators=n_estimators,learning_rate=learning_rate,\n",
    "                          silent=True,random_state=1,cat_features=['zipcode'],eval_metric='MAPE',**best_params,**best_params_2)\n",
    "    model.fit(X_train,y_train)\n",
    "    prediction=mape(y_val,model.predict(X_val))\n",
    "    print(prediction)\n",
    "    return best_params,best_params_2,prediction"
   ]
  },
  {
   "cell_type": "code",
   "execution_count": null,
   "metadata": {
    "colab": {
     "referenced_widgets": [
      "fb0bbbc0cda442ac9b3c658674458435",
      "bdc081d1e6864add826e6e7c50dad2b0",
      "46ffa8bb4d7240ed899cc3dc5dd255c4",
      "43eb44f7e87e4d4b87d05f9d36b71d9a",
      "73484fa74b7e417580a9a62d2b5f48ff"
     ]
    },
    "id": "jwnIO7kfbqQR",
    "outputId": "6d59f3f7-0240-4572-dcbd-a3a19693af32"
   },
   "outputs": [
    {
     "name": "stderr",
     "output_type": "stream",
     "text": [
      "Custom logger is already specified. Specify more than one logger at same time is not thread safe."
     ]
    },
    {
     "data": {
      "application/vnd.jupyter.widget-view+json": {
       "model_id": "fb0bbbc0cda442ac9b3c658674458435",
       "version_major": 2,
       "version_minor": 0
      },
      "text/plain": [
       "MetricVisualizer(layout=Layout(align_self='stretch', height='500px'))"
      ]
     },
     "metadata": {},
     "output_type": "display_data"
    },
    {
     "name": "stdout",
     "output_type": "stream",
     "text": [
      "Training on fold [0/5]\n",
      "\n",
      "bestTest = 0.297952546\n",
      "bestIteration = 440\n",
      "\n",
      "Training on fold [1/5]\n",
      "\n",
      "bestTest = 0.285948758\n",
      "bestIteration = 1480\n",
      "\n",
      "Training on fold [2/5]\n",
      "\n",
      "bestTest = 0.2797922937\n",
      "bestIteration = 1499\n",
      "\n",
      "Training on fold [3/5]\n",
      "\n",
      "bestTest = 0.3033893349\n",
      "bestIteration = 1361\n",
      "\n",
      "Training on fold [4/5]\n",
      "\n",
      "bestTest = 0.2896709907\n",
      "bestIteration = 1090\n",
      "\n",
      "1500\n",
      "Fitting 5 folds for each of 8 candidates, totalling 40 fits\n",
      "{'max_depth': 6}\n",
      "Fitting 5 folds for each of 100 candidates, totalling 500 fits\n",
      "{'l2_leaf_reg': 2.030079637737623}\n",
      "0.11411873504851924\n",
      "k = 1\n"
     ]
    },
    {
     "data": {
      "application/vnd.jupyter.widget-view+json": {
       "model_id": "bdc081d1e6864add826e6e7c50dad2b0",
       "version_major": 2,
       "version_minor": 0
      },
      "text/plain": [
       "MetricVisualizer(layout=Layout(align_self='stretch', height='500px'))"
      ]
     },
     "metadata": {},
     "output_type": "display_data"
    },
    {
     "name": "stdout",
     "output_type": "stream",
     "text": [
      "Training on fold [0/5]\n",
      "\n",
      "bestTest = 0.289714936\n",
      "bestIteration = 231\n",
      "\n",
      "Training on fold [1/5]\n",
      "\n",
      "bestTest = 0.2876433572\n",
      "bestIteration = 1487\n",
      "\n",
      "Training on fold [2/5]\n",
      "\n",
      "bestTest = 0.2816185381\n",
      "bestIteration = 1352\n",
      "\n",
      "Training on fold [3/5]\n",
      "\n",
      "bestTest = 0.2864081985\n",
      "bestIteration = 1499\n",
      "\n",
      "Training on fold [4/5]\n",
      "\n",
      "bestTest = 0.2947012749\n",
      "bestIteration = 513\n",
      "\n",
      "1500\n",
      "Fitting 5 folds for each of 8 candidates, totalling 40 fits\n",
      "{'max_depth': 7}\n",
      "Fitting 5 folds for each of 100 candidates, totalling 500 fits\n",
      "{'l2_leaf_reg': 3.988742571253845}\n",
      "0.11272737979954625\n",
      "k = 2\n"
     ]
    },
    {
     "data": {
      "application/vnd.jupyter.widget-view+json": {
       "model_id": "46ffa8bb4d7240ed899cc3dc5dd255c4",
       "version_major": 2,
       "version_minor": 0
      },
      "text/plain": [
       "MetricVisualizer(layout=Layout(align_self='stretch', height='500px'))"
      ]
     },
     "metadata": {},
     "output_type": "display_data"
    },
    {
     "name": "stdout",
     "output_type": "stream",
     "text": [
      "Training on fold [0/5]\n",
      "\n",
      "bestTest = 0.3188611456\n",
      "bestIteration = 950\n",
      "\n",
      "Training on fold [1/5]\n",
      "\n",
      "bestTest = 0.2818335005\n",
      "bestIteration = 1499\n",
      "\n",
      "Training on fold [2/5]\n",
      "\n",
      "bestTest = 0.3022277021\n",
      "bestIteration = 1298\n",
      "\n",
      "Training on fold [3/5]\n",
      "\n",
      "bestTest = 0.2918187603\n",
      "bestIteration = 1499\n",
      "\n",
      "Training on fold [4/5]\n",
      "\n",
      "bestTest = 0.3004195909\n",
      "bestIteration = 1252\n",
      "\n",
      "1500\n",
      "Fitting 5 folds for each of 8 candidates, totalling 40 fits\n",
      "{'max_depth': 7}\n",
      "Fitting 5 folds for each of 100 candidates, totalling 500 fits\n",
      "{'l2_leaf_reg': 5.448505112856933}\n",
      "0.113316186610225\n",
      "k = 3\n"
     ]
    },
    {
     "data": {
      "application/vnd.jupyter.widget-view+json": {
       "model_id": "43eb44f7e87e4d4b87d05f9d36b71d9a",
       "version_major": 2,
       "version_minor": 0
      },
      "text/plain": [
       "MetricVisualizer(layout=Layout(align_self='stretch', height='500px'))"
      ]
     },
     "metadata": {},
     "output_type": "display_data"
    },
    {
     "name": "stdout",
     "output_type": "stream",
     "text": [
      "Training on fold [0/5]\n",
      "\n",
      "bestTest = 0.2896122672\n",
      "bestIteration = 577\n",
      "\n",
      "Training on fold [1/5]\n",
      "\n",
      "bestTest = 0.2849218613\n",
      "bestIteration = 1432\n",
      "\n",
      "Training on fold [2/5]\n",
      "\n",
      "bestTest = 0.3020015798\n",
      "bestIteration = 1471\n",
      "\n",
      "Training on fold [3/5]\n",
      "\n",
      "bestTest = 0.2895234765\n",
      "bestIteration = 1496\n",
      "\n",
      "Training on fold [4/5]\n",
      "\n",
      "bestTest = 0.3012586457\n",
      "bestIteration = 454\n",
      "\n",
      "1500\n",
      "Fitting 5 folds for each of 8 candidates, totalling 40 fits\n",
      "{'max_depth': 7}\n",
      "Fitting 5 folds for each of 100 candidates, totalling 500 fits\n",
      "{'l2_leaf_reg': 3.1923833800490824}\n",
      "0.11315015685686636\n",
      "k = 4\n"
     ]
    },
    {
     "data": {
      "application/vnd.jupyter.widget-view+json": {
       "model_id": "73484fa74b7e417580a9a62d2b5f48ff",
       "version_major": 2,
       "version_minor": 0
      },
      "text/plain": [
       "MetricVisualizer(layout=Layout(align_self='stretch', height='500px'))"
      ]
     },
     "metadata": {},
     "output_type": "display_data"
    },
    {
     "name": "stdout",
     "output_type": "stream",
     "text": [
      "Training on fold [0/5]\n",
      "\n",
      "bestTest = 0.2976413873\n",
      "bestIteration = 1465\n",
      "\n",
      "Training on fold [1/5]\n",
      "\n",
      "bestTest = 0.2907621576\n",
      "bestIteration = 1499\n",
      "\n",
      "Training on fold [2/5]\n",
      "\n",
      "bestTest = 0.3056794174\n",
      "bestIteration = 1411\n",
      "\n",
      "Training on fold [3/5]\n",
      "\n",
      "bestTest = 0.3155498872\n",
      "bestIteration = 1499\n",
      "\n",
      "Training on fold [4/5]\n",
      "\n",
      "bestTest = 0.2995760269\n",
      "bestIteration = 1257\n",
      "\n",
      "1500\n",
      "Fitting 5 folds for each of 8 candidates, totalling 40 fits\n",
      "{'max_depth': 8}\n",
      "Fitting 5 folds for each of 100 candidates, totalling 500 fits\n"
     ]
    }
   ],
   "source": [
    "learning_rate=np.arange(0.05,0.3,0.01)\n",
    "first_params=[]\n",
    "second_params=[]\n",
    "res_prediction=[]\n",
    "best_res_prediction=np.inf\n",
    "\n",
    "k=0\n",
    "learning_rate=0.1\n",
    "while True:\n",
    "    best_params,best_params_2,prediction=search_opt(learning_rate)\n",
    "    first_params.append(best_params)\n",
    "    second_params.append(second_params)\n",
    "    res_prediction.append(prediction)\n",
    "    \n",
    "    k+=1\n",
    "    print('k =',k)\n",
    "    if (np.abs(prediction-best_res_prediction))<=1e-3 or k>=10:\n",
    "        best_res_prediction=prediction\n",
    "        break\n",
    "    if (best_res_prediction>prediction):\n",
    "        best_res_prediction=prediction\n",
    "    learning_rate-=0.01"
   ]
  },
  {
   "cell_type": "markdown",
   "metadata": {
    "id": "Zlh823gTfCpF"
   },
   "source": [
    "Теперь мы можем задать итоговую нашу модель"
   ]
  },
  {
   "cell_type": "code",
   "execution_count": 28,
   "metadata": {
    "colab": {
     "base_uri": "https://localhost:8080/"
    },
    "id": "Dgo2DCwjbqQS",
    "outputId": "656df9e1-e1e5-4f2a-bb9f-4d0a8ca128f4"
   },
   "outputs": [
    {
     "data": {
      "text/plain": [
       "<catboost.core.CatBoostRegressor at 0x7f33580105d0>"
      ]
     },
     "execution_count": 28,
     "metadata": {},
     "output_type": "execute_result"
    }
   ],
   "source": [
    "model=CatBoostRegressor(n_estimators=1500,l2_leaf_reg=3.988742571253845,learning_rate=0.075,\n",
    "                          silent=True,random_state=1,cat_features=['zipcode'],eval_metric='MAPE',max_depth=7,border_count=124)\n",
    "model.fit(X_train,y_train)"
   ]
  },
  {
   "cell_type": "code",
   "execution_count": 29,
   "metadata": {
    "colab": {
     "base_uri": "https://localhost:8080/"
    },
    "id": "ebNvr2WpgqkF",
    "outputId": "9b285d4c-5f0b-4fce-9772-35593791b372"
   },
   "outputs": [
    {
     "data": {
      "text/plain": [
       "11.207689381683275"
      ]
     },
     "execution_count": 29,
     "metadata": {},
     "output_type": "execute_result"
    }
   ],
   "source": [
    "mape(y_val,model.predict(X_val))*100"
   ]
  },
  {
   "cell_type": "markdown",
   "metadata": {
    "id": "_40nHaIJaaJi"
   },
   "source": [
    "Именно данная реализация дала максимальный результат на 30 процентой части теста. **10.865**. Ее параметры около оптимальных, пока что лучший кандидат."
   ]
  },
  {
   "cell_type": "code",
   "execution_count": 35,
   "metadata": {
    "id": "HvJVsNlTg6yM"
   },
   "outputs": [],
   "source": [
    "def do_test_file(model):\n",
    "    predictions_test=model.predict(X_test)\n",
    "    df_test_res=pd.DataFrame(zip(np.arange(1,len(predictions_test)+1),predictions_test))\n",
    "    df_test_res.columns=['index','price']\n",
    "    df_test_res=df_test_res.set_index('index')\n",
    "    df_test_res.to_csv(\"test_res.csv\")"
   ]
  },
  {
   "cell_type": "code",
   "execution_count": 36,
   "metadata": {
    "id": "uyGvA-6iwLo7"
   },
   "outputs": [],
   "source": [
    "do_test_file(model)"
   ]
  },
  {
   "cell_type": "markdown",
   "metadata": {
    "id": "FlUKnmPKyAKQ"
   },
   "source": [
    "Последний поиск параметров в catboost"
   ]
  },
  {
   "cell_type": "code",
   "execution_count": null,
   "metadata": {
    "colab": {
     "base_uri": "https://localhost:8080/"
    },
    "id": "60ahtfWo4cxa",
    "outputId": "431d44c2-956b-4cec-86f9-bf5b269628ee"
   },
   "outputs": [
    {
     "name": "stdout",
     "output_type": "stream",
     "text": [
      "Fitting 5 folds for each of 300 candidates, totalling 1500 fits\n"
     ]
    }
   ],
   "source": [
    "model = RandomizedSearchCV(\n",
    "        CatBoostRegressor(silent=True,random_state=1,cat_features=['zipcode'],eval_metric='MAPE'),\n",
    "        param_distributions={\n",
    "            'n_estimators': np.arange(1300,1700),\n",
    "            'l2_leaf_reg': np.logspace(-1,1,100000),\n",
    "            'learning_rate':np.linspace(0.07,0.11,1000000),\n",
    "            'max_depth':[6,7,8],\n",
    "            'border_count':np.arange(100,150)\n",
    "        },\n",
    "        scoring='neg_mean_absolute_percentage_error',\n",
    "        cv=5,  # разбиение выборки на 5 фолдов\n",
    "        verbose=1,  # насколько часто печатать сообщения\n",
    "        n_jobs=-1,  # кол-во параллельных процессов,\n",
    "        n_iter=300\n",
    "    )\n",
    "model.fit(X_train_all, y_train_all)\n",
    "model.best_params_, model.best_score_"
   ]
  },
  {
   "cell_type": "markdown",
   "metadata": {
    "id": "9tPSkp70aC9U"
   },
   "source": [
    "Получил оптимальные параметры, подставил вниз их"
   ]
  },
  {
   "cell_type": "code",
   "execution_count": 45,
   "metadata": {
    "colab": {
     "base_uri": "https://localhost:8080/"
    },
    "id": "mqCZdo0OtM2U",
    "outputId": "7a4a72c6-16ad-425b-a165-8a1a3ff8af10"
   },
   "outputs": [
    {
     "data": {
      "text/plain": [
       "<catboost.core.CatBoostRegressor at 0x7fbee726c0d0>"
      ]
     },
     "execution_count": 45,
     "metadata": {},
     "output_type": "execute_result"
    }
   ],
   "source": [
    "model=CatBoostRegressor(n_estimators=1390,l2_leaf_reg=3.6599540652461506,learning_rate=0.07227040227040228,\n",
    "                          silent=True,random_state=1,cat_features=['zipcode'],eval_metric='MAPE',max_depth=7,border_count=145)\n",
    "model.fit(X_train_all,y_train_all)"
   ]
  },
  {
   "cell_type": "code",
   "execution_count": 46,
   "metadata": {
    "id": "rBKY-PqvHmbE"
   },
   "outputs": [],
   "source": [
    "do_test_file(model)"
   ]
  },
  {
   "cell_type": "markdown",
   "metadata": {
    "id": "1gsKMNV7aH8Y"
   },
   "source": [
    "На 30 процентной части теста это дало 10.92.Хороший вариант для возможного стеккинга, но уступает моему лучшему 10.86"
   ]
  },
  {
   "cell_type": "markdown",
   "metadata": {
    "id": "itoLxFTcL2H5"
   },
   "source": [
    "**Найдем опт параметры для lightboost**"
   ]
  },
  {
   "cell_type": "code",
   "execution_count": 25,
   "metadata": {
    "id": "EiyHdZPkOOZp"
   },
   "outputs": [],
   "source": [
    "from lightgbm import Dataset\n",
    "from lightgbm import cv as cv_light\n",
    "X_train_lgbm=X_train.copy()\n",
    "X_train_lgbm['date']=X_train_lgbm['date'].astype('int')#или вообще уберем дату, надо будет попробовать\n",
    "\n",
    "X_val_lgbm=X_val.copy()\n",
    "X_val_lgbm['date']=X_val_lgbm['date'].astype('int')\n",
    "\n",
    "X_test_lgbm=X_test.copy()\n",
    "X_test_lgbm['date']=X_test_lgbm['date'].astype('int')"
   ]
  },
  {
   "cell_type": "code",
   "execution_count": 21,
   "metadata": {
    "colab": {
     "base_uri": "https://localhost:8080/"
    },
    "id": "kCnEJU0NWpSd",
    "outputId": "feb15f24-7e93-4c73-e6d0-f79803237126"
   },
   "outputs": [
    {
     "data": {
      "text/plain": [
       "0.12406768326378935"
      ]
     },
     "execution_count": 21,
     "metadata": {},
     "output_type": "execute_result"
    }
   ],
   "source": [
    "learning_rate=0.1\n",
    "regressor = LGBMRegressor(n_estimators=100, random_state=42, metric='mape',learning_rate=learning_rate)\n",
    "regressor.fit(X_train_lgbm, y_train)\n",
    "predictions = regressor.predict(X_val_lgbm)\n",
    "mape(y_val,predictions)"
   ]
  },
  {
   "cell_type": "code",
   "execution_count": 131,
   "metadata": {
    "colab": {
     "base_uri": "https://localhost:8080/"
    },
    "id": "TxnrKhNqmx-N",
    "outputId": "245f905b-6a61-4519-fb43-06edaaab0425"
   },
   "outputs": [
    {
     "name": "stdout",
     "output_type": "stream",
     "text": [
      "Fitting 5 folds for each of 50 candidates, totalling 250 fits\n",
      "{'num_leaves': 18, 'min_child_samples ': 18, 'max_depth': 7}\n"
     ]
    }
   ],
   "source": [
    "model = RandomizedSearchCV(\n",
    "    LGBMRegressor(n_estimators=100,learning_rate=learning_rate, \n",
    "                      random_state=1,metric='mape'),\n",
    "    param_distributions={\n",
    "        'max_depth': np.arange(3,10),\n",
    "        \"min_child_samples \": range(15, 25),\n",
    "        'num_leaves' : range(10,50)\n",
    "    },\n",
    "    scoring='neg_mean_absolute_percentage_error',\n",
    "    cv=5,  # разбиение выборки на 5 фолдов\n",
    "    verbose=1,  # насколько часто печатать сообщения\n",
    "    n_jobs=-1,  # кол-во параллельных процессов\n",
    "    n_iter=50\n",
    "    )\n",
    "model.fit(X_train_lgbm, y_train,categorical_feature=['zipcode'])\n",
    "best_params=model.best_params_\n",
    "#нашли макс глубину\n",
    "print(best_params)"
   ]
  },
  {
   "cell_type": "code",
   "execution_count": 136,
   "metadata": {
    "id": "2giXZW28MsUr"
   },
   "outputs": [],
   "source": [
    "def search_opt_light(learning_rate):\n",
    "    cv_dataset = Dataset(data=X_train_lgbm,\n",
    "                  label=y_train,\n",
    "                  categorical_feature =['zipcode'])\n",
    "    params = {'learning_rate':learning_rate,\n",
    "                'metric':'mape',\n",
    "                \"loss_function\": \"mape\",\n",
    "                'verbose':0}\n",
    "    scores = cv_light(params = params,\n",
    "        train_set = cv_dataset,\n",
    "        num_boost_round=1500,\n",
    "        stratified=False,\n",
    "        nfold = 5,\n",
    "        verbose_eval=0,\n",
    "        early_stopping_rounds=100)\n",
    "    n_estimators=np.argmin(scores['mape-mean'])\n",
    "    print(n_estimators)\n",
    "    \n",
    "    model = RandomizedSearchCV(\n",
    "        LGBMRegressor(n_estimators=n_estimators,learning_rate=learning_rate, \n",
    "                        random_state=1,metric='mape'),\n",
    "        param_distributions={\n",
    "            'max_depth': np.arange(3,10),\n",
    "            \"min_child_samples \": range(15, 25),\n",
    "            'num_leaves' : range(10,50)\n",
    "        },\n",
    "        scoring='neg_mean_absolute_percentage_error',\n",
    "        cv=5,  # разбиение выборки на 5 фолдов\n",
    "        verbose=1,  # насколько часто печатать сообщения\n",
    "        n_jobs=-1,  # кол-во параллельных процессов\n",
    "        n_iter=100\n",
    "        )\n",
    "    model.fit(X_train_lgbm, y_train,categorical_feature=['zipcode'])\n",
    "    best_params=model.best_params_\n",
    "    #нашли макс глубину\n",
    "    print(best_params)\n",
    "    \n",
    "    model = RandomizedSearchCV(\n",
    "        LGBMRegressor(n_estimators=n_estimators,learning_rate=learning_rate,silent=True, \n",
    "                      random_state=1,metric='mape',**best_params),\n",
    "        param_distributions={\n",
    "            'reg_alpha ': np.logspace(-3,1,100000),\n",
    "            'reg_lambda ':np.logspace(-3,1,100000)\n",
    "        },\n",
    "        scoring='neg_mean_absolute_percentage_error',\n",
    "        cv=5,  # разбиение выборки на 5 фолдов\n",
    "        verbose=1,  # насколько часто печатать сообщения\n",
    "        n_jobs=-1,  # кол-во параллельных процессов,\n",
    "        n_iter=100\n",
    "    )\n",
    "    model.fit(X_train_lgbm, y_train,categorical_feature=['zipcode'])\n",
    "    best_params_2=model.best_params_\n",
    "    #нашли регуляризацию\n",
    "    print(best_params_2)\n",
    "    \n",
    "    model=LGBMRegressor(n_estimators=n_estimators,learning_rate=learning_rate,silent=True, \n",
    "                      random_state=1,metric='mape',**best_params,**best_params_2)\n",
    "    model.fit(X_train_lgbm,y_train,categorical_feature=['zipcode'])\n",
    "    prediction=mape(y_val,model.predict(X_val_lgbm))\n",
    "    print(prediction)\n",
    "    return best_params,best_params_2,prediction"
   ]
  },
  {
   "cell_type": "code",
   "execution_count": null,
   "metadata": {
    "id": "aLeQ6CWyMsUr"
   },
   "outputs": [],
   "source": [
    "first_params=[]\n",
    "second_params=[]\n",
    "res_prediction=[]\n",
    "best_res_prediction=np.inf\n",
    "\n",
    "k=-1\n",
    "learning_rate=0.3\n",
    "while True:\n",
    "    best_params,best_params_2,prediction=search_opt_light(learning_rate)\n",
    "    first_params.append(best_params)\n",
    "    second_params.append(second_params)\n",
    "    res_prediction.append(prediction)\n",
    "    \n",
    "    k+=1\n",
    "    print('k =',k)\n",
    "    print(learning_rate)\n",
    "    if k>=29:\n",
    "        break\n",
    "    if (best_res_prediction>prediction):\n",
    "        best_res_prediction=prediction\n",
    "    learning_rate-=0.01"
   ]
  },
  {
   "cell_type": "code",
   "execution_count": 26,
   "metadata": {
    "colab": {
     "base_uri": "https://localhost:8080/"
    },
    "id": "4AmxEYoWWpxa",
    "outputId": "1b25bac2-6130-49bf-b7d7-0036b1d9f291"
   },
   "outputs": [
    {
     "data": {
      "text/plain": [
       "LGBMRegressor(learning_rate=0.019999999999999858, max_depth=9, metric='mape',\n",
       "              min_child_samples=15, num_leaves=44, random_state=1,\n",
       "              reg_alpha=0.05996499184822633, reg_lambda=9.988953586687582)"
      ]
     },
     "execution_count": 26,
     "metadata": {},
     "output_type": "execute_result"
    }
   ],
   "source": [
    "model=LGBMRegressor(num_leaves=44, min_child_samples=15, max_depth=9,silent=True, \n",
    "                      random_state=1,metric='mape',reg_lambda=9.988953586687582,\n",
    "                     reg_alpha =0.05996499184822633,learning_rate=0.019999999999999858)\n",
    "model.fit(X_train_lgbm,y_train,categorical_feature=['zipcode'])"
   ]
  },
  {
   "cell_type": "code",
   "execution_count": 27,
   "metadata": {
    "id": "FFK08w4HkPaP"
   },
   "outputs": [],
   "source": [
    "predictions_test=model.predict(X_test_lgbm)\n",
    "df_test_res=pd.DataFrame(zip(np.arange(1,len(predictions_test)+1),predictions_test))\n",
    "df_test_res.columns=['index','price']\n",
    "df_test_res=df_test_res.set_index('index')\n",
    "df_test_res.to_csv(\"test_res.csv\")"
   ]
  },
  {
   "cell_type": "markdown",
   "metadata": {
    "id": "NO81UoBCdLYj"
   },
   "source": [
    "**Мини-итог**:вообще я хотел использовать lightboost для совместного стеккинга с catboost, но разница в метрики между ними достаточно большая, скорее всего я не нашел самые оптимальные параметры lightboost(хотя из-за того, что он считает быстрее всех, я смог сделать полноценный эвристический подход к настройке гиперпараметров с шагом learning_rate всего 0.01). Но не получилось тут найти очень оптимальные параметры"
   ]
  },
  {
   "cell_type": "markdown",
   "metadata": {
    "id": "1JtsIZ5qd00T"
   },
   "source": [
    "**Вывод**. В данной задаче было очень важно поиграться с признаками. Но не только создать новые, как например поворот координат на 45 градусов или разница между двумя датами. Так и отбор наиболее оптимальных признаков. Также тут было очень важно найти нужные параметры catboost, которые искались очень долго, так как cv требовало много ресурсов. Еще надо отметить, что огромный плюс, что catboost умеет потрясающе работать с категориальными признаками,поэтому его было очень удобно и полезно работать, так как у нас был категориальный признак, который надо было хорошо обработать. В итоге добавлю, что можно было улучшить многие вещи (например поработать с выбросами или сделать стеккинг из разных бустов, но не хватило времени для реализации всех этих планов) "
   ]
  },
  {
   "cell_type": "code",
   "execution_count": null,
   "metadata": {
    "id": "_7dU5I7rZtUW"
   },
   "outputs": [],
   "source": []
  }
 ],
 "metadata": {
  "colab": {
   "collapsed_sections": [],
   "name": "task-1-4-3.ipynb",
   "provenance": []
  },
  "kernelspec": {
   "display_name": "Python 3 (ipykernel)",
   "language": "python",
   "name": "python3"
  },
  "language_info": {
   "codemirror_mode": {
    "name": "ipython",
    "version": 3
   },
   "file_extension": ".py",
   "mimetype": "text/x-python",
   "name": "python",
   "nbconvert_exporter": "python",
   "pygments_lexer": "ipython3",
   "version": "3.8.5"
  }
 },
 "nbformat": 4,
 "nbformat_minor": 1
}
