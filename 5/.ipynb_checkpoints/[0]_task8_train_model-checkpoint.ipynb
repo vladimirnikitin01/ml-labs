{
 "cells": [
  {
   "cell_type": "markdown",
   "metadata": {},
   "source": [
    "# Машинное обучение, DS-поток\n",
    "## Задание 1.5\n",
    "\n",
    "\n",
    "**Правила:**\n",
    "\n",
    "* Выполненную работу нужно отправить телеграм-боту `@miptstats_ad21_bot` (ноутбуки `[0]_task8_train_model.ipynb` и `[1]_task8_modules.ipynb`).\n",
    "* Дедлайны см. в боте. После дедлайна работы не принимаются кроме случаев наличия уважительной причины.\n",
    "* Прислать нужно ноутбук в формате `ipynb`.\n",
    "* Решения, размещенные на каких-либо интернет-ресурсах не принимаются. Публикация решения может быть приравнена к предоставлении возможности списать.\n",
    "* Для выполнения задания используйте этот ноутбук в качестве основы, ничего не удаляя из него.\n",
    "* Теоретические задачи необходимо оформить в LaTeX/markdown или же прислать фотку в правильной ориентации рукописного решения, **где все четко видно**.\n",
    "\n",
    "**Баллы за задание:**\n",
    "\n",
    "* Реализация модулей — 10 баллов.\n",
    "* Применение на синтетических данных — 5 баллов."
   ]
  },
  {
   "cell_type": "markdown",
   "metadata": {
    "id": "wHfxUPKSRjBI"
   },
   "source": [
    "<h1 align=center>\n",
    "    Welcome в Глубокое обучение!\n",
    "</h1>"
   ]
  },
  {
   "cell_type": "markdown",
   "metadata": {
    "id": "cSw29_PsRjBO"
   },
   "source": [
    "<img src=\"https://www.analyticsinsight.net/wp-content/uploads/2019/01/AutoML-1024x695.jpg\" width=500>"
   ]
  },
  {
   "cell_type": "markdown",
   "metadata": {
    "id": "3ya2s1amRjBO"
   },
   "source": [
    "В этом домашнем задании вам предстоит самостоятельно реализовать самые важные компоненты нейросети, **используя только `NumPy`**. \n",
    "\n",
    "Ноутбуков в задании много (целых 3), однако большая часть кода написана за вас.😉 Вам предстоит лишь  разобраться в уже написанном коде, понять, как работют некоторые важные компоненты нейронных сетей и написать недстающие строки кода, чтобы все заработало.\n",
    "\n",
    "Структура задания подразумевает выполнение 3-х `jupyter notebook`'ов:\n",
    "\n",
    "**`[0]_task8_train_model.ipynb`**: текущий ноутбук. В нем поясняется суть задания, описаны остальные ноутбуки и именно этот ноутбук нужно запустить, когда все слои уже реализованы;\n",
    "\n",
    "**`[1]_task8_modules.ipynb`**: ноутбук, в котором нужно непосредственно реализовать слои нейронной сети. А именно:\n",
    "\n",
    "В этом ноутбуке вам предстоит реализовать слои нейронной сети, используя только библиотеку NumPy:\n",
    "\n",
    "> Базовые концепции:\n",
    "- [x] `Module`     $-$ абстрактный класс для компонент нейронной сети;\n",
    "- [ ] *(2 балла)* `Sequential` $-$ класс, содержащий в себе последовательность объектов класса `Module`.\n",
    "\n",
    "> Слои:\n",
    "- [ ] *(2 балла)* `Linear`     $-$ линейный слой;\n",
    "- [ ] *(2 балла)* `SoftMax`    $-$ слой, вычисляющий операцию *softmax*;\n",
    "- [x] `LogSoftMax` $-$ слой, вычисляющий операцию *log(softmax)*;\n",
    "\n",
    "> Функции активации (тоже являются слоями, но выделены в отдельную секцию для удобства):\n",
    "- [ ] *(1 балл)* `ReLU`      $-$ функция активации *Rectified Linear Unit*;\n",
    "\n",
    "> Функции потерь:\n",
    "- [x] `Criterion`  $-$ абстрактный класс для функций потерь;\n",
    "- [ ] *(1 балл)* `NLLCriterionUnstable` $-$ negative log-likelihood функция потерь (нестабильная версия, возможны числовые переполнения);\n",
    "- [x] *(1 балл)* `NLLCriterion` $-$ negative log-likelihood функция потерь (стабильная версия).\n",
    "\n",
    "> Оптимизаторы:\n",
    "- [ ] *(1 балла)* `SGD`  $-$ алгоритм стохастического градиентного спуска.\n",
    "\n",
    "\n",
    "**Галочками** помечены те слои, которые **уже реализованы за вас**. Таким образом, задание состоит в реализации оставшихся слоёв (мы заботимся о вашем здоровье 🍀). \n",
    "\n",
    "**`[2]_task8_test_modules.ipynb`**: ноутбук с юнит-тестами, который следует использовать для отладки ноутбука\n",
    "**`[1]_task8_modules.ipynb`**. В ноутбуке с тестами ничего писать не надо (чтобы не портить себе жизнь) и отправлять в бот его тоже не надо)"
   ]
  },
  {
   "cell_type": "markdown",
   "metadata": {
    "id": "yOqanLJRRjBQ"
   },
   "source": [
    "**Всего за задание можно получить:**\n",
    "- **10 баллов** за `[1]task8_modules.ipynb`\n",
    "- **5 баллов** за `[0]task8_train_model.ipynb` (этот ноутбук)\n",
    "- Суммарно: **15 баллов**"
   ]
  },
  {
   "cell_type": "markdown",
   "metadata": {},
   "source": [
    "Задание на следующей неделе будет похожим на это. Нужно будет реализовть чуть более сложные модули и применить полученные модули для создания более продвинутой модели. "
   ]
  },
  {
   "cell_type": "markdown",
   "metadata": {
    "id": "lGKHCGSyRjBR"
   },
   "source": [
    "# 1. Использование NumPy-фреймворка 5 баллов"
   ]
  },
  {
   "cell_type": "code",
   "execution_count": null,
   "metadata": {
    "id": "GhFLgmi7RjBS"
   },
   "outputs": [],
   "source": [
    "# Путь к папке с заданием\n",
    "path_to_dir: str = ...\n",
    "# Путь к файлу с модулями\n",
    "path_to_modules_notebook = path_to_dir + \"[1]_task8_modules.ipynb\""
   ]
  },
  {
   "cell_type": "code",
   "execution_count": null,
   "metadata": {
    "colab": {
     "base_uri": "https://localhost:8080/"
    },
    "executionInfo": {
     "elapsed": 1935,
     "status": "ok",
     "timestamp": 1646590885916,
     "user": {
      "displayName": "Елизавета Юрьевна Дахова",
      "photoUrl": "https://lh3.googleusercontent.com/a/default-user=s64",
      "userId": "10296332071775057867"
     },
     "user_tz": -180
    },
    "id": "dpcCF98DRqfT",
    "outputId": "c4d037c1-19a5-45bc-f12e-2fb4f1f60b3c"
   },
   "outputs": [],
   "source": [
    "# В Google Colab подключаемся к диску\n",
    "if 'google.colab' in str(get_ipython()):\n",
    "    from google.colab import drive\n",
    "    drive.mount('/content/drive')\n",
    "    path_to_modules_notebook = \"drive/MyDrive/\" + path_to_modules_notebook"
   ]
  },
  {
   "cell_type": "markdown",
   "metadata": {
    "id": "zl9mEt6FRjBR"
   },
   "source": [
    "Следующая ячейка делает `from [1]_task8_modules.ipynb import *`, таким образом позволяя этому ноутбуку видеть все слои:"
   ]
  },
  {
   "cell_type": "code",
   "execution_count": null,
   "metadata": {
    "id": "nnd4-qKiSStD"
   },
   "outputs": [],
   "source": [
    "%run $path_to_modules_notebook"
   ]
  },
  {
   "cell_type": "markdown",
   "metadata": {
    "id": "J4Qq0UwtRjBU"
   },
   "source": [
    "После того, как все слои в `[1]_task8_modules.ipynb` протестированы и работают корректно (напомним, что для этого нужно пройти все `assert`'ы в **`[2]_task8_test_modules.ipynb`**), проверим нейросеть на наборах синтетических данных."
   ]
  },
  {
   "cell_type": "code",
   "execution_count": null,
   "metadata": {
    "id": "TGHZA-l9RjBU"
   },
   "outputs": [],
   "source": [
    "import time\n",
    "from time import time, sleep\n",
    "import warnings\n",
    "\n",
    "from itertools import cycle, islice\n",
    "\n",
    "from IPython import display\n",
    "\n",
    "import numpy as np\n",
    "import pandas as pd\n",
    "\n",
    "import scipy.stats as sps\n",
    "\n",
    "import matplotlib.pyplot as plt\n",
    "from matplotlib.colors import ListedColormap\n",
    "%matplotlib inline\n",
    "\n",
    "import seaborn as sns\n",
    "sns.set(font_scale=1.5)\n",
    "\n",
    "cm = plt.cm.RdBu\n",
    "cm_bright = ListedColormap(['#FF0000', '#0000FF'])\n",
    "\n",
    "import seaborn as sns\n",
    "\n",
    "from sklearn import cluster, datasets\n",
    "from sklearn.metrics import accuracy_score\n",
    "from sklearn.preprocessing import StandardScaler\n",
    "\n",
    "import torch\n",
    "import torch.nn as nn\n",
    "from torch.optim import SGD as torch_sgd\n",
    "\n",
    "RANDOM_SEED = 42\n",
    "\n",
    "np.random.seed(RANDOM_SEED)"
   ]
  },
  {
   "cell_type": "markdown",
   "metadata": {
    "id": "kEKI7YmeRjBV"
   },
   "source": [
    "## Синтетические данные (5 баллов = 3 + 2)"
   ]
  },
  {
   "cell_type": "markdown",
   "metadata": {
    "id": "tUsl7ATWRjBV"
   },
   "source": [
    "### Линейно разделимая выборка (3 балла)"
   ]
  },
  {
   "cell_type": "markdown",
   "metadata": {
    "id": "5dXdP9w8RjBW"
   },
   "source": [
    "Обучим однослойную нейронную сеть решать линейно-разделимую классификацию на 2 класса:"
   ]
  },
  {
   "cell_type": "code",
   "execution_count": null,
   "metadata": {
    "code_folding": [],
    "id": "WDD2hw-GRjBW"
   },
   "outputs": [],
   "source": [
    "n_samples = 1024\n",
    "n_classes = 2\n",
    "\n",
    "varied_blobs = datasets.make_blobs(\n",
    "    n_samples=n_samples,\n",
    "    n_features=2,\n",
    "    centers=n_classes,\n",
    "    cluster_std=[1.0, 2.5], \n",
    "    random_state=RANDOM_SEED\n",
    ")\n",
    "\n",
    "sample, labels = varied_blobs"
   ]
  },
  {
   "cell_type": "code",
   "execution_count": null,
   "metadata": {
    "colab": {
     "base_uri": "https://localhost:8080/",
     "height": 481
    },
    "executionInfo": {
     "elapsed": 1375,
     "status": "ok",
     "timestamp": 1646590890625,
     "user": {
      "displayName": "Елизавета Юрьевна Дахова",
      "photoUrl": "https://lh3.googleusercontent.com/a/default-user=s64",
      "userId": "10296332071775057867"
     },
     "user_tz": -180
    },
    "id": "4rHBpdowRjBW",
    "outputId": "628753d7-5544-45d4-e2de-192152308b07"
   },
   "outputs": [],
   "source": [
    "plt.figure(figsize=(12,7))\n",
    "plt.title('Линейно разделимая выборка')\n",
    "plt.xlabel('Признак 1')\n",
    "plt.ylabel('Признак 2')\n",
    "plt.scatter(sample[:,0], sample[:,1], c=labels, cmap=cm_bright, alpha=0.55);"
   ]
  },
  {
   "cell_type": "markdown",
   "metadata": {
    "id": "Pq86Mkl0RjBX"
   },
   "source": [
    "Генератор батчей (помним, что нейросети обучаются итеративно $-$ по батчам):"
   ]
  },
  {
   "cell_type": "code",
   "execution_count": null,
   "metadata": {
    "code_folding": [],
    "id": "Ephpv7UIRjBX"
   },
   "outputs": [],
   "source": [
    "def train_generator(sample, labels, batch_size):\n",
    "    '''\n",
    "    Генератор батчей. \n",
    "    На каждом шаге возвращает `batch_size` объектов из `sample` и их \n",
    "    меток из `labels`.\n",
    "    '''\n",
    "    n_samples = sample.shape[0]\n",
    "    # Перемешиваем в случайном порядке в начале эпохи\n",
    "    indices = np.arange(n_samples)\n",
    "    np.random.shuffle(indices)\n",
    "    # Обратите внимание на yield вместо return\n",
    "    # (если раньше не сталкивались с генераторами)\n",
    "    for start in range(0, n_samples, batch_size):\n",
    "        end = min(start + batch_size, n_samples)\n",
    "        batch_idx = indices[start:end]\n",
    "        yield sample[batch_idx], labels[batch_idx]"
   ]
  },
  {
   "cell_type": "markdown",
   "metadata": {
    "id": "W0lUQ0-pRjBY"
   },
   "source": [
    "Функция для удобного обучения модели:"
   ]
  },
  {
   "cell_type": "code",
   "execution_count": null,
   "metadata": {
    "id": "WnoS97wLRjBY"
   },
   "outputs": [],
   "source": [
    "def train_model(\n",
    "    model, \n",
    "    sample, y,\n",
    "    criterion,\n",
    "    opt_params, \n",
    "    opt_state, \n",
    "    n_epoch, \n",
    "    batch_size\n",
    "):\n",
    "    '''\n",
    "    Обучает модель из вашего мини-фреймворка. \n",
    "    Возвращает обученную модель, историю значений функции потерь \n",
    "    и метрики качества.\n",
    "    \n",
    "    :param `model`: модель из вашего мини-фреймворка\n",
    "    :param `sample`: матрица объектов\n",
    "    :param `y`: вектор истинных меток объектов\n",
    "    :param `criterion`: функция потерь\n",
    "    :param `opt_params`: гиперпараметры оптимизатора\n",
    "    :param `opt_state`: текущая информация о градиентах, \n",
    "                        хранящаяся в оптимизаторе\n",
    "    :param `n_epoch`: количество эпох\n",
    "    :param `batch_size`: размер одного батча\n",
    "    '''\n",
    "    \n",
    "    loss_history = []\n",
    "\n",
    "    for i in range(n_epoch):\n",
    "        for x_batch, y_batch in train_generator(sample, y, batch_size):\n",
    "            # Обнуляем градиенты с предыдущей итерации\n",
    "            # Forward pass\n",
    "            # Backward pass\n",
    "            \n",
    "            <ВАШ КОД ЗДЕСЬ>\n",
    "            \n",
    "            # Обновление весов\n",
    "            SGD(model.get_parameters(), \n",
    "                model.get_grad_params(), \n",
    "                opt_params,\n",
    "                opt_state)\n",
    "            loss_history.append(loss)\n",
    "\n",
    "        display.clear_output(wait=True)\n",
    "        \n",
    "        plt.figure(figsize=(8, 6))\n",
    "        plt.title(\"Функция потерь на train\")\n",
    "        plt.xlabel(\"итерация\")\n",
    "        plt.ylabel(\"лосс\")\n",
    "        plt.plot(loss_history, 'b')\n",
    "        plt.show()\n",
    "        print('Current loss: %f' % loss)\n",
    "    \n",
    "    return model, loss_history"
   ]
  },
  {
   "cell_type": "markdown",
   "metadata": {
    "id": "Gd7a7SuvRjBY"
   },
   "source": [
    "Построим однослойную нейросеть для классификации: размер слоя $2 \\times 2$, так как 2 признака и 2 класса. В качестве последнего слоя рекомендуется использовать `LogSoftMax`."
   ]
  },
  {
   "cell_type": "code",
   "execution_count": null,
   "metadata": {
    "colab": {
     "base_uri": "https://localhost:8080/"
    },
    "executionInfo": {
     "elapsed": 10,
     "status": "ok",
     "timestamp": 1646590890627,
     "user": {
      "displayName": "Елизавета Юрьевна Дахова",
      "photoUrl": "https://lh3.googleusercontent.com/a/default-user=s64",
      "userId": "10296332071775057867"
     },
     "user_tz": -180
    },
    "id": "33KoLlmHRjBZ",
    "outputId": "e694bd44-b16e-46b6-f687-e3e311440e75"
   },
   "outputs": [],
   "source": [
    "net = <ВАШ КОД ЗДЕСЬ>\n",
    "\n",
    "print(net)"
   ]
  },
  {
   "cell_type": "markdown",
   "metadata": {
    "id": "XIX-8zqMRjBZ"
   },
   "source": [
    "Объявим оптимизируемую функцию потерь и гиперпаарметры:"
   ]
  },
  {
   "cell_type": "code",
   "execution_count": null,
   "metadata": {
    "id": "eVQVPQEIRjBZ"
   },
   "outputs": [],
   "source": [
    "# Функция потерь\n",
    "criterion = <ВАШ КОД ЗДЕСЬ>\n",
    "\n",
    "# Гиперпараметры оптимизатора\n",
    "optimizer_config = {'learning_rate' : 1e-2}\n",
    "optimizer_state = {}\n",
    "\n",
    "# Гиперпараметры цикла обучения и генератора\n",
    "n_epoch = 50\n",
    "batch_size = 128"
   ]
  },
  {
   "cell_type": "markdown",
   "metadata": {
    "id": "nQ964hQ7RjBZ"
   },
   "source": [
    "Проверим, что кодирование производится верно:"
   ]
  },
  {
   "cell_type": "code",
   "execution_count": null,
   "metadata": {
    "colab": {
     "base_uri": "https://localhost:8080/"
    },
    "executionInfo": {
     "elapsed": 8,
     "status": "ok",
     "timestamp": 1646590890628,
     "user": {
      "displayName": "Елизавета Юрьевна Дахова",
      "photoUrl": "https://lh3.googleusercontent.com/a/default-user=s64",
      "userId": "10296332071775057867"
     },
     "user_tz": -180
    },
    "id": "qqrsonSORjBa",
    "outputId": "96fc2181-c955-40cd-d71f-c68f67b75bca"
   },
   "outputs": [],
   "source": [
    "y = np.hstack([1-labels[:,None], labels[:,None]])\n",
    "print(y.shape)\n",
    "print(labels[:10])\n",
    "print(y[:10])"
   ]
  },
  {
   "cell_type": "markdown",
   "metadata": {
    "id": "PuB5VL4xRjBa"
   },
   "source": [
    "Обучим модель с помощью функции `train_model`:"
   ]
  },
  {
   "cell_type": "code",
   "execution_count": null,
   "metadata": {
    "colab": {
     "base_uri": "https://localhost:8080/",
     "height": 444
    },
    "executionInfo": {
     "elapsed": 25067,
     "status": "ok",
     "timestamp": 1646590915689,
     "user": {
      "displayName": "Елизавета Юрьевна Дахова",
      "photoUrl": "https://lh3.googleusercontent.com/a/default-user=s64",
      "userId": "10296332071775057867"
     },
     "user_tz": -180
    },
    "id": "p5BqfMgkRjBa",
    "outputId": "8930fccb-565c-4c98-d9d1-3f71349bbb74"
   },
   "outputs": [],
   "source": [
    "net, loss_history = train_model(\n",
    "    net, \n",
    "    sample, y, \n",
    "    criterion,\n",
    "    optimizer_config, \n",
    "    optimizer_state,\n",
    "    n_epoch,\n",
    "    batch_size\n",
    ")"
   ]
  },
  {
   "cell_type": "markdown",
   "metadata": {
    "id": "i-S01_B3RjBa"
   },
   "source": [
    "**Упражнение:** Попробуйте поменять гиперпараметр `learning_rate` в `optimizer_config` на 1е-1, 1е-2, 1е-3 и 1е-4. Как это влияет на обучение?"
   ]
  },
  {
   "cell_type": "markdown",
   "metadata": {
    "id": "IMHBHsxQRjBa"
   },
   "source": [
    "Батч-генератор для тестовой выборки:"
   ]
  },
  {
   "cell_type": "code",
   "execution_count": null,
   "metadata": {
    "id": "PZotJ2ygRjBa"
   },
   "outputs": [],
   "source": [
    "def generate_grid(sample, h=0.02):\n",
    "    '''\n",
    "    Генерирует двумерную сетку.\n",
    "    '''\n",
    "    x_min, x_max = sample[:, 0].min() - .5, sample[:, 0].max() + .5\n",
    "    y_min, y_max = sample[:, 1].min() - .5, sample[:, 1].max() + .5\n",
    "    xx, yy = np.meshgrid(np.arange(x_min, x_max, h), np.arange(y_min, y_max, h))\n",
    "    return xx, yy\n",
    "\n",
    "\n",
    "def test_generator(sample):\n",
    "    '''\n",
    "    Батч-генератор для тестовых данных (без меток).\n",
    "    '''\n",
    "    n_samples = sample.shape[0]\n",
    "    indices = np.arange(n_samples)\n",
    "    for start in range(0, n_samples, batch_size):\n",
    "        end = min(start + batch_size, n_samples)\n",
    "        batch_idx = indices[start:end]\n",
    "        yield sample[batch_idx]"
   ]
  },
  {
   "cell_type": "markdown",
   "metadata": {
    "id": "HdjR0W5bRjBb"
   },
   "source": [
    "Функции для удобного тестирования модели:"
   ]
  },
  {
   "cell_type": "code",
   "execution_count": null,
   "metadata": {
    "id": "cX35Hn9oRjBb"
   },
   "outputs": [],
   "source": [
    "def test_model(model, test_sample):\n",
    "    '''\n",
    "    Тестирует модель на тестовой выборке.\n",
    "    '''\n",
    "    preds = []\n",
    "    for test_batch in test_generator(test_sample):\n",
    "        batch = model.forward(test_batch)\n",
    "        batch = batch.argmax(axis=1).reshape(-1,1)\n",
    "        preds.append(batch)\n",
    "    preds = np.vstack(preds)\n",
    "    return preds"
   ]
  },
  {
   "cell_type": "code",
   "execution_count": null,
   "metadata": {
    "id": "ois-zSOhRjBb"
   },
   "outputs": [],
   "source": [
    "def plot_grid_preds(sample, labels, xx, yy, preds, title):\n",
    "    '''\n",
    "    Функция для удобной отрисовки предсказаний нейросети на двумерной сетке.\n",
    "    '''\n",
    "    plt.figure(figsize=(12,7))\n",
    "    plt.title(title)\n",
    "    plt.xlabel('Признак 1')\n",
    "    plt.ylabel('Признак 2')\n",
    "    plt.scatter(sample[:,0], sample[:,1], c=labels, cmap=cm_bright, alpha=0.55)\n",
    "    plt.contourf(xx, yy, preds, alpha=.2, cmap=cm)\n",
    "    plt.show();"
   ]
  },
  {
   "cell_type": "code",
   "execution_count": null,
   "metadata": {
    "colab": {
     "base_uri": "https://localhost:8080/",
     "height": 481
    },
    "executionInfo": {
     "elapsed": 975,
     "status": "ok",
     "timestamp": 1646590916636,
     "user": {
      "displayName": "Елизавета Юрьевна Дахова",
      "photoUrl": "https://lh3.googleusercontent.com/a/default-user=s64",
      "userId": "10296332071775057867"
     },
     "user_tz": -180
    },
    "id": "gj1guPIKRjBb",
    "outputId": "d85ccf94-169f-48d2-8efe-474bcc6b3b6a"
   },
   "outputs": [],
   "source": [
    "xx, yy = <ВАШ КОД ЗДЕСЬ>\n",
    "test_sample = <ВАШ КОД ЗДЕСЬ>\n",
    "\n",
    "test_predictions = <ВАШ КОД ЗДЕСЬ>\n",
    "test_predictions = <ВАШ КОД ЗДЕСЬ>\n",
    "   \n",
    "plot_grid_preds(\n",
    "    sample, \n",
    "    labels, \n",
    "    xx, yy, \n",
    "    test_predictions, \n",
    "    'Линейно разделимая выборка'\n",
    ")"
   ]
  },
  {
   "cell_type": "markdown",
   "metadata": {
    "id": "Jl5872e6RjBc"
   },
   "source": [
    "Сравним с точно такой же моделью, но на PyTorch:"
   ]
  },
  {
   "cell_type": "markdown",
   "metadata": {
    "id": "zy5CznyPRjBc"
   },
   "source": [
    "*Подсказка:* названия слоев идентичны, если брать их из `torch.nn`. Отличия только в оптимизаторе и названии функции потерь."
   ]
  },
  {
   "cell_type": "code",
   "execution_count": null,
   "metadata": {
    "colab": {
     "base_uri": "https://localhost:8080/"
    },
    "executionInfo": {
     "elapsed": 16,
     "status": "ok",
     "timestamp": 1646590916637,
     "user": {
      "displayName": "Елизавета Юрьевна Дахова",
      "photoUrl": "https://lh3.googleusercontent.com/a/default-user=s64",
      "userId": "10296332071775057867"
     },
     "user_tz": -180
    },
    "id": "BNxy0COzRjBc",
    "outputId": "3b404139-9714-41dc-a93f-ffc50ab487f3"
   },
   "outputs": [],
   "source": [
    "net_torch = <ВАШ КОД ЗДЕСЬ>\n",
    "\n",
    "print(net_torch)"
   ]
  },
  {
   "cell_type": "code",
   "execution_count": null,
   "metadata": {
    "id": "znpzcGyCRjBc"
   },
   "outputs": [],
   "source": [
    "def train_model_torch(\n",
    "    model, \n",
    "    sample, y,\n",
    "    criterion,\n",
    "    optimizer,\n",
    "    n_epoch, \n",
    "    batch_size\n",
    "):\n",
    "    '''\n",
    "    Обучает модель из PyTorch. \n",
    "    Возвращает обученную модель, историю значений функции потерь \n",
    "    и метрики качества.\n",
    "    \n",
    "    :param `model`: модель из PyTorch\n",
    "    :param `sample`: матрица объектов\n",
    "    :param `y`: вектор истинных меток объектов\n",
    "    :param `criterion`: функция потерь\n",
    "    :param `opt_params`: гиперпараметры оптимизатора\n",
    "    :param `opt_state`: текущая информация о градиентах, \n",
    "                        хранящаяся в оптимизаторе\n",
    "    :param `n_epoch`: количество эпох\n",
    "    :param `batch_size`: размер одного батча\n",
    "    '''\n",
    "    \n",
    "    loss_history = []\n",
    "\n",
    "    for i in range(n_epoch):\n",
    "        for x_batch, y_batch in train_generator(sample, y, batch_size):\n",
    "            # Обнуляем градиенты с предыдущей итерации\n",
    "            # Forward pass\n",
    "            # Backward pass\n",
    "            # Обновление весов\n",
    "            <ВАШ КОД ЗДЕСЬ>\n",
    "            \n",
    "            loss_history.append(loss.data)\n",
    "\n",
    "        display.clear_output(wait=True)\n",
    "        \n",
    "        plt.figure(figsize=(8, 6))\n",
    "        plt.title(\"Функция потерь на train\")\n",
    "        plt.xlabel(\"итерация\")\n",
    "        plt.ylabel(\"лосс\")\n",
    "        plt.plot(loss_history, 'b')\n",
    "        plt.show()\n",
    "        print('Current loss: %f' % loss)\n",
    "    \n",
    "    return model, loss_history"
   ]
  },
  {
   "cell_type": "code",
   "execution_count": null,
   "metadata": {
    "colab": {
     "base_uri": "https://localhost:8080/",
     "height": 444
    },
    "executionInfo": {
     "elapsed": 15591,
     "status": "ok",
     "timestamp": 1646590932218,
     "user": {
      "displayName": "Елизавета Юрьевна Дахова",
      "photoUrl": "https://lh3.googleusercontent.com/a/default-user=s64",
      "userId": "10296332071775057867"
     },
     "user_tz": -180
    },
    "id": "ufovaOwPRjBd",
    "outputId": "c4df1b34-6a65-461d-c0bb-f84239ba7a10"
   },
   "outputs": [],
   "source": [
    "criterion = <ВАШ КОД ЗДЕСЬ>\n",
    "optimizer = torch_sgd(<ВАШ КОД ЗДЕСЬ>)\n",
    "\n",
    "net_torch, loss_history = train_model_torch(\n",
    "    net_torch, sample, y, \n",
    "    criterion,\n",
    "    optimizer,\n",
    "    n_epoch,\n",
    "    batch_size\n",
    ")"
   ]
  },
  {
   "cell_type": "markdown",
   "metadata": {
    "id": "o7AoqJdKRjBd"
   },
   "source": [
    "**Для самопроверки:** Значение функции потерь (лосса) должны быть прмиерно одинаковые у вашей модели и у сети из PyTorch. Каким именно на этом датасете $-$ см таблицу ниже.\n",
    "\n",
    "|  Архитектура  | learning_rate | Значение лосса |\n",
    "|-------------|---------------|-------------|\n",
    "| Linear(2,2) |  1e-2         | 0.1 и ниже |"
   ]
  },
  {
   "cell_type": "code",
   "execution_count": null,
   "metadata": {
    "id": "vj_wDll0RjBd"
   },
   "outputs": [],
   "source": [
    "def test_torch(model, test_sample):\n",
    "    '''\n",
    "    Тестирует модель из PyTorch на тестовой выборке.\n",
    "    '''\n",
    "    preds = []\n",
    "    with torch.no_grad():\n",
    "        for test_batch in test_generator(test_sample):\n",
    "            preds_batch = model(torch.FloatTensor(test_batch))\n",
    "            preds_batch = preds_batch.argmax(axis=1).reshape(-1,1)\n",
    "            preds.append(preds_batch.detach().numpy())\n",
    "    preds = np.vstack(preds)\n",
    "    return preds"
   ]
  },
  {
   "cell_type": "code",
   "execution_count": null,
   "metadata": {
    "code_folding": [],
    "colab": {
     "base_uri": "https://localhost:8080/",
     "height": 534
    },
    "executionInfo": {
     "elapsed": 1836,
     "status": "ok",
     "timestamp": 1646590934037,
     "user": {
      "displayName": "Елизавета Юрьевна Дахова",
      "photoUrl": "https://lh3.googleusercontent.com/a/default-user=s64",
      "userId": "10296332071775057867"
     },
     "user_tz": -180
    },
    "id": "jIqzkePfRjBe",
    "outputId": "513a96fe-735f-41f6-d253-2cadc83d7ad2"
   },
   "outputs": [],
   "source": [
    "xx, yy = <ВАШ КОД ЗДЕСЬ>\n",
    "test_sample = <ВАШ КОД ЗДЕСЬ>\n",
    "\n",
    "test_predictions = <ВАШ КОД ЗДЕСЬ>\n",
    "test_predictions = <ВАШ КОД ЗДЕСЬ>\n",
    "   \n",
    "plot_grid_preds(\n",
    "    sample, \n",
    "    labels, \n",
    "    xx, yy, \n",
    "    test_predictions, \n",
    "    'Линейно разделимая выборка'\n",
    ")"
   ]
  },
  {
   "cell_type": "markdown",
   "metadata": {
    "id": "woz2KSUlRjBe"
   },
   "source": [
    "Рисунки с предсказаниями должны практически совпадать у вашей модели и у модели на PyTorch."
   ]
  },
  {
   "cell_type": "markdown",
   "metadata": {
    "id": "uMZ39rFaRjBe"
   },
   "source": [
    "### Вложенные окружности (2 балла)"
   ]
  },
  {
   "cell_type": "markdown",
   "metadata": {
    "id": "RJTqQLljRjBe"
   },
   "source": [
    "Проверим работу нейросети на более сложной выборке, которая линейно не разделима в исходном пространстве признаков:"
   ]
  },
  {
   "cell_type": "code",
   "execution_count": null,
   "metadata": {
    "id": "PVNfTcg5RjBe"
   },
   "outputs": [],
   "source": [
    "n_samples = 1024\n",
    "\n",
    "noisy_circles = datasets.make_circles(\n",
    "    n_samples=n_samples, \n",
    "    factor=.5, \n",
    "    noise=.05\n",
    ")\n",
    "\n",
    "sample, labels = noisy_circles"
   ]
  },
  {
   "cell_type": "code",
   "execution_count": null,
   "metadata": {
    "colab": {
     "base_uri": "https://localhost:8080/",
     "height": 481
    },
    "executionInfo": {
     "elapsed": 623,
     "status": "ok",
     "timestamp": 1646590934632,
     "user": {
      "displayName": "Елизавета Юрьевна Дахова",
      "photoUrl": "https://lh3.googleusercontent.com/a/default-user=s64",
      "userId": "10296332071775057867"
     },
     "user_tz": -180
    },
    "id": "d2lN0HwxRjBe",
    "outputId": "e141e0ad-a016-403d-c740-dd49f8949a3e"
   },
   "outputs": [],
   "source": [
    "plt.figure(figsize=(12,7))\n",
    "plt.title('Вложенные окружности')\n",
    "plt.xlabel('Признак 1')\n",
    "plt.ylabel('Признак 2')\n",
    "plt.scatter(sample[:,0], sample[:,1], c=labels, cmap=cm_bright, alpha=0.55);"
   ]
  },
  {
   "cell_type": "markdown",
   "metadata": {
    "id": "HsBAVvEBRjBf"
   },
   "source": [
    "Сначала попробуем обучить и протестировать однослойную неросеть:"
   ]
  },
  {
   "cell_type": "code",
   "execution_count": null,
   "metadata": {
    "colab": {
     "base_uri": "https://localhost:8080/"
    },
    "executionInfo": {
     "elapsed": 21,
     "status": "ok",
     "timestamp": 1646590934633,
     "user": {
      "displayName": "Елизавета Юрьевна Дахова",
      "photoUrl": "https://lh3.googleusercontent.com/a/default-user=s64",
      "userId": "10296332071775057867"
     },
     "user_tz": -180
    },
    "id": "BRdoy64wRjBf",
    "outputId": "4e4bbde6-c98a-4f40-ee53-2dc6a7dc8014"
   },
   "outputs": [],
   "source": [
    "net = <ВАШ КОД ЗДЕСЬ>\n",
    "print(net)\n",
    "\n",
    "# Функция потерь\n",
    "criterion = <ВАШ КОД ЗДЕСЬ>\n",
    "\n",
    "# Функция потерь\n",
    "criterion = NLLCriterion()\n",
    "\n",
    "# Гиперпараметры оптимизатора\n",
    "optimizer_config = {'learning_rate' : 1e-2}\n",
    "optimizer_state = {}\n",
    "\n",
    "# Гиперпараметры цикла обучения и генератора\n",
    "n_epoch = 50\n",
    "batch_size = 128"
   ]
  },
  {
   "cell_type": "code",
   "execution_count": null,
   "metadata": {
    "colab": {
     "base_uri": "https://localhost:8080/"
    },
    "executionInfo": {
     "elapsed": 16,
     "status": "ok",
     "timestamp": 1646590934634,
     "user": {
      "displayName": "Елизавета Юрьевна Дахова",
      "photoUrl": "https://lh3.googleusercontent.com/a/default-user=s64",
      "userId": "10296332071775057867"
     },
     "user_tz": -180
    },
    "id": "QL-XgAL9RjBf",
    "outputId": "7b7b7d5d-8f27-42d0-d492-1430306f0492"
   },
   "outputs": [],
   "source": [
    "y = np.hstack([1-labels[:,None], labels[:,None]])\n",
    "print(y.shape)\n",
    "print(labels[:10])\n",
    "print(y[:10])"
   ]
  },
  {
   "cell_type": "code",
   "execution_count": null,
   "metadata": {
    "colab": {
     "base_uri": "https://localhost:8080/",
     "height": 444
    },
    "executionInfo": {
     "elapsed": 15235,
     "status": "ok",
     "timestamp": 1646590949857,
     "user": {
      "displayName": "Елизавета Юрьевна Дахова",
      "photoUrl": "https://lh3.googleusercontent.com/a/default-user=s64",
      "userId": "10296332071775057867"
     },
     "user_tz": -180
    },
    "id": "aBVKdiXHRjBf",
    "outputId": "e6055ef1-a107-4f3f-bae9-3103d247647c"
   },
   "outputs": [],
   "source": [
    "net, loss_history = <ВАШ КОД ЗДЕСЬ>"
   ]
  },
  {
   "cell_type": "code",
   "execution_count": null,
   "metadata": {
    "colab": {
     "base_uri": "https://localhost:8080/",
     "height": 481
    },
    "executionInfo": {
     "elapsed": 709,
     "status": "ok",
     "timestamp": 1646590950539,
     "user": {
      "displayName": "Елизавета Юрьевна Дахова",
      "photoUrl": "https://lh3.googleusercontent.com/a/default-user=s64",
      "userId": "10296332071775057867"
     },
     "user_tz": -180
    },
    "id": "-P54URRZRjBg",
    "outputId": "a51320fb-ad02-47bf-9bd2-e94228c38bb6"
   },
   "outputs": [],
   "source": [
    "<ВАШ КОД ЗДЕСЬ>\n",
    "\n",
    "plot_grid_preds(sample, labels, xx, yy, \n",
    "                test_predictions, 'Вложенные окружности')"
   ]
  },
  {
   "cell_type": "markdown",
   "metadata": {
    "id": "rlqOGcuMRjBg"
   },
   "source": [
    "Вряд ли у вас получился лосс ниже 0.68 и адекватный рисунок. Это говорит о том, что один слой не может решить задачу (что логично)."
   ]
  },
  {
   "cell_type": "markdown",
   "metadata": {
    "id": "ZHfTN41fRjBg"
   },
   "source": [
    "Попробуем сделать **двухслойную** нейросеть. Не жалейте нейронов в скрытый слой:\n",
    "\n",
    "*Подсказка:* не забудьте про нелинейности"
   ]
  },
  {
   "cell_type": "code",
   "execution_count": null,
   "metadata": {
    "colab": {
     "base_uri": "https://localhost:8080/"
    },
    "executionInfo": {
     "elapsed": 32,
     "status": "ok",
     "timestamp": 1646590950542,
     "user": {
      "displayName": "Елизавета Юрьевна Дахова",
      "photoUrl": "https://lh3.googleusercontent.com/a/default-user=s64",
      "userId": "10296332071775057867"
     },
     "user_tz": -180
    },
    "id": "twAAO9f9RjBg",
    "outputId": "284b33c7-1067-4eee-fb11-7f96264c3b6a"
   },
   "outputs": [],
   "source": [
    "net = <ВАШ КОД ЗДЕСЬ>\n",
    "print(net)\n",
    "\n",
    "criterion = <ВАШ КОД ЗДЕСЬ>\n",
    "\n",
    "optimizer_config = {'learning_rate' : 1e-2}\n",
    "optimizer_state = {}\n",
    "\n",
    "n_epoch = 100\n",
    "batch_size = 128\n",
    "\n",
    "y = np.hstack([1-labels[:,None], labels[:,None]])\n",
    "print(y.shape)"
   ]
  },
  {
   "cell_type": "code",
   "execution_count": null,
   "metadata": {
    "colab": {
     "base_uri": "https://localhost:8080/",
     "height": 444
    },
    "executionInfo": {
     "elapsed": 30225,
     "status": "ok",
     "timestamp": 1646590980746,
     "user": {
      "displayName": "Елизавета Юрьевна Дахова",
      "photoUrl": "https://lh3.googleusercontent.com/a/default-user=s64",
      "userId": "10296332071775057867"
     },
     "user_tz": -180
    },
    "id": "HpIOy64eRjBg",
    "outputId": "4dc7e7d6-2c01-42d5-dc16-dc6b372b5200"
   },
   "outputs": [],
   "source": [
    "net, loss_history = <ВАШ КОД ЗДЕСЬ>"
   ]
  },
  {
   "cell_type": "code",
   "execution_count": null,
   "metadata": {
    "colab": {
     "base_uri": "https://localhost:8080/",
     "height": 481
    },
    "executionInfo": {
     "elapsed": 626,
     "status": "ok",
     "timestamp": 1646590981342,
     "user": {
      "displayName": "Елизавета Юрьевна Дахова",
      "photoUrl": "https://lh3.googleusercontent.com/a/default-user=s64",
      "userId": "10296332071775057867"
     },
     "user_tz": -180
    },
    "id": "C5FixtN1RjBg",
    "outputId": "4398f550-2181-4e8c-f196-28f19c4ffd71"
   },
   "outputs": [],
   "source": [
    "<ВАШ КОД ЗДЕСЬ>\n",
    "\n",
    "plot_grid_preds(sample, labels, xx, yy, test_predictions, 'Вложенные окружности')"
   ]
  },
  {
   "cell_type": "markdown",
   "metadata": {
    "id": "NLT7H5p_RjBh"
   },
   "source": [
    "**Упражнение:** Попробуйте менять количество нейронов в скрытом слое. Начиная с какого количества нейронов окружности начинают хорошо разделяться?"
   ]
  },
  {
   "cell_type": "markdown",
   "metadata": {
    "id": "kaahtVk9RjBh"
   },
   "source": [
    "И снова сравним с PyTorch:"
   ]
  },
  {
   "cell_type": "code",
   "execution_count": null,
   "metadata": {
    "colab": {
     "base_uri": "https://localhost:8080/",
     "height": 444
    },
    "executionInfo": {
     "elapsed": 31276,
     "status": "ok",
     "timestamp": 1646591012610,
     "user": {
      "displayName": "Елизавета Юрьевна Дахова",
      "photoUrl": "https://lh3.googleusercontent.com/a/default-user=s64",
      "userId": "10296332071775057867"
     },
     "user_tz": -180
    },
    "id": "SJp_PX0IRjBh",
    "outputId": "b40e291d-262c-4430-b64c-03b029e7b1a2"
   },
   "outputs": [],
   "source": [
    "net_torch = <ВАШ КОД ЗДЕСЬ>\n",
    "\n",
    "print(net_torch)\n",
    "\n",
    "criterion = <ВАШ КОД ЗДЕСЬ>\n",
    "optimizer = torch_sgd(<ВАШ КОД ЗДЕСЬ>)\n",
    "\n",
    "net_torch, loss_history = <ВАШ КОД ЗДЕСЬ>"
   ]
  },
  {
   "cell_type": "code",
   "execution_count": null,
   "metadata": {
    "colab": {
     "base_uri": "https://localhost:8080/",
     "height": 534
    },
    "executionInfo": {
     "elapsed": 557,
     "status": "ok",
     "timestamp": 1646591013146,
     "user": {
      "displayName": "Елизавета Юрьевна Дахова",
      "photoUrl": "https://lh3.googleusercontent.com/a/default-user=s64",
      "userId": "10296332071775057867"
     },
     "user_tz": -180
    },
    "id": "kmk5ndd8RjBh",
    "outputId": "754a7401-98be-497b-b1a0-910a1ab295a9"
   },
   "outputs": [],
   "source": [
    "<ВАШ КОД ЗДЕСЬ>\n",
    "\n",
    "plot_grid_preds(sample, labels, xx, yy, \n",
    "                test_predictions, 'Вложенные окружности')"
   ]
  },
  {
   "cell_type": "markdown",
   "metadata": {
    "id": "a8qV_dqARjBh"
   },
   "source": [
    "**Для самопроверки:** Значение функции потерь (лосса) должны быть примерно одинаковые у вашей модели и у сети из PyTorch. Каким именно на этом датасете $-$ см. таблицу ниже.\n",
    "\n",
    "|  Архитектура  | learning_rate | Значение лосса |\n",
    "|-------------|---------------|-------------|\n",
    "| (2,100) -> ReLU -> (100,2) |  1e-2         | 0.45 и ниже |\n",
    "\n",
    "Оба рисунка должны примерно совпадать и адекватно разделять окружности между собой (одна область должна быть \"внутри\" другой)."
   ]
  },
  {
   "cell_type": "markdown",
   "metadata": {
    "id": "xxe10BxWRjBh"
   },
   "source": [
    "**Выводы:** ..."
   ]
  },
  {
   "cell_type": "code",
   "execution_count": null,
   "metadata": {},
   "outputs": [],
   "source": []
  },
  {
   "cell_type": "markdown",
   "metadata": {
    "id": "KMQBoIdwRjBp"
   },
   "source": [
    "### 2. Полезные ссылки"
   ]
  },
  {
   "cell_type": "markdown",
   "metadata": {
    "id": "c7I2bv0_RjBp"
   },
   "source": [
    "При составлении этого Домашнего задания авторы вдохновлялись [заданием](https://github.com/yandexdataschool/Practical_DL/tree/spring2019/homework01) из курса \"Deep Learning\" Школы Анализа Данных."
   ]
  },
  {
   "cell_type": "markdown",
   "metadata": {
    "id": "cAdzZlr5RjBp"
   },
   "source": [
    "- [Заметки главы ИИ в Tesla Andrej Karpathy по обучению нейросетей](http://karpathy.github.io/2019/04/25/recipe/)\n",
    "- [Backpropagation на brilliant.org](https://brilliant.org/wiki/backpropagation/)\n",
    "- См. ссылки в `[1]task8_modules.ipynb`"
   ]
  }
 ],
 "metadata": {
  "colab": {
   "name": "[0]_task8_train_model.ipynb",
   "provenance": []
  },
  "kernelspec": {
   "display_name": "Python 3 (ipykernel)",
   "language": "python",
   "name": "python3"
  },
  "language_info": {
   "codemirror_mode": {
    "name": "ipython",
    "version": 3
   },
   "file_extension": ".py",
   "mimetype": "text/x-python",
   "name": "python",
   "nbconvert_exporter": "python",
   "pygments_lexer": "ipython3",
   "version": "3.8.5"
  },
  "toc": {
   "base_numbering": 1,
   "nav_menu": {
    "height": "146px",
    "width": "384px"
   },
   "number_sections": true,
   "sideBar": true,
   "skip_h1_title": false,
   "title_cell": "Table of Contents",
   "title_sidebar": "Contents",
   "toc_cell": false,
   "toc_position": {},
   "toc_section_display": true,
   "toc_window_display": false
  }
 },
 "nbformat": 4,
 "nbformat_minor": 1
}
