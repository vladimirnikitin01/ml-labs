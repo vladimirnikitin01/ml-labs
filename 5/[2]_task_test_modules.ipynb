{
 "cells": [
  {
   "cell_type": "markdown",
   "metadata": {
    "id": "lXv0RLXFF3yH"
   },
   "source": [
    "См. сначала **`[0]_task_train_model.ipynb`**, в котором описана структура этого задания.  \n",
    "\n",
    "Перед выполнением этого ноутбука нужно реализовать все слои в **`[1]_task_modules.ipynb`**.  \n",
    "\n",
    "Если все тесты в этом ноутбуке пройдены, то можно приступать к выполнению **`[0]_task_train_model.ipynb`** для тестирования нейросети на датасетах."
   ]
  },
  {
   "cell_type": "markdown",
   "metadata": {
    "id": "DWqKHW1MF3yQ"
   },
   "source": [
    "## Тестирование"
   ]
  },
  {
   "cell_type": "code",
   "execution_count": 47,
   "metadata": {
    "executionInfo": {
     "elapsed": 315,
     "status": "ok",
     "timestamp": 1646567423364,
     "user": {
      "displayName": "Елизавета Юрьевна Дахова",
      "photoUrl": "https://lh3.googleusercontent.com/a/default-user=s64",
      "userId": "10296332071775057867"
     },
     "user_tz": -180
    },
    "id": "muJKxWcSGimW"
   },
   "outputs": [],
   "source": [
    "# Путь к папке с заданием\n",
    "path_to_dir: str = ...\n",
    "# Путь к файлу с модулями\n",
    "path_to_modules_notebook = path_to_dir + \"[1]_task8_modules.ipynb\""
   ]
  },
  {
   "cell_type": "code",
   "execution_count": 48,
   "metadata": {
    "colab": {
     "base_uri": "https://localhost:8080/"
    },
    "executionInfo": {
     "elapsed": 2163,
     "status": "ok",
     "timestamp": 1646567426754,
     "user": {
      "displayName": "Елизавета Юрьевна Дахова",
      "photoUrl": "https://lh3.googleusercontent.com/a/default-user=s64",
      "userId": "10296332071775057867"
     },
     "user_tz": -180
    },
    "id": "ACH2_h94GAWl",
    "outputId": "ded0f0b6-db3a-4385-b458-55053f2da798"
   },
   "outputs": [
    {
     "name": "stdout",
     "output_type": "stream",
     "text": [
      "Drive already mounted at /content/drive; to attempt to forcibly remount, call drive.mount(\"/content/drive\", force_remount=True).\n"
     ]
    }
   ],
   "source": [
    "# В Google Colab подключаемся к диску\n",
    "if 'google.colab' in str(get_ipython()):\n",
    "    from google.colab import drive\n",
    "    drive.mount('/content/drive')\n",
    "    path_to_modules_notebook = \"drive/MyDrive/\" + path_to_modules_notebook"
   ]
  },
  {
   "cell_type": "code",
   "execution_count": 50,
   "metadata": {
    "executionInfo": {
     "elapsed": 293,
     "status": "ok",
     "timestamp": 1646567438208,
     "user": {
      "displayName": "Елизавета Юрьевна Дахова",
      "photoUrl": "https://lh3.googleusercontent.com/a/default-user=s64",
      "userId": "10296332071775057867"
     },
     "user_tz": -180
    },
    "id": "31Oam_RDF3yR"
   },
   "outputs": [],
   "source": [
    "%run $path_to_modules_notebook"
   ]
  },
  {
   "cell_type": "code",
   "execution_count": 51,
   "metadata": {
    "executionInfo": {
     "elapsed": 3,
     "status": "ok",
     "timestamp": 1646567443715,
     "user": {
      "displayName": "Елизавета Юрьевна Дахова",
      "photoUrl": "https://lh3.googleusercontent.com/a/default-user=s64",
      "userId": "10296332071775057867"
     },
     "user_tz": -180
    },
    "id": "ALTRFhwSF3yT"
   },
   "outputs": [],
   "source": [
    "import torch\n",
    "import numpy as np\n",
    "import unittest"
   ]
  },
  {
   "cell_type": "code",
   "execution_count": 52,
   "metadata": {
    "executionInfo": {
     "elapsed": 4,
     "status": "ok",
     "timestamp": 1646567444164,
     "user": {
      "displayName": "Елизавета Юрьевна Дахова",
      "photoUrl": "https://lh3.googleusercontent.com/a/default-user=s64",
      "userId": "10296332071775057867"
     },
     "user_tz": -180
    },
    "id": "lJPAGF8QF3yU"
   },
   "outputs": [],
   "source": [
    "RANDOM_SEED = 42"
   ]
  },
  {
   "cell_type": "markdown",
   "metadata": {
    "id": "VgNpklBvF3yV"
   },
   "source": [
    "*Примечание:* Если тестирование линейного слоя по каким-либо техническим причинам не работает, то рекомендуем использовать Google Colab для запуска этого ноутбука. Известны случаи, когдя ядро ноутбука \"умирает\" из-за этого теста."
   ]
  },
  {
   "cell_type": "code",
   "execution_count": 53,
   "metadata": {
    "code_folding": [],
    "colab": {
     "base_uri": "https://localhost:8080/"
    },
    "executionInfo": {
     "elapsed": 1282,
     "status": "ok",
     "timestamp": 1646567445949,
     "user": {
      "displayName": "Елизавета Юрьевна Дахова",
      "photoUrl": "https://lh3.googleusercontent.com/a/default-user=s64",
      "userId": "10296332071775057867"
     },
     "user_tz": -180
    },
    "id": "1aPmdffPF3yV",
    "outputId": "6bbc0a31-d0cd-4596-c6a8-4fd1d85310dd"
   },
   "outputs": [
    {
     "name": "stderr",
     "output_type": "stream",
     "text": [
      "test_Linear (__main__.TestLayers) ... ok\n",
      "test_LogSoftMax (__main__.TestLayers) ... ok\n",
      "test_NLLCriterion (__main__.TestLayers) ... ok\n",
      "test_NLLCriterionUnstable (__main__.TestLayers) ... ok\n",
      "test_ReLU (__main__.TestLayers) ... ok\n",
      "test_Sequential (__main__.TestLayers) ... /usr/local/lib/python3.7/dist-packages/torch/nn/modules/container.py:141: UserWarning: Implicit dimension choice for softmax has been deprecated. Change the call to include dim=X as an argument.\n",
      "  input = module(input)\n",
      "ok\n",
      "test_SoftMax (__main__.TestLayers) ... ok\n",
      "\n",
      "----------------------------------------------------------------------\n",
      "Ran 7 tests in 0.401s\n",
      "\n",
      "OK\n"
     ]
    },
    {
     "data": {
      "text/plain": [
       "<unittest.runner.TextTestResult run=7 errors=0 failures=0>"
      ]
     },
     "execution_count": 53,
     "metadata": {},
     "output_type": "execute_result"
    }
   ],
   "source": [
    "from typing import Sequence\n",
    "from torch.nn.modules.activation import Softplus\n",
    "class TestLayers(unittest.TestCase):\n",
    "    '''\n",
    "        Класс для тестирования всех модулей.\n",
    "    '''\n",
    "    \n",
    "    def _generate_test_data(\n",
    "        self, shape, dtype=np.float32, mode='uniform', minval=-10, maxval=10\n",
    "    ):\n",
    "        '''\n",
    "        Генерирует тестовые данные для `forward()` и `backward()`\n",
    "        '''\n",
    "        if mode == 'uniform':\n",
    "            rand_array = np.random.uniform(minval, maxval, shape).astype(dtype)\n",
    "            # иногда имеет смысл нормализовать\n",
    "            # rand_array /= rand_array.sum(axis=-1, keepdims=True)\n",
    "            # rand_array = rand_array.clip(1e-5, 1.)\n",
    "            # rand_array = 1. / rand_array\n",
    "            return rand_array\n",
    "    \n",
    "    \n",
    "    def _custom_forward_backward(\n",
    "        self, \n",
    "        layer_input, \n",
    "        next_layer_grad,\n",
    "        custom_layer,\n",
    "        return_params_grad=False\n",
    "    ):\n",
    "        '''\n",
    "        Вычисляет результат `forward()` и `backward()` в слое `layer`.\n",
    "        \n",
    "        Вход:\n",
    "            `layer_input (np.array)` -- тестовый вход\n",
    "            `next_layer_grad (np.array)` -- тестовый градиент, \n",
    "                пришедший от следующего слоя \n",
    "            `layer` -- слой из нашего мини-фреймворка на NumPy\n",
    "            `return_params_grad` -- если True, то вернуть еще градиенты параметров слоя\n",
    "        Выход:\n",
    "            `custom_layer_output (np.array)` -- выход слоя `layer` после `forward()`\n",
    "            `custom_layer_grad (np.array)` -- градиент слоя `layer` после `backward()`\n",
    "            [opt] `custom_params_grad (np.array)` -- градиенты параметров слоя `layer`\n",
    "        '''\n",
    "        custom_layer_output = custom_layer.forward(layer_input)\n",
    "        custom_layer_grad = custom_layer.backward(layer_input, next_layer_grad)\n",
    "        if return_params_grad:\n",
    "            custom_layer.update_grad_params(layer_input, next_layer_grad)\n",
    "            custom_params_grad = custom_layer.get_grad_params()\n",
    "            return custom_layer_output, custom_layer_grad, custom_params_grad\n",
    "        else:\n",
    "            return custom_layer_output, custom_layer_grad\n",
    "    \n",
    "    \n",
    "    def _torch_forward_backward(\n",
    "        self, \n",
    "        layer_input, \n",
    "        next_layer_grad, \n",
    "        torch_layer,\n",
    "        return_params_grad=False\n",
    "    ):\n",
    "        '''\n",
    "        Вычисляет результат `forward()` и `backward()` в PyTorch-слое `layer`.\n",
    "        \n",
    "        Вход:\n",
    "            `layer_input (np.array)` -- тестовый вход\n",
    "            `next_layer_grad (np.array)` -- тестовый градиент, \n",
    "                пришедший от следующего слоя \n",
    "            `torch_layer` -- слой из PyTorch\n",
    "            `return_params_grad` -- если True, то вернуть еще градиенты параметров слоя\n",
    "        Выход:\n",
    "            `torch_layer_output (np.array)` -- выход слоя `layer` после `forward()`\n",
    "            `torch_layer_grad (np.array)` -- градиент слоя `layer` после `backward()`\n",
    "            [opt] `torch_params_grad (np.array)` -- градиенты параметров слоя `layer`\n",
    "        '''\n",
    "        layer_input_torch = torch.from_numpy(layer_input)\n",
    "        layer_input_torch.requires_grad = True\n",
    "        torch_layer_output = torch_layer(layer_input_torch)\n",
    "        torch_layer_output = torch_layer_output\n",
    "        next_layer_grad_torch = torch.from_numpy(next_layer_grad)\n",
    "        torch_layer_output.backward(next_layer_grad_torch)\n",
    "        torch_layer_grad = layer_input_torch.grad\n",
    "        if return_params_grad:\n",
    "            torch_params_grad = torch_layer.parameters()\n",
    "            return torch_layer_output.data.numpy(), torch_layer_grad.data.numpy(), torch_params_grad\n",
    "        else:\n",
    "            return torch_layer_output.data.numpy(), torch_layer_grad.data.numpy()\n",
    "    \n",
    "    \n",
    "    def test_Linear(self):\n",
    "        np.random.seed(RANDOM_SEED)\n",
    "        torch.manual_seed(RANDOM_SEED)\n",
    "        batch_size, n_in, n_out = 2, 3, 4\n",
    "        for _ in range(100):\n",
    "            # инициализируем слои\n",
    "            torch_layer = torch.nn.Linear(n_in, n_out)\n",
    "            custom_layer = Linear(n_in, n_out)\n",
    "            custom_layer.W = torch_layer.weight.data.numpy().T\n",
    "            custom_layer.b = torch_layer.bias.data.numpy()\n",
    "            # формируем тестовые входные тензоры\n",
    "            layer_input = self._generate_test_data((batch_size, n_in))\n",
    "            next_layer_grad = self._generate_test_data((batch_size, n_out))\n",
    "            # тестируем наш слой\n",
    "            result = self._custom_forward_backward(\n",
    "                layer_input,\n",
    "                next_layer_grad,\n",
    "                custom_layer,\n",
    "                return_params_grad=True\n",
    "            )\n",
    "            custom_layer_output, custom_layer_grad, custom_params_grad = result\n",
    "            # тестируем слой на PyTorch\n",
    "            result = self._torch_forward_backward(\n",
    "                layer_input,\n",
    "                next_layer_grad,\n",
    "                torch_layer,\n",
    "                return_params_grad=True\n",
    "            )\n",
    "            torch_layer_output, torch_layer_grad, torch_params_grad = result\n",
    "            # сравниваем выходы с точностью atol\n",
    "            self.assertTrue(np.allclose(torch_layer_output, custom_layer_output, atol=1e-6))\n",
    "            self.assertTrue(np.allclose(torch_layer_grad, custom_layer_grad, atol=1e-6))\n",
    "            weight_grad, bias_grad = custom_params_grad\n",
    "            torch_weight_grad = torch_layer.weight.grad.data.numpy()\n",
    "            torch_bias_grad = torch_layer.bias.grad.data.numpy()\n",
    "            self.assertTrue(np.allclose(torch_weight_grad.T, weight_grad, atol=1e-6))\n",
    "            self.assertTrue(np.allclose(torch_bias_grad, bias_grad, atol=1e-6))\n",
    "            \n",
    "    \n",
    "    def test_SoftMax(self):\n",
    "        np.random.seed(RANDOM_SEED)\n",
    "        torch.manual_seed(RANDOM_SEED)\n",
    "        batch_size, n_in = 2, 4\n",
    "        for _ in range(100):\n",
    "            # инициализируем слои\n",
    "            custom_layer = SoftMax()\n",
    "            torch_layer = torch.nn.Softmax(dim=1)\n",
    "            # формируем тестовые входные тензоры\n",
    "            layer_input = self._generate_test_data((batch_size, n_in))\n",
    "            next_layer_grad = self._generate_test_data((batch_size, n_in))\n",
    "            # тестируем наш слой\n",
    "            custom_layer_output, custom_layer_grad = self._custom_forward_backward(\n",
    "                layer_input,\n",
    "                next_layer_grad,\n",
    "                custom_layer\n",
    "            )\n",
    "            # тестируем слой на PyTorch\n",
    "            torch_layer_output, torch_layer_grad = self._torch_forward_backward(\n",
    "                layer_input,\n",
    "                next_layer_grad,\n",
    "                torch_layer\n",
    "            )\n",
    "            # сравниваем выходы с точностью atol\n",
    "            self.assertTrue(np.allclose(custom_layer_output, torch_layer_output, atol=1e-5))\n",
    "            self.assertTrue(np.allclose(custom_layer_grad, torch_layer_grad, atol=1e-5))\n",
    "            \n",
    "            \n",
    "    def test_LogSoftMax(self):\n",
    "        np.random.seed(RANDOM_SEED)\n",
    "        torch.manual_seed(RANDOM_SEED)\n",
    "        batch_size, n_in = 2, 4\n",
    "        for _ in range(100):\n",
    "            # инициализируем слои\n",
    "            custom_layer = LogSoftMax()\n",
    "            torch_layer = torch.nn.LogSoftmax(dim=1)\n",
    "            # формируем тестовые входные тензоры\n",
    "            layer_input = self._generate_test_data((batch_size, n_in))\n",
    "            next_layer_grad = self._generate_test_data((batch_size, n_in))\n",
    "            # тестируем наш слой\n",
    "            custom_layer_output, custom_layer_grad = self._custom_forward_backward(\n",
    "                layer_input,\n",
    "                next_layer_grad,\n",
    "                custom_layer\n",
    "            )\n",
    "            # тестируем слой на PyTorch\n",
    "            torch_layer_output, torch_layer_grad = self._torch_forward_backward(\n",
    "                layer_input,\n",
    "                next_layer_grad,\n",
    "                torch_layer\n",
    "            )\n",
    "            # сравниваем выходы с точностью atol\n",
    "            self.assertTrue(np.allclose(custom_layer_output, torch_layer_output, atol=1e-5))\n",
    "            self.assertTrue(np.allclose(custom_layer_grad, torch_layer_grad, atol=1e-5))\n",
    "            \n",
    "            \n",
    "    def test_Sequential(self):\n",
    "        # тестируем `Sequential = [Linear, SoftMax]`\n",
    "        np.random.seed(RANDOM_SEED)\n",
    "        torch.manual_seed(RANDOM_SEED)\n",
    "        batch_size, n_in, n_out = 2, 3, 4\n",
    "\n",
    "        for _ in range(100):\n",
    "            # слои торча\n",
    "            torch_lin1 = torch.nn.Linear(n_in, n_in)\n",
    "            torch_lin2 = torch.nn.Linear(n_in, n_out)\n",
    "            torch_layers = torch.nn.Sequential(\n",
    "                torch_lin1, \n",
    "                torch.nn.ReLU(),\n",
    "                torch_lin2, \n",
    "                torch.nn.Softmax()\n",
    "            )\n",
    "\n",
    "            # собственные слои\n",
    "            custom_lin1 = Linear(n_in, n_in)\n",
    "            custom_lin1.W = torch_lin1.weight.data.numpy().T\n",
    "            custom_lin1.b = torch_lin1.bias.data.numpy()\n",
    "\n",
    "            custom_lin2 = Linear(n_in, n_out)\n",
    "            custom_lin2.W = torch_lin2.weight.data.numpy().T\n",
    "            custom_lin2.b = torch_lin2.bias.data.numpy()\n",
    "\n",
    "            custom_layers = Sequential()\n",
    "            custom_layers.add(custom_lin1)\n",
    "            custom_layers.add(ReLU())\n",
    "            custom_layers.add(custom_lin2)\n",
    "            custom_layers.add(SoftMax())\n",
    "\n",
    "            # формируем тестовые входные тензоры\n",
    "            layer_input = self._generate_test_data((batch_size, n_in))\n",
    "            next_layer_grad = self._generate_test_data((batch_size, n_out))\n",
    "\n",
    "            # тестируем наш слой\n",
    "            result = self._custom_forward_backward(\n",
    "                layer_input,\n",
    "                next_layer_grad,\n",
    "                custom_layers,\n",
    "                return_params_grad=True\n",
    "            )\n",
    "            custom_layers_output, custom_layers_grad, custom_params_list_grad = result\n",
    "\n",
    "            # тестируем слой на PyTorch\n",
    "            result = self._torch_forward_backward(\n",
    "                layer_input,\n",
    "                next_layer_grad,\n",
    "                torch_layers,\n",
    "                return_params_grad=True\n",
    "            )\n",
    "            torch_layers_output, torch_layers_grad, torch_params_gen_grad = result\n",
    "\n",
    "            # сравниваем выходы с точностью atol\n",
    "            self.assertTrue(np.allclose(torch_layers_output, custom_layers_output, atol=1e-6))\n",
    "            self.assertTrue(np.allclose(torch_layers_grad, custom_layers_grad, atol=1e-6))\n",
    "\n",
    "            # сравниваем градиенты для параметров\n",
    "            for custom_params_grad, torch_layer in zip(custom_params_list_grad, torch_layers):\n",
    "                if not custom_params_grad:\n",
    "                    continue\n",
    "                weight_grad, bias_grad = custom_params_grad\n",
    "                torch_weight_grad = torch_layer.weight.grad.data.numpy()\n",
    "                torch_bias_grad = torch_layer.bias.grad.data.numpy()\n",
    "                self.assertTrue(np.allclose(torch_weight_grad.T, weight_grad, atol=1e-4))\n",
    "                self.assertTrue(np.allclose(torch_bias_grad, bias_grad, atol=1e-4))\n",
    "\n",
    "    \n",
    "    def test_ReLU(self):\n",
    "        np.random.seed(RANDOM_SEED)\n",
    "        torch.manual_seed(RANDOM_SEED)\n",
    "        batch_size, n_in = 2, 4\n",
    "        for _ in range(100):\n",
    "            # инициализируем слои\n",
    "            custom_layer = ReLU()\n",
    "            torch_layer = torch.nn.ReLU()\n",
    "            # формируем тестовые входные тензоры\n",
    "            layer_input = self._generate_test_data((batch_size, n_in))\n",
    "            next_layer_grad = self._generate_test_data((batch_size, n_in))\n",
    "            # тестируем наш слой\n",
    "            custom_layer_output, custom_layer_grad = self._custom_forward_backward(\n",
    "                layer_input,\n",
    "                next_layer_grad,\n",
    "                custom_layer\n",
    "            )\n",
    "            # тестируем слой на PyTorch\n",
    "            torch_layer_output, torch_layer_grad = self._torch_forward_backward(\n",
    "                layer_input,\n",
    "                next_layer_grad,\n",
    "                torch_layer\n",
    "            )\n",
    "            # сравниваем выходы с точностью atol\n",
    "            self.assertTrue(np.allclose(custom_layer_output, torch_layer_output, atol=1e-6))\n",
    "            self.assertTrue(np.allclose(custom_layer_grad, torch_layer_grad, atol=1e-6))\n",
    "              \n",
    "\n",
    "    def test_NLLCriterionUnstable(self):\n",
    "        np.random.seed(RANDOM_SEED)\n",
    "        torch.manual_seed(RANDOM_SEED)\n",
    "        batch_size, n_in = 2, 4\n",
    "        for _ in range(100):\n",
    "            # инициализируем слои\n",
    "            torch_layer = torch.nn.NLLLoss()\n",
    "            custom_layer = NLLCriterionUnstable()\n",
    "            # формируем тестовые данные\n",
    "            layer_input = np.random.uniform(0, 1, (batch_size, n_in)).astype(np.float32)\n",
    "            layer_input /= layer_input.sum(axis=-1, keepdims=True)\n",
    "            layer_input = layer_input.clip(custom_layer.EPS, 1.-custom_layer.EPS)\n",
    "            target_labels = np.random.choice(n_in, batch_size)\n",
    "            target = np.zeros((batch_size, n_in), np.float32)\n",
    "            target[np.arange(batch_size), target_labels] = 1\n",
    "            # тестируем `update_output()`\n",
    "            custom_layer_output = custom_layer.update_output(layer_input, target)\n",
    "            layer_input_var = torch.from_numpy(layer_input)\n",
    "            layer_input_var.requires_grad = True\n",
    "            torch_layer_output_var = torch_layer(\n",
    "                torch.log(layer_input_var), torch.from_numpy(target_labels).long())\n",
    "            self.assertTrue(np.allclose(\n",
    "                torch_layer_output_var.data.numpy(), custom_layer_output, atol=1e-6\n",
    "            ))\n",
    "            # тестируем `update_grad_input()`\n",
    "            custom_layer_grad = custom_layer.update_grad_input(layer_input, target)\n",
    "            torch_layer_output_var.backward()\n",
    "            torch_layer_grad_var = layer_input_var.grad\n",
    "            self.assertTrue(np.allclose(torch_layer_grad_var.data.numpy(), custom_layer_grad, atol=1e-6))\n",
    "\n",
    "\n",
    "    def test_NLLCriterion(self):\n",
    "        np.random.seed(RANDOM_SEED)\n",
    "        torch.manual_seed(RANDOM_SEED)\n",
    "        batch_size, n_in = 2, 4\n",
    "        for _ in range(100):\n",
    "            # инициализируем слои\n",
    "            torch_layer = torch.nn.NLLLoss()\n",
    "            custom_layer = NLLCriterion()\n",
    "            # формируем тестовые данные\n",
    "            layer_input = np.random.uniform(-5, 5, (batch_size, n_in)).astype(np.float32)\n",
    "            layer_input = torch.nn.LogSoftmax(dim=1)(torch.from_numpy(layer_input)).data.numpy()\n",
    "            target_labels = np.random.choice(n_in, batch_size)\n",
    "            target = np.zeros((batch_size, n_in), np.float32)\n",
    "            target[np.arange(batch_size), target_labels] = 1  # one-hot encoding\n",
    "            # тестируем `update_output()`\n",
    "            custom_layer_output = custom_layer.update_output(layer_input, target)\n",
    "            layer_input_var = torch.from_numpy(layer_input)\n",
    "            layer_input_var.requires_grad = True \n",
    "            torch_layer_output_var = torch_layer(layer_input_var, torch.from_numpy(target_labels).long())\n",
    "            self.assertTrue(np.allclose(\n",
    "                torch_layer_output_var.data.numpy(), custom_layer_output, atol=1e-6\n",
    "            ))\n",
    "            # тестируем `update_grad_input()`\n",
    "            custom_layer_grad = custom_layer.update_grad_input(layer_input, target)\n",
    "            torch_layer_output_var.backward()\n",
    "            torch_layer_grad_var = layer_input_var.grad\n",
    "            self.assertTrue(np.allclose(torch_layer_grad_var.data.numpy(), custom_layer_grad, atol=1e-6))\n",
    "            \n",
    "    \n",
    "suite = unittest.TestLoader().loadTestsFromTestCase(TestLayers)\n",
    "unittest.TextTestRunner(verbosity=2).run(suite)"
   ]
  },
  {
   "cell_type": "code",
   "execution_count": null,
   "metadata": {
    "id": "XOysS1VGlWfc"
   },
   "outputs": [],
   "source": []
  },
  {
   "cell_type": "markdown",
   "metadata": {
    "id": "EEw5ChI3F3yf"
   },
   "source": [
    "---"
   ]
  }
 ],
 "metadata": {
  "colab": {
   "name": "[2]_task_test_modules.ipynb",
   "provenance": []
  },
  "kernelspec": {
   "display_name": "Python 3",
   "language": "python",
   "name": "python3"
  },
  "language_info": {
   "codemirror_mode": {
    "name": "ipython",
    "version": 3
   },
   "file_extension": ".py",
   "mimetype": "text/x-python",
   "name": "python",
   "nbconvert_exporter": "python",
   "pygments_lexer": "ipython3",
   "version": "3.8.10"
  },
  "toc": {
   "base_numbering": 1,
   "nav_menu": {},
   "number_sections": true,
   "sideBar": true,
   "skip_h1_title": false,
   "title_cell": "Table of Contents",
   "title_sidebar": "Contents",
   "toc_cell": false,
   "toc_position": {},
   "toc_section_display": true,
   "toc_window_display": false
  }
 },
 "nbformat": 4,
 "nbformat_minor": 1
}
