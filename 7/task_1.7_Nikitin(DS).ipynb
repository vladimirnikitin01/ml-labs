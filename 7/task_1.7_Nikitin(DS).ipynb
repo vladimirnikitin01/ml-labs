{
 "cells": [
  {
   "cell_type": "markdown",
   "metadata": {
    "id": "Rmai80QKZmWF"
   },
   "source": [
    "# Машинное обучение, DS-поток\n",
    "## Домашнее задание 10\n",
    "\n",
    "**Правила:**\n",
    "\n",
    "* Дедлайн **22 мая 23:59**. После дедлайна работы не принимаются кроме случаев наличия уважительной причины.\n",
    "* Выполненную работу нужно отправить на почту ` mipt.stats@yandex.ru`, указав тему письма `\"[ml] Фамилия Имя - задание 10\"`. Квадратные скобки обязательны. Если письмо дошло, придет ответ от автоответчика.\n",
    "* Прислать нужно ноутбук, его pdf-версию (без архивов) и ссылку на google диск с весами лучшей модели. Названия файлов должны быть такими: `10.N.ipynb` и `10.N.pdf`, где `N` - ваш номер из таблицы с оценками.\n",
    "* Теоретические задачи необходимо оформить в техе/markdown или же прислать фотку в правильной ориентации рукописного решения, **где все четко видно**.\n",
    "* Решения, размещенные на каких-либо интернет-ресурсах не принимаются. Кроме того, публикация решения в открытом доступе может быть приравнена к предоставлении возможности списать.\n",
    "* Для выполнения задания используйте этот ноутбук в качествие основы, ничего не удаляя из него.\n",
    "\n",
    "**Баллы за задание:**\n",
    "\n",
    "* Часть 1 – 20 баллов\n",
    "* Часть 2 – 5 баллов"
   ]
  },
  {
   "cell_type": "markdown",
   "metadata": {
    "id": "xMi_1QOK3vQQ"
   },
   "source": [
    "## Часть 1: Сверточные сети\n",
    "\n",
    "В этой домашней работе вам предстоит построить сверточную сеть для классификации картинок из датасета [**\"Best Artworks Of All Time\"**](https://www.kaggle.com/ikarus777/best-artworks-of-all-time). По изображению картины нужно предсказать автора (художника), написавшего ее.\n",
    "\n",
    "![](https://sun9-51.userapi.com/c858136/v858136162/1c0b61/GwA18z9fPIg.jpg)\n",
    "\n",
    "**Пожалуйста, прочитайте то, что написано ниже, там изложены требования к вашей работе и полезные советы!**\n",
    "\n",
    "Цель задания – построить нейросеть, чтобы достичь максимально возможного accuracy. В конце задания вы должны будете предоставить отчет о проделанной работе.\n",
    "\n",
    "**Оценивание вашей работы:**\n",
    "\n",
    "В сумме за домашнюю работу можно получить $25$ баллов.\n",
    "\n",
    "* +$3$ балла за работу за предоставление детального отчета (требования к нему изложены ниже).\n",
    "* +$3$ балла за построение нейросети, которая достигает значения Accuracy не менее 20% на тестовом датасете.\n",
    "* +$2$ балла за каждый следующий пройденный порог.\n",
    "    * 25% Accuracy\n",
    "    * 30% Accuracy\n",
    "    * 32.5% Accuracy\n",
    "    * 35% Accuracy\n",
    "    * 37.5% Accuracy\n",
    "    * 40% Accuracy\n",
    "    \n",
    "* +$2$ балла за выполнение \"задания на ваше знание статистики\". Вы можете найти его в конце всех советов и требований\n",
    "\n",
    "* +$5$ баллов за выполнение второй части задания (Transfer Learning)\n",
    "\n",
    "**Требование к работе:**\n",
    "\n",
    "* В этой части задания **запрещено** использовать предобученные нейросети. Для этого есть вторая часть домашней работы и она оценивается отдельно!\n",
    "\n",
    "* **Запрещено** использовать тестовые данные за исключением вычисления финальной оценки качества.\n",
    "\n",
    "* Сохраните веса лучшей модели с помощью `torch.save` ([инструкция](https://pytorch.org/tutorials/beginner/saving_loading_models.html)) и пришлите ссылку на файл с весами на google диске. Так мы сможем проверить выполнение предыдущего пункта. **Работы без присланных весов не будут засчитаны.**\n",
    "\n",
    "    Пример сохранения и загрузки весов:\n",
    "    \n",
    "    ```\n",
    "    # Save:\n",
    "    torch.save(model, PATH)\n",
    "\n",
    "    # Load:\n",
    "    model = torch.load(PATH)\n",
    "    model.eval()\n",
    "\n",
    "    ```\n",
    "\n",
    "    Более подробную инструкцию можно найти по [ссылке](https://pytorch.org/tutorials/beginner/saving_loading_models.html).\n",
    "\n",
    "**Требования к отчёту:**\n",
    "\n",
    "* Опишите свои эксперименты: с чего вы начали, что попробовали улучшить и почему, заработало это или нет, какие вы сделали из этого выводы.\n",
    "\n",
    "* Опишите вашу лучшую архитектуру, методы обучения и интересные моменты.\n",
    "\n",
    "\n",
    "### Советы:\n",
    "\n",
    "#### Архитектура нейросети:\n",
    "* Это задание может быть решено последовательностью сверток, пулингов, батчнорма и активаций, но не стоит останавливаться на этом.\n",
    "* Можно рассмотреть такие архитектуры как [Inception family](https://hacktilldawn.com/2016/09/25/inception-modules-explained-and-implemented/), [ResNet family](https://towardsdatascience.com/an-overview-of-resnet-and-its-variants-5281e2f56035?gi=9018057983ca), [Densely-connected convolutions](https://arxiv.org/abs/1608.06993). Однако вам нужно будет реализовать их самостоятельно.\n",
    "* Попробуйте сначала построить простую нейросеть, чтобы понять как с ними работать, перед тем как использовать resnet-152.\n",
    "* Также можно попробовать разные активации: `tanh`, `leaky relu` и другие.\n",
    "\n",
    "#### Переобучение:\n",
    "Если ваша нейросеть переобучается (лосс на тесте падает, а на валидации растет), вот некоторые методы, как с этим бороться:\n",
    "* Попробуйте добавить Dropout. Не бойтесь удалять много данных, но всегда проверяйте, что это не испортило вам качество.\n",
    "* Добавьте L2 регуляризацию весов (начните с небольшого значения). Регуляризация контролируется параметром `weight_decay` оптимизатора.\n",
    "* Попробуйте уменьшать `learning rate` с течением времени. В этом поможет `torch.optim.lr_scheduler`.\n",
    "* Уменьшите число нейронов в сети.\n",
    "* [Прерывайте обучение](https://github.com/Bjarten/early-stopping-pytorch), если сеть начала переобучаться.\n",
    "\n",
    "#### Процесс обучения:\n",
    "* Воспользуйтесь GPU google colab или любой другой GPU, которая у вас есть. \n",
    "* Для сокращения вычислительной сложности можно поэксперементировать с параметром `stride`. \n",
    "* Эксперементируйте с оптимизаторами: `rmsprop`, `nesterov_momentum`, `adam`, `adagrad` и далее. В этом вам поможет  `torch.optim`.\n",
    "* Помните, что некоторым нейросетям требуется $10$ эпох, чтобы сойтись, а некоторым – $500$. Большие нейросети дольше обучаются.\n",
    "* Если вы достигли какого-то порога на валидации лучше подождать примерно 10 эпох перед тем как останавливать обучение.\n",
    "\n",
    "#### Аугментация данных:\n",
    "* Вы можете использовать любые библиотеки для аугментации данных, например: [torchvision.transforms](https://pytorch.org/docs/stable/torchvision/transforms.html), [albumentations](https://albumentations.readthedocs.io/en/latest/api/augmentations.html), [augmentor](https://augmentor.readthedocs.io/en/master/), [imgaug](https://imgaug.readthedocs.io/en/latest/).\n",
    "* Попробуйте добавить шум.\n",
    "* Повернуть картинку + приблизить, чтобы убрать черные края.\n",
    "* Отразить её вертикально или горизонтально.\n",
    "* Сократить размер картинки, это позволит сократить параметры сети.\n",
    "* При аугментации всегда нужно помнить с какими данными мы работаем (разворачивание собаки на 180 градусов вам, наверняка, не поможет, потому что таких примеров, скорее всего, не будет в тестовой выборке).\n",
    "\n",
    "\n",
    "И главное: \n",
    "\n",
    "* Тестируйте только **одну идею за раз**.\n",
    "* Сохраняёте веса моделей (для каждого эксперимента, через N эпох, при достижении наилучшего качества на валидации), чтобы нечаянно не потерять результаты долгой работы.\n",
    "* Рисуйте кривые обучения (loss и метрику качества) для обучения и валидации."
   ]
  },
  {
   "cell_type": "markdown",
   "metadata": {
    "id": "RAzDMHsfJzsX"
   },
   "source": [
    "Поставим RAdam."
   ]
  },
  {
   "cell_type": "code",
   "execution_count": 1,
   "metadata": {
    "colab": {
     "base_uri": "https://localhost:8080/"
    },
    "id": "Clwq7pqHJlLo",
    "outputId": "7c2bcbd0-406c-4db0-8e09-29b76c0696e2"
   },
   "outputs": [
    {
     "name": "stdout",
     "output_type": "stream",
     "text": [
      "Cloning into 'RAdam'...\n",
      "remote: Enumerating objects: 320, done.\u001b[K\n",
      "remote: Counting objects: 100% (7/7), done.\u001b[K\n",
      "remote: Compressing objects: 100% (7/7), done.\u001b[K\n",
      "remote: Total 320 (delta 1), reused 2 (delta 0), pack-reused 313\u001b[K\n",
      "Receiving objects: 100% (320/320), 955.36 KiB | 3.72 MiB/s, done.\n",
      "Resolving deltas: 100% (147/147), done.\n"
     ]
    }
   ],
   "source": [
    "!git clone https://github.com/LiyuanLucasLiu/RAdam.git RAdam"
   ]
  },
  {
   "cell_type": "code",
   "execution_count": 2,
   "metadata": {
    "colab": {
     "base_uri": "https://localhost:8080/"
    },
    "id": "Rlg2YIolkwnj",
    "outputId": "53b02046-265d-4659-c493-47e382f0422e"
   },
   "outputs": [
    {
     "name": "stdout",
     "output_type": "stream",
     "text": [
      "Collecting transformers\n",
      "  Downloading transformers-4.17.0-py3-none-any.whl (3.8 MB)\n",
      "\u001b[K     |████████████████████████████████| 3.8 MB 4.3 MB/s \n",
      "\u001b[?25hCollecting pyyaml>=5.1\n",
      "  Downloading PyYAML-6.0-cp37-cp37m-manylinux_2_5_x86_64.manylinux1_x86_64.manylinux_2_12_x86_64.manylinux2010_x86_64.whl (596 kB)\n",
      "\u001b[K     |████████████████████████████████| 596 kB 47.9 MB/s \n",
      "\u001b[?25hRequirement already satisfied: importlib-metadata in /usr/local/lib/python3.7/dist-packages (from transformers) (4.11.3)\n",
      "Requirement already satisfied: numpy>=1.17 in /usr/local/lib/python3.7/dist-packages (from transformers) (1.21.5)\n",
      "Requirement already satisfied: requests in /usr/local/lib/python3.7/dist-packages (from transformers) (2.23.0)\n",
      "Collecting huggingface-hub<1.0,>=0.1.0\n",
      "  Downloading huggingface_hub-0.4.0-py3-none-any.whl (67 kB)\n",
      "\u001b[K     |████████████████████████████████| 67 kB 5.2 MB/s \n",
      "\u001b[?25hRequirement already satisfied: regex!=2019.12.17 in /usr/local/lib/python3.7/dist-packages (from transformers) (2019.12.20)\n",
      "Collecting sacremoses\n",
      "  Downloading sacremoses-0.0.49-py3-none-any.whl (895 kB)\n",
      "\u001b[K     |████████████████████████████████| 895 kB 47.6 MB/s \n",
      "\u001b[?25hRequirement already satisfied: tqdm>=4.27 in /usr/local/lib/python3.7/dist-packages (from transformers) (4.63.0)\n",
      "Collecting tokenizers!=0.11.3,>=0.11.1\n",
      "  Downloading tokenizers-0.11.6-cp37-cp37m-manylinux_2_12_x86_64.manylinux2010_x86_64.whl (6.5 MB)\n",
      "\u001b[K     |████████████████████████████████| 6.5 MB 45.0 MB/s \n",
      "\u001b[?25hRequirement already satisfied: packaging>=20.0 in /usr/local/lib/python3.7/dist-packages (from transformers) (21.3)\n",
      "Requirement already satisfied: filelock in /usr/local/lib/python3.7/dist-packages (from transformers) (3.6.0)\n",
      "Requirement already satisfied: typing-extensions>=3.7.4.3 in /usr/local/lib/python3.7/dist-packages (from huggingface-hub<1.0,>=0.1.0->transformers) (3.10.0.2)\n",
      "Requirement already satisfied: pyparsing!=3.0.5,>=2.0.2 in /usr/local/lib/python3.7/dist-packages (from packaging>=20.0->transformers) (3.0.7)\n",
      "Requirement already satisfied: zipp>=0.5 in /usr/local/lib/python3.7/dist-packages (from importlib-metadata->transformers) (3.7.0)\n",
      "Requirement already satisfied: certifi>=2017.4.17 in /usr/local/lib/python3.7/dist-packages (from requests->transformers) (2021.10.8)\n",
      "Requirement already satisfied: chardet<4,>=3.0.2 in /usr/local/lib/python3.7/dist-packages (from requests->transformers) (3.0.4)\n",
      "Requirement already satisfied: idna<3,>=2.5 in /usr/local/lib/python3.7/dist-packages (from requests->transformers) (2.10)\n",
      "Requirement already satisfied: urllib3!=1.25.0,!=1.25.1,<1.26,>=1.21.1 in /usr/local/lib/python3.7/dist-packages (from requests->transformers) (1.24.3)\n",
      "Requirement already satisfied: joblib in /usr/local/lib/python3.7/dist-packages (from sacremoses->transformers) (1.1.0)\n",
      "Requirement already satisfied: six in /usr/local/lib/python3.7/dist-packages (from sacremoses->transformers) (1.15.0)\n",
      "Requirement already satisfied: click in /usr/local/lib/python3.7/dist-packages (from sacremoses->transformers) (7.1.2)\n",
      "Installing collected packages: pyyaml, tokenizers, sacremoses, huggingface-hub, transformers\n",
      "  Attempting uninstall: pyyaml\n",
      "    Found existing installation: PyYAML 3.13\n",
      "    Uninstalling PyYAML-3.13:\n",
      "      Successfully uninstalled PyYAML-3.13\n",
      "Successfully installed huggingface-hub-0.4.0 pyyaml-6.0 sacremoses-0.0.49 tokenizers-0.11.6 transformers-4.17.0\n"
     ]
    }
   ],
   "source": [
    "!pip install transformers"
   ]
  },
  {
   "cell_type": "code",
   "execution_count": 3,
   "metadata": {
    "id": "NTJXij7G7uQj"
   },
   "outputs": [],
   "source": [
    "import os\n",
    "import time\n",
    "import random\n",
    "import gc\n",
    "import shutil\n",
    "from collections import defaultdict, OrderedDict\n",
    "\n",
    "import numpy as np\n",
    "import scipy.stats as sps\n",
    "import matplotlib.pyplot as plt\n",
    "import seaborn as sns\n",
    "import torch\n",
    "import torchvision\n",
    "from tqdm.notebook import tqdm\n",
    "\n",
    "from torch import nn\n",
    "import torch.nn.functional as F\n",
    "from torchvision import datasets, transforms\n",
    "from torchsummary import summary\n",
    "\n",
    "from sklearn.metrics import accuracy_score, confusion_matrix\n",
    "\n",
    "from IPython.display import clear_output\n",
    "\n",
    "from google.colab import drive\n",
    "\n",
    "from transformers import AdamW\n",
    "from RAdam import radam\n",
    "\n",
    "sns.set(font_scale=1.2)\n",
    "%matplotlib inline"
   ]
  },
  {
   "cell_type": "code",
   "execution_count": 4,
   "metadata": {
    "colab": {
     "base_uri": "https://localhost:8080/"
    },
    "id": "MM3llXzEXw7z",
    "outputId": "ce845933-4b5e-4f1f-ce6b-9a5efe7a19a3"
   },
   "outputs": [
    {
     "name": "stdout",
     "output_type": "stream",
     "text": [
      "using device: cuda\n"
     ]
    }
   ],
   "source": [
    "USE_GPU = True\n",
    "\n",
    "if USE_GPU and torch.cuda.is_available():\n",
    "    device = torch.device('cuda')\n",
    "else:\n",
    "    device = torch.device('cpu')\n",
    "\n",
    "print('using device:', device)"
   ]
  },
  {
   "cell_type": "code",
   "execution_count": 5,
   "metadata": {
    "colab": {
     "base_uri": "https://localhost:8080/"
    },
    "id": "-vKi2sAdt0Z0",
    "outputId": "5a48421a-6790-430a-d906-8265407de464"
   },
   "outputs": [
    {
     "name": "stdout",
     "output_type": "stream",
     "text": [
      "Sun Mar 27 06:37:19 2022       \n",
      "+-----------------------------------------------------------------------------+\n",
      "| NVIDIA-SMI 460.32.03    Driver Version: 460.32.03    CUDA Version: 11.2     |\n",
      "|-------------------------------+----------------------+----------------------+\n",
      "| GPU  Name        Persistence-M| Bus-Id        Disp.A | Volatile Uncorr. ECC |\n",
      "| Fan  Temp  Perf  Pwr:Usage/Cap|         Memory-Usage | GPU-Util  Compute M. |\n",
      "|                               |                      |               MIG M. |\n",
      "|===============================+======================+======================|\n",
      "|   0  Tesla K80           Off  | 00000000:00:04.0 Off |                    0 |\n",
      "| N/A   36C    P8    26W / 149W |      3MiB / 11441MiB |      0%      Default |\n",
      "|                               |                      |                  N/A |\n",
      "+-------------------------------+----------------------+----------------------+\n",
      "                                                                               \n",
      "+-----------------------------------------------------------------------------+\n",
      "| Processes:                                                                  |\n",
      "|  GPU   GI   CI        PID   Type   Process name                  GPU Memory |\n",
      "|        ID   ID                                                   Usage      |\n",
      "|=============================================================================|\n",
      "|  No running processes found                                                 |\n",
      "+-----------------------------------------------------------------------------+\n"
     ]
    }
   ],
   "source": [
    "!nvidia-smi"
   ]
  },
  {
   "cell_type": "markdown",
   "metadata": {
    "id": "cpKvCtgWX0rN"
   },
   "source": [
    "Для инициализации всех генераторов случайных чисел."
   ]
  },
  {
   "cell_type": "code",
   "execution_count": 7,
   "metadata": {
    "id": "D99sw0oyXxcU"
   },
   "outputs": [],
   "source": [
    "random_seed = 42\n",
    "random_state = random_seed\n",
    "\n",
    "def set_seed_everywhere(seed, cuda):\n",
    "    random.seed(seed)\n",
    "    np.random.seed(seed)\n",
    "    torch.manual_seed(seed)\n",
    "    torch.backends.cudnn.deterministic = True\n",
    "    torch.backends.cudnn.benchmark = False\n",
    "    if cuda:\n",
    "        torch.cuda.manual_seed_all(seed)\n",
    "\n",
    "set_seed_everywhere(random_seed, USE_GPU)"
   ]
  },
  {
   "cell_type": "markdown",
   "metadata": {
    "id": "S2RzRfhvHMip"
   },
   "source": [
    "Скачаем данные по ссылке:"
   ]
  },
  {
   "cell_type": "code",
   "execution_count": 8,
   "metadata": {
    "id": "mvjYdfe0sN6t"
   },
   "outputs": [],
   "source": [
    "!rm -rf data/"
   ]
  },
  {
   "cell_type": "code",
   "execution_count": 9,
   "metadata": {
    "colab": {
     "base_uri": "https://localhost:8080/"
    },
    "id": "E0uMuxuzNhZH",
    "outputId": "759a3aa6-ef60-4f78-f1a9-3a11e488eee6"
   },
   "outputs": [
    {
     "name": "stdout",
     "output_type": "stream",
     "text": [
      "--2022-03-27 06:37:31--  https://www.dropbox.com/s/w90m55pl7ylgiaf/data.tar.xz?dl=0\n",
      "Resolving www.dropbox.com (www.dropbox.com)... 162.125.85.18, 2620:100:6035:18::a27d:5512\n",
      "Connecting to www.dropbox.com (www.dropbox.com)|162.125.85.18|:443... connected.\n",
      "HTTP request sent, awaiting response... 301 Moved Permanently\n",
      "Location: /s/raw/w90m55pl7ylgiaf/data.tar.xz [following]\n",
      "--2022-03-27 06:37:31--  https://www.dropbox.com/s/raw/w90m55pl7ylgiaf/data.tar.xz\n",
      "Reusing existing connection to www.dropbox.com:443.\n",
      "HTTP request sent, awaiting response... 302 Found\n",
      "Location: https://uccde3c4c86b55f2e628caefe152.dl.dropboxusercontent.com/cd/0/inline/BiPRr5owXJLtbc2isR78ESodZuk2E2AaIh6PYkGo41NsZdmnZCGSH7PvqVfSBKfYlA1u4w_9yTgixxV-CR6Spj_Q8ElUzRUZ9vralpLb3YTlO3GSH4uFippNQtQfQBIee8yUoK03DV4WIsspmu-NGCEuYZagP64tQMragMQn2ghRuA/file# [following]\n",
      "--2022-03-27 06:37:32--  https://uccde3c4c86b55f2e628caefe152.dl.dropboxusercontent.com/cd/0/inline/BiPRr5owXJLtbc2isR78ESodZuk2E2AaIh6PYkGo41NsZdmnZCGSH7PvqVfSBKfYlA1u4w_9yTgixxV-CR6Spj_Q8ElUzRUZ9vralpLb3YTlO3GSH4uFippNQtQfQBIee8yUoK03DV4WIsspmu-NGCEuYZagP64tQMragMQn2ghRuA/file\n",
      "Resolving uccde3c4c86b55f2e628caefe152.dl.dropboxusercontent.com (uccde3c4c86b55f2e628caefe152.dl.dropboxusercontent.com)... 162.125.80.15, 2620:100:6035:15::a27d:550f\n",
      "Connecting to uccde3c4c86b55f2e628caefe152.dl.dropboxusercontent.com (uccde3c4c86b55f2e628caefe152.dl.dropboxusercontent.com)|162.125.80.15|:443... connected.\n",
      "HTTP request sent, awaiting response... 302 Found\n",
      "Location: /cd/0/inline2/BiPucv6CoY1subYxdN_O0qv3MkZO6jk8vb8u1F4VcQWbAWoQHHo_PZ-moMcfCH8AhJVo8b0z3TiqMQeu1hvOk5Nq-rSdOpQs4HUvtUAL-x_50FXrjkJONZ8WSc8dpGOeeCtwfMoL2Fnhzq_yQEt3rSqNC9h8r-A3Zv9R4nh1Decx7V9tuX8A9isjTQLnxcOafCEnkoIpQjkx-pxLvfy577ySU8l-bkbOcjt5K_kG4DMdCU4zQzgvo-doaTu2xS-LFT9gFZTMWQHkGMPCnZtKZ5yCPv7hEiQe8JBP9oDil6k47ZjmLpUuW93SKgZ6iTYszYZkPMz9XT_gs0UJ_Hu5fUz7YWr_zYrzcVfqnVAF0M1hHAhzssyqgXtW1LmyV9JxLtdvBVWDizntb8tD09s-QNfUsOPUw3nLoCjzf9sWKj6NQQ/file [following]\n",
      "--2022-03-27 06:37:33--  https://uccde3c4c86b55f2e628caefe152.dl.dropboxusercontent.com/cd/0/inline2/BiPucv6CoY1subYxdN_O0qv3MkZO6jk8vb8u1F4VcQWbAWoQHHo_PZ-moMcfCH8AhJVo8b0z3TiqMQeu1hvOk5Nq-rSdOpQs4HUvtUAL-x_50FXrjkJONZ8WSc8dpGOeeCtwfMoL2Fnhzq_yQEt3rSqNC9h8r-A3Zv9R4nh1Decx7V9tuX8A9isjTQLnxcOafCEnkoIpQjkx-pxLvfy577ySU8l-bkbOcjt5K_kG4DMdCU4zQzgvo-doaTu2xS-LFT9gFZTMWQHkGMPCnZtKZ5yCPv7hEiQe8JBP9oDil6k47ZjmLpUuW93SKgZ6iTYszYZkPMz9XT_gs0UJ_Hu5fUz7YWr_zYrzcVfqnVAF0M1hHAhzssyqgXtW1LmyV9JxLtdvBVWDizntb8tD09s-QNfUsOPUw3nLoCjzf9sWKj6NQQ/file\n",
      "Reusing existing connection to uccde3c4c86b55f2e628caefe152.dl.dropboxusercontent.com:443.\n",
      "HTTP request sent, awaiting response... 200 OK\n",
      "Length: 1680267652 (1.6G) [application/octet-stream]\n",
      "Saving to: ‘data.tar.xz’\n",
      "\n",
      "data.tar.xz         100%[===================>]   1.56G  30.8MB/s    in 56s     \n",
      "\n",
      "2022-03-27 06:38:30 (28.6 MB/s) - ‘data.tar.xz’ saved [1680267652/1680267652]\n",
      "\n",
      "51\n",
      "6116\n"
     ]
    }
   ],
   "source": [
    "!wget -O data.tar.xz https://www.dropbox.com/s/w90m55pl7ylgiaf/data.tar.xz?dl=0\n",
    "!tar -xf data.tar.xz data\n",
    "!ls data/train | wc -l\n",
    "!find data/train -type f | wc -l"
   ]
  },
  {
   "cell_type": "markdown",
   "metadata": {
    "id": "fFaoqLAZE6ep"
   },
   "source": [
    "Уменьшим все изображения так, чтобы самая большая из осей не превышала 400px."
   ]
  },
  {
   "cell_type": "code",
   "execution_count": 10,
   "metadata": {
    "colab": {
     "base_uri": "https://localhost:8080/"
    },
    "id": "rrbakToc7qVX",
    "outputId": "c6e19622-e7f9-4a1e-c716-82c5782b2fc3"
   },
   "outputs": [
    {
     "name": "stdout",
     "output_type": "stream",
     "text": [
      "Reading package lists... Done\n",
      "Building dependency tree       \n",
      "Reading state information... Done\n",
      "The following additional packages will be installed:\n",
      "  fonts-droid-fallback fonts-noto-mono ghostscript gsfonts\n",
      "  imagemagick-6-common imagemagick-6.q16 libcupsfilters1 libcupsimage2\n",
      "  libdjvulibre-text libdjvulibre21 libgs9 libgs9-common libijs-0.35\n",
      "  libjbig2dec0 liblqr-1-0 libmagickcore-6.q16-3 libmagickcore-6.q16-3-extra\n",
      "  libmagickwand-6.q16-3 libnetpbm10 libwmf0.2-7 netpbm poppler-data\n",
      "Suggested packages:\n",
      "  fonts-noto ghostscript-x imagemagick-doc autotrace cups-bsd | lpr | lprng\n",
      "  enscript gimp gnuplot grads hp2xx html2ps libwmf-bin mplayer povray radiance\n",
      "  sane-utils texlive-base-bin transfig ufraw-batch inkscape libjxr-tools\n",
      "  libwmf0.2-7-gtk poppler-utils fonts-japanese-mincho | fonts-ipafont-mincho\n",
      "  fonts-japanese-gothic | fonts-ipafont-gothic fonts-arphic-ukai\n",
      "  fonts-arphic-uming fonts-nanum\n",
      "The following NEW packages will be installed:\n",
      "  fonts-droid-fallback fonts-noto-mono ghostscript gsfonts imagemagick\n",
      "  imagemagick-6-common imagemagick-6.q16 libcupsfilters1 libcupsimage2\n",
      "  libdjvulibre-text libdjvulibre21 libgs9 libgs9-common libijs-0.35\n",
      "  libjbig2dec0 liblqr-1-0 libmagickcore-6.q16-3 libmagickcore-6.q16-3-extra\n",
      "  libmagickwand-6.q16-3 libnetpbm10 libwmf0.2-7 netpbm poppler-data\n",
      "0 upgraded, 23 newly installed, 0 to remove and 39 not upgraded.\n",
      "Need to get 18.4 MB of archives.\n",
      "After this operation, 66.3 MB of additional disk space will be used.\n",
      "Get:1 http://archive.ubuntu.com/ubuntu bionic/main amd64 fonts-droid-fallback all 1:6.0.1r16-1.1 [1,805 kB]\n",
      "Get:2 http://archive.ubuntu.com/ubuntu bionic/main amd64 liblqr-1-0 amd64 0.4.2-2.1 [27.7 kB]\n",
      "Get:3 http://archive.ubuntu.com/ubuntu bionic-updates/main amd64 imagemagick-6-common all 8:6.9.7.4+dfsg-16ubuntu6.12 [60.3 kB]\n",
      "Get:4 http://archive.ubuntu.com/ubuntu bionic-updates/main amd64 libmagickcore-6.q16-3 amd64 8:6.9.7.4+dfsg-16ubuntu6.12 [1,621 kB]\n",
      "Get:5 http://archive.ubuntu.com/ubuntu bionic-updates/main amd64 libmagickwand-6.q16-3 amd64 8:6.9.7.4+dfsg-16ubuntu6.12 [292 kB]\n",
      "Get:6 http://archive.ubuntu.com/ubuntu bionic/main amd64 poppler-data all 0.4.8-2 [1,479 kB]\n",
      "Get:7 http://archive.ubuntu.com/ubuntu bionic/main amd64 fonts-noto-mono all 20171026-2 [75.5 kB]\n",
      "Get:8 http://archive.ubuntu.com/ubuntu bionic-updates/main amd64 libcupsimage2 amd64 2.2.7-1ubuntu2.8 [18.6 kB]\n",
      "Get:9 http://archive.ubuntu.com/ubuntu bionic/main amd64 libijs-0.35 amd64 0.35-13 [15.5 kB]\n",
      "Get:10 http://archive.ubuntu.com/ubuntu bionic/main amd64 libjbig2dec0 amd64 0.13-6 [55.9 kB]\n",
      "Get:11 http://archive.ubuntu.com/ubuntu bionic-updates/main amd64 libgs9-common all 9.26~dfsg+0-0ubuntu0.18.04.15 [5,092 kB]\n",
      "Get:12 http://archive.ubuntu.com/ubuntu bionic-updates/main amd64 libgs9 amd64 9.26~dfsg+0-0ubuntu0.18.04.15 [2,265 kB]\n",
      "Get:13 http://archive.ubuntu.com/ubuntu bionic-updates/main amd64 ghostscript amd64 9.26~dfsg+0-0ubuntu0.18.04.15 [51.4 kB]\n",
      "Get:14 http://archive.ubuntu.com/ubuntu bionic/main amd64 gsfonts all 1:8.11+urwcyr1.0.7~pre44-4.4 [3,120 kB]\n",
      "Get:15 http://archive.ubuntu.com/ubuntu bionic-updates/main amd64 imagemagick-6.q16 amd64 8:6.9.7.4+dfsg-16ubuntu6.12 [423 kB]\n",
      "Get:16 http://archive.ubuntu.com/ubuntu bionic-updates/main amd64 imagemagick amd64 8:6.9.7.4+dfsg-16ubuntu6.12 [14.2 kB]\n",
      "Get:17 http://archive.ubuntu.com/ubuntu bionic-updates/main amd64 libcupsfilters1 amd64 1.20.2-0ubuntu3.1 [108 kB]\n",
      "Get:18 http://archive.ubuntu.com/ubuntu bionic-updates/main amd64 libdjvulibre-text all 3.5.27.1-8ubuntu0.4 [49.4 kB]\n",
      "Get:19 http://archive.ubuntu.com/ubuntu bionic-updates/main amd64 libdjvulibre21 amd64 3.5.27.1-8ubuntu0.4 [561 kB]\n",
      "Get:20 http://archive.ubuntu.com/ubuntu bionic/main amd64 libwmf0.2-7 amd64 0.2.8.4-12 [150 kB]\n",
      "Get:21 http://archive.ubuntu.com/ubuntu bionic-updates/main amd64 libmagickcore-6.q16-3-extra amd64 8:6.9.7.4+dfsg-16ubuntu6.12 [62.4 kB]\n",
      "Get:22 http://archive.ubuntu.com/ubuntu bionic/main amd64 libnetpbm10 amd64 2:10.0-15.3build1 [58.0 kB]\n",
      "Get:23 http://archive.ubuntu.com/ubuntu bionic/main amd64 netpbm amd64 2:10.0-15.3build1 [1,017 kB]\n",
      "Fetched 18.4 MB in 4s (4,960 kB/s)\n",
      "Selecting previously unselected package fonts-droid-fallback.\n",
      "(Reading database ... 156210 files and directories currently installed.)\n",
      "Preparing to unpack .../00-fonts-droid-fallback_1%3a6.0.1r16-1.1_all.deb ...\n",
      "Unpacking fonts-droid-fallback (1:6.0.1r16-1.1) ...\n",
      "Selecting previously unselected package liblqr-1-0:amd64.\n",
      "Preparing to unpack .../01-liblqr-1-0_0.4.2-2.1_amd64.deb ...\n",
      "Unpacking liblqr-1-0:amd64 (0.4.2-2.1) ...\n",
      "Selecting previously unselected package imagemagick-6-common.\n",
      "Preparing to unpack .../02-imagemagick-6-common_8%3a6.9.7.4+dfsg-16ubuntu6.12_all.deb ...\n",
      "Unpacking imagemagick-6-common (8:6.9.7.4+dfsg-16ubuntu6.12) ...\n",
      "Selecting previously unselected package libmagickcore-6.q16-3:amd64.\n",
      "Preparing to unpack .../03-libmagickcore-6.q16-3_8%3a6.9.7.4+dfsg-16ubuntu6.12_amd64.deb ...\n",
      "Unpacking libmagickcore-6.q16-3:amd64 (8:6.9.7.4+dfsg-16ubuntu6.12) ...\n",
      "Selecting previously unselected package libmagickwand-6.q16-3:amd64.\n",
      "Preparing to unpack .../04-libmagickwand-6.q16-3_8%3a6.9.7.4+dfsg-16ubuntu6.12_amd64.deb ...\n",
      "Unpacking libmagickwand-6.q16-3:amd64 (8:6.9.7.4+dfsg-16ubuntu6.12) ...\n",
      "Selecting previously unselected package poppler-data.\n",
      "Preparing to unpack .../05-poppler-data_0.4.8-2_all.deb ...\n",
      "Unpacking poppler-data (0.4.8-2) ...\n",
      "Selecting previously unselected package fonts-noto-mono.\n",
      "Preparing to unpack .../06-fonts-noto-mono_20171026-2_all.deb ...\n",
      "Unpacking fonts-noto-mono (20171026-2) ...\n",
      "Selecting previously unselected package libcupsimage2:amd64.\n",
      "Preparing to unpack .../07-libcupsimage2_2.2.7-1ubuntu2.8_amd64.deb ...\n",
      "Unpacking libcupsimage2:amd64 (2.2.7-1ubuntu2.8) ...\n",
      "Selecting previously unselected package libijs-0.35:amd64.\n",
      "Preparing to unpack .../08-libijs-0.35_0.35-13_amd64.deb ...\n",
      "Unpacking libijs-0.35:amd64 (0.35-13) ...\n",
      "Selecting previously unselected package libjbig2dec0:amd64.\n",
      "Preparing to unpack .../09-libjbig2dec0_0.13-6_amd64.deb ...\n",
      "Unpacking libjbig2dec0:amd64 (0.13-6) ...\n",
      "Selecting previously unselected package libgs9-common.\n",
      "Preparing to unpack .../10-libgs9-common_9.26~dfsg+0-0ubuntu0.18.04.15_all.deb ...\n",
      "Unpacking libgs9-common (9.26~dfsg+0-0ubuntu0.18.04.15) ...\n",
      "Selecting previously unselected package libgs9:amd64.\n",
      "Preparing to unpack .../11-libgs9_9.26~dfsg+0-0ubuntu0.18.04.15_amd64.deb ...\n",
      "Unpacking libgs9:amd64 (9.26~dfsg+0-0ubuntu0.18.04.15) ...\n",
      "Selecting previously unselected package ghostscript.\n",
      "Preparing to unpack .../12-ghostscript_9.26~dfsg+0-0ubuntu0.18.04.15_amd64.deb ...\n",
      "Unpacking ghostscript (9.26~dfsg+0-0ubuntu0.18.04.15) ...\n",
      "Selecting previously unselected package gsfonts.\n",
      "Preparing to unpack .../13-gsfonts_1%3a8.11+urwcyr1.0.7~pre44-4.4_all.deb ...\n",
      "Unpacking gsfonts (1:8.11+urwcyr1.0.7~pre44-4.4) ...\n",
      "Selecting previously unselected package imagemagick-6.q16.\n",
      "Preparing to unpack .../14-imagemagick-6.q16_8%3a6.9.7.4+dfsg-16ubuntu6.12_amd64.deb ...\n",
      "Unpacking imagemagick-6.q16 (8:6.9.7.4+dfsg-16ubuntu6.12) ...\n",
      "Selecting previously unselected package imagemagick.\n",
      "Preparing to unpack .../15-imagemagick_8%3a6.9.7.4+dfsg-16ubuntu6.12_amd64.deb ...\n",
      "Unpacking imagemagick (8:6.9.7.4+dfsg-16ubuntu6.12) ...\n",
      "Selecting previously unselected package libcupsfilters1:amd64.\n",
      "Preparing to unpack .../16-libcupsfilters1_1.20.2-0ubuntu3.1_amd64.deb ...\n",
      "Unpacking libcupsfilters1:amd64 (1.20.2-0ubuntu3.1) ...\n",
      "Selecting previously unselected package libdjvulibre-text.\n",
      "Preparing to unpack .../17-libdjvulibre-text_3.5.27.1-8ubuntu0.4_all.deb ...\n",
      "Unpacking libdjvulibre-text (3.5.27.1-8ubuntu0.4) ...\n",
      "Selecting previously unselected package libdjvulibre21:amd64.\n",
      "Preparing to unpack .../18-libdjvulibre21_3.5.27.1-8ubuntu0.4_amd64.deb ...\n",
      "Unpacking libdjvulibre21:amd64 (3.5.27.1-8ubuntu0.4) ...\n",
      "Selecting previously unselected package libwmf0.2-7:amd64.\n",
      "Preparing to unpack .../19-libwmf0.2-7_0.2.8.4-12_amd64.deb ...\n",
      "Unpacking libwmf0.2-7:amd64 (0.2.8.4-12) ...\n",
      "Selecting previously unselected package libmagickcore-6.q16-3-extra:amd64.\n",
      "Preparing to unpack .../20-libmagickcore-6.q16-3-extra_8%3a6.9.7.4+dfsg-16ubuntu6.12_amd64.deb ...\n",
      "Unpacking libmagickcore-6.q16-3-extra:amd64 (8:6.9.7.4+dfsg-16ubuntu6.12) ...\n",
      "Selecting previously unselected package libnetpbm10.\n",
      "Preparing to unpack .../21-libnetpbm10_2%3a10.0-15.3build1_amd64.deb ...\n",
      "Unpacking libnetpbm10 (2:10.0-15.3build1) ...\n",
      "Selecting previously unselected package netpbm.\n",
      "Preparing to unpack .../22-netpbm_2%3a10.0-15.3build1_amd64.deb ...\n",
      "Unpacking netpbm (2:10.0-15.3build1) ...\n",
      "Setting up libgs9-common (9.26~dfsg+0-0ubuntu0.18.04.15) ...\n",
      "Setting up imagemagick-6-common (8:6.9.7.4+dfsg-16ubuntu6.12) ...\n",
      "Setting up fonts-droid-fallback (1:6.0.1r16-1.1) ...\n",
      "Setting up gsfonts (1:8.11+urwcyr1.0.7~pre44-4.4) ...\n",
      "Setting up poppler-data (0.4.8-2) ...\n",
      "Setting up libdjvulibre-text (3.5.27.1-8ubuntu0.4) ...\n",
      "Setting up libnetpbm10 (2:10.0-15.3build1) ...\n",
      "Setting up fonts-noto-mono (20171026-2) ...\n",
      "Setting up libcupsfilters1:amd64 (1.20.2-0ubuntu3.1) ...\n",
      "Setting up libcupsimage2:amd64 (2.2.7-1ubuntu2.8) ...\n",
      "Setting up liblqr-1-0:amd64 (0.4.2-2.1) ...\n",
      "Setting up libjbig2dec0:amd64 (0.13-6) ...\n",
      "Setting up libijs-0.35:amd64 (0.35-13) ...\n",
      "Setting up netpbm (2:10.0-15.3build1) ...\n",
      "Setting up libgs9:amd64 (9.26~dfsg+0-0ubuntu0.18.04.15) ...\n",
      "Setting up libwmf0.2-7:amd64 (0.2.8.4-12) ...\n",
      "Setting up libmagickcore-6.q16-3:amd64 (8:6.9.7.4+dfsg-16ubuntu6.12) ...\n",
      "Setting up libdjvulibre21:amd64 (3.5.27.1-8ubuntu0.4) ...\n",
      "Setting up ghostscript (9.26~dfsg+0-0ubuntu0.18.04.15) ...\n",
      "Setting up libmagickwand-6.q16-3:amd64 (8:6.9.7.4+dfsg-16ubuntu6.12) ...\n",
      "Setting up imagemagick-6.q16 (8:6.9.7.4+dfsg-16ubuntu6.12) ...\n",
      "update-alternatives: using /usr/bin/compare-im6.q16 to provide /usr/bin/compare (compare) in auto mode\n",
      "update-alternatives: using /usr/bin/compare-im6.q16 to provide /usr/bin/compare-im6 (compare-im6) in auto mode\n",
      "update-alternatives: using /usr/bin/animate-im6.q16 to provide /usr/bin/animate (animate) in auto mode\n",
      "update-alternatives: using /usr/bin/animate-im6.q16 to provide /usr/bin/animate-im6 (animate-im6) in auto mode\n",
      "update-alternatives: using /usr/bin/convert-im6.q16 to provide /usr/bin/convert (convert) in auto mode\n",
      "update-alternatives: using /usr/bin/convert-im6.q16 to provide /usr/bin/convert-im6 (convert-im6) in auto mode\n",
      "update-alternatives: using /usr/bin/composite-im6.q16 to provide /usr/bin/composite (composite) in auto mode\n",
      "update-alternatives: using /usr/bin/composite-im6.q16 to provide /usr/bin/composite-im6 (composite-im6) in auto mode\n",
      "update-alternatives: using /usr/bin/conjure-im6.q16 to provide /usr/bin/conjure (conjure) in auto mode\n",
      "update-alternatives: using /usr/bin/conjure-im6.q16 to provide /usr/bin/conjure-im6 (conjure-im6) in auto mode\n",
      "update-alternatives: using /usr/bin/import-im6.q16 to provide /usr/bin/import (import) in auto mode\n",
      "update-alternatives: using /usr/bin/import-im6.q16 to provide /usr/bin/import-im6 (import-im6) in auto mode\n",
      "update-alternatives: using /usr/bin/identify-im6.q16 to provide /usr/bin/identify (identify) in auto mode\n",
      "update-alternatives: using /usr/bin/identify-im6.q16 to provide /usr/bin/identify-im6 (identify-im6) in auto mode\n",
      "update-alternatives: using /usr/bin/stream-im6.q16 to provide /usr/bin/stream (stream) in auto mode\n",
      "update-alternatives: using /usr/bin/stream-im6.q16 to provide /usr/bin/stream-im6 (stream-im6) in auto mode\n",
      "update-alternatives: using /usr/bin/display-im6.q16 to provide /usr/bin/display (display) in auto mode\n",
      "update-alternatives: using /usr/bin/display-im6.q16 to provide /usr/bin/display-im6 (display-im6) in auto mode\n",
      "update-alternatives: using /usr/bin/montage-im6.q16 to provide /usr/bin/montage (montage) in auto mode\n",
      "update-alternatives: using /usr/bin/montage-im6.q16 to provide /usr/bin/montage-im6 (montage-im6) in auto mode\n",
      "update-alternatives: using /usr/bin/mogrify-im6.q16 to provide /usr/bin/mogrify (mogrify) in auto mode\n",
      "update-alternatives: using /usr/bin/mogrify-im6.q16 to provide /usr/bin/mogrify-im6 (mogrify-im6) in auto mode\n",
      "Setting up libmagickcore-6.q16-3-extra:amd64 (8:6.9.7.4+dfsg-16ubuntu6.12) ...\n",
      "Setting up imagemagick (8:6.9.7.4+dfsg-16ubuntu6.12) ...\n",
      "Processing triggers for hicolor-icon-theme (0.17-2) ...\n",
      "Processing triggers for fontconfig (2.12.6-0ubuntu2) ...\n",
      "Processing triggers for mime-support (3.60ubuntu1) ...\n",
      "Processing triggers for libc-bin (2.27-3ubuntu1.3) ...\n",
      "/sbin/ldconfig.real: /usr/local/lib/python3.7/dist-packages/ideep4py/lib/libmkldnn.so.0 is not a symbolic link\n",
      "\n",
      "Processing triggers for man-db (2.8.3-2ubuntu0.1) ...\n"
     ]
    }
   ],
   "source": [
    "!apt install imagemagick"
   ]
  },
  {
   "cell_type": "code",
   "execution_count": 11,
   "metadata": {
    "colab": {
     "base_uri": "https://localhost:8080/"
    },
    "id": "HYunuB896ZxZ",
    "outputId": "72338464-8a16-47de-bf7b-5a63b3b9a802"
   },
   "outputs": [
    {
     "name": "stdout",
     "output_type": "stream",
     "text": [
      "mogrify-im6.q16: Corrupt JPEG data: 10 extraneous bytes before marker 0xd9 `./Edgar_Degas_216.jpg' @ warning/jpeg.c/JPEGWarningHandler/352.\n"
     ]
    }
   ],
   "source": [
    "!find data/ -name '*.jpg' -execdir mogrify -resize '400x400>' {} \\;"
   ]
  },
  {
   "cell_type": "code",
   "execution_count": null,
   "metadata": {
    "id": "iknpBw7Ncb93"
   },
   "outputs": [],
   "source": [
    "drive.mount('/content/drive')\n",
    "PATH_PREFIX = 'drive/My Drive/mipt-stats/ML/ML-10'\n",
    "MODEL_PREFIX = 'drive/My Drive/mipt-stats/ML/ML-10/models'"
   ]
  },
  {
   "cell_type": "markdown",
   "metadata": {
    "id": "4_EijZnFjnMc"
   },
   "source": [
    "В `train` датасете 51 художник (класс) и 6116 изображения картин (объектов)."
   ]
  },
  {
   "cell_type": "markdown",
   "metadata": {
    "id": "CBwt5duhjvoX"
   },
   "source": [
    "Посмотрим на данные:"
   ]
  },
  {
   "cell_type": "code",
   "execution_count": null,
   "metadata": {
    "id": "PRJFzdSNjv_o"
   },
   "outputs": [],
   "source": [
    "path_to_img = 'data/train/William_Turner/William_Turner_9.jpg'\n",
    "image = plt.imread(path_to_img)\n",
    "plt.figure(figsize=(12, 5))\n",
    "plt.imshow(image);"
   ]
  },
  {
   "cell_type": "markdown",
   "metadata": {
    "id": "Pmpc_RdfpSQn"
   },
   "source": [
    "Разобьем `train` выборку на `train` и `val`:\n",
    "\n"
   ]
  },
  {
   "cell_type": "code",
   "execution_count": null,
   "metadata": {
    "id": "DGsi4AJ1kCbJ"
   },
   "outputs": [],
   "source": [
    "os.makedirs('data/val', exist_ok=True)\n",
    "\n",
    "TRAIN_FRAC = 0.7"
   ]
  },
  {
   "cell_type": "markdown",
   "metadata": {
    "id": "Sa65ZFfhfnaJ"
   },
   "source": [
    "Заметим, что почему-то в выборке два раза присутствует Альбрехт Дюрер: Albrecht_DuтХа├кrer, Albrecht_Du╠Иrer. Удалим одну из директорий."
   ]
  },
  {
   "cell_type": "code",
   "execution_count": null,
   "metadata": {
    "id": "tPyKKtHPf4Sw"
   },
   "outputs": [],
   "source": [
    "!rm -rf data/train/Albrecht_DuтХа├кrer\n",
    "!rm -rf data/test/Albrecht_DuтХа├кrer"
   ]
  },
  {
   "cell_type": "markdown",
   "metadata": {
    "id": "iyDNtQqNc6Qn"
   },
   "source": [
    "В коде ниже находится проблема с воспроизводимостью, потому что `os.listdir()` не гарантирует никакого порядка над выводимыми файлами. Это может привести к тому, что при попытке дообучить модель будет использоваться другое разбиение на валидацию и трейн, что сильно осложнит понимание хода процесса дообучения (так как часть валидации раньше была в трейне, на ней частично произошло переобучение, и результаты будут завышенными).\n",
    "\n",
    "Чтобы этого в какой-то степени избежать надо упорядочить вывод `os.listdir()`."
   ]
  },
  {
   "cell_type": "code",
   "execution_count": null,
   "metadata": {
    "colab": {
     "base_uri": "https://localhost:8080/",
     "height": 885
    },
    "id": "3glVY6H9pEEu",
    "outputId": "665faed2-a3fe-4dcf-e8e5-bcc869fa92f1"
   },
   "outputs": [
    {
     "name": "stdout",
     "output_type": "stream",
     "text": [
      "Albrecht_Du╠Иrer | train images = 160 | val images = 69\n",
      "Alfred_Sisley | train images = 126 | val images = 55\n",
      "Amedeo_Modigliani | train images = 94 | val images = 41\n",
      "Andrei_Rublev | train images = 48 | val images = 21\n",
      "Andy_Warhol | train images = 88 | val images = 38\n",
      "Camille_Pissarro | train images = 44 | val images = 19\n",
      "Caravaggio | train images = 26 | val images = 12\n",
      "Claude_Monet | train images = 35 | val images = 16\n",
      "Diego_Rivera | train images = 34 | val images = 15\n",
      "Diego_Velazquez | train images = 62 | val images = 27\n",
      "Edgar_Degas | train images = 343 | val images = 148\n",
      "Edouard_Manet | train images = 43 | val images = 19\n",
      "Edvard_Munch | train images = 32 | val images = 14\n",
      "El_Greco | train images = 42 | val images = 18\n",
      "Eugene_Delacroix | train images = 14 | val images = 7\n",
      "Francisco_Goya | train images = 142 | val images = 61\n",
      "Frida_Kahlo | train images = 58 | val images = 26\n",
      "Georges_Seurat | train images = 21 | val images = 9\n",
      "Giotto_di_Bondone | train images = 58 | val images = 25\n",
      "Gustav_Klimt | train images = 56 | val images = 25\n",
      "Gustave_Courbet | train images = 28 | val images = 13\n",
      "Henri_Matisse | train images = 91 | val images = 39\n",
      "Henri_Rousseau | train images = 34 | val images = 15\n",
      "Henri_de_Toulouse-Lautrec | train images = 39 | val images = 17\n",
      "Hieronymus_Bosch | train images = 66 | val images = 29\n",
      "Jackson_Pollock | train images = 11 | val images = 5\n",
      "Jan_van_Eyck | train images = 39 | val images = 17\n",
      "Joan_Miro | train images = 49 | val images = 22\n",
      "Kazimir_Malevich | train images = 61 | val images = 27\n",
      "Leonardo_da_Vinci | train images = 70 | val images = 30\n",
      "Marc_Chagall | train images = 116 | val images = 51\n",
      "Michelangelo | train images = 23 | val images = 11\n",
      "Mikhail_Vrubel | train images = 83 | val images = 36\n",
      "Pablo_Picasso | train images = 214 | val images = 93\n",
      "Paul_Cezanne | train images = 22 | val images = 10\n",
      "Paul_Gauguin | train images = 151 | val images = 66\n",
      "Paul_Klee | train images = 91 | val images = 40\n",
      "Peter_Paul_Rubens | train images = 68 | val images = 30\n",
      "Pierre-Auguste_Renoir | train images = 164 | val images = 71\n",
      "Piet_Mondrian | train images = 40 | val images = 18\n",
      "Pieter_Bruegel | train images = 65 | val images = 28\n",
      "Raphael | train images = 53 | val images = 23\n",
      "Rembrandt | train images = 128 | val images = 55\n",
      "Rene_Magritte | train images = 94 | val images = 41\n",
      "Salvador_Dali | train images = 67 | val images = 30\n",
      "Sandro_Botticelli | train images = 79 | val images = 35\n",
      "Titian | train images = 124 | val images = 54\n",
      "Vasiliy_Kandinskiy | train images = 42 | val images = 19\n",
      "Vincent_van_Gogh | train images = 429 | val images = 184\n",
      "William_Turner | train images = 32 | val images = 14\n"
     ]
    }
   ],
   "source": [
    "# считываем названия директорий\n",
    "ARTIST_LIST = {i:name for i, name in enumerate(sorted(os.listdir('data/train/')))}\n",
    "IMAGES_DIR = 'data/train/'\n",
    "\n",
    "max_train_images = 0\n",
    "images_counts = {}\n",
    "\n",
    "# создаем директорию с валидационной выборкой для каждого художника\n",
    "for artist in ARTIST_LIST.values():\n",
    "    os.makedirs(f'data/val/{artist}/', exist_ok=True)\n",
    "\n",
    "    # считываем выборку картин художника\n",
    "    artist_path = f'{IMAGES_DIR}/{artist}/'\n",
    "    images_filename = sorted(os.listdir(artist_path), \n",
    "                             key=lambda x: int(x.split('_')[-1].split('.')[0]))\n",
    "    images_counts[artist] = len(images_filename)\n",
    "    \n",
    "    # выделяем часть картин для валидации\n",
    "    num_train = int(len(images_filename) * TRAIN_FRAC)\n",
    "    max_train_images = max(max_train_images, num_train)\n",
    "    val_images = images_filename[num_train:]\n",
    "\n",
    "    print(f'{artist} | train images = {num_train} | val images = {len(val_images)}')\n",
    "    \n",
    "    # сохраняем валидационную выборку\n",
    "    for image_filename in val_images:\n",
    "        source = f'{IMAGES_DIR}/{artist}/{image_filename}'\n",
    "        destination = f'data/val/{artist}/{image_filename}'\n",
    "        shutil.copy(source, destination)\n",
    "        os.remove(source)"
   ]
  },
  {
   "cell_type": "markdown",
   "metadata": {
    "id": "alWnsWAesj06"
   },
   "source": [
    "Данный датасет очень не сбалансирован по классам, возможные пути решения:\n",
    "* Random oversampling – включаем несколько копий объектов меньших классов, увеличивая их до размера большего класса\n",
    "* Random undersampling – не включаем часть объектов больших классов в обучающую выборку\n",
    "\n",
    "Предлагаем вам самим подумать как стоит бороться с дисбалансом классов и написать код"
   ]
  },
  {
   "cell_type": "markdown",
   "metadata": {
    "id": "gZ3Ohu4OdJUU"
   },
   "source": [
    "Бороться с чем-либо выбрасыванием данных -- это плохо. Чем больше данных для неросети, тем лучше.\n",
    "\n",
    "1. Самое простое решение -- это учитывать дизбаланс классов на этапе подсчета лосса по-разному взвешивая классы.\n",
    "\n",
    "Мы построим матрицу весов ниже, после того, как сформируем датасеты для обучения.\n",
    "\n",
    "2. Также можно попробовать править дизбаланс классов на этапе формирования батча. Для этого можно использовать `torch.utils.data.WeightedRandomSampler`."
   ]
  },
  {
   "cell_type": "markdown",
   "metadata": {
    "id": "AAPA_OsQipP0"
   },
   "source": [
    "Убедимся еще раз, что в папке train и val все разложено по папкам-классам (авторам). Эта структура папок важна для использования классов PyTorch по работе с данными (`ImageFolder` и `DataLoader`):"
   ]
  },
  {
   "cell_type": "code",
   "execution_count": null,
   "metadata": {
    "colab": {
     "base_uri": "https://localhost:8080/",
     "height": 312
    },
    "id": "G134scOxtJfH",
    "outputId": "988fd27a-d63b-4ff1-e065-cad6c8ca3a49"
   },
   "outputs": [
    {
     "name": "stdout",
     "output_type": "stream",
     "text": [
      "Albrecht_Du╠Иrer   Georges_Seurat\t      Paul_Cezanne\n",
      "Alfred_Sisley\t   Giotto_di_Bondone\t      Paul_Gauguin\n",
      "Amedeo_Modigliani  Gustave_Courbet\t      Paul_Klee\n",
      "Andrei_Rublev\t   Gustav_Klimt\t\t      Peter_Paul_Rubens\n",
      "Andy_Warhol\t   Henri_de_Toulouse-Lautrec  Pierre-Auguste_Renoir\n",
      "Camille_Pissarro   Henri_Matisse\t      Pieter_Bruegel\n",
      "Caravaggio\t   Henri_Rousseau\t      Piet_Mondrian\n",
      "Claude_Monet\t   Hieronymus_Bosch\t      Raphael\n",
      "Diego_Rivera\t   Jackson_Pollock\t      Rembrandt\n",
      "Diego_Velazquez    Jan_van_Eyck\t\t      Rene_Magritte\n",
      "Edgar_Degas\t   Joan_Miro\t\t      Salvador_Dali\n",
      "Edouard_Manet\t   Kazimir_Malevich\t      Sandro_Botticelli\n",
      "Edvard_Munch\t   Leonardo_da_Vinci\t      Titian\n",
      "El_Greco\t   Marc_Chagall\t\t      Vasiliy_Kandinskiy\n",
      "Eugene_Delacroix   Michelangelo\t\t      Vincent_van_Gogh\n",
      "Francisco_Goya\t   Mikhail_Vrubel\t      William_Turner\n",
      "Frida_Kahlo\t   Pablo_Picasso\n"
     ]
    }
   ],
   "source": [
    "!ls data/train"
   ]
  },
  {
   "cell_type": "code",
   "execution_count": null,
   "metadata": {
    "colab": {
     "base_uri": "https://localhost:8080/",
     "height": 312
    },
    "id": "Zy9jvWXLi2QQ",
    "outputId": "d346a899-7f4a-4680-a2a3-019991684227"
   },
   "outputs": [
    {
     "name": "stdout",
     "output_type": "stream",
     "text": [
      "Albrecht_Du╠Иrer   Georges_Seurat\t      Paul_Cezanne\n",
      "Alfred_Sisley\t   Giotto_di_Bondone\t      Paul_Gauguin\n",
      "Amedeo_Modigliani  Gustave_Courbet\t      Paul_Klee\n",
      "Andrei_Rublev\t   Gustav_Klimt\t\t      Peter_Paul_Rubens\n",
      "Andy_Warhol\t   Henri_de_Toulouse-Lautrec  Pierre-Auguste_Renoir\n",
      "Camille_Pissarro   Henri_Matisse\t      Pieter_Bruegel\n",
      "Caravaggio\t   Henri_Rousseau\t      Piet_Mondrian\n",
      "Claude_Monet\t   Hieronymus_Bosch\t      Raphael\n",
      "Diego_Rivera\t   Jackson_Pollock\t      Rembrandt\n",
      "Diego_Velazquez    Jan_van_Eyck\t\t      Rene_Magritte\n",
      "Edgar_Degas\t   Joan_Miro\t\t      Salvador_Dali\n",
      "Edouard_Manet\t   Kazimir_Malevich\t      Sandro_Botticelli\n",
      "Edvard_Munch\t   Leonardo_da_Vinci\t      Titian\n",
      "El_Greco\t   Marc_Chagall\t\t      Vasiliy_Kandinskiy\n",
      "Eugene_Delacroix   Michelangelo\t\t      Vincent_van_Gogh\n",
      "Francisco_Goya\t   Mikhail_Vrubel\t      William_Turner\n",
      "Frida_Kahlo\t   Pablo_Picasso\n"
     ]
    }
   ],
   "source": [
    "!ls data/val"
   ]
  },
  {
   "cell_type": "markdown",
   "metadata": {
    "id": "Hsj2NrwqUn6q"
   },
   "source": [
    "### Время для ваших экспериментов! \n",
    "\n",
    "Пока ваши нейросети будут обучаться можно начать заполнять отчет, который находится чуть ниже.\n",
    "\n",
    "Можете смело использовать код с семинара."
   ]
  },
  {
   "cell_type": "markdown",
   "metadata": {
    "id": "24ogTuPOlHaO"
   },
   "source": [
    "#### Аугментация"
   ]
  },
  {
   "cell_type": "markdown",
   "metadata": {
    "id": "LP202mLapgIx"
   },
   "source": [
    "Подумаем над тем, какие аугментации имеет смысл добавить:\n",
    "1. Шум.\n",
    "2. Поворот + приближение.\n",
    "3. Отображение горизонтально.\n",
    "4. Ресайз. Если посмотреть на изображения,то они обладают самым разнообразным соотношением сторон, поэтому имеет смысл сначала по-разному по-приближать различные части изображений, а потом выделенную часть отмасштабировать до выбранного размера. Например, $200 \\times 200$.\n",
    "\n",
    "К тому же, изначальные изображения слишком большие, поэтому имеет смысл из все уменьшить."
   ]
  },
  {
   "cell_type": "code",
   "execution_count": null,
   "metadata": {
    "id": "cPM7FLkRrvRj"
   },
   "outputs": [],
   "source": [
    "image_size = (200, 200)\n",
    "\n",
    "transform_train = transforms.Compose([\n",
    "    transforms.ColorJitter(0.975, 0.975, 0.975),\n",
    "    transforms.RandomHorizontalFlip(),\n",
    "    transforms.RandomAffine(5),\n",
    "    transforms.RandomResizedCrop(image_size, scale=(0.8, 1.0)),\n",
    "    transforms.ToTensor(),\n",
    "])\n",
    "\n",
    "transform_valid = transforms.Compose([\n",
    "    transforms.Resize(image_size),\n",
    "    transforms.ToTensor(),\n",
    "])"
   ]
  },
  {
   "cell_type": "code",
   "execution_count": null,
   "metadata": {
    "id": "DRd8szRVPYeo"
   },
   "outputs": [],
   "source": [
    "data_dir = 'data/'\n",
    "\n",
    "train_dataset = datasets.ImageFolder(os.path.join(data_dir, 'train'), \n",
    "                                     transform=transform_train)\n",
    "val_dataset = datasets.ImageFolder(os.path.join(data_dir, 'val'), \n",
    "                                   transform=transform_valid)"
   ]
  },
  {
   "cell_type": "code",
   "execution_count": null,
   "metadata": {
    "id": "dpG9nrDEnstC"
   },
   "outputs": [],
   "source": [
    "all_classes = len(images_counts)\n",
    "weights = [all_classes/images_counts[x] for x in train_dataset.classes]"
   ]
  },
  {
   "cell_type": "code",
   "execution_count": null,
   "metadata": {
    "id": "bwVkUkKenLOz"
   },
   "outputs": [],
   "source": [
    "weight_classes = torch.tensor(weights, dtype=torch.float)\n",
    "with open('weight_classes.pt', 'wb') as output_file:\n",
    "    torch.save(weight_classes, output_file)"
   ]
  },
  {
   "cell_type": "code",
   "execution_count": null,
   "metadata": {
    "id": "JX83Q4CKsDtv"
   },
   "outputs": [],
   "source": [
    "with open('weight_classes.pt', 'rb') as input_file:\n",
    "    weight_classes = torch.load(input_file)"
   ]
  },
  {
   "cell_type": "markdown",
   "metadata": {
    "id": "PlGXHI3glKqx"
   },
   "source": [
    "#### Модель"
   ]
  },
  {
   "cell_type": "markdown",
   "metadata": {
    "id": "q7XbDvWSpdeD"
   },
   "source": [
    "Определим архитектуру модели. Начнем с ванильного ResNet-50."
   ]
  },
  {
   "cell_type": "code",
   "execution_count": null,
   "metadata": {
    "id": "d9YthFlY8O4_"
   },
   "outputs": [],
   "source": [
    "class Swish(nn.Module):\n",
    "    def __init__(self):\n",
    "        super(Swish, self).__init__()\n",
    "        \n",
    "    def forward(self, x):\n",
    "        return x * torch.sigmoid(x)\n",
    "\n",
    "class Mish(nn.Module):\n",
    "    def __init__(self):\n",
    "        super(Mish, self).__init__()\n",
    "        \n",
    "    def forward(self, x):\n",
    "        return x * torch.tanh(F.softplus(x))\n",
    "\n",
    "def activation_func(activation):\n",
    "    return  nn.ModuleDict([\n",
    "        ['relu', nn.ReLU()],\n",
    "        ['leaky_relu', nn.LeakyReLU(negative_slope=0.01)],\n",
    "        ['selu', nn.SELU()],\n",
    "        ['swish', Swish()], \n",
    "        ['mish', Mish()],\n",
    "        ['none', nn.Identity()]\n",
    "    ])[activation]"
   ]
  },
  {
   "cell_type": "code",
   "execution_count": null,
   "metadata": {
    "id": "d0KVtyJMpcnV"
   },
   "outputs": [],
   "source": [
    "class ResidualBlock(nn.Module):\n",
    "    def __init__(self, in_channels, out_channels, activation='relu', \n",
    "                 blocks=nn.Identity(), downsample=None):\n",
    "        super().__init__()\n",
    "        self.in_channels = in_channels\n",
    "        self.out_channels = out_channels\n",
    "        self.activate = activation_func(activation)\n",
    "        self.downsample = downsample\n",
    "        self.blocks = blocks\n",
    "        \n",
    "    \n",
    "    def forward(self, x):\n",
    "        if self.downsample is not None:\n",
    "            residual = self.downsample(x)\n",
    "        else:\n",
    "            residual = x\n",
    "        x = self.blocks(x)\n",
    "        x += residual\n",
    "        x = self.activate(x)\n",
    "        return x"
   ]
  },
  {
   "cell_type": "code",
   "execution_count": null,
   "metadata": {
    "id": "vUyrBDYVD9_J"
   },
   "outputs": [],
   "source": [
    "class ResidualBlockBottleneck(ResidualBlock):\n",
    "    expansion = 4\n",
    "    base_width = 64\n",
    "\n",
    "    def __init__(self, input_channels, channels, stride=1, activation='relu', \n",
    "                 downsample=None):\n",
    "        width = int(channels * (self.base_width / 64.))\n",
    "        blocks = nn.Sequential(\n",
    "            nn.Conv2d(input_channels, width, kernel_size=1, bias=False), \n",
    "            nn.BatchNorm2d(width), \n",
    "            activation_func(activation),\n",
    "            nn.Conv2d(width, width, kernel_size=3, stride=stride,\n",
    "                      padding=1, bias=False),\n",
    "            nn.BatchNorm2d(width),\n",
    "            nn.Conv2d(width, channels*self.expansion, kernel_size=1, \n",
    "                      bias=False),\n",
    "            nn.BatchNorm2d(channels*self.expansion),\n",
    "        )\n",
    "        super().__init__(input_channels, channels*self.expansion, \n",
    "                         activation=activation,\n",
    "                         blocks=blocks, downsample=downsample)"
   ]
  },
  {
   "cell_type": "code",
   "execution_count": null,
   "metadata": {
    "id": "fT9APmzZ9pow"
   },
   "outputs": [],
   "source": [
    "class ResNet50(nn.Module):\n",
    "    def __init__(self, num_classes, activation='relu'):\n",
    "        super().__init__()\n",
    "        self.num_classes = num_classes\n",
    "        self.activation = activation\n",
    "        self.input_channels = 64\n",
    "        self.base_width = 64\n",
    "        layers = [3, 4, 6, 3]\n",
    "        block = ResidualBlockBottleneck\n",
    "\n",
    "        # Creating layers\n",
    "        self.conv1 = nn.Conv2d(3, self.input_channels, kernel_size=7, \n",
    "                               stride=2, padding=3, bias=False)\n",
    "        self.bn1 = nn.BatchNorm2d(self.input_channels)\n",
    "        self.nonlin1 = activation_func(self.activation)\n",
    "        self.maxpool = nn.MaxPool2d(kernel_size=3, stride=2, padding=1)\n",
    "        self.layer1 = self._make_layer_group(block, 64, layers[0])\n",
    "        self.layer2 = self._make_layer_group(block, 128, layers[1], stride=2)\n",
    "        self.layer3 = self._make_layer_group(block, 256, layers[2], stride=2)\n",
    "        self.layer4 = self._make_layer_group(block, 512, layers[3], stride=2)\n",
    "        self.avgpool = nn.AdaptiveAvgPool2d((1, 1))\n",
    "        self.fc = nn.Linear(512 * block.expansion, num_classes)\n",
    "\n",
    "        # Initialization\n",
    "        for module in self.modules():\n",
    "            if isinstance(module, nn.Conv2d):\n",
    "                nn.init.kaiming_normal_(module.weight, mode='fan_out', \n",
    "                                        nonlinearity='relu')\n",
    "            elif isinstance(module, nn.BatchNorm2d):\n",
    "                nn.init.constant_(module.weight, 1)\n",
    "                nn.init.constant_(module.bias, 0)\n",
    "\n",
    "    def _make_layer_group(self, block, channels, num_blocks, stride=1):\n",
    "        if stride != 1 or self.input_channels != channels * block.expansion:\n",
    "            downsample = nn.Sequential(\n",
    "                nn.Conv2d(self.input_channels, channels*block.expansion, \n",
    "                          kernel_size=1, stride=stride),\n",
    "                nn.BatchNorm2d(channels*block.expansion),\n",
    "            )\n",
    "        else:\n",
    "            downsample = None\n",
    "\n",
    "        layers = []\n",
    "        layers.append(\n",
    "            block(self.input_channels, channels, stride=stride, \n",
    "                  activation=self.activation, downsample=downsample)\n",
    "            )\n",
    "        self.input_channels = channels*block.expansion\n",
    "        for _ in range(num_blocks-1):\n",
    "            layers.append(\n",
    "                block(self.input_channels, channels, \n",
    "                      activation=self.activation)\n",
    "            )\n",
    "        return nn.Sequential(*layers)\n",
    "\n",
    "    def forward(self, x):\n",
    "        x = self.conv1(x)\n",
    "        x = self.bn1(x)\n",
    "        x = self.nonlin1(x)\n",
    "        x = self.maxpool(x)\n",
    "\n",
    "        x = self.layer1(x)\n",
    "        x = self.layer2(x)\n",
    "        x = self.layer3(x)\n",
    "        x = self.layer4(x)\n",
    "\n",
    "        x = self.avgpool(x)\n",
    "        x = torch.flatten(x, 1)\n",
    "        x = self.fc(x)\n",
    "\n",
    "        return x"
   ]
  },
  {
   "cell_type": "code",
   "execution_count": null,
   "metadata": {
    "colab": {
     "base_uri": "https://localhost:8080/",
     "height": 1000
    },
    "id": "LGQKQXdIBvC0",
    "outputId": "07ace19e-3e96-46b7-bbbb-744d0ecd6222",
    "scrolled": false
   },
   "outputs": [
    {
     "name": "stdout",
     "output_type": "stream",
     "text": [
      "----------------------------------------------------------------\n",
      "        Layer (type)               Output Shape         Param #\n",
      "================================================================\n",
      "            Conv2d-1         [-1, 64, 100, 100]           9,408\n",
      "       BatchNorm2d-2         [-1, 64, 100, 100]             128\n",
      "              ReLU-3         [-1, 64, 100, 100]               0\n",
      "         MaxPool2d-4           [-1, 64, 50, 50]               0\n",
      "            Conv2d-5          [-1, 256, 50, 50]          16,640\n",
      "       BatchNorm2d-6          [-1, 256, 50, 50]             512\n",
      "            Conv2d-7           [-1, 64, 50, 50]           4,096\n",
      "       BatchNorm2d-8           [-1, 64, 50, 50]             128\n",
      "              ReLU-9           [-1, 64, 50, 50]               0\n",
      "           Conv2d-10           [-1, 64, 50, 50]          36,864\n",
      "      BatchNorm2d-11           [-1, 64, 50, 50]             128\n",
      "           Conv2d-12          [-1, 256, 50, 50]          16,384\n",
      "      BatchNorm2d-13          [-1, 256, 50, 50]             512\n",
      "             ReLU-14          [-1, 256, 50, 50]               0\n",
      "ResidualBlockBottleneck-15          [-1, 256, 50, 50]               0\n",
      "           Conv2d-16           [-1, 64, 50, 50]          16,384\n",
      "      BatchNorm2d-17           [-1, 64, 50, 50]             128\n",
      "             ReLU-18           [-1, 64, 50, 50]               0\n",
      "           Conv2d-19           [-1, 64, 50, 50]          36,864\n",
      "      BatchNorm2d-20           [-1, 64, 50, 50]             128\n",
      "           Conv2d-21          [-1, 256, 50, 50]          16,384\n",
      "      BatchNorm2d-22          [-1, 256, 50, 50]             512\n",
      "             ReLU-23          [-1, 256, 50, 50]               0\n",
      "ResidualBlockBottleneck-24          [-1, 256, 50, 50]               0\n",
      "           Conv2d-25           [-1, 64, 50, 50]          16,384\n",
      "      BatchNorm2d-26           [-1, 64, 50, 50]             128\n",
      "             ReLU-27           [-1, 64, 50, 50]               0\n",
      "           Conv2d-28           [-1, 64, 50, 50]          36,864\n",
      "      BatchNorm2d-29           [-1, 64, 50, 50]             128\n",
      "           Conv2d-30          [-1, 256, 50, 50]          16,384\n",
      "      BatchNorm2d-31          [-1, 256, 50, 50]             512\n",
      "             ReLU-32          [-1, 256, 50, 50]               0\n",
      "ResidualBlockBottleneck-33          [-1, 256, 50, 50]               0\n",
      "           Conv2d-34          [-1, 512, 25, 25]         131,584\n",
      "      BatchNorm2d-35          [-1, 512, 25, 25]           1,024\n",
      "           Conv2d-36          [-1, 128, 50, 50]          32,768\n",
      "      BatchNorm2d-37          [-1, 128, 50, 50]             256\n",
      "             ReLU-38          [-1, 128, 50, 50]               0\n",
      "           Conv2d-39          [-1, 128, 25, 25]         147,456\n",
      "      BatchNorm2d-40          [-1, 128, 25, 25]             256\n",
      "           Conv2d-41          [-1, 512, 25, 25]          65,536\n",
      "      BatchNorm2d-42          [-1, 512, 25, 25]           1,024\n",
      "             ReLU-43          [-1, 512, 25, 25]               0\n",
      "ResidualBlockBottleneck-44          [-1, 512, 25, 25]               0\n",
      "           Conv2d-45          [-1, 128, 25, 25]          65,536\n",
      "      BatchNorm2d-46          [-1, 128, 25, 25]             256\n",
      "             ReLU-47          [-1, 128, 25, 25]               0\n",
      "           Conv2d-48          [-1, 128, 25, 25]         147,456\n",
      "      BatchNorm2d-49          [-1, 128, 25, 25]             256\n",
      "           Conv2d-50          [-1, 512, 25, 25]          65,536\n",
      "      BatchNorm2d-51          [-1, 512, 25, 25]           1,024\n",
      "             ReLU-52          [-1, 512, 25, 25]               0\n",
      "ResidualBlockBottleneck-53          [-1, 512, 25, 25]               0\n",
      "           Conv2d-54          [-1, 128, 25, 25]          65,536\n",
      "      BatchNorm2d-55          [-1, 128, 25, 25]             256\n",
      "             ReLU-56          [-1, 128, 25, 25]               0\n",
      "           Conv2d-57          [-1, 128, 25, 25]         147,456\n",
      "      BatchNorm2d-58          [-1, 128, 25, 25]             256\n",
      "           Conv2d-59          [-1, 512, 25, 25]          65,536\n",
      "      BatchNorm2d-60          [-1, 512, 25, 25]           1,024\n",
      "             ReLU-61          [-1, 512, 25, 25]               0\n",
      "ResidualBlockBottleneck-62          [-1, 512, 25, 25]               0\n",
      "           Conv2d-63          [-1, 128, 25, 25]          65,536\n",
      "      BatchNorm2d-64          [-1, 128, 25, 25]             256\n",
      "             ReLU-65          [-1, 128, 25, 25]               0\n",
      "           Conv2d-66          [-1, 128, 25, 25]         147,456\n",
      "      BatchNorm2d-67          [-1, 128, 25, 25]             256\n",
      "           Conv2d-68          [-1, 512, 25, 25]          65,536\n",
      "      BatchNorm2d-69          [-1, 512, 25, 25]           1,024\n",
      "             ReLU-70          [-1, 512, 25, 25]               0\n",
      "ResidualBlockBottleneck-71          [-1, 512, 25, 25]               0\n",
      "           Conv2d-72         [-1, 1024, 13, 13]         525,312\n",
      "      BatchNorm2d-73         [-1, 1024, 13, 13]           2,048\n",
      "           Conv2d-74          [-1, 256, 25, 25]         131,072\n",
      "      BatchNorm2d-75          [-1, 256, 25, 25]             512\n",
      "             ReLU-76          [-1, 256, 25, 25]               0\n",
      "           Conv2d-77          [-1, 256, 13, 13]         589,824\n",
      "      BatchNorm2d-78          [-1, 256, 13, 13]             512\n",
      "           Conv2d-79         [-1, 1024, 13, 13]         262,144\n",
      "      BatchNorm2d-80         [-1, 1024, 13, 13]           2,048\n",
      "             ReLU-81         [-1, 1024, 13, 13]               0\n",
      "ResidualBlockBottleneck-82         [-1, 1024, 13, 13]               0\n",
      "           Conv2d-83          [-1, 256, 13, 13]         262,144\n",
      "      BatchNorm2d-84          [-1, 256, 13, 13]             512\n",
      "             ReLU-85          [-1, 256, 13, 13]               0\n",
      "           Conv2d-86          [-1, 256, 13, 13]         589,824\n",
      "      BatchNorm2d-87          [-1, 256, 13, 13]             512\n",
      "           Conv2d-88         [-1, 1024, 13, 13]         262,144\n",
      "      BatchNorm2d-89         [-1, 1024, 13, 13]           2,048\n",
      "             ReLU-90         [-1, 1024, 13, 13]               0\n",
      "ResidualBlockBottleneck-91         [-1, 1024, 13, 13]               0\n",
      "           Conv2d-92          [-1, 256, 13, 13]         262,144\n",
      "      BatchNorm2d-93          [-1, 256, 13, 13]             512\n",
      "             ReLU-94          [-1, 256, 13, 13]               0\n",
      "           Conv2d-95          [-1, 256, 13, 13]         589,824\n",
      "      BatchNorm2d-96          [-1, 256, 13, 13]             512\n",
      "           Conv2d-97         [-1, 1024, 13, 13]         262,144\n",
      "      BatchNorm2d-98         [-1, 1024, 13, 13]           2,048\n",
      "             ReLU-99         [-1, 1024, 13, 13]               0\n",
      "ResidualBlockBottleneck-100         [-1, 1024, 13, 13]               0\n",
      "          Conv2d-101          [-1, 256, 13, 13]         262,144\n",
      "     BatchNorm2d-102          [-1, 256, 13, 13]             512\n",
      "            ReLU-103          [-1, 256, 13, 13]               0\n",
      "          Conv2d-104          [-1, 256, 13, 13]         589,824\n",
      "     BatchNorm2d-105          [-1, 256, 13, 13]             512\n",
      "          Conv2d-106         [-1, 1024, 13, 13]         262,144\n",
      "     BatchNorm2d-107         [-1, 1024, 13, 13]           2,048\n",
      "            ReLU-108         [-1, 1024, 13, 13]               0\n",
      "ResidualBlockBottleneck-109         [-1, 1024, 13, 13]               0\n",
      "          Conv2d-110          [-1, 256, 13, 13]         262,144\n",
      "     BatchNorm2d-111          [-1, 256, 13, 13]             512\n",
      "            ReLU-112          [-1, 256, 13, 13]               0\n",
      "          Conv2d-113          [-1, 256, 13, 13]         589,824\n",
      "     BatchNorm2d-114          [-1, 256, 13, 13]             512\n",
      "          Conv2d-115         [-1, 1024, 13, 13]         262,144\n",
      "     BatchNorm2d-116         [-1, 1024, 13, 13]           2,048\n",
      "            ReLU-117         [-1, 1024, 13, 13]               0\n",
      "ResidualBlockBottleneck-118         [-1, 1024, 13, 13]               0\n",
      "          Conv2d-119          [-1, 256, 13, 13]         262,144\n",
      "     BatchNorm2d-120          [-1, 256, 13, 13]             512\n",
      "            ReLU-121          [-1, 256, 13, 13]               0\n",
      "          Conv2d-122          [-1, 256, 13, 13]         589,824\n",
      "     BatchNorm2d-123          [-1, 256, 13, 13]             512\n",
      "          Conv2d-124         [-1, 1024, 13, 13]         262,144\n",
      "     BatchNorm2d-125         [-1, 1024, 13, 13]           2,048\n",
      "            ReLU-126         [-1, 1024, 13, 13]               0\n",
      "ResidualBlockBottleneck-127         [-1, 1024, 13, 13]               0\n",
      "          Conv2d-128           [-1, 2048, 7, 7]       2,099,200\n",
      "     BatchNorm2d-129           [-1, 2048, 7, 7]           4,096\n",
      "          Conv2d-130          [-1, 512, 13, 13]         524,288\n",
      "     BatchNorm2d-131          [-1, 512, 13, 13]           1,024\n",
      "            ReLU-132          [-1, 512, 13, 13]               0\n",
      "          Conv2d-133            [-1, 512, 7, 7]       2,359,296\n",
      "     BatchNorm2d-134            [-1, 512, 7, 7]           1,024\n",
      "          Conv2d-135           [-1, 2048, 7, 7]       1,048,576\n",
      "     BatchNorm2d-136           [-1, 2048, 7, 7]           4,096\n",
      "            ReLU-137           [-1, 2048, 7, 7]               0\n",
      "ResidualBlockBottleneck-138           [-1, 2048, 7, 7]               0\n",
      "          Conv2d-139            [-1, 512, 7, 7]       1,048,576\n",
      "     BatchNorm2d-140            [-1, 512, 7, 7]           1,024\n",
      "            ReLU-141            [-1, 512, 7, 7]               0\n",
      "          Conv2d-142            [-1, 512, 7, 7]       2,359,296\n",
      "     BatchNorm2d-143            [-1, 512, 7, 7]           1,024\n",
      "          Conv2d-144           [-1, 2048, 7, 7]       1,048,576\n",
      "     BatchNorm2d-145           [-1, 2048, 7, 7]           4,096\n",
      "            ReLU-146           [-1, 2048, 7, 7]               0\n",
      "ResidualBlockBottleneck-147           [-1, 2048, 7, 7]               0\n",
      "          Conv2d-148            [-1, 512, 7, 7]       1,048,576\n",
      "     BatchNorm2d-149            [-1, 512, 7, 7]           1,024\n",
      "            ReLU-150            [-1, 512, 7, 7]               0\n",
      "          Conv2d-151            [-1, 512, 7, 7]       2,359,296\n",
      "     BatchNorm2d-152            [-1, 512, 7, 7]           1,024\n",
      "          Conv2d-153           [-1, 2048, 7, 7]       1,048,576\n",
      "     BatchNorm2d-154           [-1, 2048, 7, 7]           4,096\n",
      "            ReLU-155           [-1, 2048, 7, 7]               0\n",
      "ResidualBlockBottleneck-156           [-1, 2048, 7, 7]               0\n",
      "AdaptiveAvgPool2d-157           [-1, 2048, 1, 1]               0\n",
      "          Linear-158                   [-1, 50]         102,450\n",
      "================================================================\n",
      "Total params: 23,614,322\n",
      "Trainable params: 23,614,322\n",
      "Non-trainable params: 0\n",
      "----------------------------------------------------------------\n",
      "Input size (MB): 0.46\n",
      "Forward/backward pass size (MB): 226.10\n",
      "Params size (MB): 90.08\n",
      "Estimated Total Size (MB): 316.64\n",
      "----------------------------------------------------------------\n"
     ]
    }
   ],
   "source": [
    "num_classes = 50\n",
    "model = ResNet50(num_classes).to(device=device)\n",
    "summary(model, (3, 200, 200))"
   ]
  },
  {
   "cell_type": "markdown",
   "metadata": {
    "id": "_CjFoELKlPgW"
   },
   "source": [
    "#### Цикл обучения"
   ]
  },
  {
   "cell_type": "code",
   "execution_count": null,
   "metadata": {
    "id": "-GgRF-B7Bu_u"
   },
   "outputs": [],
   "source": [
    "def plot_learning_curves(history):\n",
    "    '''\n",
    "    Функция для обучения модели и вывода лосса и метрики во время обучения.\n",
    "\n",
    "    :param history: (dict)\n",
    "        accuracy и loss на обучении и валидации\n",
    "    '''\n",
    "    # sns.set_style(style='whitegrid')\n",
    "    fig = plt.figure(figsize=(20, 7))\n",
    "\n",
    "    plt.subplot(1,2,1)\n",
    "    plt.title('Лосс', fontsize=15)\n",
    "    plt.plot(history['loss']['train'], label='train')\n",
    "    plt.plot(history['loss']['val'], label='val')\n",
    "    plt.ylabel('лосс', fontsize=15)\n",
    "    plt.xlabel('эпоха', fontsize=15)\n",
    "    plt.legend()\n",
    "\n",
    "    plt.subplot(1,2,2)\n",
    "    plt.title('Точность', fontsize=15)\n",
    "    plt.plot(history['acc']['train'], label='train')\n",
    "    plt.plot(history['acc']['val'], label='val')\n",
    "    plt.ylabel('точность', fontsize=15)\n",
    "    plt.xlabel('эпоха', fontsize=15)\n",
    "    plt.legend()\n",
    "    plt.show()"
   ]
  },
  {
   "cell_type": "code",
   "execution_count": null,
   "metadata": {
    "id": "GbE2zNG3lVDV"
   },
   "outputs": [],
   "source": [
    "def train(\n",
    "    model, \n",
    "    criterion,\n",
    "    optimizer, \n",
    "    train_batch_gen,\n",
    "    val_batch_gen,\n",
    "    num_epochs=50,\n",
    "    scheduler=None,\n",
    "    history=None,\n",
    "):\n",
    "    '''\n",
    "    Функция для обучения модели и вывода лосса и метрики во время обучения.\n",
    "\n",
    "    :param model: обучаемая модель\n",
    "    :param criterion: функция потерь\n",
    "    :param optimizer: метод оптимизации\n",
    "    :param train_batch_gen: генератор батчей для обучения\n",
    "    :param val_batch_gen: генератор батчей для валидации\n",
    "    :param num_epochs: количество эпох\n",
    "    :param scheduler: настройщик оптимизатора\n",
    "    :param history: история\n",
    "\n",
    "    :return: обученная модель\n",
    "    :return: (dict) accuracy и loss на обучении и валидации (\"история\" обучения)\n",
    "    '''\n",
    "    \n",
    "    if history is None:\n",
    "        history = defaultdict(lambda: defaultdict(list))\n",
    "\n",
    "    for epoch in range(num_epochs):\n",
    "        train_loss = 0\n",
    "        train_acc = 0\n",
    "        val_loss = 0\n",
    "        val_acc = 0\n",
    "        \n",
    "        start_time = time.time()\n",
    "\n",
    "        # Устанавливаем поведение dropout / batch_norm  в обучение\n",
    "        model.train(True) \n",
    "\n",
    "        # На каждой \"эпохе\" делаем полный проход по данным\n",
    "        for X_batch, y_batch in tqdm(train_batch_gen, leave=False):\n",
    "            # Обучаемся на батче (одна \"итерация\" обучения нейросети)\n",
    "            X_batch = X_batch.to(device)\n",
    "            y_batch = y_batch.to(device)\n",
    "            \n",
    "            logits = model(X_batch)\n",
    "            \n",
    "            loss = criterion(logits, y_batch.long().to(device))\n",
    "\n",
    "            loss.backward()\n",
    "            optimizer.step()\n",
    "            optimizer.zero_grad()\n",
    "            \n",
    "            train_loss += np.sum(loss.detach().cpu().numpy())\n",
    "            y_pred = logits.max(1)[1].detach().cpu().numpy()\n",
    "            train_acc += np.mean(y_batch.cpu().numpy() == y_pred)\n",
    "\n",
    "        # Подсчитываем лоссы и сохраням в \"историю\"\n",
    "        train_loss /= len(train_batch_gen)\n",
    "        train_acc /= len(train_batch_gen) \n",
    "        history['loss']['train'].append(train_loss)\n",
    "        history['acc']['train'].append(train_acc)\n",
    "    \n",
    "        # Устанавливаем поведение dropout / batch_norm в режим тестирования\n",
    "        model.train(False) \n",
    "\n",
    "        # Полный проход по валидации\n",
    "        with torch.no_grad():\n",
    "            for X_batch, y_batch in val_batch_gen:\n",
    "                X_batch = X_batch.to(device)\n",
    "                y_batch = y_batch.to(device)\n",
    "                \n",
    "                logits = model(X_batch)\n",
    "                loss = criterion(logits, y_batch.long().to(device))\n",
    "                val_loss += np.sum(loss.detach().cpu().numpy())\n",
    "                y_pred = logits.max(1)[1].detach().cpu().numpy()\n",
    "                val_acc += np.mean(y_batch.cpu().numpy() == y_pred)\n",
    "\n",
    "        # Подсчитываем лоссы и сохраням в \"историю\"\n",
    "        val_loss /= len(val_batch_gen)\n",
    "        val_acc /= len(val_batch_gen) \n",
    "        history['loss']['val'].append(val_loss)\n",
    "        history['acc']['val'].append(val_acc)\n",
    "        \n",
    "        clear_output()\n",
    "\n",
    "        # Печатаем результаты после каждой эпохи\n",
    "        print(\"Epoch {} of {} took {:.3f}s\".format(\n",
    "            epoch + 1, num_epochs, time.time() - start_time))\n",
    "        print(\"  training loss (in-iteration): \\t{:.6f}\".format(train_loss))\n",
    "        print(\"  validation loss (in-iteration): \\t{:.6f}\".format(val_loss))\n",
    "        print(\"  training accuracy: \\t\\t\\t{:.2f} %\".format(train_acc * 100))\n",
    "        print(\"  validation accuracy: \\t\\t\\t{:.2f} %\".format(val_acc * 100))\n",
    "        \n",
    "        if scheduler is not None:\n",
    "            scheduler.step(val_acc)\n",
    "\n",
    "        plot_learning_curves(history)\n",
    "        \n",
    "    return model, history"
   ]
  },
  {
   "cell_type": "markdown",
   "metadata": {
    "id": "4Vfb9JdlJw_Q"
   },
   "source": [
    "Можем подготовить данные для второго типа обработки дизбаланса классов."
   ]
  },
  {
   "cell_type": "code",
   "execution_count": null,
   "metadata": {
    "id": "PPqyYrYJxZ6t"
   },
   "outputs": [],
   "source": [
    "labels = [x[1] for x in train_dataset]\n",
    "weight_samples = [weight_classes[x] for x in labels]"
   ]
  },
  {
   "cell_type": "markdown",
   "metadata": {
    "id": "wMrWhFzRJwk5"
   },
   "source": [
    "Инициализация модели, оптимизатора, итератров."
   ]
  },
  {
   "cell_type": "code",
   "execution_count": null,
   "metadata": {
    "id": "nxVho-Oullrr"
   },
   "outputs": [],
   "source": [
    "set_seed_everywhere(random_seed, USE_GPU)\n",
    "model = ResNet50(num_classes).to(device)\n",
    "criterion = nn.CrossEntropyLoss(\n",
    "    weight=weight_classes.to(device=device)\n",
    ")\n",
    "weight_decay = 1e-5\n",
    "optimizer = radam.RAdam(model.parameters(), lr=1e-3, \n",
    "                        weight_decay=weight_decay)\n",
    "\n",
    "batch_size = 64\n",
    "\n",
    "train_batch_gen = torch.utils.data.DataLoader(\n",
    "    train_dataset, batch_size=batch_size, shuffle=True, num_workers=2\n",
    ")\n",
    "val_batch_gen = torch.utils.data.DataLoader(\n",
    "    val_dataset, batch_size=batch_size, shuffle=False, num_workers=2,\n",
    ")"
   ]
  },
  {
   "cell_type": "code",
   "execution_count": null,
   "metadata": {
    "id": "bBPAwenrPjPn"
   },
   "outputs": [],
   "source": [
    "model, history = train(\n",
    "    model, criterion, optimizer,\n",
    "    train_batch_gen, val_batch_gen,\n",
    "    num_epochs=5, history=history\n",
    ")"
   ]
  },
  {
   "cell_type": "code",
   "execution_count": null,
   "metadata": {
    "id": "XeJGaaVNOakT"
   },
   "outputs": [],
   "source": [
    "path_save = os.path.join(MODEL_PREFIX, 'resnet50-radam', 'epoch255.pt')\n",
    "torch.save({\n",
    "    'epoch': 255,\n",
    "    'model_state_dict': model.state_dict(),\n",
    "    'optimizer_state_dict': optimizer.state_dict(),\n",
    "    'history': dict(history),\n",
    "    }, path_save)"
   ]
  },
  {
   "cell_type": "markdown",
   "metadata": {
    "id": "sZc77j05lSDp"
   },
   "source": [
    "#### Тестирование"
   ]
  },
  {
   "cell_type": "markdown",
   "metadata": {
    "id": "Jq1u4ymfVok1"
   },
   "source": [
    "Протестируйте своё решение:\n"
   ]
  },
  {
   "cell_type": "code",
   "execution_count": null,
   "metadata": {
    "id": "vrMC6cXgVoBg"
   },
   "outputs": [],
   "source": [
    "# Используйте test_dataset только для финальной оценки качества\n",
    "transform_test = transforms.Compose([                            \n",
    "    transforms.Resize(image_size),\n",
    "    transforms.ToTensor(),\n",
    "])\n",
    "\n",
    "test_dataset = datasets.ImageFolder(os.path.join(data_dir, 'test'), \n",
    "                                    transform=transform_test)\n",
    "test_batch_gen = torch.utils.data.DataLoader(\n",
    "    test_dataset, batch_size=16, shuffle=True, num_workers=4,\n",
    ")"
   ]
  },
  {
   "cell_type": "code",
   "execution_count": null,
   "metadata": {
    "id": "Jq4PpHsTxe4d"
   },
   "outputs": [],
   "source": [
    "def load_and_test(model, path_to_checkpoint, batch_gen):\n",
    "    \"\"\"Загрузка и тестирование модели.\"\"\"\n",
    "    checkpoint = torch.load(path_to_checkpoint)\n",
    "    model.load_state_dict(checkpoint['model_state_dict'])\n",
    "    history = checkpoint['history']\n",
    "\n",
    "    # Устанавливаем поведение dropout / batch_norm в режим тестирования\n",
    "    model.eval() \n",
    "\n",
    "    # Полный проход по тесту\n",
    "    all_predictions = []\n",
    "    all_answers = []\n",
    "    with torch.no_grad():\n",
    "        for X_batch, y_batch in tqdm(batch_gen):\n",
    "            X_batch = X_batch.to(device)\n",
    "            y_batch = y_batch.to(device)\n",
    "            \n",
    "            logits = model(X_batch)\n",
    "            y_pred = logits.max(1)[1].detach().cpu().numpy()\n",
    "            all_predictions += list(y_pred)\n",
    "            all_answers += list(y_batch.cpu().numpy())\n",
    "\n",
    "    all_predictions = np.array(all_predictions)\n",
    "    all_answers = np.array(all_answers)\n",
    "\n",
    "    return all_answers, all_predictions, history"
   ]
  },
  {
   "cell_type": "code",
   "execution_count": null,
   "metadata": {
    "colab": {
     "base_uri": "https://localhost:8080/",
     "height": 66,
     "referenced_widgets": [
      "b8248b0115bb4147998c9f2e54ea3435",
      "a4ac4d1b058e40cbac2e1980559d5950",
      "7e6fb716714b4ea58065d2196a159a5c",
      "cc8097384e434a839849ffcdfdc03443",
      "c274f30a4267463098e08136ffa1c095",
      "d42284d2d70a4c0984cb697da1664d8e",
      "8d3b77739585400eb96cf79f2362bdaf",
      "519e522622c34f04af57978d64bce9bc"
     ]
    },
    "id": "trpo5NBo1l0i",
    "outputId": "fdb42556-ee64-4ccb-b5df-64b7829c7412"
   },
   "outputs": [
    {
     "data": {
      "application/vnd.jupyter.widget-view+json": {
       "model_id": "b8248b0115bb4147998c9f2e54ea3435",
       "version_major": 2,
       "version_minor": 0
      },
      "text/plain": [
       "HBox(children=(FloatProgress(value=0.0, max=160.0), HTML(value='')))"
      ]
     },
     "metadata": {
      "tags": []
     },
     "output_type": "display_data"
    },
    {
     "name": "stdout",
     "output_type": "stream",
     "text": [
      "\n"
     ]
    }
   ],
   "source": [
    "path_load = os.path.join(MODEL_PREFIX, 'resnet50-radam', 'epoch250.pt')\n",
    "all_answers, all_predictions, history = load_and_test(model, path_load, \n",
    "                                                      test_batch_gen)\n",
    "test_accuracy = accuracy_score(all_answers, all_predictions)"
   ]
  },
  {
   "cell_type": "code",
   "execution_count": null,
   "metadata": {
    "colab": {
     "base_uri": "https://localhost:8080/",
     "height": 471
    },
    "id": "Jv4Dyx_GIgfj",
    "outputId": "8cb41783-988d-4471-c6d0-8767debe59f7"
   },
   "outputs": [
    {
     "data": {
      "image/png": "[encoded data removed]",
      "text/plain": [
       "<Figure size 1440x504 with 2 Axes>"
      ]
     },
     "metadata": {
      "needs_background": "light",
      "tags": []
     },
     "output_type": "display_data"
    }
   ],
   "source": [
    "plot_learning_curves(history)"
   ]
  },
  {
   "cell_type": "code",
   "execution_count": null,
   "metadata": {
    "id": "mPW36UpPFjrc"
   },
   "outputs": [],
   "source": [
    "test_accuracy = "
   ]
  },
  {
   "cell_type": "code",
   "execution_count": null,
   "metadata": {
    "id": "SF6SW-QGFe8w"
   },
   "outputs": [],
   "source": [
    "print(\"Итоговый результат:\")\n",
    "print(\"Test F1 score:\\t\\t{:.2f} %\".format(test_f1_score * 100))\n",
    "\n",
    "if test_f1_score * 100 >= 35:\n",
    "    print(\"Достижение: 15 баллов из 15!\")\n",
    "elif test_f1_score * 100 >= 32.5:\n",
    "    print(\"Достижение: 13 баллов из 15!\")\n",
    "elif test_f1_score * 100 >= 30:\n",
    "    print(\"Достижение: 11 баллов из 15!\")\n",
    "elif test_f1_score * 100 >= 27.5:\n",
    "    print(\"Достижение: 9 баллов из 15!\")\n",
    "elif test_f1_score * 100 >= 25:\n",
    "    print(\"Достижение: 7 баллов из 15!\")\n",
    "elif test_f1_score * 100 >= 20:\n",
    "    print(\"Достижение: 5 баллов из 15!\")\n",
    "elif test_f1_score * 100 >= 17:\n",
    "    print(\"Достижение: 3 балла из 15!\")\n",
    "else:\n",
    "    print(\"Попробуй еще.\")"
   ]
  },
  {
   "cell_type": "code",
   "execution_count": null,
   "metadata": {
    "colab": {
     "base_uri": "https://localhost:8080/",
     "height": 69
    },
    "id": "IE-pvhvsV_3p",
    "outputId": "9e9a4dce-095c-4c80-caca-fe2665ed06fd"
   },
   "outputs": [
    {
     "name": "stdout",
     "output_type": "stream",
     "text": [
      "Итоговый результат:\n",
      "  test accuracy:\t\t46.42 %\n",
      "Achievement unlocked: Transformer!\n"
     ]
    }
   ],
   "source": [
    "print(\"Итоговый результат:\")\n",
    "print(\"  test accuracy:\\t\\t{:.2f} %\".format(\n",
    "    test_accuracy * 100))\n",
    "\n",
    "if test_accuracy * 100 > 40:\n",
    "    print(\"Achievement unlocked: Transformer!\")\n",
    "elif test_accuracy * 100 > 35:\n",
    "    print(\"Achievement unlocked: LSTM!\")\n",
    "elif test_accuracy * 100 > 30:\n",
    "    print(\"Achievement unlocked: RNN!\")\n",
    "elif test_accuracy * 100 > 25:\n",
    "    print(\"Achievement unlocked: perceptron!\")\n",
    "else:\n",
    "    print(\"We need more \\\"layers\\\"! Follow instructons below\")"
   ]
  },
  {
   "cell_type": "markdown",
   "metadata": {
    "id": "1gqN4e3BYT6C"
   },
   "source": [
    "Обязательно заполните отчет. Опишите свои эксперименты: с чего вы начали, что попробовали улучшить и почему, заработало это или нет, какие вы сделали из этого выводы. Также обязательно опишите вашу лучшую архитектуру, методы обучения и интересные моменты.\n",
    "\n",
    "**ResNet50**\n",
    "\n",
    "Отчет: Была взята модель дефолтная ResNet50. Обучение производилось при помощи Adam. Первые 125 эпох использовался lr=1e-3. Затем 25 эпох lr=1e-4, а затем еще 5 эпох lr=1e-5. Использовался l2=1e-5.\n",
    "\n",
    "Использовался первый способ обработки дизбаланса классов (корректировка лосса).\n",
    "\n",
    "В истории первая эпоха была пропущена, потому что там был большой лосс на валидаци, что портило читаемость графиков.\n",
    "\n",
    "После 2.5 часов обучения, я получил следующие результаты:\n",
    "\n",
    "* accuracy on training: 39.29%\n",
    "* accuracy on validation: 32.12%\n",
    "* accuracy on test: 33.18%\n",
    "\n",
    "**ResNet50(Mish)**\n",
    "\n",
    "Отчет: В предыдущей модели была заменена функция активации с ReLU на Mish. Обучение производилось при помощи Adam. Первые 100 эпох использовался lr=1e-3. Затем 25 эпох lr=1e-4. Обучение как будто бы шло чуть быстрее, но результат улучшить не удалось.\n",
    "\n",
    "Использовался первый способ обработки дизбаланса классов (корректировка лосса).\n",
    "\n",
    "После 2.5 часов обучения, я получил следующие результаты:\n",
    "\n",
    "* accuracy on training: 37.96%\n",
    "* accuracy on validation: 30.76%\n",
    "* accuracy on test: 31.26%\n",
    "\n",
    "**ResNet50(Sampler)**\n",
    "\n",
    "Отчет: Была взята модель из первого пункта, но была изменена процедура обработки дизбаланса классов (теперь брался random oversampling на уровне батча). Обучение производилось при помощи Adam. Первые 100 эпох использовался lr=1e-3. Затем 25 эпох lr=1e-4. Модель была более склонна к переобучению судя по графикам лосса.\n",
    "\n",
    "После 2.5 часов обучения, я получил следующие результаты:\n",
    "\n",
    "* accuracy on training: 50.72%\n",
    "* accuracy on validation: 30%\n",
    "* accuracy on test: 31.77%\n",
    "\n",
    "**ResNet50(Radam)**\n",
    "\n",
    "Отчет: Была взята модель из первого пункта. Обучение производилось при помощи RAdam. Первые 200 эпох использовался lr=1e-3. Затем 25 эпох lr=1e-4. В этот раз я до последнего ждал, пока точность продолжала повышаться, даже если лосс стагнировал или слегка увеличивался. В итоге удалось значительно улучшить показатели. Возможно, RAdam поспособствовал этому, но не факт.\n",
    "\n",
    "После 5 часов обучения, я получил следующие результаты:\n",
    "\n",
    "* accuracy on training: 87.91%\n",
    "* accuracy on validation: 44.76%\n",
    "* accuracy on test: 46.42%\n",
    "\n",
    "**Ансамблирование на тесте**\n",
    "\n",
    "Можно взять FiveCrop преобразование, для каждого кропа предсказать логиты, а потом сложить и из этого взять argmax. По идее, это будет некое подобие ансамбля по разным частям изображения. \n",
    "\n",
    "Эта идея пробовалась, но в несколько экспериментальном формате, когда размеры тестовых картинок уже уменьшены. Возможно, это могло бы лучше сработать, если бы для теста брались картинки побольше.\n",
    "\n",
    "* accuracy on test: ~37%\n",
    "\n",
    "\n",
    "**Эксперименты, которые еще можно было бы провести**\n",
    "\n",
    "* Нормализация изображений\n",
    "* Изменение размера изображений\n",
    "* Другие параметры аугментаций и их бОльшее количество\n",
    "* Изменение блока при помощи groups (получим некое подобие Inception-блока)\n",
    "* Сделать больше слоев"
   ]
  },
  {
   "cell_type": "markdown",
   "metadata": {
    "id": "Kr6sE8f_7uY1"
   },
   "source": [
    "## Часть 2: Transfer Learning\n",
    "\n",
    "Попробуйте теперь использовать предобученную модель для классификации и сравните результаты.\n",
    "Сделав эту часть задания вы сможете получить 5 баллов.\n",
    "\n",
    "\n",
    "Вы можете пробовать любые предобученные архитектуры. Некоторые из них можно найти по ссылке [torchvision.models](https://pytorch.org/docs/stable/torchvision/models.html).\n",
    "\n",
    "Загрузите веса модели:"
   ]
  },
  {
   "cell_type": "code",
   "execution_count": null,
   "metadata": {
    "id": "2YexIbuZZmZ9"
   },
   "outputs": [],
   "source": [
    "resnet_model = torchvision.models.wide_resnet50_2(pretrained=True)"
   ]
  },
  {
   "cell_type": "markdown",
   "metadata": {
    "id": "iwjY4ddgZmaJ"
   },
   "source": [
    "Все предобученные модели можно разделить на две части:\n",
    "\n",
    "* Cверточная часть, которая работает как feature extractor.\n",
    "\n",
    "* Классификатор.\n",
    "\n",
    "Скорее всего вам потребуется заменить предобученный классификатор, чтобы использовать модель для работы с новым датасетом. Наиболее популярные подходы при замене классификатора:\n",
    "\n",
    "* Fully-connected слои.\n",
    "\n",
    "* Global average pooling. Подробнее можно прочитать в [статье](https://arxiv.org/pdf/1312.4400.pdf).\n",
    "\n",
    "* [Linear SVM](https://arxiv.org/pdf/1306.0239.pdf), если хочется чего-нибудь необычного.\n",
    "\n",
    "#### Несколько советов:\n",
    "\n",
    "* Так как входные данные разных моделей могут иметь разный размер, вам может потребоваться поменять исходный размер изображения. В этом могут помочь, например, `cv2.resize`, `skimage.resize` или `torch.transforms.Resize`.\n",
    "\n",
    "* Для дообучения слоев с предобученными весами можно использовать меньший learning rate, чем для обучения слоев со случайной инициализацией. Так как в самом начале обучения градиенты от случайно инициализированного классификатора могут слишком сильно изменить хорошие предобученные веса.\n",
    "\n",
    "#### Стратегии:\n",
    "\n",
    "* Использовать предобученную нейросеть как feature extractor, убрав последний FC слой. Обучить новый классификатор на полученном признаковом описании.\n",
    "\n",
    "* При обучении классификатора продолжить backpropagation на более глубокие слои нейросети (\"разморозить\" их). При этом возможно \"разморозить\" все слои или зафиксировать несколько начальных слоёв и не обучать их.\n",
    "\n",
    "* Вы можете совместить стратегии: сначала обучить классификатор, а потом постепенно размораживать слои и обучать их с меньшим learning rate-ом.\n",
    "\n",
    "Какую стратегию вы выбрали и почему?\n",
    "\n",
    "**Вывод:** Было решено выбрать стратегию с использованием предобученной сети в качестве feature extractor. Этот подход простой и быстро обучается."
   ]
  },
  {
   "cell_type": "markdown",
   "metadata": {
    "id": "-TP7_XaZg0tm"
   },
   "source": [
    "Заморозим все кроме последнего сверточного блока из множества слоев."
   ]
  },
  {
   "cell_type": "code",
   "execution_count": null,
   "metadata": {
    "id": "7hMdWL5saWbW"
   },
   "outputs": [],
   "source": [
    "# \"замораживаем\" все веса всех слоев\n",
    "for i, param in enumerate(resnet_model.children()):\n",
    "    param.requires_grad = False\n",
    "\n",
    "in_features = resnet_model.fc.in_features\n",
    "resnet_model.fc = nn.Identity()\n",
    "set_seed_everywhere(random_seed, USE_GPU)\n",
    "\n",
    "fine_tuning_model = nn.Sequential(OrderedDict([\n",
    "    ('features', resnet_model),\n",
    "    ('classifier', nn.Sequential(nn.ReLU(), \n",
    "                                 nn.Linear(in_features, 512), \n",
    "                                 nn.ReLU(), \n",
    "                                 nn.Linear(512, num_classes)))\n",
    "]))\n",
    "\n",
    "fine_tuning_model = fine_tuning_model.to(device=device)"
   ]
  },
  {
   "cell_type": "markdown",
   "metadata": {
    "id": "SjOupJZ_u5_m"
   },
   "source": [
    "Также следует нормализовать все изображения, так как претренированная модель ожидает нормализованный вход. Для простоты отнормализуем вход по ImageNet."
   ]
  },
  {
   "cell_type": "code",
   "execution_count": null,
   "metadata": {
    "id": "z_3CxWw4u5nS"
   },
   "outputs": [],
   "source": [
    "image_size = (200, 200)\n",
    "\n",
    "transform_train.transforms.append(\n",
    "    transforms.Normalize([0.485, 0.456, 0.406], [0.229, 0.224, 0.225])\n",
    ")\n",
    "\n",
    "transform_valid.transforms.append(\n",
    "    transforms.Normalize([0.485, 0.456, 0.406], [0.229, 0.224, 0.225])\n",
    ")\n",
    "\n",
    "data_dir = 'data/'\n",
    "\n",
    "train_dataset = datasets.ImageFolder(os.path.join(data_dir, 'train'), \n",
    "                                     transform=transform_train)\n",
    "val_dataset = datasets.ImageFolder(os.path.join(data_dir, 'val'), \n",
    "                                   transform=transform_valid)"
   ]
  },
  {
   "cell_type": "code",
   "execution_count": null,
   "metadata": {
    "id": "tfMDjng4au_1"
   },
   "outputs": [],
   "source": [
    "set_seed_everywhere(random_seed, USE_GPU)\n",
    "criterion = nn.CrossEntropyLoss(\n",
    "    weight=weight_classes.to(device=device)\n",
    ")\n",
    "weight_decay = 1e-5\n",
    "optimizer = radam.RAdam([\n",
    "            {'params': fine_tuning_model.features.parameters(), 'lr': 1e-4},\n",
    "            {'params': fine_tuning_model.classifier.parameters(), 'lr': 1e-3},\n",
    "            ], weight_decay=weight_decay)\n",
    "\n",
    "batch_size = 64\n",
    "\n",
    "train_batch_gen = torch.utils.data.DataLoader(\n",
    "    train_dataset, batch_size=batch_size, shuffle=True, num_workers=2\n",
    ")\n",
    "val_batch_gen = torch.utils.data.DataLoader(\n",
    "    val_dataset, batch_size=batch_size, shuffle=False, num_workers=2,\n",
    ")"
   ]
  },
  {
   "cell_type": "code",
   "execution_count": null,
   "metadata": {
    "id": "1pra1FK8avBH"
   },
   "outputs": [],
   "source": [
    "fine_tuning_model, history = train(\n",
    "    fine_tuning_model, criterion, optimizer,\n",
    "    train_batch_gen, val_batch_gen,\n",
    "    num_epochs=10, history=history\n",
    ")"
   ]
  },
  {
   "cell_type": "code",
   "execution_count": null,
   "metadata": {
    "id": "0k4WTkJ6avBe"
   },
   "outputs": [],
   "source": [
    "path_save = os.path.join(MODEL_PREFIX, 'finetune-resnet50-wide', 'epoch35.pt')\n",
    "torch.save({\n",
    "    'epoch': 35,\n",
    "    'model_state_dict': fine_tuning_model.state_dict(),\n",
    "    'optimizer_state_dict': optimizer.state_dict(),\n",
    "    'history': dict(history),\n",
    "    }, path_save)"
   ]
  },
  {
   "cell_type": "markdown",
   "metadata": {
    "id": "o2c608pVZmaW"
   },
   "source": [
    "Сравните результаты предобученной модели и результаты из первой части. Сделайте вывод."
   ]
  },
  {
   "cell_type": "code",
   "execution_count": null,
   "metadata": {
    "id": "I6oI2zdMvbJQ"
   },
   "outputs": [],
   "source": [
    "test_dataset = datasets.ImageFolder(os.path.join(data_dir, 'test'), \n",
    "                                   transform=transform_valid)\n",
    "\n",
    "test_batch_gen = torch.utils.data.DataLoader(\n",
    "    test_dataset, batch_size=64, shuffle=False, num_workers=4,\n",
    ")"
   ]
  },
  {
   "cell_type": "code",
   "execution_count": null,
   "metadata": {
    "colab": {
     "base_uri": "https://localhost:8080/",
     "height": 66,
     "referenced_widgets": [
      "8da5862244e44cb084ad68a13bad0232",
      "9ccaeebc91b84e60bf3ea1338bfbe303",
      "6c661a11183b423c8f58986356869a94",
      "60cf94cb4b4d48f28e77d1af984e9b51",
      "2d14d552e2eb4042bbc5fccee41d2e1c",
      "ca9c9be60f214135be4a746010c25243",
      "486647678af445c59e1861f65bf96cfc",
      "b6d9e83f1ecf405db96ef43bdddf4258"
     ]
    },
    "id": "EzBFBvBfuCqR",
    "outputId": "068fed93-2848-432e-f0a4-154b60a81a81"
   },
   "outputs": [
    {
     "data": {
      "application/vnd.jupyter.widget-view+json": {
       "model_id": "8da5862244e44cb084ad68a13bad0232",
       "version_major": 2,
       "version_minor": 0
      },
      "text/plain": [
       "HBox(children=(FloatProgress(value=0.0, max=40.0), HTML(value='')))"
      ]
     },
     "metadata": {
      "tags": []
     },
     "output_type": "display_data"
    },
    {
     "name": "stdout",
     "output_type": "stream",
     "text": [
      "\n"
     ]
    }
   ],
   "source": [
    "path_load = os.path.join(MODEL_PREFIX, 'finetune-resnet50-wide', 'epoch35.pt')\n",
    "all_answers, all_predictions, history = load_and_test(fine_tuning_model, \n",
    "                                                      path_load, \n",
    "                                                      test_batch_gen)\n",
    "test_accuracy = accuracy_score(all_answers, all_predictions)"
   ]
  },
  {
   "cell_type": "code",
   "execution_count": null,
   "metadata": {
    "colab": {
     "base_uri": "https://localhost:8080/",
     "height": 470
    },
    "id": "lJqczS00Hzdt",
    "outputId": "9d992708-7ced-4c28-aa77-1770304ea3fe"
   },
   "outputs": [
    {
     "data": {
      "image/png": "[encoded data removed]",
      "text/plain": [
       "<Figure size 1440x504 with 2 Axes>"
      ]
     },
     "metadata": {
      "needs_background": "light",
      "tags": []
     },
     "output_type": "display_data"
    }
   ],
   "source": [
    "plot_learning_curves(history)"
   ]
  },
  {
   "cell_type": "code",
   "execution_count": null,
   "metadata": {
    "colab": {
     "base_uri": "https://localhost:8080/",
     "height": 69
    },
    "id": "-hMNTEswuCrr",
    "outputId": "af202ba9-376b-4b10-9fdb-d6cfab12ab7e"
   },
   "outputs": [
    {
     "name": "stdout",
     "output_type": "stream",
     "text": [
      "Итоговый результат:\n",
      "  test accuracy:\t\t67.96 %\n",
      "Achievement unlocked: Transformer!\n"
     ]
    }
   ],
   "source": [
    "print(\"Итоговый результат:\")\n",
    "print(\"  test accuracy:\\t\\t{:.2f} %\".format(\n",
    "    test_accuracy * 100))\n",
    "\n",
    "if test_accuracy * 100 > 40:\n",
    "    print(\"Achievement unlocked: Transformer!\")\n",
    "elif test_accuracy * 100 > 35:\n",
    "    print(\"Achievement unlocked: LSTM!\")\n",
    "elif test_accuracy * 100 > 30:\n",
    "    print(\"Achievement unlocked: RNN!\")\n",
    "elif test_accuracy * 100 > 25:\n",
    "    print(\"Achievement unlocked: perceptron!\")\n",
    "else:\n",
    "    print(\"We need more \\\"layers\\\"! Follow instructons below\")"
   ]
  },
  {
   "cell_type": "markdown",
   "metadata": {
    "id": "e0IBRUv-rNKK"
   },
   "source": [
    "**ResNet50Wide**\n",
    "\n",
    "Отчет: Была взята модель ResNet50Wide, так как она имеет достаточно хорошее качество на ImageNet, согласно torchvision, и при этом состоит не из огромного числа слоев. Обучение производилось при помощи Adam. Первые 15 эпох использовался lr=1e-3. Затем 20 эпох lr=1e-4.\n",
    "\n",
    "Использовался первый способ обработки дизбаланса классов.\n",
    "\n",
    "После 40 минут обучения, я получил следующие результаты:\n",
    "\n",
    "* accuracy on training: 92%\n",
    "* accuracy on validation: 65%\n",
    "* accuracy on test: 67.96%\n",
    "\n",
    "Пробовал обучать также без нормализации, и качество было сравнимым. Также в зависимости от разбиения на трейн/валидацию качество несколько варьируется.\n",
    "\n",
    "Как видим, этот подход даже без разморозки слоев модели нам удалось улучшить результат модели, обучающеся from scratch. Возможно, тренировка на ImageNet значительно лучше сказывается на качестве сети."
   ]
  },
  {
   "cell_type": "markdown",
   "metadata": {
    "id": "U4cuQI832YBc"
   },
   "source": [
    "#### Часть 2: Критерий остановки для обучения нейросетей\n",
    "\n",
    "\n",
    "Теперь проведем тест. Возьмем модель из transfer learning, обученную на 25 эпохах, и модель, обученную на 35 эпохах и посмотрим стоило ли продолжать обучение.\n",
    "\n",
    "В данном случае мы имеем связанные бернуллиевские выборки (угадал/не угадал). Воспользумся критерием, изложенным в VII съезде."
   ]
  },
  {
   "cell_type": "code",
   "execution_count": null,
   "metadata": {
    "colab": {
     "base_uri": "https://localhost:8080/",
     "height": 66,
     "referenced_widgets": [
      "284c72f991da4476b62b28d073a62900",
      "d410d3f8d8434670b6da0af1bd484bf9",
      "82bc4b4731994449a788caf9af59dc6e",
      "af337f9112484f62878ab20395302704",
      "3a7da081ea0940cfa925997877c46fb2",
      "7657114c5a5143029ec3372491739cf9",
      "581882fc0723402aa90b4fd0959134b0",
      "d942f967b53c41a2ad53b9954f80d2b8"
     ]
    },
    "id": "qoRqMTrzxWkV",
    "outputId": "221899b9-433f-40ab-a058-0c58d24ee733"
   },
   "outputs": [
    {
     "data": {
      "application/vnd.jupyter.widget-view+json": {
       "model_id": "284c72f991da4476b62b28d073a62900",
       "version_major": 2,
       "version_minor": 0
      },
      "text/plain": [
       "HBox(children=(FloatProgress(value=0.0, max=28.0), HTML(value='')))"
      ]
     },
     "metadata": {
      "tags": []
     },
     "output_type": "display_data"
    },
    {
     "name": "stdout",
     "output_type": "stream",
     "text": [
      "\n"
     ]
    }
   ],
   "source": [
    "path_load = os.path.join(MODEL_PREFIX, 'finetune-resnet50-wide', 'epoch25.pt')\n",
    "all_answers, all_predictions, history = load_and_test(fine_tuning_model, \n",
    "                                                      path_load, \n",
    "                                                      val_batch_gen)\n",
    "is_correct_25 = (all_answers == all_predictions)"
   ]
  },
  {
   "cell_type": "code",
   "execution_count": null,
   "metadata": {
    "colab": {
     "base_uri": "https://localhost:8080/",
     "height": 66,
     "referenced_widgets": [
      "21726becb9884a0695511ffdbf3bcbcc",
      "c4e8c2f7f796436c956103c23de7e3fd",
      "349d7fbeb82d4ba3a20e6824227f1f1b",
      "626a31ae18ed44089cc7e4150507c6b2",
      "b1720b6713db488eae6ef2e5c8f7b159",
      "a7e73512f5484b54ad5e362f709e00ae",
      "58e1a82a60a84ed3be9d8811724c02e1",
      "dfe01cc60e544120b923794518c323fd"
     ]
    },
    "id": "tkYGT9soFD-S",
    "outputId": "63672ed0-6db0-496d-81b2-a3659c4b1a56"
   },
   "outputs": [
    {
     "data": {
      "application/vnd.jupyter.widget-view+json": {
       "model_id": "21726becb9884a0695511ffdbf3bcbcc",
       "version_major": 2,
       "version_minor": 0
      },
      "text/plain": [
       "HBox(children=(FloatProgress(value=0.0, max=28.0), HTML(value='')))"
      ]
     },
     "metadata": {
      "tags": []
     },
     "output_type": "display_data"
    },
    {
     "name": "stdout",
     "output_type": "stream",
     "text": [
      "\n"
     ]
    }
   ],
   "source": [
    "path_load = os.path.join(MODEL_PREFIX, 'finetune-resnet50-wide', 'epoch35.pt')\n",
    "all_answers, all_predictions, history = load_and_test(fine_tuning_model, \n",
    "                                                      path_load, \n",
    "                                                      val_batch_gen)\n",
    "is_correct_35 = (all_answers == all_predictions)"
   ]
  },
  {
   "cell_type": "markdown",
   "metadata": {
    "id": "RuQCpPtgPVQN"
   },
   "source": [
    "Эта операция делается не по смыслу, а потому что нам там для расчетов требуются именно данные величины."
   ]
  },
  {
   "cell_type": "code",
   "execution_count": null,
   "metadata": {
    "id": "1O0QuGFKFUMd"
   },
   "outputs": [],
   "source": [
    "(e, f), (g, h) = confusion_matrix(is_correct_25, is_correct_35)"
   ]
  },
  {
   "cell_type": "code",
   "execution_count": null,
   "metadata": {
    "id": "fQbSc9RUFVt7"
   },
   "outputs": [],
   "source": [
    "statistic = (f-g)/(np.sqrt(f + g - (f-g)**2 / all_answers.shape[0]))\n",
    "p_value = sps.norm.sf(np.abs(statistic))"
   ]
  },
  {
   "cell_type": "code",
   "execution_count": null,
   "metadata": {
    "colab": {
     "base_uri": "https://localhost:8080/",
     "height": 34
    },
    "id": "AfrhdvfrGKQE",
    "outputId": "9c1c9ca8-890b-4875-e168-0ca1a3632615"
   },
   "outputs": [
    {
     "data": {
      "text/plain": [
       "0.0977291950561805"
      ]
     },
     "execution_count": 39,
     "metadata": {
      "tags": []
     },
     "output_type": "execute_result"
    }
   ],
   "source": [
    "p_value"
   ]
  },
  {
   "cell_type": "markdown",
   "metadata": {
    "id": "LKv89CFYG3KE"
   },
   "source": [
    "Гипотеза об однородности бернуллиевских выборок не отвергается на уровне значимости $0.05$. Это можно интерпретировать как то, что продолжать обучение с текущими настройками не имеет смысла.\n",
    "\n",
    "Хочется также прокомментировать тот факт, что такой метод никак не учитывает, что точность на валидации постояннно колеблется. Также он может, возможно, не сможет уловить изменение, если слишком маленький learning rate.\n",
    "\n",
    "Для борьбы с колебаниями можно попробовать считать некий сглаженный показатель за несколько предыдущих эпох."
   ]
  }
 ],
 "metadata": {
  "accelerator": "GPU",
  "colab": {
   "collapsed_sections": [],
   "name": "Разбор ДЗ.ipynb",
   "provenance": []
  },
  "kernelspec": {
   "display_name": "Python 3 (ipykernel)",
   "language": "python",
   "name": "python3"
  },
  "language_info": {
   "codemirror_mode": {
    "name": "ipython",
    "version": 3
   },
   "file_extension": ".py",
   "mimetype": "text/x-python",
   "name": "python",
   "nbconvert_exporter": "python",
   "pygments_lexer": "ipython3",
   "version": "3.8.5"
  },
  "toc": {
   "base_numbering": 1,
   "nav_menu": {},
   "number_sections": true,
   "sideBar": true,
   "skip_h1_title": false,
   "title_cell": "Table of Contents",
   "title_sidebar": "Contents",
   "toc_cell": false,
   "toc_position": {},
   "toc_section_display": true,
   "toc_window_display": false
  },
  "widgets": {
   "application/vnd.jupyter.widget-state+json": {
    "21726becb9884a0695511ffdbf3bcbcc": {
     "model_module": "@jupyter-widgets/controls",
     "model_module_version": "1.5.0",
     "model_name": "HBoxModel",
     "state": {
      "_dom_classes": [],
      "_model_module": "@jupyter-widgets/controls",
      "_model_module_version": "1.5.0",
      "_model_name": "HBoxModel",
      "_view_count": null,
      "_view_module": "@jupyter-widgets/controls",
      "_view_module_version": "1.5.0",
      "_view_name": "HBoxView",
      "box_style": "",
      "children": [
       "IPY_MODEL_349d7fbeb82d4ba3a20e6824227f1f1b",
       "IPY_MODEL_626a31ae18ed44089cc7e4150507c6b2"
      ],
      "layout": "IPY_MODEL_c4e8c2f7f796436c956103c23de7e3fd"
     }
    },
    "284c72f991da4476b62b28d073a62900": {
     "model_module": "@jupyter-widgets/controls",
     "model_module_version": "1.5.0",
     "model_name": "HBoxModel",
     "state": {
      "_dom_classes": [],
      "_model_module": "@jupyter-widgets/controls",
      "_model_module_version": "1.5.0",
      "_model_name": "HBoxModel",
      "_view_count": null,
      "_view_module": "@jupyter-widgets/controls",
      "_view_module_version": "1.5.0",
      "_view_name": "HBoxView",
      "box_style": "",
      "children": [
       "IPY_MODEL_82bc4b4731994449a788caf9af59dc6e",
       "IPY_MODEL_af337f9112484f62878ab20395302704"
      ],
      "layout": "IPY_MODEL_d410d3f8d8434670b6da0af1bd484bf9"
     }
    },
    "2d14d552e2eb4042bbc5fccee41d2e1c": {
     "model_module": "@jupyter-widgets/controls",
     "model_module_version": "1.5.0",
     "model_name": "ProgressStyleModel",
     "state": {
      "_model_module": "@jupyter-widgets/controls",
      "_model_module_version": "1.5.0",
      "_model_name": "ProgressStyleModel",
      "_view_count": null,
      "_view_module": "@jupyter-widgets/base",
      "_view_module_version": "1.2.0",
      "_view_name": "StyleView",
      "bar_color": null,
      "description_width": "initial"
     }
    },
    "349d7fbeb82d4ba3a20e6824227f1f1b": {
     "model_module": "@jupyter-widgets/controls",
     "model_module_version": "1.5.0",
     "model_name": "FloatProgressModel",
     "state": {
      "_dom_classes": [],
      "_model_module": "@jupyter-widgets/controls",
      "_model_module_version": "1.5.0",
      "_model_name": "FloatProgressModel",
      "_view_count": null,
      "_view_module": "@jupyter-widgets/controls",
      "_view_module_version": "1.5.0",
      "_view_name": "ProgressView",
      "bar_style": "success",
      "description": "100%",
      "description_tooltip": null,
      "layout": "IPY_MODEL_a7e73512f5484b54ad5e362f709e00ae",
      "max": 28,
      "min": 0,
      "orientation": "horizontal",
      "style": "IPY_MODEL_b1720b6713db488eae6ef2e5c8f7b159",
      "value": 28
     }
    },
    "3a7da081ea0940cfa925997877c46fb2": {
     "model_module": "@jupyter-widgets/controls",
     "model_module_version": "1.5.0",
     "model_name": "ProgressStyleModel",
     "state": {
      "_model_module": "@jupyter-widgets/controls",
      "_model_module_version": "1.5.0",
      "_model_name": "ProgressStyleModel",
      "_view_count": null,
      "_view_module": "@jupyter-widgets/base",
      "_view_module_version": "1.2.0",
      "_view_name": "StyleView",
      "bar_color": null,
      "description_width": "initial"
     }
    },
    "486647678af445c59e1861f65bf96cfc": {
     "model_module": "@jupyter-widgets/controls",
     "model_module_version": "1.5.0",
     "model_name": "DescriptionStyleModel",
     "state": {
      "_model_module": "@jupyter-widgets/controls",
      "_model_module_version": "1.5.0",
      "_model_name": "DescriptionStyleModel",
      "_view_count": null,
      "_view_module": "@jupyter-widgets/base",
      "_view_module_version": "1.2.0",
      "_view_name": "StyleView",
      "description_width": ""
     }
    },
    "519e522622c34f04af57978d64bce9bc": {
     "model_module": "@jupyter-widgets/base",
     "model_module_version": "1.2.0",
     "model_name": "LayoutModel",
     "state": {
      "_model_module": "@jupyter-widgets/base",
      "_model_module_version": "1.2.0",
      "_model_name": "LayoutModel",
      "_view_count": null,
      "_view_module": "@jupyter-widgets/base",
      "_view_module_version": "1.2.0",
      "_view_name": "LayoutView",
      "align_content": null,
      "align_items": null,
      "align_self": null,
      "border": null,
      "bottom": null,
      "display": null,
      "flex": null,
      "flex_flow": null,
      "grid_area": null,
      "grid_auto_columns": null,
      "grid_auto_flow": null,
      "grid_auto_rows": null,
      "grid_column": null,
      "grid_gap": null,
      "grid_row": null,
      "grid_template_areas": null,
      "grid_template_columns": null,
      "grid_template_rows": null,
      "height": null,
      "justify_content": null,
      "justify_items": null,
      "left": null,
      "margin": null,
      "max_height": null,
      "max_width": null,
      "min_height": null,
      "min_width": null,
      "object_fit": null,
      "object_position": null,
      "order": null,
      "overflow": null,
      "overflow_x": null,
      "overflow_y": null,
      "padding": null,
      "right": null,
      "top": null,
      "visibility": null,
      "width": null
     }
    },
    "581882fc0723402aa90b4fd0959134b0": {
     "model_module": "@jupyter-widgets/controls",
     "model_module_version": "1.5.0",
     "model_name": "DescriptionStyleModel",
     "state": {
      "_model_module": "@jupyter-widgets/controls",
      "_model_module_version": "1.5.0",
      "_model_name": "DescriptionStyleModel",
      "_view_count": null,
      "_view_module": "@jupyter-widgets/base",
      "_view_module_version": "1.2.0",
      "_view_name": "StyleView",
      "description_width": ""
     }
    },
    "58e1a82a60a84ed3be9d8811724c02e1": {
     "model_module": "@jupyter-widgets/controls",
     "model_module_version": "1.5.0",
     "model_name": "DescriptionStyleModel",
     "state": {
      "_model_module": "@jupyter-widgets/controls",
      "_model_module_version": "1.5.0",
      "_model_name": "DescriptionStyleModel",
      "_view_count": null,
      "_view_module": "@jupyter-widgets/base",
      "_view_module_version": "1.2.0",
      "_view_name": "StyleView",
      "description_width": ""
     }
    },
    "60cf94cb4b4d48f28e77d1af984e9b51": {
     "model_module": "@jupyter-widgets/controls",
     "model_module_version": "1.5.0",
     "model_name": "HTMLModel",
     "state": {
      "_dom_classes": [],
      "_model_module": "@jupyter-widgets/controls",
      "_model_module_version": "1.5.0",
      "_model_name": "HTMLModel",
      "_view_count": null,
      "_view_module": "@jupyter-widgets/controls",
      "_view_module_version": "1.5.0",
      "_view_name": "HTMLView",
      "description": "",
      "description_tooltip": null,
      "layout": "IPY_MODEL_b6d9e83f1ecf405db96ef43bdddf4258",
      "placeholder": "​",
      "style": "IPY_MODEL_486647678af445c59e1861f65bf96cfc",
      "value": " 40/40 [00:11&lt;00:00,  3.59it/s]"
     }
    },
    "626a31ae18ed44089cc7e4150507c6b2": {
     "model_module": "@jupyter-widgets/controls",
     "model_module_version": "1.5.0",
     "model_name": "HTMLModel",
     "state": {
      "_dom_classes": [],
      "_model_module": "@jupyter-widgets/controls",
      "_model_module_version": "1.5.0",
      "_model_name": "HTMLModel",
      "_view_count": null,
      "_view_module": "@jupyter-widgets/controls",
      "_view_module_version": "1.5.0",
      "_view_name": "HTMLView",
      "description": "",
      "description_tooltip": null,
      "layout": "IPY_MODEL_dfe01cc60e544120b923794518c323fd",
      "placeholder": "​",
      "style": "IPY_MODEL_58e1a82a60a84ed3be9d8811724c02e1",
      "value": " 28/28 [00:08&lt;00:00,  3.43it/s]"
     }
    },
    "6c661a11183b423c8f58986356869a94": {
     "model_module": "@jupyter-widgets/controls",
     "model_module_version": "1.5.0",
     "model_name": "FloatProgressModel",
     "state": {
      "_dom_classes": [],
      "_model_module": "@jupyter-widgets/controls",
      "_model_module_version": "1.5.0",
      "_model_name": "FloatProgressModel",
      "_view_count": null,
      "_view_module": "@jupyter-widgets/controls",
      "_view_module_version": "1.5.0",
      "_view_name": "ProgressView",
      "bar_style": "success",
      "description": "100%",
      "description_tooltip": null,
      "layout": "IPY_MODEL_ca9c9be60f214135be4a746010c25243",
      "max": 40,
      "min": 0,
      "orientation": "horizontal",
      "style": "IPY_MODEL_2d14d552e2eb4042bbc5fccee41d2e1c",
      "value": 40
     }
    },
    "7657114c5a5143029ec3372491739cf9": {
     "model_module": "@jupyter-widgets/base",
     "model_module_version": "1.2.0",
     "model_name": "LayoutModel",
     "state": {
      "_model_module": "@jupyter-widgets/base",
      "_model_module_version": "1.2.0",
      "_model_name": "LayoutModel",
      "_view_count": null,
      "_view_module": "@jupyter-widgets/base",
      "_view_module_version": "1.2.0",
      "_view_name": "LayoutView",
      "align_content": null,
      "align_items": null,
      "align_self": null,
      "border": null,
      "bottom": null,
      "display": null,
      "flex": null,
      "flex_flow": null,
      "grid_area": null,
      "grid_auto_columns": null,
      "grid_auto_flow": null,
      "grid_auto_rows": null,
      "grid_column": null,
      "grid_gap": null,
      "grid_row": null,
      "grid_template_areas": null,
      "grid_template_columns": null,
      "grid_template_rows": null,
      "height": null,
      "justify_content": null,
      "justify_items": null,
      "left": null,
      "margin": null,
      "max_height": null,
      "max_width": null,
      "min_height": null,
      "min_width": null,
      "object_fit": null,
      "object_position": null,
      "order": null,
      "overflow": null,
      "overflow_x": null,
      "overflow_y": null,
      "padding": null,
      "right": null,
      "top": null,
      "visibility": null,
      "width": null
     }
    },
    "7e6fb716714b4ea58065d2196a159a5c": {
     "model_module": "@jupyter-widgets/controls",
     "model_module_version": "1.5.0",
     "model_name": "FloatProgressModel",
     "state": {
      "_dom_classes": [],
      "_model_module": "@jupyter-widgets/controls",
      "_model_module_version": "1.5.0",
      "_model_name": "FloatProgressModel",
      "_view_count": null,
      "_view_module": "@jupyter-widgets/controls",
      "_view_module_version": "1.5.0",
      "_view_name": "ProgressView",
      "bar_style": "success",
      "description": "100%",
      "description_tooltip": null,
      "layout": "IPY_MODEL_d42284d2d70a4c0984cb697da1664d8e",
      "max": 160,
      "min": 0,
      "orientation": "horizontal",
      "style": "IPY_MODEL_c274f30a4267463098e08136ffa1c095",
      "value": 160
     }
    },
    "82bc4b4731994449a788caf9af59dc6e": {
     "model_module": "@jupyter-widgets/controls",
     "model_module_version": "1.5.0",
     "model_name": "FloatProgressModel",
     "state": {
      "_dom_classes": [],
      "_model_module": "@jupyter-widgets/controls",
      "_model_module_version": "1.5.0",
      "_model_name": "FloatProgressModel",
      "_view_count": null,
      "_view_module": "@jupyter-widgets/controls",
      "_view_module_version": "1.5.0",
      "_view_name": "ProgressView",
      "bar_style": "success",
      "description": "100%",
      "description_tooltip": null,
      "layout": "IPY_MODEL_7657114c5a5143029ec3372491739cf9",
      "max": 28,
      "min": 0,
      "orientation": "horizontal",
      "style": "IPY_MODEL_3a7da081ea0940cfa925997877c46fb2",
      "value": 28
     }
    },
    "8d3b77739585400eb96cf79f2362bdaf": {
     "model_module": "@jupyter-widgets/controls",
     "model_module_version": "1.5.0",
     "model_name": "DescriptionStyleModel",
     "state": {
      "_model_module": "@jupyter-widgets/controls",
      "_model_module_version": "1.5.0",
      "_model_name": "DescriptionStyleModel",
      "_view_count": null,
      "_view_module": "@jupyter-widgets/base",
      "_view_module_version": "1.2.0",
      "_view_name": "StyleView",
      "description_width": ""
     }
    },
    "8da5862244e44cb084ad68a13bad0232": {
     "model_module": "@jupyter-widgets/controls",
     "model_module_version": "1.5.0",
     "model_name": "HBoxModel",
     "state": {
      "_dom_classes": [],
      "_model_module": "@jupyter-widgets/controls",
      "_model_module_version": "1.5.0",
      "_model_name": "HBoxModel",
      "_view_count": null,
      "_view_module": "@jupyter-widgets/controls",
      "_view_module_version": "1.5.0",
      "_view_name": "HBoxView",
      "box_style": "",
      "children": [
       "IPY_MODEL_6c661a11183b423c8f58986356869a94",
       "IPY_MODEL_60cf94cb4b4d48f28e77d1af984e9b51"
      ],
      "layout": "IPY_MODEL_9ccaeebc91b84e60bf3ea1338bfbe303"
     }
    },
    "9ccaeebc91b84e60bf3ea1338bfbe303": {
     "model_module": "@jupyter-widgets/base",
     "model_module_version": "1.2.0",
     "model_name": "LayoutModel",
     "state": {
      "_model_module": "@jupyter-widgets/base",
      "_model_module_version": "1.2.0",
      "_model_name": "LayoutModel",
      "_view_count": null,
      "_view_module": "@jupyter-widgets/base",
      "_view_module_version": "1.2.0",
      "_view_name": "LayoutView",
      "align_content": null,
      "align_items": null,
      "align_self": null,
      "border": null,
      "bottom": null,
      "display": null,
      "flex": null,
      "flex_flow": null,
      "grid_area": null,
      "grid_auto_columns": null,
      "grid_auto_flow": null,
      "grid_auto_rows": null,
      "grid_column": null,
      "grid_gap": null,
      "grid_row": null,
      "grid_template_areas": null,
      "grid_template_columns": null,
      "grid_template_rows": null,
      "height": null,
      "justify_content": null,
      "justify_items": null,
      "left": null,
      "margin": null,
      "max_height": null,
      "max_width": null,
      "min_height": null,
      "min_width": null,
      "object_fit": null,
      "object_position": null,
      "order": null,
      "overflow": null,
      "overflow_x": null,
      "overflow_y": null,
      "padding": null,
      "right": null,
      "top": null,
      "visibility": null,
      "width": null
     }
    },
    "a4ac4d1b058e40cbac2e1980559d5950": {
     "model_module": "@jupyter-widgets/base",
     "model_module_version": "1.2.0",
     "model_name": "LayoutModel",
     "state": {
      "_model_module": "@jupyter-widgets/base",
      "_model_module_version": "1.2.0",
      "_model_name": "LayoutModel",
      "_view_count": null,
      "_view_module": "@jupyter-widgets/base",
      "_view_module_version": "1.2.0",
      "_view_name": "LayoutView",
      "align_content": null,
      "align_items": null,
      "align_self": null,
      "border": null,
      "bottom": null,
      "display": null,
      "flex": null,
      "flex_flow": null,
      "grid_area": null,
      "grid_auto_columns": null,
      "grid_auto_flow": null,
      "grid_auto_rows": null,
      "grid_column": null,
      "grid_gap": null,
      "grid_row": null,
      "grid_template_areas": null,
      "grid_template_columns": null,
      "grid_template_rows": null,
      "height": null,
      "justify_content": null,
      "justify_items": null,
      "left": null,
      "margin": null,
      "max_height": null,
      "max_width": null,
      "min_height": null,
      "min_width": null,
      "object_fit": null,
      "object_position": null,
      "order": null,
      "overflow": null,
      "overflow_x": null,
      "overflow_y": null,
      "padding": null,
      "right": null,
      "top": null,
      "visibility": null,
      "width": null
     }
    },
    "a7e73512f5484b54ad5e362f709e00ae": {
     "model_module": "@jupyter-widgets/base",
     "model_module_version": "1.2.0",
     "model_name": "LayoutModel",
     "state": {
      "_model_module": "@jupyter-widgets/base",
      "_model_module_version": "1.2.0",
      "_model_name": "LayoutModel",
      "_view_count": null,
      "_view_module": "@jupyter-widgets/base",
      "_view_module_version": "1.2.0",
      "_view_name": "LayoutView",
      "align_content": null,
      "align_items": null,
      "align_self": null,
      "border": null,
      "bottom": null,
      "display": null,
      "flex": null,
      "flex_flow": null,
      "grid_area": null,
      "grid_auto_columns": null,
      "grid_auto_flow": null,
      "grid_auto_rows": null,
      "grid_column": null,
      "grid_gap": null,
      "grid_row": null,
      "grid_template_areas": null,
      "grid_template_columns": null,
      "grid_template_rows": null,
      "height": null,
      "justify_content": null,
      "justify_items": null,
      "left": null,
      "margin": null,
      "max_height": null,
      "max_width": null,
      "min_height": null,
      "min_width": null,
      "object_fit": null,
      "object_position": null,
      "order": null,
      "overflow": null,
      "overflow_x": null,
      "overflow_y": null,
      "padding": null,
      "right": null,
      "top": null,
      "visibility": null,
      "width": null
     }
    },
    "af337f9112484f62878ab20395302704": {
     "model_module": "@jupyter-widgets/controls",
     "model_module_version": "1.5.0",
     "model_name": "HTMLModel",
     "state": {
      "_dom_classes": [],
      "_model_module": "@jupyter-widgets/controls",
      "_model_module_version": "1.5.0",
      "_model_name": "HTMLModel",
      "_view_count": null,
      "_view_module": "@jupyter-widgets/controls",
      "_view_module_version": "1.5.0",
      "_view_name": "HTMLView",
      "description": "",
      "description_tooltip": null,
      "layout": "IPY_MODEL_d942f967b53c41a2ad53b9954f80d2b8",
      "placeholder": "​",
      "style": "IPY_MODEL_581882fc0723402aa90b4fd0959134b0",
      "value": " 28/28 [00:08&lt;00:00,  3.37it/s]"
     }
    },
    "b1720b6713db488eae6ef2e5c8f7b159": {
     "model_module": "@jupyter-widgets/controls",
     "model_module_version": "1.5.0",
     "model_name": "ProgressStyleModel",
     "state": {
      "_model_module": "@jupyter-widgets/controls",
      "_model_module_version": "1.5.0",
      "_model_name": "ProgressStyleModel",
      "_view_count": null,
      "_view_module": "@jupyter-widgets/base",
      "_view_module_version": "1.2.0",
      "_view_name": "StyleView",
      "bar_color": null,
      "description_width": "initial"
     }
    },
    "b6d9e83f1ecf405db96ef43bdddf4258": {
     "model_module": "@jupyter-widgets/base",
     "model_module_version": "1.2.0",
     "model_name": "LayoutModel",
     "state": {
      "_model_module": "@jupyter-widgets/base",
      "_model_module_version": "1.2.0",
      "_model_name": "LayoutModel",
      "_view_count": null,
      "_view_module": "@jupyter-widgets/base",
      "_view_module_version": "1.2.0",
      "_view_name": "LayoutView",
      "align_content": null,
      "align_items": null,
      "align_self": null,
      "border": null,
      "bottom": null,
      "display": null,
      "flex": null,
      "flex_flow": null,
      "grid_area": null,
      "grid_auto_columns": null,
      "grid_auto_flow": null,
      "grid_auto_rows": null,
      "grid_column": null,
      "grid_gap": null,
      "grid_row": null,
      "grid_template_areas": null,
      "grid_template_columns": null,
      "grid_template_rows": null,
      "height": null,
      "justify_content": null,
      "justify_items": null,
      "left": null,
      "margin": null,
      "max_height": null,
      "max_width": null,
      "min_height": null,
      "min_width": null,
      "object_fit": null,
      "object_position": null,
      "order": null,
      "overflow": null,
      "overflow_x": null,
      "overflow_y": null,
      "padding": null,
      "right": null,
      "top": null,
      "visibility": null,
      "width": null
     }
    },
    "b8248b0115bb4147998c9f2e54ea3435": {
     "model_module": "@jupyter-widgets/controls",
     "model_module_version": "1.5.0",
     "model_name": "HBoxModel",
     "state": {
      "_dom_classes": [],
      "_model_module": "@jupyter-widgets/controls",
      "_model_module_version": "1.5.0",
      "_model_name": "HBoxModel",
      "_view_count": null,
      "_view_module": "@jupyter-widgets/controls",
      "_view_module_version": "1.5.0",
      "_view_name": "HBoxView",
      "box_style": "",
      "children": [
       "IPY_MODEL_7e6fb716714b4ea58065d2196a159a5c",
       "IPY_MODEL_cc8097384e434a839849ffcdfdc03443"
      ],
      "layout": "IPY_MODEL_a4ac4d1b058e40cbac2e1980559d5950"
     }
    },
    "c274f30a4267463098e08136ffa1c095": {
     "model_module": "@jupyter-widgets/controls",
     "model_module_version": "1.5.0",
     "model_name": "ProgressStyleModel",
     "state": {
      "_model_module": "@jupyter-widgets/controls",
      "_model_module_version": "1.5.0",
      "_model_name": "ProgressStyleModel",
      "_view_count": null,
      "_view_module": "@jupyter-widgets/base",
      "_view_module_version": "1.2.0",
      "_view_name": "StyleView",
      "bar_color": null,
      "description_width": "initial"
     }
    },
    "c4e8c2f7f796436c956103c23de7e3fd": {
     "model_module": "@jupyter-widgets/base",
     "model_module_version": "1.2.0",
     "model_name": "LayoutModel",
     "state": {
      "_model_module": "@jupyter-widgets/base",
      "_model_module_version": "1.2.0",
      "_model_name": "LayoutModel",
      "_view_count": null,
      "_view_module": "@jupyter-widgets/base",
      "_view_module_version": "1.2.0",
      "_view_name": "LayoutView",
      "align_content": null,
      "align_items": null,
      "align_self": null,
      "border": null,
      "bottom": null,
      "display": null,
      "flex": null,
      "flex_flow": null,
      "grid_area": null,
      "grid_auto_columns": null,
      "grid_auto_flow": null,
      "grid_auto_rows": null,
      "grid_column": null,
      "grid_gap": null,
      "grid_row": null,
      "grid_template_areas": null,
      "grid_template_columns": null,
      "grid_template_rows": null,
      "height": null,
      "justify_content": null,
      "justify_items": null,
      "left": null,
      "margin": null,
      "max_height": null,
      "max_width": null,
      "min_height": null,
      "min_width": null,
      "object_fit": null,
      "object_position": null,
      "order": null,
      "overflow": null,
      "overflow_x": null,
      "overflow_y": null,
      "padding": null,
      "right": null,
      "top": null,
      "visibility": null,
      "width": null
     }
    },
    "ca9c9be60f214135be4a746010c25243": {
     "model_module": "@jupyter-widgets/base",
     "model_module_version": "1.2.0",
     "model_name": "LayoutModel",
     "state": {
      "_model_module": "@jupyter-widgets/base",
      "_model_module_version": "1.2.0",
      "_model_name": "LayoutModel",
      "_view_count": null,
      "_view_module": "@jupyter-widgets/base",
      "_view_module_version": "1.2.0",
      "_view_name": "LayoutView",
      "align_content": null,
      "align_items": null,
      "align_self": null,
      "border": null,
      "bottom": null,
      "display": null,
      "flex": null,
      "flex_flow": null,
      "grid_area": null,
      "grid_auto_columns": null,
      "grid_auto_flow": null,
      "grid_auto_rows": null,
      "grid_column": null,
      "grid_gap": null,
      "grid_row": null,
      "grid_template_areas": null,
      "grid_template_columns": null,
      "grid_template_rows": null,
      "height": null,
      "justify_content": null,
      "justify_items": null,
      "left": null,
      "margin": null,
      "max_height": null,
      "max_width": null,
      "min_height": null,
      "min_width": null,
      "object_fit": null,
      "object_position": null,
      "order": null,
      "overflow": null,
      "overflow_x": null,
      "overflow_y": null,
      "padding": null,
      "right": null,
      "top": null,
      "visibility": null,
      "width": null
     }
    },
    "cc8097384e434a839849ffcdfdc03443": {
     "model_module": "@jupyter-widgets/controls",
     "model_module_version": "1.5.0",
     "model_name": "HTMLModel",
     "state": {
      "_dom_classes": [],
      "_model_module": "@jupyter-widgets/controls",
      "_model_module_version": "1.5.0",
      "_model_name": "HTMLModel",
      "_view_count": null,
      "_view_module": "@jupyter-widgets/controls",
      "_view_module_version": "1.5.0",
      "_view_name": "HTMLView",
      "description": "",
      "description_tooltip": null,
      "layout": "IPY_MODEL_519e522622c34f04af57978d64bce9bc",
      "placeholder": "​",
      "style": "IPY_MODEL_8d3b77739585400eb96cf79f2362bdaf",
      "value": " 160/160 [00:09&lt;00:00, 16.59it/s]"
     }
    },
    "d410d3f8d8434670b6da0af1bd484bf9": {
     "model_module": "@jupyter-widgets/base",
     "model_module_version": "1.2.0",
     "model_name": "LayoutModel",
     "state": {
      "_model_module": "@jupyter-widgets/base",
      "_model_module_version": "1.2.0",
      "_model_name": "LayoutModel",
      "_view_count": null,
      "_view_module": "@jupyter-widgets/base",
      "_view_module_version": "1.2.0",
      "_view_name": "LayoutView",
      "align_content": null,
      "align_items": null,
      "align_self": null,
      "border": null,
      "bottom": null,
      "display": null,
      "flex": null,
      "flex_flow": null,
      "grid_area": null,
      "grid_auto_columns": null,
      "grid_auto_flow": null,
      "grid_auto_rows": null,
      "grid_column": null,
      "grid_gap": null,
      "grid_row": null,
      "grid_template_areas": null,
      "grid_template_columns": null,
      "grid_template_rows": null,
      "height": null,
      "justify_content": null,
      "justify_items": null,
      "left": null,
      "margin": null,
      "max_height": null,
      "max_width": null,
      "min_height": null,
      "min_width": null,
      "object_fit": null,
      "object_position": null,
      "order": null,
      "overflow": null,
      "overflow_x": null,
      "overflow_y": null,
      "padding": null,
      "right": null,
      "top": null,
      "visibility": null,
      "width": null
     }
    },
    "d42284d2d70a4c0984cb697da1664d8e": {
     "model_module": "@jupyter-widgets/base",
     "model_module_version": "1.2.0",
     "model_name": "LayoutModel",
     "state": {
      "_model_module": "@jupyter-widgets/base",
      "_model_module_version": "1.2.0",
      "_model_name": "LayoutModel",
      "_view_count": null,
      "_view_module": "@jupyter-widgets/base",
      "_view_module_version": "1.2.0",
      "_view_name": "LayoutView",
      "align_content": null,
      "align_items": null,
      "align_self": null,
      "border": null,
      "bottom": null,
      "display": null,
      "flex": null,
      "flex_flow": null,
      "grid_area": null,
      "grid_auto_columns": null,
      "grid_auto_flow": null,
      "grid_auto_rows": null,
      "grid_column": null,
      "grid_gap": null,
      "grid_row": null,
      "grid_template_areas": null,
      "grid_template_columns": null,
      "grid_template_rows": null,
      "height": null,
      "justify_content": null,
      "justify_items": null,
      "left": null,
      "margin": null,
      "max_height": null,
      "max_width": null,
      "min_height": null,
      "min_width": null,
      "object_fit": null,
      "object_position": null,
      "order": null,
      "overflow": null,
      "overflow_x": null,
      "overflow_y": null,
      "padding": null,
      "right": null,
      "top": null,
      "visibility": null,
      "width": null
     }
    },
    "d942f967b53c41a2ad53b9954f80d2b8": {
     "model_module": "@jupyter-widgets/base",
     "model_module_version": "1.2.0",
     "model_name": "LayoutModel",
     "state": {
      "_model_module": "@jupyter-widgets/base",
      "_model_module_version": "1.2.0",
      "_model_name": "LayoutModel",
      "_view_count": null,
      "_view_module": "@jupyter-widgets/base",
      "_view_module_version": "1.2.0",
      "_view_name": "LayoutView",
      "align_content": null,
      "align_items": null,
      "align_self": null,
      "border": null,
      "bottom": null,
      "display": null,
      "flex": null,
      "flex_flow": null,
      "grid_area": null,
      "grid_auto_columns": null,
      "grid_auto_flow": null,
      "grid_auto_rows": null,
      "grid_column": null,
      "grid_gap": null,
      "grid_row": null,
      "grid_template_areas": null,
      "grid_template_columns": null,
      "grid_template_rows": null,
      "height": null,
      "justify_content": null,
      "justify_items": null,
      "left": null,
      "margin": null,
      "max_height": null,
      "max_width": null,
      "min_height": null,
      "min_width": null,
      "object_fit": null,
      "object_position": null,
      "order": null,
      "overflow": null,
      "overflow_x": null,
      "overflow_y": null,
      "padding": null,
      "right": null,
      "top": null,
      "visibility": null,
      "width": null
     }
    },
    "dfe01cc60e544120b923794518c323fd": {
     "model_module": "@jupyter-widgets/base",
     "model_module_version": "1.2.0",
     "model_name": "LayoutModel",
     "state": {
      "_model_module": "@jupyter-widgets/base",
      "_model_module_version": "1.2.0",
      "_model_name": "LayoutModel",
      "_view_count": null,
      "_view_module": "@jupyter-widgets/base",
      "_view_module_version": "1.2.0",
      "_view_name": "LayoutView",
      "align_content": null,
      "align_items": null,
      "align_self": null,
      "border": null,
      "bottom": null,
      "display": null,
      "flex": null,
      "flex_flow": null,
      "grid_area": null,
      "grid_auto_columns": null,
      "grid_auto_flow": null,
      "grid_auto_rows": null,
      "grid_column": null,
      "grid_gap": null,
      "grid_row": null,
      "grid_template_areas": null,
      "grid_template_columns": null,
      "grid_template_rows": null,
      "height": null,
      "justify_content": null,
      "justify_items": null,
      "left": null,
      "margin": null,
      "max_height": null,
      "max_width": null,
      "min_height": null,
      "min_width": null,
      "object_fit": null,
      "object_position": null,
      "order": null,
      "overflow": null,
      "overflow_x": null,
      "overflow_y": null,
      "padding": null,
      "right": null,
      "top": null,
      "visibility": null,
      "width": null
     }
    }
   }
  }
 },
 "nbformat": 4,
 "nbformat_minor": 1
}
